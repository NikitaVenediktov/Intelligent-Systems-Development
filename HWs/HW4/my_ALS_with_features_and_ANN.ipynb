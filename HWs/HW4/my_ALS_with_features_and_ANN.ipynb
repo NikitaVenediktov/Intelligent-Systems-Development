{
  "cells": [
    {
      "cell_type": "code",
      "source": [
        "!pip -q install rectools==0.2.0"
      ],
      "metadata": {
        "id": "N9pN0DysEA_I"
      },
      "execution_count": 1,
      "outputs": []
    },
    {
      "cell_type": "code",
      "source": [
        "!pip -q install optuna"
      ],
      "metadata": {
        "id": "0ONZbp5H-DTf"
      },
      "execution_count": 2,
      "outputs": []
    },
    {
      "cell_type": "code",
      "source": [
        "!pip -q install hnswlib"
      ],
      "metadata": {
        "id": "mcyRlmvOf9Lw"
      },
      "execution_count": 3,
      "outputs": []
    },
    {
      "cell_type": "code",
      "execution_count": 4,
      "metadata": {
        "id": "WNCRUoobD56c"
      },
      "outputs": [],
      "source": [
        "import os"
      ]
    },
    {
      "cell_type": "code",
      "execution_count": 5,
      "metadata": {
        "id": "w_aP6Cu9D56d"
      },
      "outputs": [],
      "source": [
        "os.environ[\"OPENBLAS_NUM_THREADS\"] = \"1\"  # For implicit ALS"
      ]
    },
    {
      "cell_type": "code",
      "execution_count": 6,
      "metadata": {
        "id": "JLzThxNHD56d"
      },
      "outputs": [],
      "source": [
        "# import warnings\n",
        "# warnings.filterwarnings('ignore')"
      ]
    },
    {
      "cell_type": "code",
      "execution_count": 7,
      "metadata": {
        "id": "CgBUXIJrD56e"
      },
      "outputs": [],
      "source": [
        "import pandas as pd\n",
        "import numpy as np\n",
        "import requests\n",
        "import zipfile as zf\n",
        "import optuna\n",
        "\n",
        "import matplotlib.pyplot as plt\n",
        "import seaborn as sns\n",
        "\n",
        "import typing as tp\n",
        "from tqdm import tqdm\n",
        "\n",
        "from implicit.als import AlternatingLeastSquares\n",
        "from lightfm import LightFM\n",
        "\n",
        "from rectools.metrics import Precision, Recall, MAP, calc_metrics\n",
        "from rectools.models import PopularModel, ImplicitALSWrapperModel\n",
        "from rectools import Columns\n",
        "from rectools.dataset import Dataset\n",
        "from rectools.models import ImplicitALSWrapperModel, LightFMWrapperModel"
      ]
    },
    {
      "cell_type": "code",
      "source": [
        "K_RECOS = 10\n",
        "RANDOM_STATE = 101"
      ],
      "metadata": {
        "id": "BI3Ur15J8YcK"
      },
      "execution_count": 8,
      "outputs": []
    },
    {
      "cell_type": "markdown",
      "source": [
        "# Первая часть задания"
      ],
      "metadata": {
        "id": "SszwBaiggFU5"
      }
    },
    {
      "cell_type": "markdown",
      "source": [
        " Необходимо будет перебрать $N$ моделей $(N \\geq 2)$ матричной факторизации и перебрать у них $K$ гиперпараметров $(K \\geq 2)$ **(6 баллов)**\n",
        "    - Для перебора гиперпараметров можно использовать [`Optuna`](https://github.com/optuna/optuna), [`Hyperopt`](https://github.com/hyperopt/hyperopt)"
      ],
      "metadata": {
        "id": "tghhVPzzguLS"
      }
    },
    {
      "cell_type": "markdown",
      "metadata": {
        "id": "YPNkP4U0D56e"
      },
      "source": [
        "## LOAD DATA "
      ]
    },
    {
      "cell_type": "code",
      "source": [
        "# download dataset by chunks\n",
        "url = \"https://storage.yandexcloud.net/itmo-recsys-public-data/kion_train.zip\"\n",
        "\n",
        "req = requests.get(url, stream=True)\n",
        "\n",
        "with open('kion_train.zip', \"wb\") as fd:\n",
        "    total_size_in_bytes = int(req.headers.get('Content-Length', 0))\n",
        "    progress_bar = tqdm(desc='kion dataset download', total=total_size_in_bytes, unit='iB', unit_scale=True)\n",
        "    for chunk in req.iter_content(chunk_size=2 ** 20):\n",
        "        progress_bar.update(len(chunk))\n",
        "        fd.write(chunk)"
      ],
      "metadata": {
        "colab": {
          "base_uri": "https://localhost:8080/"
        },
        "id": "La06fSCaRVGF",
        "outputId": "090d62d3-7b44-4929-8fce-e42a71c4fe3a"
      },
      "execution_count": 9,
      "outputs": [
        {
          "output_type": "stream",
          "name": "stderr",
          "text": [
            "kion dataset download: 100%|█████████▉| 78.6M/78.8M [00:09<00:00, 10.9MiB/s]"
          ]
        }
      ]
    },
    {
      "cell_type": "code",
      "source": [
        "files = zf.ZipFile('kion_train.zip','r')\n",
        "files.extractall()\n",
        "files.close()"
      ],
      "metadata": {
        "id": "AbxCH_23RUao"
      },
      "execution_count": 10,
      "outputs": []
    },
    {
      "cell_type": "code",
      "execution_count": 11,
      "metadata": {
        "id": "1f349c11"
      },
      "outputs": [],
      "source": [
        "interactions = pd.read_csv('kion_train/interactions.csv')\n",
        "users = pd.read_csv('kion_train/users.csv')\n",
        "items = pd.read_csv('kion_train/items.csv')"
      ]
    },
    {
      "cell_type": "markdown",
      "source": [
        "Так как работа носит учебный характер возьмем часть (четверть) датасета, для того чтобы ускорить расчеты"
      ],
      "metadata": {
        "id": "dxyRd3xqF-Hb"
      }
    },
    {
      "cell_type": "code",
      "source": [
        "users = users[:int(users.shape[0] / 4)].reset_index(drop=True)\n",
        "interactions = interactions[interactions['user_id'].isin(users['user_id'])].reset_index(drop=True)\n",
        "items = items[items['item_id'].isin(interactions['item_id'])].reset_index(drop=True)"
      ],
      "metadata": {
        "id": "rpM0vID7NEaX"
      },
      "execution_count": 12,
      "outputs": []
    },
    {
      "cell_type": "markdown",
      "metadata": {
        "id": "88IL_JFcW0ea"
      },
      "source": [
        "Проверка"
      ]
    },
    {
      "cell_type": "code",
      "execution_count": 13,
      "metadata": {
        "colab": {
          "base_uri": "https://localhost:8080/"
        },
        "id": "--Ae4JTAVGoA",
        "outputId": "5d0491ab-0047-4e26-be9b-341e54b98a3b"
      },
      "outputs": [
        {
          "output_type": "stream",
          "name": "stdout",
          "text": [
            "(210049, 5)\n",
            "(1096495, 5)\n",
            "(11288, 14)\n"
          ]
        }
      ],
      "source": [
        "print(users.shape)\n",
        "print(interactions.shape)\n",
        "print(items.shape)"
      ]
    },
    {
      "cell_type": "markdown",
      "metadata": {
        "id": "7EYiwKEWD56g"
      },
      "source": [
        "## Preprocess"
      ]
    },
    {
      "cell_type": "code",
      "execution_count": 14,
      "metadata": {
        "id": "90fe394f"
      },
      "outputs": [],
      "source": [
        "# rename columns\n",
        "interactions = interactions.rename(columns={'last_watch_dt': Columns.Datetime,\n",
        "                                            'total_dur': Columns.Weight})"
      ]
    },
    {
      "cell_type": "code",
      "execution_count": 15,
      "metadata": {
        "id": "UCIkT47bD56g"
      },
      "outputs": [],
      "source": [
        "interactions = interactions.drop(interactions[interactions[Columns.Datetime].str.len() != 10].index)"
      ]
    },
    {
      "cell_type": "code",
      "execution_count": 16,
      "metadata": {
        "id": "rb6kSvTUD56g"
      },
      "outputs": [],
      "source": [
        "interactions[Columns.Datetime] = pd.to_datetime(interactions[Columns.Datetime], format='%Y-%m-%d')"
      ]
    },
    {
      "cell_type": "code",
      "execution_count": 17,
      "metadata": {
        "id": "JrVObYIaD56h"
      },
      "outputs": [],
      "source": [
        "max_date = interactions[Columns.Datetime].max()"
      ]
    },
    {
      "cell_type": "code",
      "execution_count": 18,
      "metadata": {
        "id": "p_7NWVQJD56h"
      },
      "outputs": [],
      "source": [
        "interactions[Columns.Weight] = np.where(interactions['watched_pct'] > 10, 3, 1)"
      ]
    },
    {
      "cell_type": "markdown",
      "source": [
        "Для теста оставим 2 недели, то есть 14 дней"
      ],
      "metadata": {
        "id": "EWD9IMS9uP4J"
      }
    },
    {
      "cell_type": "code",
      "execution_count": 19,
      "metadata": {
        "id": "YcW03XBoD56h",
        "outputId": "6ccae03a-1f8e-426f-dac8-600aea2a997d",
        "colab": {
          "base_uri": "https://localhost:8080/"
        }
      },
      "outputs": [
        {
          "output_type": "stream",
          "name": "stdout",
          "text": [
            "train: (922622, 5)\n",
            "test: (173873, 5)\n"
          ]
        }
      ],
      "source": [
        "train = interactions[interactions[Columns.Datetime] < max_date - pd.Timedelta(days=14)].copy()\n",
        "test = interactions[interactions[Columns.Datetime] >= max_date - pd.Timedelta(days=14)].copy()\n",
        "\n",
        "print(f\"train: {train.shape}\")\n",
        "print(f\"test: {test.shape}\")"
      ]
    },
    {
      "cell_type": "code",
      "execution_count": 20,
      "metadata": {
        "id": "LVAkLf8CD56h"
      },
      "outputs": [],
      "source": [
        "# отфильтруем холодных пользователей из теста\n",
        "cold_users = set(test[Columns.User]) - set(train[Columns.User])"
      ]
    },
    {
      "cell_type": "code",
      "execution_count": 21,
      "metadata": {
        "id": "EG9Rc-jMD56h"
      },
      "outputs": [],
      "source": [
        "test = test.drop(test[test[Columns.User].isin(cold_users)].index)"
      ]
    },
    {
      "cell_type": "markdown",
      "metadata": {
        "id": "S_5v2OB6D56i"
      },
      "source": [
        "## Prepare features"
      ]
    },
    {
      "cell_type": "markdown",
      "metadata": {
        "id": "txJHWRiJD56i"
      },
      "source": [
        "### User features"
      ]
    },
    {
      "cell_type": "code",
      "execution_count": 22,
      "metadata": {
        "id": "Ru3QUoVvD56i",
        "outputId": "3b3c1d60-693d-46f2-c3e1-9805537f19e0",
        "colab": {
          "base_uri": "https://localhost:8080/"
        }
      },
      "outputs": [
        {
          "output_type": "execute_result",
          "data": {
            "text/plain": [
              "user_id        0\n",
              "age         3529\n",
              "income      3634\n",
              "sex         3386\n",
              "kids_flg       0\n",
              "dtype: int64"
            ]
          },
          "metadata": {},
          "execution_count": 22
        }
      ],
      "source": [
        "users.isnull().sum()"
      ]
    },
    {
      "cell_type": "code",
      "execution_count": 23,
      "metadata": {
        "id": "RZVuLRz1D56i"
      },
      "outputs": [],
      "source": [
        "users = users.fillna('Unknown')"
      ]
    },
    {
      "cell_type": "code",
      "execution_count": 24,
      "metadata": {
        "id": "uFX0DgbRD56i",
        "outputId": "8ef4b893-e6fe-494f-a8f4-1d455901cddd",
        "colab": {
          "base_uri": "https://localhost:8080/"
        }
      },
      "outputs": [
        {
          "output_type": "execute_result",
          "data": {
            "text/plain": [
              "user_id     210049\n",
              "age              7\n",
              "income           7\n",
              "sex              3\n",
              "kids_flg         2\n",
              "dtype: int64"
            ]
          },
          "metadata": {},
          "execution_count": 24
        }
      ],
      "source": [
        "users.nunique()"
      ]
    },
    {
      "cell_type": "code",
      "execution_count": 25,
      "metadata": {
        "id": "QA-tNWVJD56i"
      },
      "outputs": [],
      "source": [
        "users = users.loc[users[Columns.User].isin(train[Columns.User])].copy()"
      ]
    },
    {
      "cell_type": "code",
      "execution_count": 26,
      "metadata": {
        "id": "XseuF0jED56i",
        "outputId": "d0e27170-60ca-42ab-a129-0e127f19aa79",
        "colab": {
          "base_uri": "https://localhost:8080/",
          "height": 206
        }
      },
      "outputs": [
        {
          "output_type": "execute_result",
          "data": {
            "text/plain": [
              "   user_id        age        income sex  kids_flg\n",
              "0   973171  age_25_34  income_60_90   М         1\n",
              "1   962099  age_18_24  income_20_40   М         0\n",
              "3   721985  age_45_54  income_20_40   Ж         0\n",
              "4   704055  age_35_44  income_60_90   Ж         0\n",
              "5  1037719  age_45_54  income_60_90   М         0"
            ],
            "text/html": [
              "\n",
              "  <div id=\"df-d5083ebc-c57c-437f-8d44-af8ba9aba9ea\">\n",
              "    <div class=\"colab-df-container\">\n",
              "      <div>\n",
              "<style scoped>\n",
              "    .dataframe tbody tr th:only-of-type {\n",
              "        vertical-align: middle;\n",
              "    }\n",
              "\n",
              "    .dataframe tbody tr th {\n",
              "        vertical-align: top;\n",
              "    }\n",
              "\n",
              "    .dataframe thead th {\n",
              "        text-align: right;\n",
              "    }\n",
              "</style>\n",
              "<table border=\"1\" class=\"dataframe\">\n",
              "  <thead>\n",
              "    <tr style=\"text-align: right;\">\n",
              "      <th></th>\n",
              "      <th>user_id</th>\n",
              "      <th>age</th>\n",
              "      <th>income</th>\n",
              "      <th>sex</th>\n",
              "      <th>kids_flg</th>\n",
              "    </tr>\n",
              "  </thead>\n",
              "  <tbody>\n",
              "    <tr>\n",
              "      <th>0</th>\n",
              "      <td>973171</td>\n",
              "      <td>age_25_34</td>\n",
              "      <td>income_60_90</td>\n",
              "      <td>М</td>\n",
              "      <td>1</td>\n",
              "    </tr>\n",
              "    <tr>\n",
              "      <th>1</th>\n",
              "      <td>962099</td>\n",
              "      <td>age_18_24</td>\n",
              "      <td>income_20_40</td>\n",
              "      <td>М</td>\n",
              "      <td>0</td>\n",
              "    </tr>\n",
              "    <tr>\n",
              "      <th>3</th>\n",
              "      <td>721985</td>\n",
              "      <td>age_45_54</td>\n",
              "      <td>income_20_40</td>\n",
              "      <td>Ж</td>\n",
              "      <td>0</td>\n",
              "    </tr>\n",
              "    <tr>\n",
              "      <th>4</th>\n",
              "      <td>704055</td>\n",
              "      <td>age_35_44</td>\n",
              "      <td>income_60_90</td>\n",
              "      <td>Ж</td>\n",
              "      <td>0</td>\n",
              "    </tr>\n",
              "    <tr>\n",
              "      <th>5</th>\n",
              "      <td>1037719</td>\n",
              "      <td>age_45_54</td>\n",
              "      <td>income_60_90</td>\n",
              "      <td>М</td>\n",
              "      <td>0</td>\n",
              "    </tr>\n",
              "  </tbody>\n",
              "</table>\n",
              "</div>\n",
              "      <button class=\"colab-df-convert\" onclick=\"convertToInteractive('df-d5083ebc-c57c-437f-8d44-af8ba9aba9ea')\"\n",
              "              title=\"Convert this dataframe to an interactive table.\"\n",
              "              style=\"display:none;\">\n",
              "        \n",
              "  <svg xmlns=\"http://www.w3.org/2000/svg\" height=\"24px\"viewBox=\"0 0 24 24\"\n",
              "       width=\"24px\">\n",
              "    <path d=\"M0 0h24v24H0V0z\" fill=\"none\"/>\n",
              "    <path d=\"M18.56 5.44l.94 2.06.94-2.06 2.06-.94-2.06-.94-.94-2.06-.94 2.06-2.06.94zm-11 1L8.5 8.5l.94-2.06 2.06-.94-2.06-.94L8.5 2.5l-.94 2.06-2.06.94zm10 10l.94 2.06.94-2.06 2.06-.94-2.06-.94-.94-2.06-.94 2.06-2.06.94z\"/><path d=\"M17.41 7.96l-1.37-1.37c-.4-.4-.92-.59-1.43-.59-.52 0-1.04.2-1.43.59L10.3 9.45l-7.72 7.72c-.78.78-.78 2.05 0 2.83L4 21.41c.39.39.9.59 1.41.59.51 0 1.02-.2 1.41-.59l7.78-7.78 2.81-2.81c.8-.78.8-2.07 0-2.86zM5.41 20L4 18.59l7.72-7.72 1.47 1.35L5.41 20z\"/>\n",
              "  </svg>\n",
              "      </button>\n",
              "      \n",
              "  <style>\n",
              "    .colab-df-container {\n",
              "      display:flex;\n",
              "      flex-wrap:wrap;\n",
              "      gap: 12px;\n",
              "    }\n",
              "\n",
              "    .colab-df-convert {\n",
              "      background-color: #E8F0FE;\n",
              "      border: none;\n",
              "      border-radius: 50%;\n",
              "      cursor: pointer;\n",
              "      display: none;\n",
              "      fill: #1967D2;\n",
              "      height: 32px;\n",
              "      padding: 0 0 0 0;\n",
              "      width: 32px;\n",
              "    }\n",
              "\n",
              "    .colab-df-convert:hover {\n",
              "      background-color: #E2EBFA;\n",
              "      box-shadow: 0px 1px 2px rgba(60, 64, 67, 0.3), 0px 1px 3px 1px rgba(60, 64, 67, 0.15);\n",
              "      fill: #174EA6;\n",
              "    }\n",
              "\n",
              "    [theme=dark] .colab-df-convert {\n",
              "      background-color: #3B4455;\n",
              "      fill: #D2E3FC;\n",
              "    }\n",
              "\n",
              "    [theme=dark] .colab-df-convert:hover {\n",
              "      background-color: #434B5C;\n",
              "      box-shadow: 0px 1px 3px 1px rgba(0, 0, 0, 0.15);\n",
              "      filter: drop-shadow(0px 1px 2px rgba(0, 0, 0, 0.3));\n",
              "      fill: #FFFFFF;\n",
              "    }\n",
              "  </style>\n",
              "\n",
              "      <script>\n",
              "        const buttonEl =\n",
              "          document.querySelector('#df-d5083ebc-c57c-437f-8d44-af8ba9aba9ea button.colab-df-convert');\n",
              "        buttonEl.style.display =\n",
              "          google.colab.kernel.accessAllowed ? 'block' : 'none';\n",
              "\n",
              "        async function convertToInteractive(key) {\n",
              "          const element = document.querySelector('#df-d5083ebc-c57c-437f-8d44-af8ba9aba9ea');\n",
              "          const dataTable =\n",
              "            await google.colab.kernel.invokeFunction('convertToInteractive',\n",
              "                                                     [key], {});\n",
              "          if (!dataTable) return;\n",
              "\n",
              "          const docLinkHtml = 'Like what you see? Visit the ' +\n",
              "            '<a target=\"_blank\" href=https://colab.research.google.com/notebooks/data_table.ipynb>data table notebook</a>'\n",
              "            + ' to learn more about interactive tables.';\n",
              "          element.innerHTML = '';\n",
              "          dataTable['output_type'] = 'display_data';\n",
              "          await google.colab.output.renderOutput(dataTable, element);\n",
              "          const docLink = document.createElement('div');\n",
              "          docLink.innerHTML = docLinkHtml;\n",
              "          element.appendChild(docLink);\n",
              "        }\n",
              "      </script>\n",
              "    </div>\n",
              "  </div>\n",
              "  "
            ]
          },
          "metadata": {},
          "execution_count": 26
        }
      ],
      "source": [
        "users.head()"
      ]
    },
    {
      "cell_type": "code",
      "execution_count": 27,
      "metadata": {
        "id": "7_HKF-pxD56i",
        "outputId": "7e11dde2-87f1-4116-a783-9ea96d61b60b",
        "colab": {
          "base_uri": "https://localhost:8080/",
          "height": 206
        }
      },
      "outputs": [
        {
          "output_type": "execute_result",
          "data": {
            "text/plain": [
              "        id value feature\n",
              "0   973171     М     sex\n",
              "1   962099     М     sex\n",
              "3   721985     Ж     sex\n",
              "4   704055     Ж     sex\n",
              "5  1037719     М     sex"
            ],
            "text/html": [
              "\n",
              "  <div id=\"df-b92755d3-5960-4839-8cbf-fa64b22f6fac\">\n",
              "    <div class=\"colab-df-container\">\n",
              "      <div>\n",
              "<style scoped>\n",
              "    .dataframe tbody tr th:only-of-type {\n",
              "        vertical-align: middle;\n",
              "    }\n",
              "\n",
              "    .dataframe tbody tr th {\n",
              "        vertical-align: top;\n",
              "    }\n",
              "\n",
              "    .dataframe thead th {\n",
              "        text-align: right;\n",
              "    }\n",
              "</style>\n",
              "<table border=\"1\" class=\"dataframe\">\n",
              "  <thead>\n",
              "    <tr style=\"text-align: right;\">\n",
              "      <th></th>\n",
              "      <th>id</th>\n",
              "      <th>value</th>\n",
              "      <th>feature</th>\n",
              "    </tr>\n",
              "  </thead>\n",
              "  <tbody>\n",
              "    <tr>\n",
              "      <th>0</th>\n",
              "      <td>973171</td>\n",
              "      <td>М</td>\n",
              "      <td>sex</td>\n",
              "    </tr>\n",
              "    <tr>\n",
              "      <th>1</th>\n",
              "      <td>962099</td>\n",
              "      <td>М</td>\n",
              "      <td>sex</td>\n",
              "    </tr>\n",
              "    <tr>\n",
              "      <th>3</th>\n",
              "      <td>721985</td>\n",
              "      <td>Ж</td>\n",
              "      <td>sex</td>\n",
              "    </tr>\n",
              "    <tr>\n",
              "      <th>4</th>\n",
              "      <td>704055</td>\n",
              "      <td>Ж</td>\n",
              "      <td>sex</td>\n",
              "    </tr>\n",
              "    <tr>\n",
              "      <th>5</th>\n",
              "      <td>1037719</td>\n",
              "      <td>М</td>\n",
              "      <td>sex</td>\n",
              "    </tr>\n",
              "  </tbody>\n",
              "</table>\n",
              "</div>\n",
              "      <button class=\"colab-df-convert\" onclick=\"convertToInteractive('df-b92755d3-5960-4839-8cbf-fa64b22f6fac')\"\n",
              "              title=\"Convert this dataframe to an interactive table.\"\n",
              "              style=\"display:none;\">\n",
              "        \n",
              "  <svg xmlns=\"http://www.w3.org/2000/svg\" height=\"24px\"viewBox=\"0 0 24 24\"\n",
              "       width=\"24px\">\n",
              "    <path d=\"M0 0h24v24H0V0z\" fill=\"none\"/>\n",
              "    <path d=\"M18.56 5.44l.94 2.06.94-2.06 2.06-.94-2.06-.94-.94-2.06-.94 2.06-2.06.94zm-11 1L8.5 8.5l.94-2.06 2.06-.94-2.06-.94L8.5 2.5l-.94 2.06-2.06.94zm10 10l.94 2.06.94-2.06 2.06-.94-2.06-.94-.94-2.06-.94 2.06-2.06.94z\"/><path d=\"M17.41 7.96l-1.37-1.37c-.4-.4-.92-.59-1.43-.59-.52 0-1.04.2-1.43.59L10.3 9.45l-7.72 7.72c-.78.78-.78 2.05 0 2.83L4 21.41c.39.39.9.59 1.41.59.51 0 1.02-.2 1.41-.59l7.78-7.78 2.81-2.81c.8-.78.8-2.07 0-2.86zM5.41 20L4 18.59l7.72-7.72 1.47 1.35L5.41 20z\"/>\n",
              "  </svg>\n",
              "      </button>\n",
              "      \n",
              "  <style>\n",
              "    .colab-df-container {\n",
              "      display:flex;\n",
              "      flex-wrap:wrap;\n",
              "      gap: 12px;\n",
              "    }\n",
              "\n",
              "    .colab-df-convert {\n",
              "      background-color: #E8F0FE;\n",
              "      border: none;\n",
              "      border-radius: 50%;\n",
              "      cursor: pointer;\n",
              "      display: none;\n",
              "      fill: #1967D2;\n",
              "      height: 32px;\n",
              "      padding: 0 0 0 0;\n",
              "      width: 32px;\n",
              "    }\n",
              "\n",
              "    .colab-df-convert:hover {\n",
              "      background-color: #E2EBFA;\n",
              "      box-shadow: 0px 1px 2px rgba(60, 64, 67, 0.3), 0px 1px 3px 1px rgba(60, 64, 67, 0.15);\n",
              "      fill: #174EA6;\n",
              "    }\n",
              "\n",
              "    [theme=dark] .colab-df-convert {\n",
              "      background-color: #3B4455;\n",
              "      fill: #D2E3FC;\n",
              "    }\n",
              "\n",
              "    [theme=dark] .colab-df-convert:hover {\n",
              "      background-color: #434B5C;\n",
              "      box-shadow: 0px 1px 3px 1px rgba(0, 0, 0, 0.15);\n",
              "      filter: drop-shadow(0px 1px 2px rgba(0, 0, 0, 0.3));\n",
              "      fill: #FFFFFF;\n",
              "    }\n",
              "  </style>\n",
              "\n",
              "      <script>\n",
              "        const buttonEl =\n",
              "          document.querySelector('#df-b92755d3-5960-4839-8cbf-fa64b22f6fac button.colab-df-convert');\n",
              "        buttonEl.style.display =\n",
              "          google.colab.kernel.accessAllowed ? 'block' : 'none';\n",
              "\n",
              "        async function convertToInteractive(key) {\n",
              "          const element = document.querySelector('#df-b92755d3-5960-4839-8cbf-fa64b22f6fac');\n",
              "          const dataTable =\n",
              "            await google.colab.kernel.invokeFunction('convertToInteractive',\n",
              "                                                     [key], {});\n",
              "          if (!dataTable) return;\n",
              "\n",
              "          const docLinkHtml = 'Like what you see? Visit the ' +\n",
              "            '<a target=\"_blank\" href=https://colab.research.google.com/notebooks/data_table.ipynb>data table notebook</a>'\n",
              "            + ' to learn more about interactive tables.';\n",
              "          element.innerHTML = '';\n",
              "          dataTable['output_type'] = 'display_data';\n",
              "          await google.colab.output.renderOutput(dataTable, element);\n",
              "          const docLink = document.createElement('div');\n",
              "          docLink.innerHTML = docLinkHtml;\n",
              "          element.appendChild(docLink);\n",
              "        }\n",
              "      </script>\n",
              "    </div>\n",
              "  </div>\n",
              "  "
            ]
          },
          "metadata": {},
          "execution_count": 27
        }
      ],
      "source": [
        "user_features_frames = []\n",
        "for feature in [\"sex\", \"age\", \"income\"]:\n",
        "    feature_frame = users.reindex(columns=[Columns.User, feature])\n",
        "    feature_frame.columns = [\"id\", \"value\"]\n",
        "    feature_frame[\"feature\"] = feature\n",
        "    user_features_frames.append(feature_frame)\n",
        "user_features = pd.concat(user_features_frames)\n",
        "user_features.head()"
      ]
    },
    {
      "cell_type": "code",
      "execution_count": 28,
      "metadata": {
        "id": "4DYXGsrJD56i",
        "outputId": "88472021-b1aa-425f-ff94-cf22cc08e85f",
        "colab": {
          "base_uri": "https://localhost:8080/",
          "height": 143
        }
      },
      "outputs": [
        {
          "output_type": "execute_result",
          "data": {
            "text/plain": [
              "       id         value feature\n",
              "0  973171             М     sex\n",
              "0  973171     age_25_34     age\n",
              "0  973171  income_60_90  income"
            ],
            "text/html": [
              "\n",
              "  <div id=\"df-e3255b90-eb81-430f-993b-bd033b5b48a8\">\n",
              "    <div class=\"colab-df-container\">\n",
              "      <div>\n",
              "<style scoped>\n",
              "    .dataframe tbody tr th:only-of-type {\n",
              "        vertical-align: middle;\n",
              "    }\n",
              "\n",
              "    .dataframe tbody tr th {\n",
              "        vertical-align: top;\n",
              "    }\n",
              "\n",
              "    .dataframe thead th {\n",
              "        text-align: right;\n",
              "    }\n",
              "</style>\n",
              "<table border=\"1\" class=\"dataframe\">\n",
              "  <thead>\n",
              "    <tr style=\"text-align: right;\">\n",
              "      <th></th>\n",
              "      <th>id</th>\n",
              "      <th>value</th>\n",
              "      <th>feature</th>\n",
              "    </tr>\n",
              "  </thead>\n",
              "  <tbody>\n",
              "    <tr>\n",
              "      <th>0</th>\n",
              "      <td>973171</td>\n",
              "      <td>М</td>\n",
              "      <td>sex</td>\n",
              "    </tr>\n",
              "    <tr>\n",
              "      <th>0</th>\n",
              "      <td>973171</td>\n",
              "      <td>age_25_34</td>\n",
              "      <td>age</td>\n",
              "    </tr>\n",
              "    <tr>\n",
              "      <th>0</th>\n",
              "      <td>973171</td>\n",
              "      <td>income_60_90</td>\n",
              "      <td>income</td>\n",
              "    </tr>\n",
              "  </tbody>\n",
              "</table>\n",
              "</div>\n",
              "      <button class=\"colab-df-convert\" onclick=\"convertToInteractive('df-e3255b90-eb81-430f-993b-bd033b5b48a8')\"\n",
              "              title=\"Convert this dataframe to an interactive table.\"\n",
              "              style=\"display:none;\">\n",
              "        \n",
              "  <svg xmlns=\"http://www.w3.org/2000/svg\" height=\"24px\"viewBox=\"0 0 24 24\"\n",
              "       width=\"24px\">\n",
              "    <path d=\"M0 0h24v24H0V0z\" fill=\"none\"/>\n",
              "    <path d=\"M18.56 5.44l.94 2.06.94-2.06 2.06-.94-2.06-.94-.94-2.06-.94 2.06-2.06.94zm-11 1L8.5 8.5l.94-2.06 2.06-.94-2.06-.94L8.5 2.5l-.94 2.06-2.06.94zm10 10l.94 2.06.94-2.06 2.06-.94-2.06-.94-.94-2.06-.94 2.06-2.06.94z\"/><path d=\"M17.41 7.96l-1.37-1.37c-.4-.4-.92-.59-1.43-.59-.52 0-1.04.2-1.43.59L10.3 9.45l-7.72 7.72c-.78.78-.78 2.05 0 2.83L4 21.41c.39.39.9.59 1.41.59.51 0 1.02-.2 1.41-.59l7.78-7.78 2.81-2.81c.8-.78.8-2.07 0-2.86zM5.41 20L4 18.59l7.72-7.72 1.47 1.35L5.41 20z\"/>\n",
              "  </svg>\n",
              "      </button>\n",
              "      \n",
              "  <style>\n",
              "    .colab-df-container {\n",
              "      display:flex;\n",
              "      flex-wrap:wrap;\n",
              "      gap: 12px;\n",
              "    }\n",
              "\n",
              "    .colab-df-convert {\n",
              "      background-color: #E8F0FE;\n",
              "      border: none;\n",
              "      border-radius: 50%;\n",
              "      cursor: pointer;\n",
              "      display: none;\n",
              "      fill: #1967D2;\n",
              "      height: 32px;\n",
              "      padding: 0 0 0 0;\n",
              "      width: 32px;\n",
              "    }\n",
              "\n",
              "    .colab-df-convert:hover {\n",
              "      background-color: #E2EBFA;\n",
              "      box-shadow: 0px 1px 2px rgba(60, 64, 67, 0.3), 0px 1px 3px 1px rgba(60, 64, 67, 0.15);\n",
              "      fill: #174EA6;\n",
              "    }\n",
              "\n",
              "    [theme=dark] .colab-df-convert {\n",
              "      background-color: #3B4455;\n",
              "      fill: #D2E3FC;\n",
              "    }\n",
              "\n",
              "    [theme=dark] .colab-df-convert:hover {\n",
              "      background-color: #434B5C;\n",
              "      box-shadow: 0px 1px 3px 1px rgba(0, 0, 0, 0.15);\n",
              "      filter: drop-shadow(0px 1px 2px rgba(0, 0, 0, 0.3));\n",
              "      fill: #FFFFFF;\n",
              "    }\n",
              "  </style>\n",
              "\n",
              "      <script>\n",
              "        const buttonEl =\n",
              "          document.querySelector('#df-e3255b90-eb81-430f-993b-bd033b5b48a8 button.colab-df-convert');\n",
              "        buttonEl.style.display =\n",
              "          google.colab.kernel.accessAllowed ? 'block' : 'none';\n",
              "\n",
              "        async function convertToInteractive(key) {\n",
              "          const element = document.querySelector('#df-e3255b90-eb81-430f-993b-bd033b5b48a8');\n",
              "          const dataTable =\n",
              "            await google.colab.kernel.invokeFunction('convertToInteractive',\n",
              "                                                     [key], {});\n",
              "          if (!dataTable) return;\n",
              "\n",
              "          const docLinkHtml = 'Like what you see? Visit the ' +\n",
              "            '<a target=\"_blank\" href=https://colab.research.google.com/notebooks/data_table.ipynb>data table notebook</a>'\n",
              "            + ' to learn more about interactive tables.';\n",
              "          element.innerHTML = '';\n",
              "          dataTable['output_type'] = 'display_data';\n",
              "          await google.colab.output.renderOutput(dataTable, element);\n",
              "          const docLink = document.createElement('div');\n",
              "          docLink.innerHTML = docLinkHtml;\n",
              "          element.appendChild(docLink);\n",
              "        }\n",
              "      </script>\n",
              "    </div>\n",
              "  </div>\n",
              "  "
            ]
          },
          "metadata": {},
          "execution_count": 28
        }
      ],
      "source": [
        "user_features.query(f\"id == 973171\")"
      ]
    },
    {
      "cell_type": "markdown",
      "metadata": {
        "id": "Ku-S9dZsD56j"
      },
      "source": [
        "### Item features"
      ]
    },
    {
      "cell_type": "code",
      "execution_count": 29,
      "metadata": {
        "id": "OixpSrThD56j",
        "outputId": "a630e63c-86bd-4003-aad9-a5ae263bbaca",
        "colab": {
          "base_uri": "https://localhost:8080/"
        }
      },
      "outputs": [
        {
          "output_type": "execute_result",
          "data": {
            "text/plain": [
              "item_id             0\n",
              "content_type        0\n",
              "title               0\n",
              "title_orig       2561\n",
              "release_year       35\n",
              "genres              0\n",
              "countries          16\n",
              "for_kids        10761\n",
              "age_rating          1\n",
              "studios         10590\n",
              "directors         749\n",
              "actors           1576\n",
              "description         1\n",
              "keywords          407\n",
              "dtype: int64"
            ]
          },
          "metadata": {},
          "execution_count": 29
        }
      ],
      "source": [
        "items.isnull().sum()"
      ]
    },
    {
      "cell_type": "code",
      "execution_count": 30,
      "metadata": {
        "id": "ALceNubmD56j"
      },
      "outputs": [],
      "source": [
        "items = items.loc[items[Columns.Item].isin(train[Columns.Item])].copy()"
      ]
    },
    {
      "cell_type": "code",
      "execution_count": 31,
      "metadata": {
        "id": "KzT5aUbBD56j",
        "outputId": "96bb9a72-2251-4c2c-a675-a6dc19ce3dd7",
        "colab": {
          "base_uri": "https://localhost:8080/",
          "height": 632
        }
      },
      "outputs": [
        {
          "output_type": "execute_result",
          "data": {
            "text/plain": [
              "   item_id content_type                                  title  \\\n",
              "0    10711         film                         Поговори с ней   \n",
              "1     2508         film                            Голые перцы   \n",
              "2    10716         film                       Тактическая сила   \n",
              "3    16268         film                   Все решает мгновение   \n",
              "4    11114         film  Принцесса Лебедь: Пират или принцесса   \n",
              "\n",
              "                                          title_orig  release_year  \\\n",
              "0                                     Hable con ella        2002.0   \n",
              "1                                       Search Party        2014.0   \n",
              "2                                     Tactical Force        2011.0   \n",
              "3                                                NaN        1978.0   \n",
              "4  The Swan Princess: Princess Tomorrow, Pirate T...        2016.0   \n",
              "\n",
              "                                              genres countries  for_kids  \\\n",
              "0            драмы, зарубежные, детективы, мелодрамы   Испания       NaN   \n",
              "1                   зарубежные, приключения, комедии       США       NaN   \n",
              "2   криминал, зарубежные, триллеры, боевики, комедии    Канада       NaN   \n",
              "3                 драмы, спорт, советские, мелодрамы      СССР       NaN   \n",
              "4  для детей, сказки, полнометражные, зарубежные,...       США       NaN   \n",
              "\n",
              "   age_rating        studios         directors  \\\n",
              "0        16.0            NaN  Педро Альмодовар   \n",
              "1        16.0            NaN    Скот Армстронг   \n",
              "2        16.0            NaN  Адам П. Калтраро   \n",
              "3        12.0       Ленфильм  Виктор Садовский   \n",
              "4         6.0  Sony Pictures        Ричард Рич   \n",
              "\n",
              "                                              actors  \\\n",
              "0  Адольфо Фернандес, Ана Фернандес, Дарио Гранди...   \n",
              "1  Адам Палли, Брайан Хаски, Дж.Б. Смув, Джейсон ...   \n",
              "2  Адриан Холмс, Даррен Шалави, Джерри Вассерман,...   \n",
              "3  Александр Абдулов, Александр Демьяненко, Алекс...   \n",
              "4  Брайан Ниссен, Гарднер Джаэс, Грант Дураззо, Д...   \n",
              "\n",
              "                                         description  \\\n",
              "0  Мелодрама легендарного Педро Альмодовара «Пого...   \n",
              "1  Уморительная современная комедия на популярную...   \n",
              "2  Профессиональный рестлер Стив Остин («Все или ...   \n",
              "3  Расчетливая чаровница из советского кинохита «...   \n",
              "4  Анимационная сказка о непоседливой принцессе Э...   \n",
              "\n",
              "                                            keywords  \n",
              "0  Поговори, ней, 2002, Испания, друзья, любовь, ...  \n",
              "1  Голые, перцы, 2014, США, друзья, свадьбы, прео...  \n",
              "2  Тактическая, сила, 2011, Канада, бандиты, ганг...  \n",
              "3  Все, решает, мгновение, 1978, СССР, сильные, ж...  \n",
              "4  Принцесса, Лебедь, Пират, или, принцесса, 2016...  "
            ],
            "text/html": [
              "\n",
              "  <div id=\"df-73e40726-334e-4f6a-9541-b5d4aff84804\">\n",
              "    <div class=\"colab-df-container\">\n",
              "      <div>\n",
              "<style scoped>\n",
              "    .dataframe tbody tr th:only-of-type {\n",
              "        vertical-align: middle;\n",
              "    }\n",
              "\n",
              "    .dataframe tbody tr th {\n",
              "        vertical-align: top;\n",
              "    }\n",
              "\n",
              "    .dataframe thead th {\n",
              "        text-align: right;\n",
              "    }\n",
              "</style>\n",
              "<table border=\"1\" class=\"dataframe\">\n",
              "  <thead>\n",
              "    <tr style=\"text-align: right;\">\n",
              "      <th></th>\n",
              "      <th>item_id</th>\n",
              "      <th>content_type</th>\n",
              "      <th>title</th>\n",
              "      <th>title_orig</th>\n",
              "      <th>release_year</th>\n",
              "      <th>genres</th>\n",
              "      <th>countries</th>\n",
              "      <th>for_kids</th>\n",
              "      <th>age_rating</th>\n",
              "      <th>studios</th>\n",
              "      <th>directors</th>\n",
              "      <th>actors</th>\n",
              "      <th>description</th>\n",
              "      <th>keywords</th>\n",
              "    </tr>\n",
              "  </thead>\n",
              "  <tbody>\n",
              "    <tr>\n",
              "      <th>0</th>\n",
              "      <td>10711</td>\n",
              "      <td>film</td>\n",
              "      <td>Поговори с ней</td>\n",
              "      <td>Hable con ella</td>\n",
              "      <td>2002.0</td>\n",
              "      <td>драмы, зарубежные, детективы, мелодрамы</td>\n",
              "      <td>Испания</td>\n",
              "      <td>NaN</td>\n",
              "      <td>16.0</td>\n",
              "      <td>NaN</td>\n",
              "      <td>Педро Альмодовар</td>\n",
              "      <td>Адольфо Фернандес, Ана Фернандес, Дарио Гранди...</td>\n",
              "      <td>Мелодрама легендарного Педро Альмодовара «Пого...</td>\n",
              "      <td>Поговори, ней, 2002, Испания, друзья, любовь, ...</td>\n",
              "    </tr>\n",
              "    <tr>\n",
              "      <th>1</th>\n",
              "      <td>2508</td>\n",
              "      <td>film</td>\n",
              "      <td>Голые перцы</td>\n",
              "      <td>Search Party</td>\n",
              "      <td>2014.0</td>\n",
              "      <td>зарубежные, приключения, комедии</td>\n",
              "      <td>США</td>\n",
              "      <td>NaN</td>\n",
              "      <td>16.0</td>\n",
              "      <td>NaN</td>\n",
              "      <td>Скот Армстронг</td>\n",
              "      <td>Адам Палли, Брайан Хаски, Дж.Б. Смув, Джейсон ...</td>\n",
              "      <td>Уморительная современная комедия на популярную...</td>\n",
              "      <td>Голые, перцы, 2014, США, друзья, свадьбы, прео...</td>\n",
              "    </tr>\n",
              "    <tr>\n",
              "      <th>2</th>\n",
              "      <td>10716</td>\n",
              "      <td>film</td>\n",
              "      <td>Тактическая сила</td>\n",
              "      <td>Tactical Force</td>\n",
              "      <td>2011.0</td>\n",
              "      <td>криминал, зарубежные, триллеры, боевики, комедии</td>\n",
              "      <td>Канада</td>\n",
              "      <td>NaN</td>\n",
              "      <td>16.0</td>\n",
              "      <td>NaN</td>\n",
              "      <td>Адам П. Калтраро</td>\n",
              "      <td>Адриан Холмс, Даррен Шалави, Джерри Вассерман,...</td>\n",
              "      <td>Профессиональный рестлер Стив Остин («Все или ...</td>\n",
              "      <td>Тактическая, сила, 2011, Канада, бандиты, ганг...</td>\n",
              "    </tr>\n",
              "    <tr>\n",
              "      <th>3</th>\n",
              "      <td>16268</td>\n",
              "      <td>film</td>\n",
              "      <td>Все решает мгновение</td>\n",
              "      <td>NaN</td>\n",
              "      <td>1978.0</td>\n",
              "      <td>драмы, спорт, советские, мелодрамы</td>\n",
              "      <td>СССР</td>\n",
              "      <td>NaN</td>\n",
              "      <td>12.0</td>\n",
              "      <td>Ленфильм</td>\n",
              "      <td>Виктор Садовский</td>\n",
              "      <td>Александр Абдулов, Александр Демьяненко, Алекс...</td>\n",
              "      <td>Расчетливая чаровница из советского кинохита «...</td>\n",
              "      <td>Все, решает, мгновение, 1978, СССР, сильные, ж...</td>\n",
              "    </tr>\n",
              "    <tr>\n",
              "      <th>4</th>\n",
              "      <td>11114</td>\n",
              "      <td>film</td>\n",
              "      <td>Принцесса Лебедь: Пират или принцесса</td>\n",
              "      <td>The Swan Princess: Princess Tomorrow, Pirate T...</td>\n",
              "      <td>2016.0</td>\n",
              "      <td>для детей, сказки, полнометражные, зарубежные,...</td>\n",
              "      <td>США</td>\n",
              "      <td>NaN</td>\n",
              "      <td>6.0</td>\n",
              "      <td>Sony Pictures</td>\n",
              "      <td>Ричард Рич</td>\n",
              "      <td>Брайан Ниссен, Гарднер Джаэс, Грант Дураззо, Д...</td>\n",
              "      <td>Анимационная сказка о непоседливой принцессе Э...</td>\n",
              "      <td>Принцесса, Лебедь, Пират, или, принцесса, 2016...</td>\n",
              "    </tr>\n",
              "  </tbody>\n",
              "</table>\n",
              "</div>\n",
              "      <button class=\"colab-df-convert\" onclick=\"convertToInteractive('df-73e40726-334e-4f6a-9541-b5d4aff84804')\"\n",
              "              title=\"Convert this dataframe to an interactive table.\"\n",
              "              style=\"display:none;\">\n",
              "        \n",
              "  <svg xmlns=\"http://www.w3.org/2000/svg\" height=\"24px\"viewBox=\"0 0 24 24\"\n",
              "       width=\"24px\">\n",
              "    <path d=\"M0 0h24v24H0V0z\" fill=\"none\"/>\n",
              "    <path d=\"M18.56 5.44l.94 2.06.94-2.06 2.06-.94-2.06-.94-.94-2.06-.94 2.06-2.06.94zm-11 1L8.5 8.5l.94-2.06 2.06-.94-2.06-.94L8.5 2.5l-.94 2.06-2.06.94zm10 10l.94 2.06.94-2.06 2.06-.94-2.06-.94-.94-2.06-.94 2.06-2.06.94z\"/><path d=\"M17.41 7.96l-1.37-1.37c-.4-.4-.92-.59-1.43-.59-.52 0-1.04.2-1.43.59L10.3 9.45l-7.72 7.72c-.78.78-.78 2.05 0 2.83L4 21.41c.39.39.9.59 1.41.59.51 0 1.02-.2 1.41-.59l7.78-7.78 2.81-2.81c.8-.78.8-2.07 0-2.86zM5.41 20L4 18.59l7.72-7.72 1.47 1.35L5.41 20z\"/>\n",
              "  </svg>\n",
              "      </button>\n",
              "      \n",
              "  <style>\n",
              "    .colab-df-container {\n",
              "      display:flex;\n",
              "      flex-wrap:wrap;\n",
              "      gap: 12px;\n",
              "    }\n",
              "\n",
              "    .colab-df-convert {\n",
              "      background-color: #E8F0FE;\n",
              "      border: none;\n",
              "      border-radius: 50%;\n",
              "      cursor: pointer;\n",
              "      display: none;\n",
              "      fill: #1967D2;\n",
              "      height: 32px;\n",
              "      padding: 0 0 0 0;\n",
              "      width: 32px;\n",
              "    }\n",
              "\n",
              "    .colab-df-convert:hover {\n",
              "      background-color: #E2EBFA;\n",
              "      box-shadow: 0px 1px 2px rgba(60, 64, 67, 0.3), 0px 1px 3px 1px rgba(60, 64, 67, 0.15);\n",
              "      fill: #174EA6;\n",
              "    }\n",
              "\n",
              "    [theme=dark] .colab-df-convert {\n",
              "      background-color: #3B4455;\n",
              "      fill: #D2E3FC;\n",
              "    }\n",
              "\n",
              "    [theme=dark] .colab-df-convert:hover {\n",
              "      background-color: #434B5C;\n",
              "      box-shadow: 0px 1px 3px 1px rgba(0, 0, 0, 0.15);\n",
              "      filter: drop-shadow(0px 1px 2px rgba(0, 0, 0, 0.3));\n",
              "      fill: #FFFFFF;\n",
              "    }\n",
              "  </style>\n",
              "\n",
              "      <script>\n",
              "        const buttonEl =\n",
              "          document.querySelector('#df-73e40726-334e-4f6a-9541-b5d4aff84804 button.colab-df-convert');\n",
              "        buttonEl.style.display =\n",
              "          google.colab.kernel.accessAllowed ? 'block' : 'none';\n",
              "\n",
              "        async function convertToInteractive(key) {\n",
              "          const element = document.querySelector('#df-73e40726-334e-4f6a-9541-b5d4aff84804');\n",
              "          const dataTable =\n",
              "            await google.colab.kernel.invokeFunction('convertToInteractive',\n",
              "                                                     [key], {});\n",
              "          if (!dataTable) return;\n",
              "\n",
              "          const docLinkHtml = 'Like what you see? Visit the ' +\n",
              "            '<a target=\"_blank\" href=https://colab.research.google.com/notebooks/data_table.ipynb>data table notebook</a>'\n",
              "            + ' to learn more about interactive tables.';\n",
              "          element.innerHTML = '';\n",
              "          dataTable['output_type'] = 'display_data';\n",
              "          await google.colab.output.renderOutput(dataTable, element);\n",
              "          const docLink = document.createElement('div');\n",
              "          docLink.innerHTML = docLinkHtml;\n",
              "          element.appendChild(docLink);\n",
              "        }\n",
              "      </script>\n",
              "    </div>\n",
              "  </div>\n",
              "  "
            ]
          },
          "metadata": {},
          "execution_count": 31
        }
      ],
      "source": [
        "items.head()"
      ]
    },
    {
      "cell_type": "code",
      "execution_count": 32,
      "metadata": {
        "id": "HiKZx41SD56j",
        "outputId": "098f1991-6b21-4df6-a922-4870a6da2afc",
        "colab": {
          "base_uri": "https://localhost:8080/"
        }
      },
      "outputs": [
        {
          "output_type": "execute_result",
          "data": {
            "text/plain": [
              "item_id         10923\n",
              "content_type        2\n",
              "title           10523\n",
              "title_orig       8125\n",
              "release_year      103\n",
              "genres           2149\n",
              "countries         616\n",
              "for_kids            2\n",
              "age_rating          6\n",
              "studios            36\n",
              "directors        6207\n",
              "actors           9218\n",
              "description     10717\n",
              "keywords        10507\n",
              "dtype: int64"
            ]
          },
          "metadata": {},
          "execution_count": 32
        }
      ],
      "source": [
        "items.nunique()"
      ]
    },
    {
      "cell_type": "markdown",
      "metadata": {
        "id": "wAQdw1QzD56j"
      },
      "source": [
        "#### Genre"
      ]
    },
    {
      "cell_type": "code",
      "execution_count": 33,
      "metadata": {
        "id": "5etGg5YoD56j",
        "outputId": "2acfa770-0eb5-4963-b2c4-b8dd1c9933eb",
        "colab": {
          "base_uri": "https://localhost:8080/",
          "height": 206
        }
      },
      "outputs": [
        {
          "output_type": "execute_result",
          "data": {
            "text/plain": [
              "      id       value feature\n",
              "0  10711       драмы   genre\n",
              "0  10711  зарубежные   genre\n",
              "0  10711   детективы   genre\n",
              "0  10711   мелодрамы   genre\n",
              "1   2508  зарубежные   genre"
            ],
            "text/html": [
              "\n",
              "  <div id=\"df-29398378-6ac9-41c2-9a8d-68d6ee14a8ca\">\n",
              "    <div class=\"colab-df-container\">\n",
              "      <div>\n",
              "<style scoped>\n",
              "    .dataframe tbody tr th:only-of-type {\n",
              "        vertical-align: middle;\n",
              "    }\n",
              "\n",
              "    .dataframe tbody tr th {\n",
              "        vertical-align: top;\n",
              "    }\n",
              "\n",
              "    .dataframe thead th {\n",
              "        text-align: right;\n",
              "    }\n",
              "</style>\n",
              "<table border=\"1\" class=\"dataframe\">\n",
              "  <thead>\n",
              "    <tr style=\"text-align: right;\">\n",
              "      <th></th>\n",
              "      <th>id</th>\n",
              "      <th>value</th>\n",
              "      <th>feature</th>\n",
              "    </tr>\n",
              "  </thead>\n",
              "  <tbody>\n",
              "    <tr>\n",
              "      <th>0</th>\n",
              "      <td>10711</td>\n",
              "      <td>драмы</td>\n",
              "      <td>genre</td>\n",
              "    </tr>\n",
              "    <tr>\n",
              "      <th>0</th>\n",
              "      <td>10711</td>\n",
              "      <td>зарубежные</td>\n",
              "      <td>genre</td>\n",
              "    </tr>\n",
              "    <tr>\n",
              "      <th>0</th>\n",
              "      <td>10711</td>\n",
              "      <td>детективы</td>\n",
              "      <td>genre</td>\n",
              "    </tr>\n",
              "    <tr>\n",
              "      <th>0</th>\n",
              "      <td>10711</td>\n",
              "      <td>мелодрамы</td>\n",
              "      <td>genre</td>\n",
              "    </tr>\n",
              "    <tr>\n",
              "      <th>1</th>\n",
              "      <td>2508</td>\n",
              "      <td>зарубежные</td>\n",
              "      <td>genre</td>\n",
              "    </tr>\n",
              "  </tbody>\n",
              "</table>\n",
              "</div>\n",
              "      <button class=\"colab-df-convert\" onclick=\"convertToInteractive('df-29398378-6ac9-41c2-9a8d-68d6ee14a8ca')\"\n",
              "              title=\"Convert this dataframe to an interactive table.\"\n",
              "              style=\"display:none;\">\n",
              "        \n",
              "  <svg xmlns=\"http://www.w3.org/2000/svg\" height=\"24px\"viewBox=\"0 0 24 24\"\n",
              "       width=\"24px\">\n",
              "    <path d=\"M0 0h24v24H0V0z\" fill=\"none\"/>\n",
              "    <path d=\"M18.56 5.44l.94 2.06.94-2.06 2.06-.94-2.06-.94-.94-2.06-.94 2.06-2.06.94zm-11 1L8.5 8.5l.94-2.06 2.06-.94-2.06-.94L8.5 2.5l-.94 2.06-2.06.94zm10 10l.94 2.06.94-2.06 2.06-.94-2.06-.94-.94-2.06-.94 2.06-2.06.94z\"/><path d=\"M17.41 7.96l-1.37-1.37c-.4-.4-.92-.59-1.43-.59-.52 0-1.04.2-1.43.59L10.3 9.45l-7.72 7.72c-.78.78-.78 2.05 0 2.83L4 21.41c.39.39.9.59 1.41.59.51 0 1.02-.2 1.41-.59l7.78-7.78 2.81-2.81c.8-.78.8-2.07 0-2.86zM5.41 20L4 18.59l7.72-7.72 1.47 1.35L5.41 20z\"/>\n",
              "  </svg>\n",
              "      </button>\n",
              "      \n",
              "  <style>\n",
              "    .colab-df-container {\n",
              "      display:flex;\n",
              "      flex-wrap:wrap;\n",
              "      gap: 12px;\n",
              "    }\n",
              "\n",
              "    .colab-df-convert {\n",
              "      background-color: #E8F0FE;\n",
              "      border: none;\n",
              "      border-radius: 50%;\n",
              "      cursor: pointer;\n",
              "      display: none;\n",
              "      fill: #1967D2;\n",
              "      height: 32px;\n",
              "      padding: 0 0 0 0;\n",
              "      width: 32px;\n",
              "    }\n",
              "\n",
              "    .colab-df-convert:hover {\n",
              "      background-color: #E2EBFA;\n",
              "      box-shadow: 0px 1px 2px rgba(60, 64, 67, 0.3), 0px 1px 3px 1px rgba(60, 64, 67, 0.15);\n",
              "      fill: #174EA6;\n",
              "    }\n",
              "\n",
              "    [theme=dark] .colab-df-convert {\n",
              "      background-color: #3B4455;\n",
              "      fill: #D2E3FC;\n",
              "    }\n",
              "\n",
              "    [theme=dark] .colab-df-convert:hover {\n",
              "      background-color: #434B5C;\n",
              "      box-shadow: 0px 1px 3px 1px rgba(0, 0, 0, 0.15);\n",
              "      filter: drop-shadow(0px 1px 2px rgba(0, 0, 0, 0.3));\n",
              "      fill: #FFFFFF;\n",
              "    }\n",
              "  </style>\n",
              "\n",
              "      <script>\n",
              "        const buttonEl =\n",
              "          document.querySelector('#df-29398378-6ac9-41c2-9a8d-68d6ee14a8ca button.colab-df-convert');\n",
              "        buttonEl.style.display =\n",
              "          google.colab.kernel.accessAllowed ? 'block' : 'none';\n",
              "\n",
              "        async function convertToInteractive(key) {\n",
              "          const element = document.querySelector('#df-29398378-6ac9-41c2-9a8d-68d6ee14a8ca');\n",
              "          const dataTable =\n",
              "            await google.colab.kernel.invokeFunction('convertToInteractive',\n",
              "                                                     [key], {});\n",
              "          if (!dataTable) return;\n",
              "\n",
              "          const docLinkHtml = 'Like what you see? Visit the ' +\n",
              "            '<a target=\"_blank\" href=https://colab.research.google.com/notebooks/data_table.ipynb>data table notebook</a>'\n",
              "            + ' to learn more about interactive tables.';\n",
              "          element.innerHTML = '';\n",
              "          dataTable['output_type'] = 'display_data';\n",
              "          await google.colab.output.renderOutput(dataTable, element);\n",
              "          const docLink = document.createElement('div');\n",
              "          docLink.innerHTML = docLinkHtml;\n",
              "          element.appendChild(docLink);\n",
              "        }\n",
              "      </script>\n",
              "    </div>\n",
              "  </div>\n",
              "  "
            ]
          },
          "metadata": {},
          "execution_count": 33
        }
      ],
      "source": [
        "# Explode genres to flatten table\n",
        "items[\"genre\"] = items[\"genres\"].str.lower().str.replace(\", \", \",\", regex=False).str.split(\",\")\n",
        "genre_feature = items[[\"item_id\", \"genre\"]].explode(\"genre\")\n",
        "genre_feature.columns = [\"id\", \"value\"]\n",
        "genre_feature[\"feature\"] = \"genre\"\n",
        "genre_feature.head()"
      ]
    },
    {
      "cell_type": "markdown",
      "metadata": {
        "id": "qffitOi3D56k"
      },
      "source": [
        "#### Content"
      ]
    },
    {
      "cell_type": "code",
      "execution_count": 34,
      "metadata": {
        "id": "9uPr-HhsD56k"
      },
      "outputs": [],
      "source": [
        "content_feature = items.reindex(columns=[Columns.Item, \"content_type\"])\n",
        "content_feature.columns = [\"id\", \"value\"]\n",
        "content_feature[\"feature\"] = \"content_type\""
      ]
    },
    {
      "cell_type": "code",
      "execution_count": 35,
      "metadata": {
        "id": "0XEmLrf8D56k",
        "outputId": "071d40ae-560f-40d2-ab5f-d5287b1ebbf8",
        "colab": {
          "base_uri": "https://localhost:8080/",
          "height": 424
        }
      },
      "outputs": [
        {
          "output_type": "execute_result",
          "data": {
            "text/plain": [
              "          id   value       feature\n",
              "0      10711    film  content_type\n",
              "1       2508    film  content_type\n",
              "2      10716    film  content_type\n",
              "3      16268    film  content_type\n",
              "4      11114    film  content_type\n",
              "...      ...     ...           ...\n",
              "11283   6443  series  content_type\n",
              "11284   2367  series  content_type\n",
              "11285  10632  series  content_type\n",
              "11286   4538  series  content_type\n",
              "11287   3206  series  content_type\n",
              "\n",
              "[10923 rows x 3 columns]"
            ],
            "text/html": [
              "\n",
              "  <div id=\"df-a219823f-02ce-463b-b5ae-b7ba47a1bd2a\">\n",
              "    <div class=\"colab-df-container\">\n",
              "      <div>\n",
              "<style scoped>\n",
              "    .dataframe tbody tr th:only-of-type {\n",
              "        vertical-align: middle;\n",
              "    }\n",
              "\n",
              "    .dataframe tbody tr th {\n",
              "        vertical-align: top;\n",
              "    }\n",
              "\n",
              "    .dataframe thead th {\n",
              "        text-align: right;\n",
              "    }\n",
              "</style>\n",
              "<table border=\"1\" class=\"dataframe\">\n",
              "  <thead>\n",
              "    <tr style=\"text-align: right;\">\n",
              "      <th></th>\n",
              "      <th>id</th>\n",
              "      <th>value</th>\n",
              "      <th>feature</th>\n",
              "    </tr>\n",
              "  </thead>\n",
              "  <tbody>\n",
              "    <tr>\n",
              "      <th>0</th>\n",
              "      <td>10711</td>\n",
              "      <td>film</td>\n",
              "      <td>content_type</td>\n",
              "    </tr>\n",
              "    <tr>\n",
              "      <th>1</th>\n",
              "      <td>2508</td>\n",
              "      <td>film</td>\n",
              "      <td>content_type</td>\n",
              "    </tr>\n",
              "    <tr>\n",
              "      <th>2</th>\n",
              "      <td>10716</td>\n",
              "      <td>film</td>\n",
              "      <td>content_type</td>\n",
              "    </tr>\n",
              "    <tr>\n",
              "      <th>3</th>\n",
              "      <td>16268</td>\n",
              "      <td>film</td>\n",
              "      <td>content_type</td>\n",
              "    </tr>\n",
              "    <tr>\n",
              "      <th>4</th>\n",
              "      <td>11114</td>\n",
              "      <td>film</td>\n",
              "      <td>content_type</td>\n",
              "    </tr>\n",
              "    <tr>\n",
              "      <th>...</th>\n",
              "      <td>...</td>\n",
              "      <td>...</td>\n",
              "      <td>...</td>\n",
              "    </tr>\n",
              "    <tr>\n",
              "      <th>11283</th>\n",
              "      <td>6443</td>\n",
              "      <td>series</td>\n",
              "      <td>content_type</td>\n",
              "    </tr>\n",
              "    <tr>\n",
              "      <th>11284</th>\n",
              "      <td>2367</td>\n",
              "      <td>series</td>\n",
              "      <td>content_type</td>\n",
              "    </tr>\n",
              "    <tr>\n",
              "      <th>11285</th>\n",
              "      <td>10632</td>\n",
              "      <td>series</td>\n",
              "      <td>content_type</td>\n",
              "    </tr>\n",
              "    <tr>\n",
              "      <th>11286</th>\n",
              "      <td>4538</td>\n",
              "      <td>series</td>\n",
              "      <td>content_type</td>\n",
              "    </tr>\n",
              "    <tr>\n",
              "      <th>11287</th>\n",
              "      <td>3206</td>\n",
              "      <td>series</td>\n",
              "      <td>content_type</td>\n",
              "    </tr>\n",
              "  </tbody>\n",
              "</table>\n",
              "<p>10923 rows × 3 columns</p>\n",
              "</div>\n",
              "      <button class=\"colab-df-convert\" onclick=\"convertToInteractive('df-a219823f-02ce-463b-b5ae-b7ba47a1bd2a')\"\n",
              "              title=\"Convert this dataframe to an interactive table.\"\n",
              "              style=\"display:none;\">\n",
              "        \n",
              "  <svg xmlns=\"http://www.w3.org/2000/svg\" height=\"24px\"viewBox=\"0 0 24 24\"\n",
              "       width=\"24px\">\n",
              "    <path d=\"M0 0h24v24H0V0z\" fill=\"none\"/>\n",
              "    <path d=\"M18.56 5.44l.94 2.06.94-2.06 2.06-.94-2.06-.94-.94-2.06-.94 2.06-2.06.94zm-11 1L8.5 8.5l.94-2.06 2.06-.94-2.06-.94L8.5 2.5l-.94 2.06-2.06.94zm10 10l.94 2.06.94-2.06 2.06-.94-2.06-.94-.94-2.06-.94 2.06-2.06.94z\"/><path d=\"M17.41 7.96l-1.37-1.37c-.4-.4-.92-.59-1.43-.59-.52 0-1.04.2-1.43.59L10.3 9.45l-7.72 7.72c-.78.78-.78 2.05 0 2.83L4 21.41c.39.39.9.59 1.41.59.51 0 1.02-.2 1.41-.59l7.78-7.78 2.81-2.81c.8-.78.8-2.07 0-2.86zM5.41 20L4 18.59l7.72-7.72 1.47 1.35L5.41 20z\"/>\n",
              "  </svg>\n",
              "      </button>\n",
              "      \n",
              "  <style>\n",
              "    .colab-df-container {\n",
              "      display:flex;\n",
              "      flex-wrap:wrap;\n",
              "      gap: 12px;\n",
              "    }\n",
              "\n",
              "    .colab-df-convert {\n",
              "      background-color: #E8F0FE;\n",
              "      border: none;\n",
              "      border-radius: 50%;\n",
              "      cursor: pointer;\n",
              "      display: none;\n",
              "      fill: #1967D2;\n",
              "      height: 32px;\n",
              "      padding: 0 0 0 0;\n",
              "      width: 32px;\n",
              "    }\n",
              "\n",
              "    .colab-df-convert:hover {\n",
              "      background-color: #E2EBFA;\n",
              "      box-shadow: 0px 1px 2px rgba(60, 64, 67, 0.3), 0px 1px 3px 1px rgba(60, 64, 67, 0.15);\n",
              "      fill: #174EA6;\n",
              "    }\n",
              "\n",
              "    [theme=dark] .colab-df-convert {\n",
              "      background-color: #3B4455;\n",
              "      fill: #D2E3FC;\n",
              "    }\n",
              "\n",
              "    [theme=dark] .colab-df-convert:hover {\n",
              "      background-color: #434B5C;\n",
              "      box-shadow: 0px 1px 3px 1px rgba(0, 0, 0, 0.15);\n",
              "      filter: drop-shadow(0px 1px 2px rgba(0, 0, 0, 0.3));\n",
              "      fill: #FFFFFF;\n",
              "    }\n",
              "  </style>\n",
              "\n",
              "      <script>\n",
              "        const buttonEl =\n",
              "          document.querySelector('#df-a219823f-02ce-463b-b5ae-b7ba47a1bd2a button.colab-df-convert');\n",
              "        buttonEl.style.display =\n",
              "          google.colab.kernel.accessAllowed ? 'block' : 'none';\n",
              "\n",
              "        async function convertToInteractive(key) {\n",
              "          const element = document.querySelector('#df-a219823f-02ce-463b-b5ae-b7ba47a1bd2a');\n",
              "          const dataTable =\n",
              "            await google.colab.kernel.invokeFunction('convertToInteractive',\n",
              "                                                     [key], {});\n",
              "          if (!dataTable) return;\n",
              "\n",
              "          const docLinkHtml = 'Like what you see? Visit the ' +\n",
              "            '<a target=\"_blank\" href=https://colab.research.google.com/notebooks/data_table.ipynb>data table notebook</a>'\n",
              "            + ' to learn more about interactive tables.';\n",
              "          element.innerHTML = '';\n",
              "          dataTable['output_type'] = 'display_data';\n",
              "          await google.colab.output.renderOutput(dataTable, element);\n",
              "          const docLink = document.createElement('div');\n",
              "          docLink.innerHTML = docLinkHtml;\n",
              "          element.appendChild(docLink);\n",
              "        }\n",
              "      </script>\n",
              "    </div>\n",
              "  </div>\n",
              "  "
            ]
          },
          "metadata": {},
          "execution_count": 35
        }
      ],
      "source": [
        "content_feature"
      ]
    },
    {
      "cell_type": "markdown",
      "source": [
        "#### Country"
      ],
      "metadata": {
        "id": "uUEHFmFBxOdK"
      }
    },
    {
      "cell_type": "markdown",
      "source": [
        "Добавим еще дополнительный признак \"Страна выпуска\" фильма"
      ],
      "metadata": {
        "id": "_01o3TuUw-Ey"
      }
    },
    {
      "cell_type": "code",
      "source": [
        "items[\"country\"] = items[\"countries\"].str.lower().str.replace(\", \", \",\", regex=False).str.split(\",\")\n",
        "country_feature = items[[\"item_id\", \"country\"]].explode(\"country\")\n",
        "country_feature.columns = [\"id\", \"value\"]\n",
        "country_feature[\"feature\"] = \"country\"\n",
        "country_feature.head()"
      ],
      "metadata": {
        "colab": {
          "base_uri": "https://localhost:8080/",
          "height": 206
        },
        "id": "RBU6Q5rZxFKN",
        "outputId": "a4e5a0c7-a1b8-4073-ad47-2e7b8f3c4f2e"
      },
      "execution_count": 36,
      "outputs": [
        {
          "output_type": "execute_result",
          "data": {
            "text/plain": [
              "      id    value  feature\n",
              "0  10711  испания  country\n",
              "1   2508      сша  country\n",
              "2  10716   канада  country\n",
              "3  16268     ссср  country\n",
              "4  11114      сша  country"
            ],
            "text/html": [
              "\n",
              "  <div id=\"df-c7ab4533-294e-4989-8b23-26e3b10513c9\">\n",
              "    <div class=\"colab-df-container\">\n",
              "      <div>\n",
              "<style scoped>\n",
              "    .dataframe tbody tr th:only-of-type {\n",
              "        vertical-align: middle;\n",
              "    }\n",
              "\n",
              "    .dataframe tbody tr th {\n",
              "        vertical-align: top;\n",
              "    }\n",
              "\n",
              "    .dataframe thead th {\n",
              "        text-align: right;\n",
              "    }\n",
              "</style>\n",
              "<table border=\"1\" class=\"dataframe\">\n",
              "  <thead>\n",
              "    <tr style=\"text-align: right;\">\n",
              "      <th></th>\n",
              "      <th>id</th>\n",
              "      <th>value</th>\n",
              "      <th>feature</th>\n",
              "    </tr>\n",
              "  </thead>\n",
              "  <tbody>\n",
              "    <tr>\n",
              "      <th>0</th>\n",
              "      <td>10711</td>\n",
              "      <td>испания</td>\n",
              "      <td>country</td>\n",
              "    </tr>\n",
              "    <tr>\n",
              "      <th>1</th>\n",
              "      <td>2508</td>\n",
              "      <td>сша</td>\n",
              "      <td>country</td>\n",
              "    </tr>\n",
              "    <tr>\n",
              "      <th>2</th>\n",
              "      <td>10716</td>\n",
              "      <td>канада</td>\n",
              "      <td>country</td>\n",
              "    </tr>\n",
              "    <tr>\n",
              "      <th>3</th>\n",
              "      <td>16268</td>\n",
              "      <td>ссср</td>\n",
              "      <td>country</td>\n",
              "    </tr>\n",
              "    <tr>\n",
              "      <th>4</th>\n",
              "      <td>11114</td>\n",
              "      <td>сша</td>\n",
              "      <td>country</td>\n",
              "    </tr>\n",
              "  </tbody>\n",
              "</table>\n",
              "</div>\n",
              "      <button class=\"colab-df-convert\" onclick=\"convertToInteractive('df-c7ab4533-294e-4989-8b23-26e3b10513c9')\"\n",
              "              title=\"Convert this dataframe to an interactive table.\"\n",
              "              style=\"display:none;\">\n",
              "        \n",
              "  <svg xmlns=\"http://www.w3.org/2000/svg\" height=\"24px\"viewBox=\"0 0 24 24\"\n",
              "       width=\"24px\">\n",
              "    <path d=\"M0 0h24v24H0V0z\" fill=\"none\"/>\n",
              "    <path d=\"M18.56 5.44l.94 2.06.94-2.06 2.06-.94-2.06-.94-.94-2.06-.94 2.06-2.06.94zm-11 1L8.5 8.5l.94-2.06 2.06-.94-2.06-.94L8.5 2.5l-.94 2.06-2.06.94zm10 10l.94 2.06.94-2.06 2.06-.94-2.06-.94-.94-2.06-.94 2.06-2.06.94z\"/><path d=\"M17.41 7.96l-1.37-1.37c-.4-.4-.92-.59-1.43-.59-.52 0-1.04.2-1.43.59L10.3 9.45l-7.72 7.72c-.78.78-.78 2.05 0 2.83L4 21.41c.39.39.9.59 1.41.59.51 0 1.02-.2 1.41-.59l7.78-7.78 2.81-2.81c.8-.78.8-2.07 0-2.86zM5.41 20L4 18.59l7.72-7.72 1.47 1.35L5.41 20z\"/>\n",
              "  </svg>\n",
              "      </button>\n",
              "      \n",
              "  <style>\n",
              "    .colab-df-container {\n",
              "      display:flex;\n",
              "      flex-wrap:wrap;\n",
              "      gap: 12px;\n",
              "    }\n",
              "\n",
              "    .colab-df-convert {\n",
              "      background-color: #E8F0FE;\n",
              "      border: none;\n",
              "      border-radius: 50%;\n",
              "      cursor: pointer;\n",
              "      display: none;\n",
              "      fill: #1967D2;\n",
              "      height: 32px;\n",
              "      padding: 0 0 0 0;\n",
              "      width: 32px;\n",
              "    }\n",
              "\n",
              "    .colab-df-convert:hover {\n",
              "      background-color: #E2EBFA;\n",
              "      box-shadow: 0px 1px 2px rgba(60, 64, 67, 0.3), 0px 1px 3px 1px rgba(60, 64, 67, 0.15);\n",
              "      fill: #174EA6;\n",
              "    }\n",
              "\n",
              "    [theme=dark] .colab-df-convert {\n",
              "      background-color: #3B4455;\n",
              "      fill: #D2E3FC;\n",
              "    }\n",
              "\n",
              "    [theme=dark] .colab-df-convert:hover {\n",
              "      background-color: #434B5C;\n",
              "      box-shadow: 0px 1px 3px 1px rgba(0, 0, 0, 0.15);\n",
              "      filter: drop-shadow(0px 1px 2px rgba(0, 0, 0, 0.3));\n",
              "      fill: #FFFFFF;\n",
              "    }\n",
              "  </style>\n",
              "\n",
              "      <script>\n",
              "        const buttonEl =\n",
              "          document.querySelector('#df-c7ab4533-294e-4989-8b23-26e3b10513c9 button.colab-df-convert');\n",
              "        buttonEl.style.display =\n",
              "          google.colab.kernel.accessAllowed ? 'block' : 'none';\n",
              "\n",
              "        async function convertToInteractive(key) {\n",
              "          const element = document.querySelector('#df-c7ab4533-294e-4989-8b23-26e3b10513c9');\n",
              "          const dataTable =\n",
              "            await google.colab.kernel.invokeFunction('convertToInteractive',\n",
              "                                                     [key], {});\n",
              "          if (!dataTable) return;\n",
              "\n",
              "          const docLinkHtml = 'Like what you see? Visit the ' +\n",
              "            '<a target=\"_blank\" href=https://colab.research.google.com/notebooks/data_table.ipynb>data table notebook</a>'\n",
              "            + ' to learn more about interactive tables.';\n",
              "          element.innerHTML = '';\n",
              "          dataTable['output_type'] = 'display_data';\n",
              "          await google.colab.output.renderOutput(dataTable, element);\n",
              "          const docLink = document.createElement('div');\n",
              "          docLink.innerHTML = docLinkHtml;\n",
              "          element.appendChild(docLink);\n",
              "        }\n",
              "      </script>\n",
              "    </div>\n",
              "  </div>\n",
              "  "
            ]
          },
          "metadata": {},
          "execution_count": 36
        }
      ]
    },
    {
      "cell_type": "markdown",
      "source": [
        "Объединим все признаки и посмотрим на один айтем, чтобы понимать, что получилось"
      ],
      "metadata": {
        "id": "-gxIG4CR0yzk"
      }
    },
    {
      "cell_type": "code",
      "execution_count": 37,
      "metadata": {
        "id": "Juf8BjbAD56k"
      },
      "outputs": [],
      "source": [
        "item_features = pd.concat((genre_feature, content_feature, country_feature))"
      ]
    },
    {
      "cell_type": "code",
      "execution_count": 38,
      "metadata": {
        "id": "M1eGPXU1D56k",
        "outputId": "130309c2-d09d-4fcc-a4f3-21fc9734871b",
        "colab": {
          "base_uri": "https://localhost:8080/",
          "height": 143
        }
      },
      "outputs": [
        {
          "output_type": "execute_result",
          "data": {
            "text/plain": [
              "      id           value       feature\n",
              "2472  53  документальное         genre\n",
              "2472  53            film  content_type\n",
              "2472  53         франция       country"
            ],
            "text/html": [
              "\n",
              "  <div id=\"df-83b687e7-aa65-4af8-b902-066ac47f9987\">\n",
              "    <div class=\"colab-df-container\">\n",
              "      <div>\n",
              "<style scoped>\n",
              "    .dataframe tbody tr th:only-of-type {\n",
              "        vertical-align: middle;\n",
              "    }\n",
              "\n",
              "    .dataframe tbody tr th {\n",
              "        vertical-align: top;\n",
              "    }\n",
              "\n",
              "    .dataframe thead th {\n",
              "        text-align: right;\n",
              "    }\n",
              "</style>\n",
              "<table border=\"1\" class=\"dataframe\">\n",
              "  <thead>\n",
              "    <tr style=\"text-align: right;\">\n",
              "      <th></th>\n",
              "      <th>id</th>\n",
              "      <th>value</th>\n",
              "      <th>feature</th>\n",
              "    </tr>\n",
              "  </thead>\n",
              "  <tbody>\n",
              "    <tr>\n",
              "      <th>2472</th>\n",
              "      <td>53</td>\n",
              "      <td>документальное</td>\n",
              "      <td>genre</td>\n",
              "    </tr>\n",
              "    <tr>\n",
              "      <th>2472</th>\n",
              "      <td>53</td>\n",
              "      <td>film</td>\n",
              "      <td>content_type</td>\n",
              "    </tr>\n",
              "    <tr>\n",
              "      <th>2472</th>\n",
              "      <td>53</td>\n",
              "      <td>франция</td>\n",
              "      <td>country</td>\n",
              "    </tr>\n",
              "  </tbody>\n",
              "</table>\n",
              "</div>\n",
              "      <button class=\"colab-df-convert\" onclick=\"convertToInteractive('df-83b687e7-aa65-4af8-b902-066ac47f9987')\"\n",
              "              title=\"Convert this dataframe to an interactive table.\"\n",
              "              style=\"display:none;\">\n",
              "        \n",
              "  <svg xmlns=\"http://www.w3.org/2000/svg\" height=\"24px\"viewBox=\"0 0 24 24\"\n",
              "       width=\"24px\">\n",
              "    <path d=\"M0 0h24v24H0V0z\" fill=\"none\"/>\n",
              "    <path d=\"M18.56 5.44l.94 2.06.94-2.06 2.06-.94-2.06-.94-.94-2.06-.94 2.06-2.06.94zm-11 1L8.5 8.5l.94-2.06 2.06-.94-2.06-.94L8.5 2.5l-.94 2.06-2.06.94zm10 10l.94 2.06.94-2.06 2.06-.94-2.06-.94-.94-2.06-.94 2.06-2.06.94z\"/><path d=\"M17.41 7.96l-1.37-1.37c-.4-.4-.92-.59-1.43-.59-.52 0-1.04.2-1.43.59L10.3 9.45l-7.72 7.72c-.78.78-.78 2.05 0 2.83L4 21.41c.39.39.9.59 1.41.59.51 0 1.02-.2 1.41-.59l7.78-7.78 2.81-2.81c.8-.78.8-2.07 0-2.86zM5.41 20L4 18.59l7.72-7.72 1.47 1.35L5.41 20z\"/>\n",
              "  </svg>\n",
              "      </button>\n",
              "      \n",
              "  <style>\n",
              "    .colab-df-container {\n",
              "      display:flex;\n",
              "      flex-wrap:wrap;\n",
              "      gap: 12px;\n",
              "    }\n",
              "\n",
              "    .colab-df-convert {\n",
              "      background-color: #E8F0FE;\n",
              "      border: none;\n",
              "      border-radius: 50%;\n",
              "      cursor: pointer;\n",
              "      display: none;\n",
              "      fill: #1967D2;\n",
              "      height: 32px;\n",
              "      padding: 0 0 0 0;\n",
              "      width: 32px;\n",
              "    }\n",
              "\n",
              "    .colab-df-convert:hover {\n",
              "      background-color: #E2EBFA;\n",
              "      box-shadow: 0px 1px 2px rgba(60, 64, 67, 0.3), 0px 1px 3px 1px rgba(60, 64, 67, 0.15);\n",
              "      fill: #174EA6;\n",
              "    }\n",
              "\n",
              "    [theme=dark] .colab-df-convert {\n",
              "      background-color: #3B4455;\n",
              "      fill: #D2E3FC;\n",
              "    }\n",
              "\n",
              "    [theme=dark] .colab-df-convert:hover {\n",
              "      background-color: #434B5C;\n",
              "      box-shadow: 0px 1px 3px 1px rgba(0, 0, 0, 0.15);\n",
              "      filter: drop-shadow(0px 1px 2px rgba(0, 0, 0, 0.3));\n",
              "      fill: #FFFFFF;\n",
              "    }\n",
              "  </style>\n",
              "\n",
              "      <script>\n",
              "        const buttonEl =\n",
              "          document.querySelector('#df-83b687e7-aa65-4af8-b902-066ac47f9987 button.colab-df-convert');\n",
              "        buttonEl.style.display =\n",
              "          google.colab.kernel.accessAllowed ? 'block' : 'none';\n",
              "\n",
              "        async function convertToInteractive(key) {\n",
              "          const element = document.querySelector('#df-83b687e7-aa65-4af8-b902-066ac47f9987');\n",
              "          const dataTable =\n",
              "            await google.colab.kernel.invokeFunction('convertToInteractive',\n",
              "                                                     [key], {});\n",
              "          if (!dataTable) return;\n",
              "\n",
              "          const docLinkHtml = 'Like what you see? Visit the ' +\n",
              "            '<a target=\"_blank\" href=https://colab.research.google.com/notebooks/data_table.ipynb>data table notebook</a>'\n",
              "            + ' to learn more about interactive tables.';\n",
              "          element.innerHTML = '';\n",
              "          dataTable['output_type'] = 'display_data';\n",
              "          await google.colab.output.renderOutput(dataTable, element);\n",
              "          const docLink = document.createElement('div');\n",
              "          docLink.innerHTML = docLinkHtml;\n",
              "          element.appendChild(docLink);\n",
              "        }\n",
              "      </script>\n",
              "    </div>\n",
              "  </div>\n",
              "  "
            ]
          },
          "metadata": {},
          "execution_count": 38
        }
      ],
      "source": [
        "item_features[item_features['id'] ==  53]"
      ]
    },
    {
      "cell_type": "markdown",
      "source": [
        "## Create dataset"
      ],
      "metadata": {
        "id": "aPGHCLMzDZUy"
      }
    },
    {
      "cell_type": "code",
      "source": [
        "dataset = Dataset.construct(\n",
        "    interactions_df=train,\n",
        "    user_features_df=user_features,\n",
        "    cat_user_features=[\"sex\", \"age\", \"income\"],\n",
        "    item_features_df=item_features,\n",
        "    cat_item_features=[\"genre\", 'content_type', \"country\"],\n",
        ")"
      ],
      "metadata": {
        "id": "LOy_pxQnDgyN"
      },
      "execution_count": 39,
      "outputs": []
    },
    {
      "cell_type": "code",
      "source": [
        "test_users = test[Columns.User].unique()"
      ],
      "metadata": {
        "id": "60nG_DoJFI26"
      },
      "execution_count": 40,
      "outputs": []
    },
    {
      "cell_type": "markdown",
      "metadata": {
        "id": "b8bTLlLWD56k"
      },
      "source": [
        "## Metrics"
      ]
    },
    {
      "cell_type": "markdown",
      "source": [
        "В качестве метрик будем рассматривать:\n",
        "* Precision,\n",
        "* Recall,\n",
        "* MAP,\n",
        "\n",
        "при k равном 10"
      ],
      "metadata": {
        "id": "a_SnJtgd1jT2"
      }
    },
    {
      "cell_type": "code",
      "execution_count": 41,
      "metadata": {
        "id": "gahXVv9SD56k"
      },
      "outputs": [],
      "source": [
        "metrics = {\n",
        "    'precision@10': Precision(k=K_RECOS),\n",
        "    'recall@10': Recall(k=K_RECOS),\n",
        "    'MAP@10': MAP(k=K_RECOS),\n",
        "}"
      ]
    },
    {
      "cell_type": "markdown",
      "source": [
        "Но при поиске будем учитывать только MAP метрику"
      ],
      "metadata": {
        "id": "z7tx7vJjUJKp"
      }
    },
    {
      "cell_type": "markdown",
      "metadata": {
        "id": "GzYNLQjwD56k"
      },
      "source": [
        "## Models"
      ]
    },
    {
      "cell_type": "markdown",
      "source": [
        "Сначала подберем параметры с помощью `optuna` для рассматриваемых моделей `AlternatingLeastSquares`, `LightFM`, а затем сравним с \"популярной моделью\""
      ],
      "metadata": {
        "id": "t0qkpH0I5kA9"
      }
    },
    {
      "cell_type": "markdown",
      "source": [
        "### AlternatingLeastSquares"
      ],
      "metadata": {
        "id": "PWEJNVZR6ZXM"
      }
    },
    {
      "cell_type": "code",
      "source": [
        "def objective_implicit_ALS(trial):\n",
        "\n",
        "    n_factors = trial.suggest_int(\"n_factors\", low=64, high=128, step=32)\n",
        "    regularization = trial.suggest_float(\"regularization\", low=0.01, high=0.51, step=0.1)\n",
        "    n_iterations = trial.suggest_int(\"n_iterationns\", low=15, high=20, step=1)\n",
        "    model_obj = ImplicitALSWrapperModel(\n",
        "                  model=AlternatingLeastSquares(\n",
        "                                        factors=n_factors, \n",
        "                                        regularization=regularization,\n",
        "                                        iterations = n_iterations,\n",
        "                                        random_state=RANDOM_STATE, \n",
        "                                                ),\n",
        "                  fit_features_together=True,\n",
        "                                        )\n",
        "\n",
        "    model_obj.fit(dataset)\n",
        "    \n",
        "    recos = model_obj.recommend(\n",
        "                                users=test_users,\n",
        "                                dataset=dataset,\n",
        "                                k=K_RECOS,\n",
        "                                filter_viewed=True,\n",
        "                                )\n",
        "    \n",
        "    metric_values = calc_metrics(metrics, recos, test, train)\n",
        "\n",
        "    return metric_values['MAP@10']"
      ],
      "metadata": {
        "id": "nGVp388J6oSm"
      },
      "execution_count": 42,
      "outputs": []
    },
    {
      "cell_type": "code",
      "source": [
        "%%time\n",
        "study = optuna.create_study(directions=[\"maximize\"])\n",
        "study.optimize(objective_implicit_ALS, n_trials=10, n_jobs=-1)"
      ],
      "metadata": {
        "colab": {
          "base_uri": "https://localhost:8080/"
        },
        "id": "NC56kCTF8xF3",
        "outputId": "e6c1e497-a40d-4d8c-e827-2cf3e0028b45"
      },
      "execution_count": 43,
      "outputs": [
        {
          "output_type": "stream",
          "name": "stderr",
          "text": [
            "\u001b[32m[I 2022-12-12 07:15:53,064]\u001b[0m A new study created in memory with name: no-name-9a79e5b5-0a64-4651-a228-d3295df69640\u001b[0m\n",
            "/usr/local/lib/python3.8/dist-packages/rectools/dataset/features.py:399: UserWarning: Converting sparse features to dense array may cause MemoryError\n",
            "  warnings.warn(\"Converting sparse features to dense array may cause MemoryError\")\n",
            "/usr/local/lib/python3.8/dist-packages/rectools/models/implicit_als.py:269: UserWarning: GPU training requires number of factors to be a multiple of 32. Increasing factors from 260 to 288 (increasing latent factors from 64 to 92)\n",
            "  warnings.warn(\n",
            "/usr/local/lib/python3.8/dist-packages/rectools/models/implicit_als.py:269: UserWarning: GPU training requires number of factors to be a multiple of 32. Increasing factors from 292 to 320 (increasing latent factors from 96 to 124)\n",
            "  warnings.warn(\n",
            "kion dataset download: 100%|██████████| 78.8M/78.8M [00:20<00:00, 10.9MiB/s]\u001b[32m[I 2022-12-12 07:18:12,978]\u001b[0m Trial 1 finished with value: 0.08143870805914342 and parameters: {'n_factors': 64, 'regularization': 0.01, 'n_iterationns': 16}. Best is trial 1 with value: 0.08143870805914342.\u001b[0m\n",
            "/usr/local/lib/python3.8/dist-packages/rectools/dataset/features.py:399: UserWarning: Converting sparse features to dense array may cause MemoryError\n",
            "  warnings.warn(\"Converting sparse features to dense array may cause MemoryError\")\n",
            "/usr/local/lib/python3.8/dist-packages/rectools/models/implicit_als.py:269: UserWarning: GPU training requires number of factors to be a multiple of 32. Increasing factors from 292 to 320 (increasing latent factors from 96 to 124)\n",
            "  warnings.warn(\n",
            "\u001b[32m[I 2022-12-12 07:18:25,341]\u001b[0m Trial 0 finished with value: 0.07998376877701353 and parameters: {'n_factors': 96, 'regularization': 0.21000000000000002, 'n_iterationns': 20}. Best is trial 1 with value: 0.08143870805914342.\u001b[0m\n",
            "/usr/local/lib/python3.8/dist-packages/rectools/dataset/features.py:399: UserWarning: Converting sparse features to dense array may cause MemoryError\n",
            "  warnings.warn(\"Converting sparse features to dense array may cause MemoryError\")\n",
            "/usr/local/lib/python3.8/dist-packages/rectools/models/implicit_als.py:269: UserWarning: GPU training requires number of factors to be a multiple of 32. Increasing factors from 260 to 288 (increasing latent factors from 64 to 92)\n",
            "  warnings.warn(\n",
            "\u001b[32m[I 2022-12-12 07:20:33,938]\u001b[0m Trial 2 finished with value: 0.07972306561122397 and parameters: {'n_factors': 96, 'regularization': 0.31000000000000005, 'n_iterationns': 18}. Best is trial 1 with value: 0.08143870805914342.\u001b[0m\n",
            "/usr/local/lib/python3.8/dist-packages/rectools/dataset/features.py:399: UserWarning: Converting sparse features to dense array may cause MemoryError\n",
            "  warnings.warn(\"Converting sparse features to dense array may cause MemoryError\")\n",
            "/usr/local/lib/python3.8/dist-packages/rectools/models/implicit_als.py:269: UserWarning: GPU training requires number of factors to be a multiple of 32. Increasing factors from 260 to 288 (increasing latent factors from 64 to 92)\n",
            "  warnings.warn(\n",
            "\u001b[32m[I 2022-12-12 07:20:34,695]\u001b[0m Trial 3 finished with value: 0.08339624395268729 and parameters: {'n_factors': 64, 'regularization': 0.31000000000000005, 'n_iterationns': 15}. Best is trial 3 with value: 0.08339624395268729.\u001b[0m\n",
            "/usr/local/lib/python3.8/dist-packages/rectools/dataset/features.py:399: UserWarning: Converting sparse features to dense array may cause MemoryError\n",
            "  warnings.warn(\"Converting sparse features to dense array may cause MemoryError\")\n",
            "/usr/local/lib/python3.8/dist-packages/rectools/models/implicit_als.py:269: UserWarning: GPU training requires number of factors to be a multiple of 32. Increasing factors from 324 to 352 (increasing latent factors from 128 to 156)\n",
            "  warnings.warn(\n",
            "\u001b[32m[I 2022-12-12 07:22:53,581]\u001b[0m Trial 4 finished with value: 0.08129198132328368 and parameters: {'n_factors': 64, 'regularization': 0.21000000000000002, 'n_iterationns': 16}. Best is trial 3 with value: 0.08339624395268729.\u001b[0m\n",
            "/usr/local/lib/python3.8/dist-packages/rectools/dataset/features.py:399: UserWarning: Converting sparse features to dense array may cause MemoryError\n",
            "  warnings.warn(\"Converting sparse features to dense array may cause MemoryError\")\n",
            "/usr/local/lib/python3.8/dist-packages/rectools/models/implicit_als.py:269: UserWarning: GPU training requires number of factors to be a multiple of 32. Increasing factors from 324 to 352 (increasing latent factors from 128 to 156)\n",
            "  warnings.warn(\n",
            "\u001b[32m[I 2022-12-12 07:23:09,984]\u001b[0m Trial 5 finished with value: 0.08246540334383995 and parameters: {'n_factors': 128, 'regularization': 0.01, 'n_iterationns': 19}. Best is trial 3 with value: 0.08339624395268729.\u001b[0m\n",
            "/usr/local/lib/python3.8/dist-packages/rectools/dataset/features.py:399: UserWarning: Converting sparse features to dense array may cause MemoryError\n",
            "  warnings.warn(\"Converting sparse features to dense array may cause MemoryError\")\n",
            "/usr/local/lib/python3.8/dist-packages/rectools/models/implicit_als.py:269: UserWarning: GPU training requires number of factors to be a multiple of 32. Increasing factors from 260 to 288 (increasing latent factors from 64 to 92)\n",
            "  warnings.warn(\n",
            "\u001b[32m[I 2022-12-12 07:25:19,950]\u001b[0m Trial 7 finished with value: 0.08332478338109679 and parameters: {'n_factors': 64, 'regularization': 0.51, 'n_iterationns': 17}. Best is trial 3 with value: 0.08339624395268729.\u001b[0m\n",
            "/usr/local/lib/python3.8/dist-packages/rectools/dataset/features.py:399: UserWarning: Converting sparse features to dense array may cause MemoryError\n",
            "  warnings.warn(\"Converting sparse features to dense array may cause MemoryError\")\n",
            "/usr/local/lib/python3.8/dist-packages/rectools/models/implicit_als.py:269: UserWarning: GPU training requires number of factors to be a multiple of 32. Increasing factors from 292 to 320 (increasing latent factors from 96 to 124)\n",
            "  warnings.warn(\n",
            "\u001b[32m[I 2022-12-12 07:25:26,314]\u001b[0m Trial 6 finished with value: 0.0822843063452536 and parameters: {'n_factors': 128, 'regularization': 0.11, 'n_iterationns': 18}. Best is trial 3 with value: 0.08339624395268729.\u001b[0m\n",
            "/usr/local/lib/python3.8/dist-packages/rectools/dataset/features.py:399: UserWarning: Converting sparse features to dense array may cause MemoryError\n",
            "  warnings.warn(\"Converting sparse features to dense array may cause MemoryError\")\n",
            "/usr/local/lib/python3.8/dist-packages/rectools/models/implicit_als.py:269: UserWarning: GPU training requires number of factors to be a multiple of 32. Increasing factors from 292 to 320 (increasing latent factors from 96 to 124)\n",
            "  warnings.warn(\n",
            "\u001b[32m[I 2022-12-12 07:27:48,294]\u001b[0m Trial 8 finished with value: 0.08278988801082503 and parameters: {'n_factors': 96, 'regularization': 0.01, 'n_iterationns': 17}. Best is trial 3 with value: 0.08339624395268729.\u001b[0m\n",
            "\u001b[32m[I 2022-12-12 07:27:48,368]\u001b[0m Trial 9 finished with value: 0.0829182187518455 and parameters: {'n_factors': 96, 'regularization': 0.31000000000000005, 'n_iterationns': 19}. Best is trial 3 with value: 0.08339624395268729.\u001b[0m\n"
          ]
        },
        {
          "output_type": "stream",
          "name": "stdout",
          "text": [
            "CPU times: user 13min 42s, sys: 8min 9s, total: 21min 51s\n",
            "Wall time: 11min 55s\n"
          ]
        }
      ]
    },
    {
      "cell_type": "code",
      "source": [
        "study.best_trials"
      ],
      "metadata": {
        "colab": {
          "base_uri": "https://localhost:8080/"
        },
        "id": "rvKlz5ps8xBX",
        "outputId": "9acfc828-5c70-4a83-a668-8cf6482910a3"
      },
      "execution_count": 44,
      "outputs": [
        {
          "output_type": "execute_result",
          "data": {
            "text/plain": [
              "[FrozenTrial(number=3, values=[0.08339624395268729], datetime_start=datetime.datetime(2022, 12, 12, 7, 18, 25, 355898), datetime_complete=datetime.datetime(2022, 12, 12, 7, 20, 34, 695740), params={'n_factors': 64, 'regularization': 0.31000000000000005, 'n_iterationns': 15}, distributions={'n_factors': IntDistribution(high=128, log=False, low=64, step=32), 'regularization': FloatDistribution(high=0.51, log=False, low=0.01, step=0.1), 'n_iterationns': IntDistribution(high=20, log=False, low=15, step=1)}, user_attrs={}, system_attrs={}, intermediate_values={}, trial_id=3, state=TrialState.COMPLETE, value=None)]"
            ]
          },
          "metadata": {},
          "execution_count": 44
        }
      ]
    },
    {
      "cell_type": "markdown",
      "source": [
        "Заносим полученные результаты"
      ],
      "metadata": {
        "id": "4ZLEYtqOZi6p"
      }
    },
    {
      "cell_type": "code",
      "source": [
        "ALS = ImplicitALSWrapperModel(\n",
        "                  model=AlternatingLeastSquares(\n",
        "                                        factors=96, \n",
        "                                        regularization=0.41000000000000003,\n",
        "                                        iterations = 15,\n",
        "                                        random_state=RANDOM_STATE, \n",
        "                                                ),\n",
        "                  fit_features_together=True,\n",
        "                              )"
      ],
      "metadata": {
        "id": "HAbBKjuA8w-F"
      },
      "execution_count": 45,
      "outputs": []
    },
    {
      "cell_type": "markdown",
      "source": [
        "### LightFm"
      ],
      "metadata": {
        "id": "Bu2NRzKOS4h0"
      }
    },
    {
      "cell_type": "code",
      "source": [
        "def objective_LFM(trial):\n",
        "\n",
        "    n_factors = trial.suggest_int(\"n_factors\", low=64, high=128, step=32)\n",
        "    loss = trial.suggest_categorical(\"loss\", choices=['logistic', 'bpr', 'warp'])\n",
        "    lr = trial.suggest_float(\"lr\", low=0.05, high=0.25, step=0.05)\n",
        "\n",
        "    model_obj = LightFMWrapperModel(\n",
        "                  model=LightFM(\n",
        "                                no_components=n_factors, \n",
        "                                loss=loss,\n",
        "                                learning_rate=lr,\n",
        "                                random_state=RANDOM_STATE,\n",
        "                                ),\n",
        "                  epochs=2,\n",
        "                  num_threads=1\n",
        "                                  )\n",
        "\n",
        "    model_obj.fit(dataset)\n",
        "    \n",
        "    recos = model_obj.recommend(\n",
        "                                users=test_users,\n",
        "                                dataset=dataset,\n",
        "                                k=K_RECOS,\n",
        "                                filter_viewed=True,\n",
        "                                )\n",
        "    metric_values = calc_metrics(metrics, recos, test, train)\n",
        "\n",
        "    return metric_values['MAP@10']"
      ],
      "metadata": {
        "id": "9Jxyl9n88w6e"
      },
      "execution_count": 46,
      "outputs": []
    },
    {
      "cell_type": "code",
      "source": [
        "%%time\n",
        "study = optuna.create_study(directions=[\"maximize\"])\n",
        "study.optimize(objective_LFM, n_trials=10, n_jobs=-1)"
      ],
      "metadata": {
        "colab": {
          "base_uri": "https://localhost:8080/"
        },
        "id": "08FGbSzoTGyF",
        "outputId": "f42113c1-9d4c-4231-b9ba-78dae98d5d7d"
      },
      "execution_count": 47,
      "outputs": [
        {
          "output_type": "stream",
          "name": "stderr",
          "text": [
            "\u001b[32m[I 2022-12-12 07:27:48,425]\u001b[0m A new study created in memory with name: no-name-3c90437d-27df-48c2-bca8-28b56afc7528\u001b[0m\n",
            "\u001b[32m[I 2022-12-12 07:29:21,268]\u001b[0m Trial 1 finished with value: 0.0004547401680766152 and parameters: {'n_factors': 96, 'loss': 'logistic', 'lr': 0.15000000000000002}. Best is trial 1 with value: 0.0004547401680766152.\u001b[0m\n",
            "\u001b[32m[I 2022-12-12 07:30:01,574]\u001b[0m Trial 0 finished with value: 0.014967926810575882 and parameters: {'n_factors': 128, 'loss': 'warp', 'lr': 0.15000000000000002}. Best is trial 0 with value: 0.014967926810575882.\u001b[0m\n",
            "\u001b[32m[I 2022-12-12 07:30:46,903]\u001b[0m Trial 2 finished with value: 0.017089190090247668 and parameters: {'n_factors': 64, 'loss': 'warp', 'lr': 0.15000000000000002}. Best is trial 2 with value: 0.017089190090247668.\u001b[0m\n",
            "\u001b[32m[I 2022-12-12 07:31:46,257]\u001b[0m Trial 3 finished with value: 0.06439811859175822 and parameters: {'n_factors': 96, 'loss': 'warp', 'lr': 0.1}. Best is trial 3 with value: 0.06439811859175822.\u001b[0m\n",
            "\u001b[32m[I 2022-12-12 07:32:58,996]\u001b[0m Trial 4 finished with value: 0.02815544494813477 and parameters: {'n_factors': 96, 'loss': 'bpr', 'lr': 0.05}. Best is trial 3 with value: 0.06439811859175822.\u001b[0m\n",
            "\u001b[32m[I 2022-12-12 07:33:31,447]\u001b[0m Trial 5 finished with value: 0.005190026592907653 and parameters: {'n_factors': 64, 'loss': 'bpr', 'lr': 0.25}. Best is trial 3 with value: 0.06439811859175822.\u001b[0m\n",
            "\u001b[32m[I 2022-12-12 07:34:37,493]\u001b[0m Trial 6 finished with value: 0.0763618029687734 and parameters: {'n_factors': 96, 'loss': 'warp', 'lr': 0.05}. Best is trial 6 with value: 0.0763618029687734.\u001b[0m\n",
            "\u001b[32m[I 2022-12-12 07:35:40,519]\u001b[0m Trial 7 finished with value: 0.014967926810575882 and parameters: {'n_factors': 128, 'loss': 'warp', 'lr': 0.15000000000000002}. Best is trial 6 with value: 0.0763618029687734.\u001b[0m\n",
            "\u001b[32m[I 2022-12-12 07:36:18,557]\u001b[0m Trial 8 finished with value: 0.024144820909813524 and parameters: {'n_factors': 64, 'loss': 'bpr', 'lr': 0.15000000000000002}. Best is trial 6 with value: 0.0763618029687734.\u001b[0m\n",
            "\u001b[32m[I 2022-12-12 07:36:58,804]\u001b[0m Trial 9 finished with value: 6.304824622571544e-06 and parameters: {'n_factors': 96, 'loss': 'warp', 'lr': 0.2}. Best is trial 6 with value: 0.0763618029687734.\u001b[0m\n"
          ]
        },
        {
          "output_type": "stream",
          "name": "stdout",
          "text": [
            "CPU times: user 12min 53s, sys: 4min 43s, total: 17min 36s\n",
            "Wall time: 9min 10s\n"
          ]
        }
      ]
    },
    {
      "cell_type": "code",
      "source": [
        "study.best_trials"
      ],
      "metadata": {
        "colab": {
          "base_uri": "https://localhost:8080/"
        },
        "id": "Sb0qvla6TSy7",
        "outputId": "1e8e5f0f-1bc4-4860-80cf-9ed1de832edb"
      },
      "execution_count": 48,
      "outputs": [
        {
          "output_type": "execute_result",
          "data": {
            "text/plain": [
              "[FrozenTrial(number=6, values=[0.0763618029687734], datetime_start=datetime.datetime(2022, 12, 12, 7, 32, 59, 4655), datetime_complete=datetime.datetime(2022, 12, 12, 7, 34, 37, 493221), params={'n_factors': 96, 'loss': 'warp', 'lr': 0.05}, distributions={'n_factors': IntDistribution(high=128, log=False, low=64, step=32), 'loss': CategoricalDistribution(choices=('logistic', 'bpr', 'warp')), 'lr': FloatDistribution(high=0.25, log=False, low=0.05, step=0.05)}, user_attrs={}, system_attrs={}, intermediate_values={}, trial_id=6, state=TrialState.COMPLETE, value=None)]"
            ]
          },
          "metadata": {},
          "execution_count": 48
        }
      ]
    },
    {
      "cell_type": "markdown",
      "source": [
        "Заносим полученные результаты"
      ],
      "metadata": {
        "id": "K9QJ5jp7dNqm"
      }
    },
    {
      "cell_type": "code",
      "source": [
        "LFM = LightFMWrapperModel(\n",
        "                model=LightFM(\n",
        "                              no_components=64, \n",
        "                              loss='warp',\n",
        "                              learning_rate=0.05,\n",
        "                              random_state=RANDOM_STATE,\n",
        "                              ),\n",
        "                epochs=2,\n",
        "                num_threads=1\n",
        "                          )"
      ],
      "metadata": {
        "id": "A4M-LTfkTUci"
      },
      "execution_count": 49,
      "outputs": []
    },
    {
      "cell_type": "markdown",
      "source": [
        "### Сравнение моделей"
      ],
      "metadata": {
        "id": "VbtWWeEvScKt"
      }
    },
    {
      "cell_type": "code",
      "execution_count": 50,
      "metadata": {
        "id": "O260-XWyD56k"
      },
      "outputs": [],
      "source": [
        "models = {\n",
        "    'popular': PopularModel(),\n",
        "    'ALS': ALS,\n",
        "    'LFM': LFM\n",
        "}"
      ]
    },
    {
      "cell_type": "code",
      "execution_count": 51,
      "metadata": {
        "id": "E8qhB5veD56l",
        "outputId": "cace6767-ebe4-4a93-a8d5-56d99549644a",
        "colab": {
          "base_uri": "https://localhost:8080/"
        }
      },
      "outputs": [
        {
          "output_type": "execute_result",
          "data": {
            "text/plain": [
              "{'popular': <rectools.models.popular.PopularModel at 0x7faafaebcaf0>,\n",
              " 'ALS': <rectools.models.implicit_als.ImplicitALSWrapperModel at 0x7faafaebc340>,\n",
              " 'LFM': <rectools.models.lightfm.LightFMWrapperModel at 0x7faafaeac610>}"
            ]
          },
          "metadata": {},
          "execution_count": 51
        }
      ],
      "source": [
        "models"
      ]
    },
    {
      "cell_type": "code",
      "execution_count": 52,
      "metadata": {
        "id": "opLKicLSD56l",
        "outputId": "f8b830b8-c294-4fa8-e027-ac6c853e3fb0",
        "colab": {
          "base_uri": "https://localhost:8080/"
        }
      },
      "outputs": [
        {
          "output_type": "stream",
          "name": "stdout",
          "text": [
            "Fitting model popular...\n",
            "Fitting model ALS...\n"
          ]
        },
        {
          "output_type": "stream",
          "name": "stderr",
          "text": [
            "/usr/local/lib/python3.8/dist-packages/rectools/dataset/features.py:399: UserWarning: Converting sparse features to dense array may cause MemoryError\n",
            "  warnings.warn(\"Converting sparse features to dense array may cause MemoryError\")\n",
            "/usr/local/lib/python3.8/dist-packages/rectools/models/implicit_als.py:269: UserWarning: GPU training requires number of factors to be a multiple of 32. Increasing factors from 292 to 320 (increasing latent factors from 96 to 124)\n",
            "  warnings.warn(\n"
          ]
        },
        {
          "output_type": "stream",
          "name": "stdout",
          "text": [
            "Fitting model LFM...\n",
            "CPU times: user 1min 37s, sys: 26.8 s, total: 2min 4s\n",
            "Wall time: 1min 16s\n"
          ]
        }
      ],
      "source": [
        "%%time\n",
        "results = []\n",
        "for model_name, model in models.items():\n",
        "    print(f\"Fitting model {model_name}...\")\n",
        "    model_quality = {'model': model_name}\n",
        "\n",
        "    model.fit(dataset)\n",
        "    recos = model.recommend(\n",
        "        users=test_users,\n",
        "        dataset=dataset,\n",
        "        k=K_RECOS,\n",
        "        filter_viewed=True,\n",
        "    )\n",
        "    metric_values = calc_metrics(metrics, recos, test, train)\n",
        "    model_quality.update(metric_values)\n",
        "    results.append(model_quality)"
      ]
    },
    {
      "cell_type": "code",
      "execution_count": 53,
      "metadata": {
        "id": "UVmDhoiOD56l"
      },
      "outputs": [],
      "source": [
        "df_quality = pd.DataFrame(results).T\n",
        "df_quality.columns = df_quality.iloc[0]\n",
        "df_quality = df_quality.drop('model')"
      ]
    },
    {
      "cell_type": "code",
      "execution_count": 54,
      "metadata": {
        "id": "I79Hi7UjD56l",
        "outputId": "4ff73925-09ab-4433-dbb5-780c9570c4f1",
        "colab": {
          "base_uri": "https://localhost:8080/",
          "height": 143
        }
      },
      "outputs": [
        {
          "output_type": "execute_result",
          "data": {
            "text/plain": [
              "<pandas.io.formats.style.Styler at 0x7faafaeac8b0>"
            ],
            "text/html": [
              "<style type=\"text/css\">\n",
              "#T_13654_row0_col2, #T_13654_row1_col0, #T_13654_row2_col1 {\n",
              "  background-color: red;\n",
              "}\n",
              "</style>\n",
              "<table id=\"T_13654_\" class=\"dataframe\">\n",
              "  <thead>\n",
              "    <tr>\n",
              "      <th class=\"index_name level0\" >model</th>\n",
              "      <th class=\"col_heading level0 col0\" >popular</th>\n",
              "      <th class=\"col_heading level0 col1\" >ALS</th>\n",
              "      <th class=\"col_heading level0 col2\" >LFM</th>\n",
              "    </tr>\n",
              "  </thead>\n",
              "  <tbody>\n",
              "    <tr>\n",
              "      <th id=\"T_13654_level0_row0\" class=\"row_heading level0 row0\" >precision@10</th>\n",
              "      <td id=\"T_13654_row0_col0\" class=\"data row0 col0\" >0.039748</td>\n",
              "      <td id=\"T_13654_row0_col1\" class=\"data row0 col1\" >0.039314</td>\n",
              "      <td id=\"T_13654_row0_col2\" class=\"data row0 col2\" >0.039940</td>\n",
              "    </tr>\n",
              "    <tr>\n",
              "      <th id=\"T_13654_level0_row1\" class=\"row_heading level0 row1\" >recall@10</th>\n",
              "      <td id=\"T_13654_row1_col0\" class=\"data row1 col0\" >0.161997</td>\n",
              "      <td id=\"T_13654_row1_col1\" class=\"data row1 col1\" >0.158501</td>\n",
              "      <td id=\"T_13654_row1_col2\" class=\"data row1 col2\" >0.156127</td>\n",
              "    </tr>\n",
              "    <tr>\n",
              "      <th id=\"T_13654_level0_row2\" class=\"row_heading level0 row2\" >MAP@10</th>\n",
              "      <td id=\"T_13654_row2_col0\" class=\"data row2 col0\" >0.080036</td>\n",
              "      <td id=\"T_13654_row2_col1\" class=\"data row2 col1\" >0.082977</td>\n",
              "      <td id=\"T_13654_row2_col2\" class=\"data row2 col2\" >0.076772</td>\n",
              "    </tr>\n",
              "  </tbody>\n",
              "</table>\n"
            ]
          },
          "metadata": {},
          "execution_count": 54
        }
      ],
      "source": [
        "df_quality.style.highlight_max(color='red', axis=1)"
      ]
    },
    {
      "cell_type": "markdown",
      "source": [
        "### Вывод"
      ],
      "metadata": {
        "id": "Z5t4wgspVscP"
      }
    },
    {
      "cell_type": "markdown",
      "source": [
        "Как видно из таблицы, лучше на кусочке датасета справилась модель ALS. На это также повлиял подбор гиперпараметров моделей, учивая учебный характер работы, количество итераций и диапазон параметров выбирался, чтобы минимизировать время подбора и уложится в 15минут."
      ],
      "metadata": {
        "id": "a7kgi0r6VzJJ"
      }
    },
    {
      "cell_type": "markdown",
      "source": [
        "---"
      ],
      "metadata": {
        "id": "QqVtLjM5Vqo7"
      }
    },
    {
      "cell_type": "markdown",
      "source": [
        "# Вторая часть задания"
      ],
      "metadata": {
        "id": "PqOt8n5VfsyW"
      }
    },
    {
      "cell_type": "markdown",
      "source": [
        "- Воспользоваться методом приближенного поиска соседей для выдачи рекомендаций. **(3 балла)**"
      ],
      "metadata": {
        "id": "vdC9igjEhWZo"
      }
    },
    {
      "cell_type": "markdown",
      "metadata": {
        "id": "Hh-LEbiOD56l"
      },
      "source": [
        "## Approximate Nearest Neighbors "
      ]
    },
    {
      "cell_type": "code",
      "execution_count": 55,
      "metadata": {
        "id": "zHEUvpdlD56l"
      },
      "outputs": [],
      "source": [
        "import nmslib"
      ]
    },
    {
      "cell_type": "markdown",
      "metadata": {
        "id": "_Qot4XaAD56l"
      },
      "source": [
        "## HNSW algorithm parameters\n",
        "\n",
        "### Search parameters:\n",
        "* ```ef``` - the size of the dynamic list for the nearest neighbors (used during the search). Higher ```ef```\n",
        "leads to more accurate but slower search. ```ef``` cannot be set lower than the number of queried nearest neighbors\n",
        "```k```. The value ```ef``` of can be anything between ```k``` and the size of the dataset.\n",
        "* ```k``` number of nearest neighbors to be returned as the result.\n",
        "The ```knn_query``` function returns two numpy arrays, containing labels and distances to the k found nearest \n",
        "elements for the queries. Note that in case the algorithm is not be able to find ```k``` neighbors to all of the queries,\n",
        "(this can be due to problems with graph or ```k```>size of the dataset) an exception is thrown.\n",
        "\n",
        "\n",
        "### Construction parameters:\n",
        "* ```M``` - the number of bi-directional links created for every new element during construction. Reasonable range for ```M``` \n",
        "is 2-100. Higher ```M``` work better on datasets with high intrinsic dimensionality and/or high recall, while low ```M``` work \n",
        "better for datasets with low intrinsic dimensionality and/or low recalls. The parameter also determines the algorithm's memory \n",
        "consumption, which is roughly ```M * 8-10``` bytes per stored element.  \n",
        "As an example for ```dim```=4 random vectors optimal ```M``` for search is somewhere around 6, while for high dimensional datasets \n",
        "(word embeddings, good face descriptors), higher ```M``` are required (e.g. ```M```=48-64) for optimal performance at high recall. \n",
        "The range ```M```=12-48 is ok for the most of the use cases. When ```M``` is changed one has to update the other parameters. \n",
        "Nonetheless, ef and ef_construction parameters can be roughly estimated by assuming that ```M```*```ef_{construction}``` is \n",
        "a constant.\n",
        "\n",
        "* ```ef_construction``` - the parameter has the same meaning as ```ef```, but controls the index_time/index_accuracy. Bigger \n",
        "ef_construction leads to longer construction, but better index quality. At some point, increasing ef_construction does\n",
        "not improve the quality of the index. One way to check if the selection of ef_construction was ok is to measure a recall \n",
        "for M nearest neighbor search when ```ef``` =```ef_construction```: if the recall is lower than 0.9, than there is room \n",
        "for improvement.\n",
        "* ```num_elements``` - defines the maximum number of elements in the index. The index can be extened by saving/loading(load_index\n",
        "function has a parameter which defines the new maximum number of elements).\n",
        "\n",
        "Еще источники: \n",
        "- [Nmslib Docs](https://github.com/nmslib/nmslib/blob/master/manual/methods.md)\n",
        "- [Pinecone Vector Indexes](https://www.pinecone.io/learn/vector-indexes/)"
      ]
    },
    {
      "cell_type": "markdown",
      "metadata": {
        "id": "Rp1NsQylD56m"
      },
      "source": [
        "<img src=\"https://d33wubrfki0l68.cloudfront.net/4c635fabb268a4af60109a506300a2dfda612063/d2535/images/similarity-search-indexes17.jpg\">"
      ]
    },
    {
      "cell_type": "markdown",
      "metadata": {
        "id": "uAhsqWAbD56m"
      },
      "source": [
        "<img src=\"https://d33wubrfki0l68.cloudfront.net/96d80cd46c2d12df99c044c860a8a5fb00cf6376/d59ca/images/similarity-search-indexes18.jpg\">"
      ]
    },
    {
      "cell_type": "code",
      "execution_count": 56,
      "metadata": {
        "id": "OkuLIdT0D56m"
      },
      "outputs": [],
      "source": [
        "import time"
      ]
    },
    {
      "cell_type": "code",
      "source": [
        "model"
      ],
      "metadata": {
        "colab": {
          "base_uri": "https://localhost:8080/"
        },
        "id": "fW4fXXCYeiVc",
        "outputId": "3f8a6b3c-4ff8-4b92-92a4-09c802e1b3e0"
      },
      "execution_count": 57,
      "outputs": [
        {
          "output_type": "execute_result",
          "data": {
            "text/plain": [
              "<rectools.models.lightfm.LightFMWrapperModel at 0x7faafaeac610>"
            ]
          },
          "metadata": {},
          "execution_count": 57
        }
      ]
    },
    {
      "cell_type": "code",
      "execution_count": 58,
      "metadata": {
        "id": "ZabtmtWTD56m"
      },
      "outputs": [],
      "source": [
        "user_embeddings, item_embeddings = model.get_vectors(dataset)"
      ]
    },
    {
      "cell_type": "code",
      "execution_count": 59,
      "metadata": {
        "id": "GjCvvNuAD56m",
        "outputId": "59a59a87-54c6-4d26-e1eb-51198169a72a",
        "colab": {
          "base_uri": "https://localhost:8080/"
        }
      },
      "outputs": [
        {
          "output_type": "execute_result",
          "data": {
            "text/plain": [
              "((164028, 66), (10923, 66))"
            ]
          },
          "metadata": {},
          "execution_count": 59
        }
      ],
      "source": [
        "user_embeddings.shape, item_embeddings.shape"
      ]
    },
    {
      "cell_type": "code",
      "execution_count": 60,
      "metadata": {
        "id": "Putwi4zSD56m"
      },
      "outputs": [],
      "source": [
        "def augment_inner_product(factors):\n",
        "    normed_factors = np.linalg.norm(factors, axis=1)\n",
        "    max_norm = normed_factors.max()\n",
        "    \n",
        "    extra_dim = np.sqrt(max_norm ** 2 - normed_factors ** 2).reshape(-1, 1)\n",
        "    augmented_factors = np.append(factors, extra_dim, axis=1)\n",
        "    return max_norm, augmented_factors"
      ]
    },
    {
      "cell_type": "code",
      "execution_count": 61,
      "metadata": {
        "id": "oioPAmcMD56m",
        "outputId": "9e4eb705-ea5b-4065-b321-89f1d41940a2",
        "colab": {
          "base_uri": "https://localhost:8080/"
        }
      },
      "outputs": [
        {
          "output_type": "stream",
          "name": "stdout",
          "text": [
            "pre shape:  (10923, 66)\n"
          ]
        },
        {
          "output_type": "execute_result",
          "data": {
            "text/plain": [
              "(10923, 67)"
            ]
          },
          "metadata": {},
          "execution_count": 61
        }
      ],
      "source": [
        "print('pre shape: ', item_embeddings.shape)\n",
        "max_norm, augmented_item_embeddings = augment_inner_product(item_embeddings)\n",
        "augmented_item_embeddings.shape"
      ]
    },
    {
      "cell_type": "code",
      "execution_count": 62,
      "metadata": {
        "id": "qf0arN7dD56m",
        "outputId": "eef0e241-8ba3-4691-93a7-c1c32930f42a",
        "colab": {
          "base_uri": "https://localhost:8080/"
        }
      },
      "outputs": [
        {
          "output_type": "execute_result",
          "data": {
            "text/plain": [
              "(164028, 67)"
            ]
          },
          "metadata": {},
          "execution_count": 62
        }
      ],
      "source": [
        "extra_zero = np.zeros((user_embeddings.shape[0], 1))\n",
        "augmented_user_embeddings = np.append(user_embeddings, extra_zero, axis=1)\n",
        "augmented_user_embeddings.shape"
      ]
    },
    {
      "cell_type": "code",
      "execution_count": 63,
      "metadata": {
        "id": "QoylWMcyD56m"
      },
      "outputs": [],
      "source": [
        "user_id = 30"
      ]
    },
    {
      "cell_type": "code",
      "execution_count": 64,
      "metadata": {
        "id": "Qn4OZeqtD56n",
        "outputId": "4f629ae0-d01b-46aa-a7df-873600b597da",
        "colab": {
          "base_uri": "https://localhost:8080/"
        }
      },
      "outputs": [
        {
          "output_type": "execute_result",
          "data": {
            "text/plain": [
              "array([-1.59771423e+02,  1.00000000e+00, -5.56216165e-02, -4.64792997e-02,\n",
              "        1.30138129e-01,  1.53311104e-01,  2.34122545e-01, -2.53335148e-01,\n",
              "        3.33680995e-02,  1.46806359e-01,  2.45155215e-01,  1.31152704e-01,\n",
              "       -1.31818563e-01,  6.23928010e-03,  2.47402415e-02, -5.68863526e-02,\n",
              "       -2.47519210e-01, -2.54685462e-01,  1.59820303e-01,  1.54541016e-01,\n",
              "        1.56995028e-01,  1.51237458e-01, -1.91981524e-01,  2.82042801e-01,\n",
              "        2.33061612e-04, -1.60121247e-01,  3.03198516e-01, -3.93469661e-01,\n",
              "        5.70290610e-02, -3.37728262e-01,  8.29877555e-02,  1.03017211e-01,\n",
              "       -3.11132133e-01,  2.65858740e-01,  1.28414810e-01,  7.21396208e-02,\n",
              "       -2.07272410e-01,  5.64156659e-03,  6.42190427e-02,  6.43020198e-02,\n",
              "        1.33041851e-02, -7.25318864e-02, -3.90876532e-02, -9.16699022e-02,\n",
              "        1.33536205e-01, -9.66947824e-02,  1.82479575e-01, -3.23576510e-01,\n",
              "       -7.55766332e-02, -9.22435671e-02,  1.12079725e-01,  7.36328214e-03,\n",
              "       -1.09877594e-01, -1.80928811e-01,  1.65776193e-01,  2.84979165e-01,\n",
              "       -7.32013062e-02,  1.23729512e-01, -1.26686528e-01,  1.67325020e-01,\n",
              "        1.81694239e-01, -1.68495178e-01, -2.94598877e-01,  1.43817887e-01,\n",
              "       -2.49494791e-01,  2.90916800e-01])"
            ]
          },
          "metadata": {},
          "execution_count": 64
        }
      ],
      "source": [
        "user_embeddings[user_id]"
      ]
    },
    {
      "cell_type": "code",
      "execution_count": 65,
      "metadata": {
        "id": "GB-bEr4yD56n",
        "outputId": "99c019ac-0525-4f90-f0c6-d8f0a092c1b6",
        "colab": {
          "base_uri": "https://localhost:8080/"
        }
      },
      "outputs": [
        {
          "output_type": "execute_result",
          "data": {
            "text/plain": [
              "array([-1.59771423e+02,  1.00000000e+00, -5.56216165e-02, -4.64792997e-02,\n",
              "        1.30138129e-01,  1.53311104e-01,  2.34122545e-01, -2.53335148e-01,\n",
              "        3.33680995e-02,  1.46806359e-01,  2.45155215e-01,  1.31152704e-01,\n",
              "       -1.31818563e-01,  6.23928010e-03,  2.47402415e-02, -5.68863526e-02,\n",
              "       -2.47519210e-01, -2.54685462e-01,  1.59820303e-01,  1.54541016e-01,\n",
              "        1.56995028e-01,  1.51237458e-01, -1.91981524e-01,  2.82042801e-01,\n",
              "        2.33061612e-04, -1.60121247e-01,  3.03198516e-01, -3.93469661e-01,\n",
              "        5.70290610e-02, -3.37728262e-01,  8.29877555e-02,  1.03017211e-01,\n",
              "       -3.11132133e-01,  2.65858740e-01,  1.28414810e-01,  7.21396208e-02,\n",
              "       -2.07272410e-01,  5.64156659e-03,  6.42190427e-02,  6.43020198e-02,\n",
              "        1.33041851e-02, -7.25318864e-02, -3.90876532e-02, -9.16699022e-02,\n",
              "        1.33536205e-01, -9.66947824e-02,  1.82479575e-01, -3.23576510e-01,\n",
              "       -7.55766332e-02, -9.22435671e-02,  1.12079725e-01,  7.36328214e-03,\n",
              "       -1.09877594e-01, -1.80928811e-01,  1.65776193e-01,  2.84979165e-01,\n",
              "       -7.32013062e-02,  1.23729512e-01, -1.26686528e-01,  1.67325020e-01,\n",
              "        1.81694239e-01, -1.68495178e-01, -2.94598877e-01,  1.43817887e-01,\n",
              "       -2.49494791e-01,  2.90916800e-01,  0.00000000e+00])"
            ]
          },
          "metadata": {},
          "execution_count": 65
        }
      ],
      "source": [
        "augmented_user_embeddings[user_id]"
      ]
    },
    {
      "cell_type": "code",
      "execution_count": 66,
      "metadata": {
        "id": "hFLD0FPSD56n"
      },
      "outputs": [],
      "source": [
        "item_id = 0"
      ]
    },
    {
      "cell_type": "code",
      "execution_count": 67,
      "metadata": {
        "id": "vBvnjbOdD56n",
        "outputId": "edc8287e-f8ed-4125-d232-c9740077fe7b",
        "colab": {
          "base_uri": "https://localhost:8080/"
        }
      },
      "outputs": [
        {
          "output_type": "execute_result",
          "data": {
            "text/plain": [
              "array([ 1.00000000e+00, -8.97430778e-01, -3.00629884e-01, -1.01674497e+00,\n",
              "       -4.35178339e-01, -2.09030986e-01, -3.59013408e-01,  6.52885854e-01,\n",
              "       -1.96654901e-01,  2.90212810e-01, -2.26102531e-01, -5.38863800e-02,\n",
              "        2.69196838e-01,  6.87581375e-02,  9.16260362e-01,  5.23185909e-01,\n",
              "       -3.42100337e-02,  9.84004810e-02, -1.16481781e+00,  2.37992644e-01,\n",
              "        2.47852355e-01,  7.61459827e-01,  1.78273469e-01, -1.07198167e+00,\n",
              "        6.77900910e-02,  5.23971379e-01, -1.98327973e-01,  5.73036313e-01,\n",
              "       -9.46981668e-01,  2.22669542e-01, -2.56788641e-01,  1.39433071e-02,\n",
              "        1.81689411e-01,  1.30118108e+00,  8.75966907e-01,  3.21544036e-02,\n",
              "        4.59409148e-01,  2.79437542e-01, -6.23002172e-01, -1.37834978e+00,\n",
              "       -3.73366326e-01,  7.34697700e-01, -5.77590466e-01,  1.90247715e-01,\n",
              "       -5.78223646e-01,  4.44867343e-01,  3.79820079e-01, -5.34953952e-01,\n",
              "        6.81248903e-01,  5.91714904e-02,  2.74457633e-01, -6.28490806e-01,\n",
              "        2.12341380e+00, -4.20238525e-02, -4.34858680e-01,  1.81519985e-03,\n",
              "       -8.88166308e-01, -7.71144331e-02,  8.17525685e-02, -1.88653007e-01,\n",
              "       -5.54906130e-01,  1.14375405e-01,  2.14649573e-01, -1.10497855e-01,\n",
              "        5.01369536e-01, -2.64328659e-01])"
            ]
          },
          "metadata": {},
          "execution_count": 67
        }
      ],
      "source": [
        "item_embeddings[item_id]"
      ]
    },
    {
      "cell_type": "code",
      "execution_count": 68,
      "metadata": {
        "id": "qKr7U-y8D56n",
        "outputId": "8375633a-04ed-43b8-a75c-226479e31aa3",
        "colab": {
          "base_uri": "https://localhost:8080/"
        }
      },
      "outputs": [
        {
          "output_type": "execute_result",
          "data": {
            "text/plain": [
              "array([ 1.00000000e+00, -8.97430778e-01, -3.00629884e-01, -1.01674497e+00,\n",
              "       -4.35178339e-01, -2.09030986e-01, -3.59013408e-01,  6.52885854e-01,\n",
              "       -1.96654901e-01,  2.90212810e-01, -2.26102531e-01, -5.38863800e-02,\n",
              "        2.69196838e-01,  6.87581375e-02,  9.16260362e-01,  5.23185909e-01,\n",
              "       -3.42100337e-02,  9.84004810e-02, -1.16481781e+00,  2.37992644e-01,\n",
              "        2.47852355e-01,  7.61459827e-01,  1.78273469e-01, -1.07198167e+00,\n",
              "        6.77900910e-02,  5.23971379e-01, -1.98327973e-01,  5.73036313e-01,\n",
              "       -9.46981668e-01,  2.22669542e-01, -2.56788641e-01,  1.39433071e-02,\n",
              "        1.81689411e-01,  1.30118108e+00,  8.75966907e-01,  3.21544036e-02,\n",
              "        4.59409148e-01,  2.79437542e-01, -6.23002172e-01, -1.37834978e+00,\n",
              "       -3.73366326e-01,  7.34697700e-01, -5.77590466e-01,  1.90247715e-01,\n",
              "       -5.78223646e-01,  4.44867343e-01,  3.79820079e-01, -5.34953952e-01,\n",
              "        6.81248903e-01,  5.91714904e-02,  2.74457633e-01, -6.28490806e-01,\n",
              "        2.12341380e+00, -4.20238525e-02, -4.34858680e-01,  1.81519985e-03,\n",
              "       -8.88166308e-01, -7.71144331e-02,  8.17525685e-02, -1.88653007e-01,\n",
              "       -5.54906130e-01,  1.14375405e-01,  2.14649573e-01, -1.10497855e-01,\n",
              "        5.01369536e-01, -2.64328659e-01,  4.64963023e+00])"
            ]
          },
          "metadata": {},
          "execution_count": 68
        }
      ],
      "source": [
        "augmented_item_embeddings[item_id]"
      ]
    },
    {
      "cell_type": "code",
      "execution_count": 69,
      "metadata": {
        "id": "jZYlXxavD56n",
        "outputId": "acee5aa1-cfe2-4e9c-ac99-741dd882198d",
        "colab": {
          "base_uri": "https://localhost:8080/"
        }
      },
      "outputs": [
        {
          "output_type": "stream",
          "name": "stdout",
          "text": [
            "Index-time parameters {'M': 48, 'indexThreadQty': 4, 'efConstruction': 100, 'post': 0}\n"
          ]
        }
      ],
      "source": [
        "# Set index parameters\n",
        "# These are the most important ones\n",
        "M = 48\n",
        "efC = 100\n",
        "\n",
        "num_threads = 4\n",
        "index_time_params = {'M': M, 'indexThreadQty': num_threads, 'efConstruction': efC, 'post' : 0}\n",
        "print('Index-time parameters', index_time_params)"
      ]
    },
    {
      "cell_type": "code",
      "execution_count": 70,
      "metadata": {
        "id": "FSS22XZVD56n"
      },
      "outputs": [],
      "source": [
        "# Number of neighbors \n",
        "K=10"
      ]
    },
    {
      "cell_type": "code",
      "execution_count": 71,
      "metadata": {
        "id": "N1MxZ2w1D56n"
      },
      "outputs": [],
      "source": [
        "# Space name should correspond to the space name \n",
        "# used for brute-force search\n",
        "space_name='negdotprod'"
      ]
    },
    {
      "cell_type": "code",
      "execution_count": 72,
      "metadata": {
        "id": "wAyOwkhHD56n",
        "outputId": "813eeb68-ac25-42c0-89d2-535c14913f84",
        "colab": {
          "base_uri": "https://localhost:8080/"
        }
      },
      "outputs": [
        {
          "output_type": "execute_result",
          "data": {
            "text/plain": [
              "10923"
            ]
          },
          "metadata": {},
          "execution_count": 72
        }
      ],
      "source": [
        "# Intitialize the library, specify the space, the type of the vector and add data points \n",
        "index = nmslib.init(method='hnsw', space=space_name, data_type=nmslib.DataType.DENSE_VECTOR) \n",
        "index.addDataPointBatch(augmented_item_embeddings) "
      ]
    },
    {
      "cell_type": "code",
      "execution_count": 73,
      "metadata": {
        "id": "VoJ_S06fD56n",
        "outputId": "363cd02a-f980-475f-cb5b-4810f423641d",
        "colab": {
          "base_uri": "https://localhost:8080/"
        }
      },
      "outputs": [
        {
          "output_type": "execute_result",
          "data": {
            "text/plain": [
              "<nmslib.FloatIndex method='hnsw' space='negdotprod' at 0x7457d800>"
            ]
          },
          "metadata": {},
          "execution_count": 73
        }
      ],
      "source": [
        "index"
      ]
    },
    {
      "cell_type": "code",
      "execution_count": 74,
      "metadata": {
        "id": "JPGpdpr5D56n",
        "outputId": "b50fcae2-71f5-4b28-bc30-df851c76e42d",
        "colab": {
          "base_uri": "https://localhost:8080/"
        }
      },
      "outputs": [
        {
          "output_type": "stream",
          "name": "stdout",
          "text": [
            "Index-time parameters {'M': 48, 'indexThreadQty': 4, 'efConstruction': 100}\n",
            "Indexing time = 0.591288\n"
          ]
        }
      ],
      "source": [
        "# Create an index\n",
        "start = time.time()\n",
        "index_time_params = {'M': M, 'indexThreadQty': num_threads, 'efConstruction': efC}\n",
        "index.createIndex(index_time_params) \n",
        "end = time.time() \n",
        "print('Index-time parameters', index_time_params)\n",
        "print('Indexing time = %f' % (end-start))"
      ]
    },
    {
      "cell_type": "code",
      "execution_count": 75,
      "metadata": {
        "id": "fa0tLmi7D56o",
        "outputId": "81ab6580-100d-4db0-e143-8c6d11e11d3a",
        "colab": {
          "base_uri": "https://localhost:8080/"
        }
      },
      "outputs": [
        {
          "output_type": "stream",
          "name": "stdout",
          "text": [
            "Setting query-time parameters {'efSearch': 100}\n"
          ]
        }
      ],
      "source": [
        "# Setting query-time parameters\n",
        "efS = 100\n",
        "query_time_params = {'efSearch': efS}\n",
        "print('Setting query-time parameters', query_time_params)\n",
        "index.setQueryTimeParams(query_time_params)"
      ]
    },
    {
      "cell_type": "code",
      "execution_count": 76,
      "metadata": {
        "id": "1XtuWMJVD56o"
      },
      "outputs": [],
      "source": [
        "query_matrix = augmented_user_embeddings[:1000, :]"
      ]
    },
    {
      "cell_type": "code",
      "execution_count": 77,
      "metadata": {
        "id": "D7LyGfpzD56o",
        "outputId": "1cc823b0-f1ae-48a4-8e04-6ff17e568b89",
        "colab": {
          "base_uri": "https://localhost:8080/"
        }
      },
      "outputs": [
        {
          "output_type": "stream",
          "name": "stdout",
          "text": [
            "kNN time total=0.045512 (sec), per query=0.000046 (sec), per query adjusted for thread number=0.000182 (sec)\n"
          ]
        }
      ],
      "source": [
        "# Querying\n",
        "query_qty = query_matrix.shape[0]\n",
        "start = time.time() \n",
        "nbrs = index.knnQueryBatch(query_matrix, k = K, num_threads = num_threads)\n",
        "end = time.time() \n",
        "print('kNN time total=%f (sec), per query=%f (sec), per query adjusted for thread number=%f (sec)' % \n",
        "      (end-start, float(end-start)/query_qty, num_threads*float(end-start)/query_qty)) "
      ]
    },
    {
      "cell_type": "code",
      "execution_count": 78,
      "metadata": {
        "id": "AuO72O5ND56o",
        "outputId": "e666a476-742e-4a90-a857-fddc3863b79d",
        "colab": {
          "base_uri": "https://localhost:8080/"
        }
      },
      "outputs": [
        {
          "output_type": "execute_result",
          "data": {
            "text/plain": [
              "(array([10683,  2094,  2962,  5044,  1938,  9491,  8568,  4401,  7759,\n",
              "         8607], dtype=int32),\n",
              " array([155.18996, 155.45961, 155.60623, 155.71233, 155.71727, 155.72987,\n",
              "        155.77228, 155.81204, 155.8491 , 155.85019], dtype=float32))"
            ]
          },
          "metadata": {},
          "execution_count": 78
        }
      ],
      "source": [
        "nbrs[0]"
      ]
    },
    {
      "cell_type": "code",
      "execution_count": 79,
      "metadata": {
        "id": "VzJNRlRcD56o",
        "outputId": "dd77b0e8-56a7-4ffa-c77d-15b14da0b3b5",
        "colab": {
          "base_uri": "https://localhost:8080/"
        }
      },
      "outputs": [
        {
          "output_type": "execute_result",
          "data": {
            "text/plain": [
              "array([155.18996, 155.45961, 155.60623, 155.71233, 155.71727, 155.72987,\n",
              "       155.77228, 155.81204, 155.8491 , 155.85019], dtype=float32)"
            ]
          },
          "metadata": {},
          "execution_count": 79
        }
      ],
      "source": [
        "nbrs[0][1]"
      ]
    },
    {
      "cell_type": "code",
      "execution_count": 80,
      "metadata": {
        "id": "IbmJ-7JSD56o"
      },
      "outputs": [],
      "source": [
        "def recommend_all(query_factors, index_factors, topn=10):\n",
        "    output = query_factors.dot(index_factors.T)\n",
        "    argpartition_indices = np.argpartition(output, -topn)[:, -topn:]\n",
        "\n",
        "    x_indices = np.repeat(np.arange(output.shape[0]), topn)\n",
        "    y_indices = argpartition_indices.flatten()\n",
        "    top_value = output[x_indices, y_indices].reshape(output.shape[0], topn)\n",
        "    top_indices = np.argsort(top_value)[:, ::-1]\n",
        "\n",
        "    y_indices = top_indices.flatten()\n",
        "    top_indices = argpartition_indices[x_indices, y_indices]\n",
        "    labels = top_indices.reshape(-1, topn)\n",
        "    distances = output[x_indices, top_indices].reshape(-1, topn)\n",
        "    return labels, distances"
      ]
    },
    {
      "cell_type": "code",
      "execution_count": 81,
      "metadata": {
        "id": "VEO0A6rCD56o",
        "outputId": "b7fd0503-2cde-4c81-9b3d-a8d89a6659a5",
        "colab": {
          "base_uri": "https://localhost:8080/"
        }
      },
      "outputs": [
        {
          "output_type": "execute_result",
          "data": {
            "text/plain": [
              "(array([[10683,  2094,  2962,  5044,  1938,  9491,  8568,  4401,  7759,\n",
              "          8607]]),\n",
              " array([[-155.18994964, -155.4595988 , -155.60621778, -155.71230646,\n",
              "         -155.71728697, -155.72989191, -155.7722715 , -155.81207334,\n",
              "         -155.84909091, -155.85017543]]))"
            ]
          },
          "metadata": {},
          "execution_count": 81
        }
      ],
      "source": [
        "recommend_all(user_embeddings[[0], :], item_embeddings)"
      ]
    },
    {
      "cell_type": "code",
      "execution_count": 82,
      "metadata": {
        "id": "IE_vgPknD56o",
        "outputId": "86053358-9d5b-4365-bc3d-2155078ee445",
        "colab": {
          "base_uri": "https://localhost:8080/"
        }
      },
      "outputs": [
        {
          "output_type": "execute_result",
          "data": {
            "text/plain": [
              "((1000, 66), (164028, 66))"
            ]
          },
          "metadata": {},
          "execution_count": 82
        }
      ],
      "source": [
        "item_embeddings[:1000, :].shape, user_embeddings.shape"
      ]
    },
    {
      "cell_type": "code",
      "execution_count": 83,
      "metadata": {
        "id": "pNNsJ9mjD56o"
      },
      "outputs": [],
      "source": [
        "query_matrix_not_augmented = user_embeddings[:1000, :]"
      ]
    },
    {
      "cell_type": "code",
      "execution_count": 84,
      "metadata": {
        "id": "M8eWy-1uD56o",
        "outputId": "bcc87a33-dc29-4403-aaea-3bc93886b867",
        "colab": {
          "base_uri": "https://localhost:8080/"
        }
      },
      "outputs": [
        {
          "output_type": "stream",
          "name": "stdout",
          "text": [
            "223 ms ± 15.4 ms per loop (mean ± std. dev. of 7 runs, 1 loop each)\n"
          ]
        }
      ],
      "source": [
        "%%timeit\n",
        "recommend_all(query_matrix_not_augmented, item_embeddings)"
      ]
    },
    {
      "cell_type": "code",
      "execution_count": 85,
      "metadata": {
        "id": "j8Y91xmND56o",
        "outputId": "a039b536-555e-40e3-9623-ef195bf00cb8",
        "colab": {
          "base_uri": "https://localhost:8080/"
        }
      },
      "outputs": [
        {
          "output_type": "stream",
          "name": "stdout",
          "text": [
            "33.3 ms ± 1.41 ms per loop (mean ± std. dev. of 7 runs, 10 loops each)\n"
          ]
        }
      ],
      "source": [
        "%%timeit\n",
        "index.knnQueryBatch(query_matrix, k = K, num_threads = num_threads)"
      ]
    },
    {
      "cell_type": "code",
      "execution_count": 86,
      "metadata": {
        "id": "TENgHXLmD56p"
      },
      "outputs": [],
      "source": [
        "import hnswlib"
      ]
    },
    {
      "cell_type": "code",
      "execution_count": 87,
      "metadata": {
        "id": "HPoqP70qD56p",
        "outputId": "4782e90b-342f-4930-d240-5d5150d5f4f1",
        "colab": {
          "base_uri": "https://localhost:8080/"
        }
      },
      "outputs": [
        {
          "output_type": "stream",
          "name": "stdout",
          "text": [
            "CPU times: user 1.07 s, sys: 6.24 ms, total: 1.08 s\n",
            "Wall time: 558 ms\n"
          ]
        }
      ],
      "source": [
        "%%time\n",
        "max_elements, dim = augmented_item_embeddings.shape\n",
        "hnsw = hnswlib.Index(\"ip\", dim) # possible options for space are l2, cosine or ip\n",
        "\n",
        "# Initing index - the maximum number of elements should be known beforehand\n",
        "hnsw.init_index(max_elements, M, efC)\n",
        "\n",
        "# Element insertion (can be called several times)\n",
        "hnsw.add_items(augmented_item_embeddings)"
      ]
    },
    {
      "cell_type": "code",
      "execution_count": 88,
      "metadata": {
        "id": "viW44MaoD56p"
      },
      "outputs": [],
      "source": [
        "# Controlling the recall by setting ef, should always be > k\n",
        "hnsw.set_ef(efS)"
      ]
    },
    {
      "cell_type": "code",
      "execution_count": 89,
      "metadata": {
        "id": "MRXIWKGCD56p"
      },
      "outputs": [],
      "source": [
        "label, distance = hnsw.knn_query(query_matrix, k=K)"
      ]
    },
    {
      "cell_type": "code",
      "execution_count": 90,
      "metadata": {
        "id": "X91ZAUGzD56p",
        "outputId": "64d0bf3d-6eee-478d-878c-76bf35864f63",
        "colab": {
          "base_uri": "https://localhost:8080/"
        }
      },
      "outputs": [
        {
          "output_type": "execute_result",
          "data": {
            "text/plain": [
              "array([[10683,  2094,  2962, ...,  4401,  7759,  8607],\n",
              "       [10129,  6891,  6425, ...,  9186,  3231,    95],\n",
              "       [ 8063,  2939,  1132, ...,  8607,  4899,  5008],\n",
              "       ...,\n",
              "       [ 6425,  6891,  3769, ...,  3231,  5044, 10239],\n",
              "       [ 9186,  6891, 10129, ...,    95,  4706,  5714],\n",
              "       [ 6891, 10129,  2739, ...,  8059,  6615,  4088]], dtype=uint64)"
            ]
          },
          "metadata": {},
          "execution_count": 90
        }
      ],
      "source": [
        "label"
      ]
    },
    {
      "cell_type": "code",
      "execution_count": 91,
      "metadata": {
        "id": "v1plRpe0D56p",
        "outputId": "41623bc6-ade2-4a5d-cd23-0f32f86d3bef",
        "colab": {
          "base_uri": "https://localhost:8080/"
        }
      },
      "outputs": [
        {
          "output_type": "execute_result",
          "data": {
            "text/plain": [
              "array([[-155.19   , -155.45958, -155.60622, ..., -155.81204, -155.84909,\n",
              "        -155.85019],\n",
              "       [-114.38053, -114.58346, -114.68692, ..., -115.26044, -115.35094,\n",
              "        -115.6058 ],\n",
              "       [-169.90651, -170.3952 , -170.61255, ..., -170.85808, -170.89005,\n",
              "        -170.89322],\n",
              "       ...,\n",
              "       [-144.39438, -144.60883, -145.01569, ..., -145.22995, -145.31606,\n",
              "        -145.38011],\n",
              "       [-154.47566, -154.67354, -154.76929, ..., -155.19647, -155.28358,\n",
              "        -155.3242 ],\n",
              "       [-140.59355, -140.66124, -141.54552, ..., -142.3259 , -142.33812,\n",
              "        -142.37802]], dtype=float32)"
            ]
          },
          "metadata": {},
          "execution_count": 91
        }
      ],
      "source": [
        "1 - distance"
      ]
    },
    {
      "cell_type": "code",
      "execution_count": 92,
      "metadata": {
        "id": "QMYu_Rp4D56p",
        "outputId": "066314fd-7f4a-4845-f2f1-bd0c04986a6d",
        "colab": {
          "base_uri": "https://localhost:8080/"
        }
      },
      "outputs": [
        {
          "output_type": "execute_result",
          "data": {
            "text/plain": [
              "-161.11325865570245"
            ]
          },
          "metadata": {},
          "execution_count": 92
        }
      ],
      "source": [
        "item_embeddings[8867].dot(user_embeddings[0])"
      ]
    },
    {
      "cell_type": "code",
      "execution_count": 93,
      "metadata": {
        "id": "1kgk1CXbD56p",
        "outputId": "b7e92fb6-3065-4814-f6bd-3129aef9a52e",
        "colab": {
          "base_uri": "https://localhost:8080/"
        }
      },
      "outputs": [
        {
          "output_type": "stream",
          "name": "stdout",
          "text": [
            "[[10683  2094  2962 ...  4401  7759  8607]\n",
            " [10129  6891  6425 ...  9186  3231    95]\n",
            " [ 8063  2939  1132 ...  8607  4899  5008]\n",
            " ...\n",
            " [ 6425  6891  3769 ...  3231  5044 10239]\n",
            " [ 9186  6891 10129 ...    95  4706  5714]\n",
            " [ 6891 10129  2739 ...  8059  6615  4088]]\n",
            "[[-155.18994964 -155.4595988  -155.60621778 ... -155.81207334\n",
            "  -155.84909091 -155.85017543]\n",
            " [-114.38052433 -114.58345858 -114.68692821 ... -115.26043798\n",
            "  -115.35094009 -115.60580014]\n",
            " [-169.90649235 -170.39519083 -170.61255039 ... -170.85808215\n",
            "  -170.89002471 -170.89318512]\n",
            " ...\n",
            " [-144.39438751 -144.60880903 -145.01569837 ... -145.22997086\n",
            "  -145.31603655 -145.38011923]\n",
            " [-154.47566221 -154.67353641 -154.76926128 ... -155.19650198\n",
            "  -155.28359009 -155.3242225 ]\n",
            " [-140.59357498 -140.6612127  -141.54553228 ... -142.3258788\n",
            "  -142.33812027 -142.37800599]]\n"
          ]
        }
      ],
      "source": [
        "labels, distances = recommend_all(user_embeddings[:1000, :], item_embeddings)\n",
        "print(labels)\n",
        "print(distances)"
      ]
    },
    {
      "cell_type": "markdown",
      "source": [
        "#Третья часть задания"
      ],
      "metadata": {
        "id": "8RWJi043gbFE"
      }
    },
    {
      "cell_type": "markdown",
      "source": [
        "- Добавить 3 \"аватаров\" (искусственных пользователей) и посмотреть рекомендации итоговой модели на них. Объяснить почему добавили именно таких пользователей. **(3 балла)**"
      ],
      "metadata": {
        "id": "O0Sxn4oBhZbc"
      }
    },
    {
      "cell_type": "markdown",
      "source": [
        "Создадим трех аватаров:\n",
        "* `666` - Мужщина, в возрасте 35-44, с доходом 60-90, с детьми, который любит смотреть фантастику\n",
        "* `999` - Женщина, в возрасте 25-34, с доходом 60-90, без детей, которая любит смотреть драмы\n",
        "* `777` - Мужщина, в возрасте 25-34, с доходом 60-90, без детей, который любит смотреть документалки\n",
        "\n",
        "Выбрал именно, этих пользователей, потому что на мой взгляд они очень \"типичны\" для нашего общества."
      ],
      "metadata": {
        "id": "hq0vHIJFjmDT"
      }
    },
    {
      "cell_type": "markdown",
      "source": [
        "Проверим, что их нет в нашем датасете"
      ],
      "metadata": {
        "id": "QKFuV0RBl8uC"
      }
    },
    {
      "cell_type": "code",
      "source": [
        "np.in1d(np.array([666, 777, 999]), users['user_id'].unique())"
      ],
      "metadata": {
        "colab": {
          "base_uri": "https://localhost:8080/"
        },
        "id": "a2_EP32GlnBv",
        "outputId": "61e4c6db-dad4-4512-d709-a45bf5a0e931"
      },
      "execution_count": 94,
      "outputs": [
        {
          "output_type": "execute_result",
          "data": {
            "text/plain": [
              "array([False, False, False])"
            ]
          },
          "metadata": {},
          "execution_count": 94
        }
      ]
    },
    {
      "cell_type": "markdown",
      "source": [
        "Теперь добавим их в соответствующие таблицы + заново соберем датасет. И посмотрим, что предскажет наша лучшая модель, то есть ALS"
      ],
      "metadata": {
        "id": "OdqWqBQgm-dE"
      }
    },
    {
      "cell_type": "code",
      "source": [
        "user_666 = pd.DataFrame([[666, 'М', 'sex'], \n",
        "                         [666, 'age_35_44', 'age'], \n",
        "                         [666, 'income_60_90', 'income']], \n",
        "                        columns = user_features.columns\n",
        "                        )\n",
        "user_999 = pd.DataFrame([[999, 'Ж', 'sex'], \n",
        "                         [999, 'age_25_34', 'age'], \n",
        "                         [999, 'income_60_90', 'income']], \n",
        "                        columns = user_features.columns\n",
        "                        )\n",
        "user_777 = pd.DataFrame([[777, 'М', 'sex'], \n",
        "                         [777, 'age_25_34', 'age'], \n",
        "                         [777, 'income_60_90', 'income']], \n",
        "                        columns = user_features.columns\n",
        "                        )"
      ],
      "metadata": {
        "id": "erBOmcvK6OAr"
      },
      "execution_count": 95,
      "outputs": []
    },
    {
      "cell_type": "code",
      "source": [
        "user_features = pd.concat((user_features, user_666, user_777, user_999))\n",
        "user_features = user_features.reset_index(drop=True)"
      ],
      "metadata": {
        "id": "_5vL1RJc6If2"
      },
      "execution_count": 96,
      "outputs": []
    },
    {
      "cell_type": "markdown",
      "source": [
        "Проверка"
      ],
      "metadata": {
        "id": "pNxhxpfOYg19"
      }
    },
    {
      "cell_type": "code",
      "source": [
        "user_features"
      ],
      "metadata": {
        "colab": {
          "base_uri": "https://localhost:8080/",
          "height": 424
        },
        "id": "lfP2vuFz622T",
        "outputId": "bda1710b-fa69-412a-c9c2-70445f7430d1"
      },
      "execution_count": 97,
      "outputs": [
        {
          "output_type": "execute_result",
          "data": {
            "text/plain": [
              "             id         value feature\n",
              "0        973171             М     sex\n",
              "1        962099             М     sex\n",
              "2        721985             Ж     sex\n",
              "3        704055             Ж     sex\n",
              "4       1037719             М     sex\n",
              "...         ...           ...     ...\n",
              "492088      777     age_25_34     age\n",
              "492089      777  income_60_90  income\n",
              "492090      999             Ж     sex\n",
              "492091      999     age_25_34     age\n",
              "492092      999  income_60_90  income\n",
              "\n",
              "[492093 rows x 3 columns]"
            ],
            "text/html": [
              "\n",
              "  <div id=\"df-c0ea4694-6e36-4361-8722-bef989b3ba5d\">\n",
              "    <div class=\"colab-df-container\">\n",
              "      <div>\n",
              "<style scoped>\n",
              "    .dataframe tbody tr th:only-of-type {\n",
              "        vertical-align: middle;\n",
              "    }\n",
              "\n",
              "    .dataframe tbody tr th {\n",
              "        vertical-align: top;\n",
              "    }\n",
              "\n",
              "    .dataframe thead th {\n",
              "        text-align: right;\n",
              "    }\n",
              "</style>\n",
              "<table border=\"1\" class=\"dataframe\">\n",
              "  <thead>\n",
              "    <tr style=\"text-align: right;\">\n",
              "      <th></th>\n",
              "      <th>id</th>\n",
              "      <th>value</th>\n",
              "      <th>feature</th>\n",
              "    </tr>\n",
              "  </thead>\n",
              "  <tbody>\n",
              "    <tr>\n",
              "      <th>0</th>\n",
              "      <td>973171</td>\n",
              "      <td>М</td>\n",
              "      <td>sex</td>\n",
              "    </tr>\n",
              "    <tr>\n",
              "      <th>1</th>\n",
              "      <td>962099</td>\n",
              "      <td>М</td>\n",
              "      <td>sex</td>\n",
              "    </tr>\n",
              "    <tr>\n",
              "      <th>2</th>\n",
              "      <td>721985</td>\n",
              "      <td>Ж</td>\n",
              "      <td>sex</td>\n",
              "    </tr>\n",
              "    <tr>\n",
              "      <th>3</th>\n",
              "      <td>704055</td>\n",
              "      <td>Ж</td>\n",
              "      <td>sex</td>\n",
              "    </tr>\n",
              "    <tr>\n",
              "      <th>4</th>\n",
              "      <td>1037719</td>\n",
              "      <td>М</td>\n",
              "      <td>sex</td>\n",
              "    </tr>\n",
              "    <tr>\n",
              "      <th>...</th>\n",
              "      <td>...</td>\n",
              "      <td>...</td>\n",
              "      <td>...</td>\n",
              "    </tr>\n",
              "    <tr>\n",
              "      <th>492088</th>\n",
              "      <td>777</td>\n",
              "      <td>age_25_34</td>\n",
              "      <td>age</td>\n",
              "    </tr>\n",
              "    <tr>\n",
              "      <th>492089</th>\n",
              "      <td>777</td>\n",
              "      <td>income_60_90</td>\n",
              "      <td>income</td>\n",
              "    </tr>\n",
              "    <tr>\n",
              "      <th>492090</th>\n",
              "      <td>999</td>\n",
              "      <td>Ж</td>\n",
              "      <td>sex</td>\n",
              "    </tr>\n",
              "    <tr>\n",
              "      <th>492091</th>\n",
              "      <td>999</td>\n",
              "      <td>age_25_34</td>\n",
              "      <td>age</td>\n",
              "    </tr>\n",
              "    <tr>\n",
              "      <th>492092</th>\n",
              "      <td>999</td>\n",
              "      <td>income_60_90</td>\n",
              "      <td>income</td>\n",
              "    </tr>\n",
              "  </tbody>\n",
              "</table>\n",
              "<p>492093 rows × 3 columns</p>\n",
              "</div>\n",
              "      <button class=\"colab-df-convert\" onclick=\"convertToInteractive('df-c0ea4694-6e36-4361-8722-bef989b3ba5d')\"\n",
              "              title=\"Convert this dataframe to an interactive table.\"\n",
              "              style=\"display:none;\">\n",
              "        \n",
              "  <svg xmlns=\"http://www.w3.org/2000/svg\" height=\"24px\"viewBox=\"0 0 24 24\"\n",
              "       width=\"24px\">\n",
              "    <path d=\"M0 0h24v24H0V0z\" fill=\"none\"/>\n",
              "    <path d=\"M18.56 5.44l.94 2.06.94-2.06 2.06-.94-2.06-.94-.94-2.06-.94 2.06-2.06.94zm-11 1L8.5 8.5l.94-2.06 2.06-.94-2.06-.94L8.5 2.5l-.94 2.06-2.06.94zm10 10l.94 2.06.94-2.06 2.06-.94-2.06-.94-.94-2.06-.94 2.06-2.06.94z\"/><path d=\"M17.41 7.96l-1.37-1.37c-.4-.4-.92-.59-1.43-.59-.52 0-1.04.2-1.43.59L10.3 9.45l-7.72 7.72c-.78.78-.78 2.05 0 2.83L4 21.41c.39.39.9.59 1.41.59.51 0 1.02-.2 1.41-.59l7.78-7.78 2.81-2.81c.8-.78.8-2.07 0-2.86zM5.41 20L4 18.59l7.72-7.72 1.47 1.35L5.41 20z\"/>\n",
              "  </svg>\n",
              "      </button>\n",
              "      \n",
              "  <style>\n",
              "    .colab-df-container {\n",
              "      display:flex;\n",
              "      flex-wrap:wrap;\n",
              "      gap: 12px;\n",
              "    }\n",
              "\n",
              "    .colab-df-convert {\n",
              "      background-color: #E8F0FE;\n",
              "      border: none;\n",
              "      border-radius: 50%;\n",
              "      cursor: pointer;\n",
              "      display: none;\n",
              "      fill: #1967D2;\n",
              "      height: 32px;\n",
              "      padding: 0 0 0 0;\n",
              "      width: 32px;\n",
              "    }\n",
              "\n",
              "    .colab-df-convert:hover {\n",
              "      background-color: #E2EBFA;\n",
              "      box-shadow: 0px 1px 2px rgba(60, 64, 67, 0.3), 0px 1px 3px 1px rgba(60, 64, 67, 0.15);\n",
              "      fill: #174EA6;\n",
              "    }\n",
              "\n",
              "    [theme=dark] .colab-df-convert {\n",
              "      background-color: #3B4455;\n",
              "      fill: #D2E3FC;\n",
              "    }\n",
              "\n",
              "    [theme=dark] .colab-df-convert:hover {\n",
              "      background-color: #434B5C;\n",
              "      box-shadow: 0px 1px 3px 1px rgba(0, 0, 0, 0.15);\n",
              "      filter: drop-shadow(0px 1px 2px rgba(0, 0, 0, 0.3));\n",
              "      fill: #FFFFFF;\n",
              "    }\n",
              "  </style>\n",
              "\n",
              "      <script>\n",
              "        const buttonEl =\n",
              "          document.querySelector('#df-c0ea4694-6e36-4361-8722-bef989b3ba5d button.colab-df-convert');\n",
              "        buttonEl.style.display =\n",
              "          google.colab.kernel.accessAllowed ? 'block' : 'none';\n",
              "\n",
              "        async function convertToInteractive(key) {\n",
              "          const element = document.querySelector('#df-c0ea4694-6e36-4361-8722-bef989b3ba5d');\n",
              "          const dataTable =\n",
              "            await google.colab.kernel.invokeFunction('convertToInteractive',\n",
              "                                                     [key], {});\n",
              "          if (!dataTable) return;\n",
              "\n",
              "          const docLinkHtml = 'Like what you see? Visit the ' +\n",
              "            '<a target=\"_blank\" href=https://colab.research.google.com/notebooks/data_table.ipynb>data table notebook</a>'\n",
              "            + ' to learn more about interactive tables.';\n",
              "          element.innerHTML = '';\n",
              "          dataTable['output_type'] = 'display_data';\n",
              "          await google.colab.output.renderOutput(dataTable, element);\n",
              "          const docLink = document.createElement('div');\n",
              "          docLink.innerHTML = docLinkHtml;\n",
              "          element.appendChild(docLink);\n",
              "        }\n",
              "      </script>\n",
              "    </div>\n",
              "  </div>\n",
              "  "
            ]
          },
          "metadata": {},
          "execution_count": 97
        }
      ]
    },
    {
      "cell_type": "markdown",
      "source": [
        "Теперь в таблицу `train` добавим просмотры данных аватаров"
      ],
      "metadata": {
        "id": "YZC31BEQ8dme"
      }
    },
    {
      "cell_type": "code",
      "source": [
        "fantasy_array = item_features.query('value == \"фантастика\"')['id'].head(10).values"
      ],
      "metadata": {
        "id": "iNN3sITG8zSc"
      },
      "execution_count": 98,
      "outputs": []
    },
    {
      "cell_type": "code",
      "source": [
        "items[items['item_id'].isin(fantasy_array)]"
      ],
      "metadata": {
        "colab": {
          "base_uri": "https://localhost:8080/",
          "height": 1000
        },
        "id": "8zx6B4yt8qVg",
        "outputId": "bdbaa4f4-a615-4075-dab6-5ae129937b3d"
      },
      "execution_count": 99,
      "outputs": [
        {
          "output_type": "execute_result",
          "data": {
            "text/plain": [
              "     item_id content_type                     title  \\\n",
              "27      7308         film                 Дивергент   \n",
              "28      4358         film                      Тело   \n",
              "36       149         film            Разлом времени   \n",
              "65      2074       series                 Посредник   \n",
              "79     10017         film             Парадокс Элис   \n",
              "84     12191         film  Назад в будущее. Часть 2   \n",
              "98      2817         film  Охотники за привидениями   \n",
              "101     4723         film                Притяжение   \n",
              "105     3509         film           Комната желаний   \n",
              "110     6720         film                Терминатор   \n",
              "\n",
              "                     title_orig  release_year  \\\n",
              "27                    Divergent        2014.0   \n",
              "28                      Replace        2017.0   \n",
              "36                    Curvature        2017.0   \n",
              "65                    Posrednik        1990.0   \n",
              "79                Paradox Alice        2012.0   \n",
              "84   Back to the Future Part II        1989.0   \n",
              "98                 Ghostbusters        1984.0   \n",
              "101                Prityazhenie        2017.0   \n",
              "105                    The Room        2019.0   \n",
              "110             TERMINATOR, THE        1984.0   \n",
              "\n",
              "                                                genres            countries  \\\n",
              "27           боевики, фантастика, детективы, мелодрамы                  США   \n",
              "28                                фантастика, триллеры     Германия, Канада   \n",
              "36                     фантастика, триллеры, детективы                  США   \n",
              "65                                 боевики, фантастика               Россия   \n",
              "79                    фантастика, зарубежные, триллеры                  США   \n",
              "84   приключения, зарубежные, фантастика, боевики, ...                  США   \n",
              "98               боевики, фантастика, фэнтези, комедии                  США   \n",
              "101                                         фантастика               Россия   \n",
              "105                        драмы, фантастика, триллеры              Франция   \n",
              "110                      боевики, фантастика, триллеры  Великобритания, США   \n",
              "\n",
              "     for_kids  age_rating    studios          directors  \\\n",
              "27        NaN        12.0        NaN         Нил Бёргер   \n",
              "28        NaN        18.0        NaN      Норберт Кайль   \n",
              "36        NaN        18.0        NaN     Диего Халливис   \n",
              "65        NaN        16.0        NaN          В.Потапов   \n",
              "79        NaN        18.0        NaN      Эрик Дапкевич   \n",
              "84        NaN        12.0  Universal     Роберт Земекис   \n",
              "98        NaN         6.0        NaN      Айвен Райтман   \n",
              "101       NaN        12.0        NaN    Фёдор Бондарчук   \n",
              "105       NaN        16.0        NaN  Кристиан Волькман   \n",
              "110       NaN        16.0        NaN     Джеймс Кэмерон   \n",
              "\n",
              "                                                actors  \\\n",
              "27   Эшли Джадд, Тони Голдуин, Мэгги Кью, Кейт Уинс...   \n",
              "28   Ребекка Форсайт, Люси Арон, Барбара Крэмптон, ...   \n",
              "36   Гленн Моршауэр, Зак Эйвери, Линда Хэмилтон, Ли...   \n",
              "65   Олеся Судзиловская, Инара Слуцка, Валерий Стор...   \n",
              "79   Джек Брэнд, Дженета Ст. Клэр, Итан Шарретт, Ки...   \n",
              "84   Билли Зейн, Дж.Дж. Коэн, Джей Кох, Джеймс Толк...   \n",
              "98   Билл Мюррэй, Дэн Эйкройд, Сигурни Уивер, Уилья...   \n",
              "101  Олег Меньшиков, Никита Тарасов, Татьяна Шитова...   \n",
              "105  Ольга Куриленко, Кевин Янссенс, Джошуа Уилсон,...   \n",
              "110  Арнольд Шварценеггер, Майкл Бин, Линда Хэмилто...   \n",
              "\n",
              "                                           description  \\\n",
              "27   В антиутопическом Чикаго будущего существует о...   \n",
              "28   Молодая женщина Кира мало того, что страдает п...   \n",
              "36   Талантливый инженер Хелен тяжело переживает са...   \n",
              "65   Нависший над землей загадочный шар становится ...   \n",
              "79   Экипаж астронавтов отправляется на заледенелый...   \n",
              "84   Марти МакФлай только что вернулся из прошлого,...   \n",
              "98   В конце двадцатого века оказывается, что в Нью...   \n",
              "101  …Как только что стало известно, сбитый над Мос...   \n",
              "105  Влюбленная пара решает переехать в уединенный ...   \n",
              "110  История противостояния солдата Кайла Риза и ки...   \n",
              "\n",
              "                                              keywords  \\\n",
              "27   по роману или книге, будущее, антиутопия, футу...   \n",
              "28   хоррор про тело, Бюстгальтер, Девушка-подросто...   \n",
              "36   путешествие во времени, Автобус, Бейсбол, Бомб...   \n",
              "65                      инопланетянин, открытый космос   \n",
              "79   Парадокс, Элис, 2012, США, конец, света, космо...   \n",
              "84   Назад, будущее, Часть, 2, 1989, США, безумные,...   \n",
              "98   библиотека, мифология, неудачник, зефир, слизь...   \n",
              "101  Россия, НЛО, инопланетянин, инопланетный кораб...   \n",
              "105  психологический триллер, семья, реальность про...   \n",
              "110  спасение мира, искусственный интеллект, повста...   \n",
              "\n",
              "                                                 genre                country  \n",
              "27         [боевики, фантастика, детективы, мелодрамы]                  [сша]  \n",
              "28                              [фантастика, триллеры]     [германия, канада]  \n",
              "36                   [фантастика, триллеры, детективы]                  [сша]  \n",
              "65                               [боевики, фантастика]               [россия]  \n",
              "79                  [фантастика, зарубежные, триллеры]                  [сша]  \n",
              "84   [приключения, зарубежные, фантастика, боевики,...                  [сша]  \n",
              "98             [боевики, фантастика, фэнтези, комедии]                  [сша]  \n",
              "101                                       [фантастика]               [россия]  \n",
              "105                      [драмы, фантастика, триллеры]              [франция]  \n",
              "110                    [боевики, фантастика, триллеры]  [великобритания, сша]  "
            ],
            "text/html": [
              "\n",
              "  <div id=\"df-fc8a2b8e-17eb-4cd1-8f6f-8191a1c84f95\">\n",
              "    <div class=\"colab-df-container\">\n",
              "      <div>\n",
              "<style scoped>\n",
              "    .dataframe tbody tr th:only-of-type {\n",
              "        vertical-align: middle;\n",
              "    }\n",
              "\n",
              "    .dataframe tbody tr th {\n",
              "        vertical-align: top;\n",
              "    }\n",
              "\n",
              "    .dataframe thead th {\n",
              "        text-align: right;\n",
              "    }\n",
              "</style>\n",
              "<table border=\"1\" class=\"dataframe\">\n",
              "  <thead>\n",
              "    <tr style=\"text-align: right;\">\n",
              "      <th></th>\n",
              "      <th>item_id</th>\n",
              "      <th>content_type</th>\n",
              "      <th>title</th>\n",
              "      <th>title_orig</th>\n",
              "      <th>release_year</th>\n",
              "      <th>genres</th>\n",
              "      <th>countries</th>\n",
              "      <th>for_kids</th>\n",
              "      <th>age_rating</th>\n",
              "      <th>studios</th>\n",
              "      <th>directors</th>\n",
              "      <th>actors</th>\n",
              "      <th>description</th>\n",
              "      <th>keywords</th>\n",
              "      <th>genre</th>\n",
              "      <th>country</th>\n",
              "    </tr>\n",
              "  </thead>\n",
              "  <tbody>\n",
              "    <tr>\n",
              "      <th>27</th>\n",
              "      <td>7308</td>\n",
              "      <td>film</td>\n",
              "      <td>Дивергент</td>\n",
              "      <td>Divergent</td>\n",
              "      <td>2014.0</td>\n",
              "      <td>боевики, фантастика, детективы, мелодрамы</td>\n",
              "      <td>США</td>\n",
              "      <td>NaN</td>\n",
              "      <td>12.0</td>\n",
              "      <td>NaN</td>\n",
              "      <td>Нил Бёргер</td>\n",
              "      <td>Эшли Джадд, Тони Голдуин, Мэгги Кью, Кейт Уинс...</td>\n",
              "      <td>В антиутопическом Чикаго будущего существует о...</td>\n",
              "      <td>по роману или книге, будущее, антиутопия, футу...</td>\n",
              "      <td>[боевики, фантастика, детективы, мелодрамы]</td>\n",
              "      <td>[сша]</td>\n",
              "    </tr>\n",
              "    <tr>\n",
              "      <th>28</th>\n",
              "      <td>4358</td>\n",
              "      <td>film</td>\n",
              "      <td>Тело</td>\n",
              "      <td>Replace</td>\n",
              "      <td>2017.0</td>\n",
              "      <td>фантастика, триллеры</td>\n",
              "      <td>Германия, Канада</td>\n",
              "      <td>NaN</td>\n",
              "      <td>18.0</td>\n",
              "      <td>NaN</td>\n",
              "      <td>Норберт Кайль</td>\n",
              "      <td>Ребекка Форсайт, Люси Арон, Барбара Крэмптон, ...</td>\n",
              "      <td>Молодая женщина Кира мало того, что страдает п...</td>\n",
              "      <td>хоррор про тело, Бюстгальтер, Девушка-подросто...</td>\n",
              "      <td>[фантастика, триллеры]</td>\n",
              "      <td>[германия, канада]</td>\n",
              "    </tr>\n",
              "    <tr>\n",
              "      <th>36</th>\n",
              "      <td>149</td>\n",
              "      <td>film</td>\n",
              "      <td>Разлом времени</td>\n",
              "      <td>Curvature</td>\n",
              "      <td>2017.0</td>\n",
              "      <td>фантастика, триллеры, детективы</td>\n",
              "      <td>США</td>\n",
              "      <td>NaN</td>\n",
              "      <td>18.0</td>\n",
              "      <td>NaN</td>\n",
              "      <td>Диего Халливис</td>\n",
              "      <td>Гленн Моршауэр, Зак Эйвери, Линда Хэмилтон, Ли...</td>\n",
              "      <td>Талантливый инженер Хелен тяжело переживает са...</td>\n",
              "      <td>путешествие во времени, Автобус, Бейсбол, Бомб...</td>\n",
              "      <td>[фантастика, триллеры, детективы]</td>\n",
              "      <td>[сша]</td>\n",
              "    </tr>\n",
              "    <tr>\n",
              "      <th>65</th>\n",
              "      <td>2074</td>\n",
              "      <td>series</td>\n",
              "      <td>Посредник</td>\n",
              "      <td>Posrednik</td>\n",
              "      <td>1990.0</td>\n",
              "      <td>боевики, фантастика</td>\n",
              "      <td>Россия</td>\n",
              "      <td>NaN</td>\n",
              "      <td>16.0</td>\n",
              "      <td>NaN</td>\n",
              "      <td>В.Потапов</td>\n",
              "      <td>Олеся Судзиловская, Инара Слуцка, Валерий Стор...</td>\n",
              "      <td>Нависший над землей загадочный шар становится ...</td>\n",
              "      <td>инопланетянин, открытый космос</td>\n",
              "      <td>[боевики, фантастика]</td>\n",
              "      <td>[россия]</td>\n",
              "    </tr>\n",
              "    <tr>\n",
              "      <th>79</th>\n",
              "      <td>10017</td>\n",
              "      <td>film</td>\n",
              "      <td>Парадокс Элис</td>\n",
              "      <td>Paradox Alice</td>\n",
              "      <td>2012.0</td>\n",
              "      <td>фантастика, зарубежные, триллеры</td>\n",
              "      <td>США</td>\n",
              "      <td>NaN</td>\n",
              "      <td>18.0</td>\n",
              "      <td>NaN</td>\n",
              "      <td>Эрик Дапкевич</td>\n",
              "      <td>Джек Брэнд, Дженета Ст. Клэр, Итан Шарретт, Ки...</td>\n",
              "      <td>Экипаж астронавтов отправляется на заледенелый...</td>\n",
              "      <td>Парадокс, Элис, 2012, США, конец, света, космо...</td>\n",
              "      <td>[фантастика, зарубежные, триллеры]</td>\n",
              "      <td>[сша]</td>\n",
              "    </tr>\n",
              "    <tr>\n",
              "      <th>84</th>\n",
              "      <td>12191</td>\n",
              "      <td>film</td>\n",
              "      <td>Назад в будущее. Часть 2</td>\n",
              "      <td>Back to the Future Part II</td>\n",
              "      <td>1989.0</td>\n",
              "      <td>приключения, зарубежные, фантастика, боевики, ...</td>\n",
              "      <td>США</td>\n",
              "      <td>NaN</td>\n",
              "      <td>12.0</td>\n",
              "      <td>Universal</td>\n",
              "      <td>Роберт Земекис</td>\n",
              "      <td>Билли Зейн, Дж.Дж. Коэн, Джей Кох, Джеймс Толк...</td>\n",
              "      <td>Марти МакФлай только что вернулся из прошлого,...</td>\n",
              "      <td>Назад, будущее, Часть, 2, 1989, США, безумные,...</td>\n",
              "      <td>[приключения, зарубежные, фантастика, боевики,...</td>\n",
              "      <td>[сша]</td>\n",
              "    </tr>\n",
              "    <tr>\n",
              "      <th>98</th>\n",
              "      <td>2817</td>\n",
              "      <td>film</td>\n",
              "      <td>Охотники за привидениями</td>\n",
              "      <td>Ghostbusters</td>\n",
              "      <td>1984.0</td>\n",
              "      <td>боевики, фантастика, фэнтези, комедии</td>\n",
              "      <td>США</td>\n",
              "      <td>NaN</td>\n",
              "      <td>6.0</td>\n",
              "      <td>NaN</td>\n",
              "      <td>Айвен Райтман</td>\n",
              "      <td>Билл Мюррэй, Дэн Эйкройд, Сигурни Уивер, Уилья...</td>\n",
              "      <td>В конце двадцатого века оказывается, что в Нью...</td>\n",
              "      <td>библиотека, мифология, неудачник, зефир, слизь...</td>\n",
              "      <td>[боевики, фантастика, фэнтези, комедии]</td>\n",
              "      <td>[сша]</td>\n",
              "    </tr>\n",
              "    <tr>\n",
              "      <th>101</th>\n",
              "      <td>4723</td>\n",
              "      <td>film</td>\n",
              "      <td>Притяжение</td>\n",
              "      <td>Prityazhenie</td>\n",
              "      <td>2017.0</td>\n",
              "      <td>фантастика</td>\n",
              "      <td>Россия</td>\n",
              "      <td>NaN</td>\n",
              "      <td>12.0</td>\n",
              "      <td>NaN</td>\n",
              "      <td>Фёдор Бондарчук</td>\n",
              "      <td>Олег Меньшиков, Никита Тарасов, Татьяна Шитова...</td>\n",
              "      <td>…Как только что стало известно, сбитый над Мос...</td>\n",
              "      <td>Россия, НЛО, инопланетянин, инопланетный кораб...</td>\n",
              "      <td>[фантастика]</td>\n",
              "      <td>[россия]</td>\n",
              "    </tr>\n",
              "    <tr>\n",
              "      <th>105</th>\n",
              "      <td>3509</td>\n",
              "      <td>film</td>\n",
              "      <td>Комната желаний</td>\n",
              "      <td>The Room</td>\n",
              "      <td>2019.0</td>\n",
              "      <td>драмы, фантастика, триллеры</td>\n",
              "      <td>Франция</td>\n",
              "      <td>NaN</td>\n",
              "      <td>16.0</td>\n",
              "      <td>NaN</td>\n",
              "      <td>Кристиан Волькман</td>\n",
              "      <td>Ольга Куриленко, Кевин Янссенс, Джошуа Уилсон,...</td>\n",
              "      <td>Влюбленная пара решает переехать в уединенный ...</td>\n",
              "      <td>психологический триллер, семья, реальность про...</td>\n",
              "      <td>[драмы, фантастика, триллеры]</td>\n",
              "      <td>[франция]</td>\n",
              "    </tr>\n",
              "    <tr>\n",
              "      <th>110</th>\n",
              "      <td>6720</td>\n",
              "      <td>film</td>\n",
              "      <td>Терминатор</td>\n",
              "      <td>TERMINATOR, THE</td>\n",
              "      <td>1984.0</td>\n",
              "      <td>боевики, фантастика, триллеры</td>\n",
              "      <td>Великобритания, США</td>\n",
              "      <td>NaN</td>\n",
              "      <td>16.0</td>\n",
              "      <td>NaN</td>\n",
              "      <td>Джеймс Кэмерон</td>\n",
              "      <td>Арнольд Шварценеггер, Майкл Бин, Линда Хэмилто...</td>\n",
              "      <td>История противостояния солдата Кайла Риза и ки...</td>\n",
              "      <td>спасение мира, искусственный интеллект, повста...</td>\n",
              "      <td>[боевики, фантастика, триллеры]</td>\n",
              "      <td>[великобритания, сша]</td>\n",
              "    </tr>\n",
              "  </tbody>\n",
              "</table>\n",
              "</div>\n",
              "      <button class=\"colab-df-convert\" onclick=\"convertToInteractive('df-fc8a2b8e-17eb-4cd1-8f6f-8191a1c84f95')\"\n",
              "              title=\"Convert this dataframe to an interactive table.\"\n",
              "              style=\"display:none;\">\n",
              "        \n",
              "  <svg xmlns=\"http://www.w3.org/2000/svg\" height=\"24px\"viewBox=\"0 0 24 24\"\n",
              "       width=\"24px\">\n",
              "    <path d=\"M0 0h24v24H0V0z\" fill=\"none\"/>\n",
              "    <path d=\"M18.56 5.44l.94 2.06.94-2.06 2.06-.94-2.06-.94-.94-2.06-.94 2.06-2.06.94zm-11 1L8.5 8.5l.94-2.06 2.06-.94-2.06-.94L8.5 2.5l-.94 2.06-2.06.94zm10 10l.94 2.06.94-2.06 2.06-.94-2.06-.94-.94-2.06-.94 2.06-2.06.94z\"/><path d=\"M17.41 7.96l-1.37-1.37c-.4-.4-.92-.59-1.43-.59-.52 0-1.04.2-1.43.59L10.3 9.45l-7.72 7.72c-.78.78-.78 2.05 0 2.83L4 21.41c.39.39.9.59 1.41.59.51 0 1.02-.2 1.41-.59l7.78-7.78 2.81-2.81c.8-.78.8-2.07 0-2.86zM5.41 20L4 18.59l7.72-7.72 1.47 1.35L5.41 20z\"/>\n",
              "  </svg>\n",
              "      </button>\n",
              "      \n",
              "  <style>\n",
              "    .colab-df-container {\n",
              "      display:flex;\n",
              "      flex-wrap:wrap;\n",
              "      gap: 12px;\n",
              "    }\n",
              "\n",
              "    .colab-df-convert {\n",
              "      background-color: #E8F0FE;\n",
              "      border: none;\n",
              "      border-radius: 50%;\n",
              "      cursor: pointer;\n",
              "      display: none;\n",
              "      fill: #1967D2;\n",
              "      height: 32px;\n",
              "      padding: 0 0 0 0;\n",
              "      width: 32px;\n",
              "    }\n",
              "\n",
              "    .colab-df-convert:hover {\n",
              "      background-color: #E2EBFA;\n",
              "      box-shadow: 0px 1px 2px rgba(60, 64, 67, 0.3), 0px 1px 3px 1px rgba(60, 64, 67, 0.15);\n",
              "      fill: #174EA6;\n",
              "    }\n",
              "\n",
              "    [theme=dark] .colab-df-convert {\n",
              "      background-color: #3B4455;\n",
              "      fill: #D2E3FC;\n",
              "    }\n",
              "\n",
              "    [theme=dark] .colab-df-convert:hover {\n",
              "      background-color: #434B5C;\n",
              "      box-shadow: 0px 1px 3px 1px rgba(0, 0, 0, 0.15);\n",
              "      filter: drop-shadow(0px 1px 2px rgba(0, 0, 0, 0.3));\n",
              "      fill: #FFFFFF;\n",
              "    }\n",
              "  </style>\n",
              "\n",
              "      <script>\n",
              "        const buttonEl =\n",
              "          document.querySelector('#df-fc8a2b8e-17eb-4cd1-8f6f-8191a1c84f95 button.colab-df-convert');\n",
              "        buttonEl.style.display =\n",
              "          google.colab.kernel.accessAllowed ? 'block' : 'none';\n",
              "\n",
              "        async function convertToInteractive(key) {\n",
              "          const element = document.querySelector('#df-fc8a2b8e-17eb-4cd1-8f6f-8191a1c84f95');\n",
              "          const dataTable =\n",
              "            await google.colab.kernel.invokeFunction('convertToInteractive',\n",
              "                                                     [key], {});\n",
              "          if (!dataTable) return;\n",
              "\n",
              "          const docLinkHtml = 'Like what you see? Visit the ' +\n",
              "            '<a target=\"_blank\" href=https://colab.research.google.com/notebooks/data_table.ipynb>data table notebook</a>'\n",
              "            + ' to learn more about interactive tables.';\n",
              "          element.innerHTML = '';\n",
              "          dataTable['output_type'] = 'display_data';\n",
              "          await google.colab.output.renderOutput(dataTable, element);\n",
              "          const docLink = document.createElement('div');\n",
              "          docLink.innerHTML = docLinkHtml;\n",
              "          element.appendChild(docLink);\n",
              "        }\n",
              "      </script>\n",
              "    </div>\n",
              "  </div>\n",
              "  "
            ]
          },
          "metadata": {},
          "execution_count": 99
        }
      ]
    },
    {
      "cell_type": "code",
      "source": [
        "inter_user_666 = pd.DataFrame({'user_id': [666]*10,\n",
        "                               'item_id': fantasy_array,\n",
        "                               'datetime': train['datetime'].sample(10).values,\n",
        "                               'weight': [3]*10,\n",
        "                               'watched_pct':[100.]*10}\n",
        "                              )\n",
        "inter_user_666"
      ],
      "metadata": {
        "colab": {
          "base_uri": "https://localhost:8080/",
          "height": 363
        },
        "id": "XqicB6eDZpOw",
        "outputId": "96943ab8-84b7-496e-a528-92544e36cdc2"
      },
      "execution_count": 100,
      "outputs": [
        {
          "output_type": "execute_result",
          "data": {
            "text/plain": [
              "   user_id  item_id   datetime  weight  watched_pct\n",
              "0      666     7308 2021-07-26       3        100.0\n",
              "1      666     4358 2021-03-17       3        100.0\n",
              "2      666      149 2021-08-01       3        100.0\n",
              "3      666     2074 2021-06-20       3        100.0\n",
              "4      666    10017 2021-04-25       3        100.0\n",
              "5      666    12191 2021-07-10       3        100.0\n",
              "6      666     2817 2021-04-05       3        100.0\n",
              "7      666     4723 2021-03-14       3        100.0\n",
              "8      666     3509 2021-04-25       3        100.0\n",
              "9      666     6720 2021-05-16       3        100.0"
            ],
            "text/html": [
              "\n",
              "  <div id=\"df-e178b037-89a1-4f71-9d9b-f4ca9645d40d\">\n",
              "    <div class=\"colab-df-container\">\n",
              "      <div>\n",
              "<style scoped>\n",
              "    .dataframe tbody tr th:only-of-type {\n",
              "        vertical-align: middle;\n",
              "    }\n",
              "\n",
              "    .dataframe tbody tr th {\n",
              "        vertical-align: top;\n",
              "    }\n",
              "\n",
              "    .dataframe thead th {\n",
              "        text-align: right;\n",
              "    }\n",
              "</style>\n",
              "<table border=\"1\" class=\"dataframe\">\n",
              "  <thead>\n",
              "    <tr style=\"text-align: right;\">\n",
              "      <th></th>\n",
              "      <th>user_id</th>\n",
              "      <th>item_id</th>\n",
              "      <th>datetime</th>\n",
              "      <th>weight</th>\n",
              "      <th>watched_pct</th>\n",
              "    </tr>\n",
              "  </thead>\n",
              "  <tbody>\n",
              "    <tr>\n",
              "      <th>0</th>\n",
              "      <td>666</td>\n",
              "      <td>7308</td>\n",
              "      <td>2021-07-26</td>\n",
              "      <td>3</td>\n",
              "      <td>100.0</td>\n",
              "    </tr>\n",
              "    <tr>\n",
              "      <th>1</th>\n",
              "      <td>666</td>\n",
              "      <td>4358</td>\n",
              "      <td>2021-03-17</td>\n",
              "      <td>3</td>\n",
              "      <td>100.0</td>\n",
              "    </tr>\n",
              "    <tr>\n",
              "      <th>2</th>\n",
              "      <td>666</td>\n",
              "      <td>149</td>\n",
              "      <td>2021-08-01</td>\n",
              "      <td>3</td>\n",
              "      <td>100.0</td>\n",
              "    </tr>\n",
              "    <tr>\n",
              "      <th>3</th>\n",
              "      <td>666</td>\n",
              "      <td>2074</td>\n",
              "      <td>2021-06-20</td>\n",
              "      <td>3</td>\n",
              "      <td>100.0</td>\n",
              "    </tr>\n",
              "    <tr>\n",
              "      <th>4</th>\n",
              "      <td>666</td>\n",
              "      <td>10017</td>\n",
              "      <td>2021-04-25</td>\n",
              "      <td>3</td>\n",
              "      <td>100.0</td>\n",
              "    </tr>\n",
              "    <tr>\n",
              "      <th>5</th>\n",
              "      <td>666</td>\n",
              "      <td>12191</td>\n",
              "      <td>2021-07-10</td>\n",
              "      <td>3</td>\n",
              "      <td>100.0</td>\n",
              "    </tr>\n",
              "    <tr>\n",
              "      <th>6</th>\n",
              "      <td>666</td>\n",
              "      <td>2817</td>\n",
              "      <td>2021-04-05</td>\n",
              "      <td>3</td>\n",
              "      <td>100.0</td>\n",
              "    </tr>\n",
              "    <tr>\n",
              "      <th>7</th>\n",
              "      <td>666</td>\n",
              "      <td>4723</td>\n",
              "      <td>2021-03-14</td>\n",
              "      <td>3</td>\n",
              "      <td>100.0</td>\n",
              "    </tr>\n",
              "    <tr>\n",
              "      <th>8</th>\n",
              "      <td>666</td>\n",
              "      <td>3509</td>\n",
              "      <td>2021-04-25</td>\n",
              "      <td>3</td>\n",
              "      <td>100.0</td>\n",
              "    </tr>\n",
              "    <tr>\n",
              "      <th>9</th>\n",
              "      <td>666</td>\n",
              "      <td>6720</td>\n",
              "      <td>2021-05-16</td>\n",
              "      <td>3</td>\n",
              "      <td>100.0</td>\n",
              "    </tr>\n",
              "  </tbody>\n",
              "</table>\n",
              "</div>\n",
              "      <button class=\"colab-df-convert\" onclick=\"convertToInteractive('df-e178b037-89a1-4f71-9d9b-f4ca9645d40d')\"\n",
              "              title=\"Convert this dataframe to an interactive table.\"\n",
              "              style=\"display:none;\">\n",
              "        \n",
              "  <svg xmlns=\"http://www.w3.org/2000/svg\" height=\"24px\"viewBox=\"0 0 24 24\"\n",
              "       width=\"24px\">\n",
              "    <path d=\"M0 0h24v24H0V0z\" fill=\"none\"/>\n",
              "    <path d=\"M18.56 5.44l.94 2.06.94-2.06 2.06-.94-2.06-.94-.94-2.06-.94 2.06-2.06.94zm-11 1L8.5 8.5l.94-2.06 2.06-.94-2.06-.94L8.5 2.5l-.94 2.06-2.06.94zm10 10l.94 2.06.94-2.06 2.06-.94-2.06-.94-.94-2.06-.94 2.06-2.06.94z\"/><path d=\"M17.41 7.96l-1.37-1.37c-.4-.4-.92-.59-1.43-.59-.52 0-1.04.2-1.43.59L10.3 9.45l-7.72 7.72c-.78.78-.78 2.05 0 2.83L4 21.41c.39.39.9.59 1.41.59.51 0 1.02-.2 1.41-.59l7.78-7.78 2.81-2.81c.8-.78.8-2.07 0-2.86zM5.41 20L4 18.59l7.72-7.72 1.47 1.35L5.41 20z\"/>\n",
              "  </svg>\n",
              "      </button>\n",
              "      \n",
              "  <style>\n",
              "    .colab-df-container {\n",
              "      display:flex;\n",
              "      flex-wrap:wrap;\n",
              "      gap: 12px;\n",
              "    }\n",
              "\n",
              "    .colab-df-convert {\n",
              "      background-color: #E8F0FE;\n",
              "      border: none;\n",
              "      border-radius: 50%;\n",
              "      cursor: pointer;\n",
              "      display: none;\n",
              "      fill: #1967D2;\n",
              "      height: 32px;\n",
              "      padding: 0 0 0 0;\n",
              "      width: 32px;\n",
              "    }\n",
              "\n",
              "    .colab-df-convert:hover {\n",
              "      background-color: #E2EBFA;\n",
              "      box-shadow: 0px 1px 2px rgba(60, 64, 67, 0.3), 0px 1px 3px 1px rgba(60, 64, 67, 0.15);\n",
              "      fill: #174EA6;\n",
              "    }\n",
              "\n",
              "    [theme=dark] .colab-df-convert {\n",
              "      background-color: #3B4455;\n",
              "      fill: #D2E3FC;\n",
              "    }\n",
              "\n",
              "    [theme=dark] .colab-df-convert:hover {\n",
              "      background-color: #434B5C;\n",
              "      box-shadow: 0px 1px 3px 1px rgba(0, 0, 0, 0.15);\n",
              "      filter: drop-shadow(0px 1px 2px rgba(0, 0, 0, 0.3));\n",
              "      fill: #FFFFFF;\n",
              "    }\n",
              "  </style>\n",
              "\n",
              "      <script>\n",
              "        const buttonEl =\n",
              "          document.querySelector('#df-e178b037-89a1-4f71-9d9b-f4ca9645d40d button.colab-df-convert');\n",
              "        buttonEl.style.display =\n",
              "          google.colab.kernel.accessAllowed ? 'block' : 'none';\n",
              "\n",
              "        async function convertToInteractive(key) {\n",
              "          const element = document.querySelector('#df-e178b037-89a1-4f71-9d9b-f4ca9645d40d');\n",
              "          const dataTable =\n",
              "            await google.colab.kernel.invokeFunction('convertToInteractive',\n",
              "                                                     [key], {});\n",
              "          if (!dataTable) return;\n",
              "\n",
              "          const docLinkHtml = 'Like what you see? Visit the ' +\n",
              "            '<a target=\"_blank\" href=https://colab.research.google.com/notebooks/data_table.ipynb>data table notebook</a>'\n",
              "            + ' to learn more about interactive tables.';\n",
              "          element.innerHTML = '';\n",
              "          dataTable['output_type'] = 'display_data';\n",
              "          await google.colab.output.renderOutput(dataTable, element);\n",
              "          const docLink = document.createElement('div');\n",
              "          docLink.innerHTML = docLinkHtml;\n",
              "          element.appendChild(docLink);\n",
              "        }\n",
              "      </script>\n",
              "    </div>\n",
              "  </div>\n",
              "  "
            ]
          },
          "metadata": {},
          "execution_count": 100
        }
      ]
    },
    {
      "cell_type": "markdown",
      "source": [
        "Следующий аватар"
      ],
      "metadata": {
        "id": "V4RECqTMaySI"
      }
    },
    {
      "cell_type": "code",
      "source": [
        "drama_array = item_features.query('value == \"мелодрамы\"')['id'].head(10).values"
      ],
      "metadata": {
        "id": "pcPuKgkqawqo"
      },
      "execution_count": 101,
      "outputs": []
    },
    {
      "cell_type": "code",
      "source": [
        "items[items['item_id'].isin(drama_array)]"
      ],
      "metadata": {
        "colab": {
          "base_uri": "https://localhost:8080/",
          "height": 1000
        },
        "outputId": "95e27f87-881c-44af-81ec-f3cb7e1574c0",
        "id": "2z1Km4e5awqp"
      },
      "execution_count": 102,
      "outputs": [
        {
          "output_type": "execute_result",
          "data": {
            "text/plain": [
              "    item_id content_type                   title              title_orig  \\\n",
              "0     10711         film          Поговори с ней          Hable con ella   \n",
              "3     16268         film    Все решает мгновение                     NaN   \n",
              "6      8604         film          Третья попытка                     NaN   \n",
              "7      3526         film           Код «Красный»                Red Joan   \n",
              "14    13109         film  Новый парень моей мамы  My Mom's New Boyfriend   \n",
              "18    14986         film       Год золотой рыбки           Goldfish Year   \n",
              "27     7308         film               Дивергент               Divergent   \n",
              "33     5780         film            Теория хаоса            Chaos Theory   \n",
              "38     6844         film        Голоса за кадром           Golden Voices   \n",
              "39      830         film              Бетховен 2         Beethoven's 2nd   \n",
              "\n",
              "    release_year                                             genres  \\\n",
              "0         2002.0            драмы, зарубежные, детективы, мелодрамы   \n",
              "3         1978.0                 драмы, спорт, советские, мелодрамы   \n",
              "6         2013.0                                 русские, мелодрамы   \n",
              "7         2018.0  биография, экранизации, драмы, зарубежные, мел...   \n",
              "14        2007.0           мелодрамы, зарубежные, криминал, комедии   \n",
              "18        2007.0                                 русские, мелодрамы   \n",
              "27        2014.0          боевики, фантастика, детективы, мелодрамы   \n",
              "33        2008.0                          драмы, мелодрамы, комедии   \n",
              "38        2019.0                          драмы, мелодрамы, комедии   \n",
              "39        1993.0                       мелодрамы, семейное, комедии   \n",
              "\n",
              "         countries  for_kids  age_rating   studios         directors  \\\n",
              "0          Испания       NaN        16.0       NaN  Педро Альмодовар   \n",
              "3             СССР       NaN        12.0  Ленфильм  Виктор Садовский   \n",
              "6           Россия       NaN        12.0       NaN    Игорь Мужжухин   \n",
              "7   Великобритания       NaN        18.0       NaN       Тревор Нанн   \n",
              "14        Германия       NaN        12.0       NaN      Джордж Галло   \n",
              "18         Украина       NaN        16.0       NaN   Андрей Красавин   \n",
              "27             США       NaN        12.0       NaN        Нил Бёргер   \n",
              "33             США       NaN        12.0       NaN       Маркос Сига   \n",
              "38         Израиль       NaN        16.0       NaN     Евгений Руман   \n",
              "39             США       NaN         6.0       NaN        Род Дэниэл   \n",
              "\n",
              "                                               actors  \\\n",
              "0   Адольфо Фернандес, Ана Фернандес, Дарио Гранди...   \n",
              "3   Александр Абдулов, Александр Демьяненко, Алекс...   \n",
              "6   Александр Асташенок, Александр Пашков, Андрей ...   \n",
              "7   Бен Майлз, Джуди Денч, Лоуренс Спэллман, Софи ...   \n",
              "14  Антонио Бандерас, Джон Вальдетеро, Кит Дэвид, ...   \n",
              "18  Александр Самойленко, Елена Панова, Дмитрий Ул...   \n",
              "27  Эшли Джадд, Тони Голдуин, Мэгги Кью, Кейт Уинс...   \n",
              "33  Райан Рейнольдс, Эмили Мортимер, Стюарт Таунсе...   \n",
              "38  Мария Белкина, Владимир Фридман, Эвелин Хагоэл...   \n",
              "39  Чарльз Гродин, Бонни Хант, Николь Том, Кристоф...   \n",
              "\n",
              "                                          description  \\\n",
              "0   Мелодрама легендарного Педро Альмодовара «Пого...   \n",
              "3   Расчетливая чаровница из советского кинохита «...   \n",
              "6   Екатерина Рябова, Александр Асташенок и Алекса...   \n",
              "7   Тихая английская пенсионерка Джоан попадает по...   \n",
              "14  «Новый парень моей мамы» – американо-германска...   \n",
              "18  У очаровательной певицы Лады успех во всех жиз...   \n",
              "27  В антиутопическом Чикаго будущего существует о...   \n",
              "33  История о Фрэнке, славном парне, одержимом кар...   \n",
              "38  «Золотые голоса» героев, известных актеров дуб...   \n",
              "39  Псу, случайно названному именем великого компо...   \n",
              "\n",
              "                                             keywords  \\\n",
              "0   Поговори, ней, 2002, Испания, друзья, любовь, ...   \n",
              "3   Все, решает, мгновение, 1978, СССР, сильные, ж...   \n",
              "6   Третья, попытка, 2013, Россия, любовь, измена,...   \n",
              "7   Код, Красный, 2018, Великобритания, друзья, лю...   \n",
              "14  Новый, парень, моей, мамы, 2007, Германия, огр...   \n",
              "18                 Год, золотой, рыбки, 2007, Украина   \n",
              "27  по роману или книге, будущее, антиутопия, футу...   \n",
              "33  драка, нижнее белье, медицинский тест, жених, ...   \n",
              "38  христианский фильм, 2019, израиль, голоса, за,...   \n",
              "39  калифорния, холдинги, продажа, щенок, собака, ...   \n",
              "\n",
              "                                                genre           country  \n",
              "0           [драмы, зарубежные, детективы, мелодрамы]         [испания]  \n",
              "3                [драмы, спорт, советские, мелодрамы]            [ссср]  \n",
              "6                                [русские, мелодрамы]          [россия]  \n",
              "7   [биография, экранизации, драмы, зарубежные, ме...  [великобритания]  \n",
              "14         [мелодрамы, зарубежные, криминал, комедии]        [германия]  \n",
              "18                               [русские, мелодрамы]         [украина]  \n",
              "27        [боевики, фантастика, детективы, мелодрамы]             [сша]  \n",
              "33                        [драмы, мелодрамы, комедии]             [сша]  \n",
              "38                        [драмы, мелодрамы, комедии]         [израиль]  \n",
              "39                     [мелодрамы, семейное, комедии]             [сша]  "
            ],
            "text/html": [
              "\n",
              "  <div id=\"df-24a5489e-78f7-4173-b0df-8e6f4f91d307\">\n",
              "    <div class=\"colab-df-container\">\n",
              "      <div>\n",
              "<style scoped>\n",
              "    .dataframe tbody tr th:only-of-type {\n",
              "        vertical-align: middle;\n",
              "    }\n",
              "\n",
              "    .dataframe tbody tr th {\n",
              "        vertical-align: top;\n",
              "    }\n",
              "\n",
              "    .dataframe thead th {\n",
              "        text-align: right;\n",
              "    }\n",
              "</style>\n",
              "<table border=\"1\" class=\"dataframe\">\n",
              "  <thead>\n",
              "    <tr style=\"text-align: right;\">\n",
              "      <th></th>\n",
              "      <th>item_id</th>\n",
              "      <th>content_type</th>\n",
              "      <th>title</th>\n",
              "      <th>title_orig</th>\n",
              "      <th>release_year</th>\n",
              "      <th>genres</th>\n",
              "      <th>countries</th>\n",
              "      <th>for_kids</th>\n",
              "      <th>age_rating</th>\n",
              "      <th>studios</th>\n",
              "      <th>directors</th>\n",
              "      <th>actors</th>\n",
              "      <th>description</th>\n",
              "      <th>keywords</th>\n",
              "      <th>genre</th>\n",
              "      <th>country</th>\n",
              "    </tr>\n",
              "  </thead>\n",
              "  <tbody>\n",
              "    <tr>\n",
              "      <th>0</th>\n",
              "      <td>10711</td>\n",
              "      <td>film</td>\n",
              "      <td>Поговори с ней</td>\n",
              "      <td>Hable con ella</td>\n",
              "      <td>2002.0</td>\n",
              "      <td>драмы, зарубежные, детективы, мелодрамы</td>\n",
              "      <td>Испания</td>\n",
              "      <td>NaN</td>\n",
              "      <td>16.0</td>\n",
              "      <td>NaN</td>\n",
              "      <td>Педро Альмодовар</td>\n",
              "      <td>Адольфо Фернандес, Ана Фернандес, Дарио Гранди...</td>\n",
              "      <td>Мелодрама легендарного Педро Альмодовара «Пого...</td>\n",
              "      <td>Поговори, ней, 2002, Испания, друзья, любовь, ...</td>\n",
              "      <td>[драмы, зарубежные, детективы, мелодрамы]</td>\n",
              "      <td>[испания]</td>\n",
              "    </tr>\n",
              "    <tr>\n",
              "      <th>3</th>\n",
              "      <td>16268</td>\n",
              "      <td>film</td>\n",
              "      <td>Все решает мгновение</td>\n",
              "      <td>NaN</td>\n",
              "      <td>1978.0</td>\n",
              "      <td>драмы, спорт, советские, мелодрамы</td>\n",
              "      <td>СССР</td>\n",
              "      <td>NaN</td>\n",
              "      <td>12.0</td>\n",
              "      <td>Ленфильм</td>\n",
              "      <td>Виктор Садовский</td>\n",
              "      <td>Александр Абдулов, Александр Демьяненко, Алекс...</td>\n",
              "      <td>Расчетливая чаровница из советского кинохита «...</td>\n",
              "      <td>Все, решает, мгновение, 1978, СССР, сильные, ж...</td>\n",
              "      <td>[драмы, спорт, советские, мелодрамы]</td>\n",
              "      <td>[ссср]</td>\n",
              "    </tr>\n",
              "    <tr>\n",
              "      <th>6</th>\n",
              "      <td>8604</td>\n",
              "      <td>film</td>\n",
              "      <td>Третья попытка</td>\n",
              "      <td>NaN</td>\n",
              "      <td>2013.0</td>\n",
              "      <td>русские, мелодрамы</td>\n",
              "      <td>Россия</td>\n",
              "      <td>NaN</td>\n",
              "      <td>12.0</td>\n",
              "      <td>NaN</td>\n",
              "      <td>Игорь Мужжухин</td>\n",
              "      <td>Александр Асташенок, Александр Пашков, Андрей ...</td>\n",
              "      <td>Екатерина Рябова, Александр Асташенок и Алекса...</td>\n",
              "      <td>Третья, попытка, 2013, Россия, любовь, измена,...</td>\n",
              "      <td>[русские, мелодрамы]</td>\n",
              "      <td>[россия]</td>\n",
              "    </tr>\n",
              "    <tr>\n",
              "      <th>7</th>\n",
              "      <td>3526</td>\n",
              "      <td>film</td>\n",
              "      <td>Код «Красный»</td>\n",
              "      <td>Red Joan</td>\n",
              "      <td>2018.0</td>\n",
              "      <td>биография, экранизации, драмы, зарубежные, мел...</td>\n",
              "      <td>Великобритания</td>\n",
              "      <td>NaN</td>\n",
              "      <td>18.0</td>\n",
              "      <td>NaN</td>\n",
              "      <td>Тревор Нанн</td>\n",
              "      <td>Бен Майлз, Джуди Денч, Лоуренс Спэллман, Софи ...</td>\n",
              "      <td>Тихая английская пенсионерка Джоан попадает по...</td>\n",
              "      <td>Код, Красный, 2018, Великобритания, друзья, лю...</td>\n",
              "      <td>[биография, экранизации, драмы, зарубежные, ме...</td>\n",
              "      <td>[великобритания]</td>\n",
              "    </tr>\n",
              "    <tr>\n",
              "      <th>14</th>\n",
              "      <td>13109</td>\n",
              "      <td>film</td>\n",
              "      <td>Новый парень моей мамы</td>\n",
              "      <td>My Mom's New Boyfriend</td>\n",
              "      <td>2007.0</td>\n",
              "      <td>мелодрамы, зарубежные, криминал, комедии</td>\n",
              "      <td>Германия</td>\n",
              "      <td>NaN</td>\n",
              "      <td>12.0</td>\n",
              "      <td>NaN</td>\n",
              "      <td>Джордж Галло</td>\n",
              "      <td>Антонио Бандерас, Джон Вальдетеро, Кит Дэвид, ...</td>\n",
              "      <td>«Новый парень моей мамы» – американо-германска...</td>\n",
              "      <td>Новый, парень, моей, мамы, 2007, Германия, огр...</td>\n",
              "      <td>[мелодрамы, зарубежные, криминал, комедии]</td>\n",
              "      <td>[германия]</td>\n",
              "    </tr>\n",
              "    <tr>\n",
              "      <th>18</th>\n",
              "      <td>14986</td>\n",
              "      <td>film</td>\n",
              "      <td>Год золотой рыбки</td>\n",
              "      <td>Goldfish Year</td>\n",
              "      <td>2007.0</td>\n",
              "      <td>русские, мелодрамы</td>\n",
              "      <td>Украина</td>\n",
              "      <td>NaN</td>\n",
              "      <td>16.0</td>\n",
              "      <td>NaN</td>\n",
              "      <td>Андрей Красавин</td>\n",
              "      <td>Александр Самойленко, Елена Панова, Дмитрий Ул...</td>\n",
              "      <td>У очаровательной певицы Лады успех во всех жиз...</td>\n",
              "      <td>Год, золотой, рыбки, 2007, Украина</td>\n",
              "      <td>[русские, мелодрамы]</td>\n",
              "      <td>[украина]</td>\n",
              "    </tr>\n",
              "    <tr>\n",
              "      <th>27</th>\n",
              "      <td>7308</td>\n",
              "      <td>film</td>\n",
              "      <td>Дивергент</td>\n",
              "      <td>Divergent</td>\n",
              "      <td>2014.0</td>\n",
              "      <td>боевики, фантастика, детективы, мелодрамы</td>\n",
              "      <td>США</td>\n",
              "      <td>NaN</td>\n",
              "      <td>12.0</td>\n",
              "      <td>NaN</td>\n",
              "      <td>Нил Бёргер</td>\n",
              "      <td>Эшли Джадд, Тони Голдуин, Мэгги Кью, Кейт Уинс...</td>\n",
              "      <td>В антиутопическом Чикаго будущего существует о...</td>\n",
              "      <td>по роману или книге, будущее, антиутопия, футу...</td>\n",
              "      <td>[боевики, фантастика, детективы, мелодрамы]</td>\n",
              "      <td>[сша]</td>\n",
              "    </tr>\n",
              "    <tr>\n",
              "      <th>33</th>\n",
              "      <td>5780</td>\n",
              "      <td>film</td>\n",
              "      <td>Теория хаоса</td>\n",
              "      <td>Chaos Theory</td>\n",
              "      <td>2008.0</td>\n",
              "      <td>драмы, мелодрамы, комедии</td>\n",
              "      <td>США</td>\n",
              "      <td>NaN</td>\n",
              "      <td>12.0</td>\n",
              "      <td>NaN</td>\n",
              "      <td>Маркос Сига</td>\n",
              "      <td>Райан Рейнольдс, Эмили Мортимер, Стюарт Таунсе...</td>\n",
              "      <td>История о Фрэнке, славном парне, одержимом кар...</td>\n",
              "      <td>драка, нижнее белье, медицинский тест, жених, ...</td>\n",
              "      <td>[драмы, мелодрамы, комедии]</td>\n",
              "      <td>[сша]</td>\n",
              "    </tr>\n",
              "    <tr>\n",
              "      <th>38</th>\n",
              "      <td>6844</td>\n",
              "      <td>film</td>\n",
              "      <td>Голоса за кадром</td>\n",
              "      <td>Golden Voices</td>\n",
              "      <td>2019.0</td>\n",
              "      <td>драмы, мелодрамы, комедии</td>\n",
              "      <td>Израиль</td>\n",
              "      <td>NaN</td>\n",
              "      <td>16.0</td>\n",
              "      <td>NaN</td>\n",
              "      <td>Евгений Руман</td>\n",
              "      <td>Мария Белкина, Владимир Фридман, Эвелин Хагоэл...</td>\n",
              "      <td>«Золотые голоса» героев, известных актеров дуб...</td>\n",
              "      <td>христианский фильм, 2019, израиль, голоса, за,...</td>\n",
              "      <td>[драмы, мелодрамы, комедии]</td>\n",
              "      <td>[израиль]</td>\n",
              "    </tr>\n",
              "    <tr>\n",
              "      <th>39</th>\n",
              "      <td>830</td>\n",
              "      <td>film</td>\n",
              "      <td>Бетховен 2</td>\n",
              "      <td>Beethoven's 2nd</td>\n",
              "      <td>1993.0</td>\n",
              "      <td>мелодрамы, семейное, комедии</td>\n",
              "      <td>США</td>\n",
              "      <td>NaN</td>\n",
              "      <td>6.0</td>\n",
              "      <td>NaN</td>\n",
              "      <td>Род Дэниэл</td>\n",
              "      <td>Чарльз Гродин, Бонни Хант, Николь Том, Кристоф...</td>\n",
              "      <td>Псу, случайно названному именем великого компо...</td>\n",
              "      <td>калифорния, холдинги, продажа, щенок, собака, ...</td>\n",
              "      <td>[мелодрамы, семейное, комедии]</td>\n",
              "      <td>[сша]</td>\n",
              "    </tr>\n",
              "  </tbody>\n",
              "</table>\n",
              "</div>\n",
              "      <button class=\"colab-df-convert\" onclick=\"convertToInteractive('df-24a5489e-78f7-4173-b0df-8e6f4f91d307')\"\n",
              "              title=\"Convert this dataframe to an interactive table.\"\n",
              "              style=\"display:none;\">\n",
              "        \n",
              "  <svg xmlns=\"http://www.w3.org/2000/svg\" height=\"24px\"viewBox=\"0 0 24 24\"\n",
              "       width=\"24px\">\n",
              "    <path d=\"M0 0h24v24H0V0z\" fill=\"none\"/>\n",
              "    <path d=\"M18.56 5.44l.94 2.06.94-2.06 2.06-.94-2.06-.94-.94-2.06-.94 2.06-2.06.94zm-11 1L8.5 8.5l.94-2.06 2.06-.94-2.06-.94L8.5 2.5l-.94 2.06-2.06.94zm10 10l.94 2.06.94-2.06 2.06-.94-2.06-.94-.94-2.06-.94 2.06-2.06.94z\"/><path d=\"M17.41 7.96l-1.37-1.37c-.4-.4-.92-.59-1.43-.59-.52 0-1.04.2-1.43.59L10.3 9.45l-7.72 7.72c-.78.78-.78 2.05 0 2.83L4 21.41c.39.39.9.59 1.41.59.51 0 1.02-.2 1.41-.59l7.78-7.78 2.81-2.81c.8-.78.8-2.07 0-2.86zM5.41 20L4 18.59l7.72-7.72 1.47 1.35L5.41 20z\"/>\n",
              "  </svg>\n",
              "      </button>\n",
              "      \n",
              "  <style>\n",
              "    .colab-df-container {\n",
              "      display:flex;\n",
              "      flex-wrap:wrap;\n",
              "      gap: 12px;\n",
              "    }\n",
              "\n",
              "    .colab-df-convert {\n",
              "      background-color: #E8F0FE;\n",
              "      border: none;\n",
              "      border-radius: 50%;\n",
              "      cursor: pointer;\n",
              "      display: none;\n",
              "      fill: #1967D2;\n",
              "      height: 32px;\n",
              "      padding: 0 0 0 0;\n",
              "      width: 32px;\n",
              "    }\n",
              "\n",
              "    .colab-df-convert:hover {\n",
              "      background-color: #E2EBFA;\n",
              "      box-shadow: 0px 1px 2px rgba(60, 64, 67, 0.3), 0px 1px 3px 1px rgba(60, 64, 67, 0.15);\n",
              "      fill: #174EA6;\n",
              "    }\n",
              "\n",
              "    [theme=dark] .colab-df-convert {\n",
              "      background-color: #3B4455;\n",
              "      fill: #D2E3FC;\n",
              "    }\n",
              "\n",
              "    [theme=dark] .colab-df-convert:hover {\n",
              "      background-color: #434B5C;\n",
              "      box-shadow: 0px 1px 3px 1px rgba(0, 0, 0, 0.15);\n",
              "      filter: drop-shadow(0px 1px 2px rgba(0, 0, 0, 0.3));\n",
              "      fill: #FFFFFF;\n",
              "    }\n",
              "  </style>\n",
              "\n",
              "      <script>\n",
              "        const buttonEl =\n",
              "          document.querySelector('#df-24a5489e-78f7-4173-b0df-8e6f4f91d307 button.colab-df-convert');\n",
              "        buttonEl.style.display =\n",
              "          google.colab.kernel.accessAllowed ? 'block' : 'none';\n",
              "\n",
              "        async function convertToInteractive(key) {\n",
              "          const element = document.querySelector('#df-24a5489e-78f7-4173-b0df-8e6f4f91d307');\n",
              "          const dataTable =\n",
              "            await google.colab.kernel.invokeFunction('convertToInteractive',\n",
              "                                                     [key], {});\n",
              "          if (!dataTable) return;\n",
              "\n",
              "          const docLinkHtml = 'Like what you see? Visit the ' +\n",
              "            '<a target=\"_blank\" href=https://colab.research.google.com/notebooks/data_table.ipynb>data table notebook</a>'\n",
              "            + ' to learn more about interactive tables.';\n",
              "          element.innerHTML = '';\n",
              "          dataTable['output_type'] = 'display_data';\n",
              "          await google.colab.output.renderOutput(dataTable, element);\n",
              "          const docLink = document.createElement('div');\n",
              "          docLink.innerHTML = docLinkHtml;\n",
              "          element.appendChild(docLink);\n",
              "        }\n",
              "      </script>\n",
              "    </div>\n",
              "  </div>\n",
              "  "
            ]
          },
          "metadata": {},
          "execution_count": 102
        }
      ]
    },
    {
      "cell_type": "code",
      "source": [
        "inter_user_999 = pd.DataFrame({'user_id': [999]*10,\n",
        "                               'item_id': drama_array,\n",
        "                               'datetime': train['datetime'].sample(10).values,\n",
        "                               'weight': [3]*10,\n",
        "                               'watched_pct':[100.]*10}\n",
        "                              )\n",
        "inter_user_999"
      ],
      "metadata": {
        "colab": {
          "base_uri": "https://localhost:8080/",
          "height": 363
        },
        "outputId": "039c09f4-455e-4bed-c1c2-824dd07daf55",
        "id": "dc6GKyKBawqp"
      },
      "execution_count": 103,
      "outputs": [
        {
          "output_type": "execute_result",
          "data": {
            "text/plain": [
              "   user_id  item_id   datetime  weight  watched_pct\n",
              "0      999    10711 2021-04-17       3        100.0\n",
              "1      999    16268 2021-07-17       3        100.0\n",
              "2      999     8604 2021-05-22       3        100.0\n",
              "3      999     3526 2021-06-24       3        100.0\n",
              "4      999    13109 2021-05-15       3        100.0\n",
              "5      999    14986 2021-06-26       3        100.0\n",
              "6      999     7308 2021-04-25       3        100.0\n",
              "7      999     5780 2021-04-21       3        100.0\n",
              "8      999     6844 2021-07-03       3        100.0\n",
              "9      999      830 2021-04-02       3        100.0"
            ],
            "text/html": [
              "\n",
              "  <div id=\"df-35f2ec74-d76f-4346-8804-255937b076f0\">\n",
              "    <div class=\"colab-df-container\">\n",
              "      <div>\n",
              "<style scoped>\n",
              "    .dataframe tbody tr th:only-of-type {\n",
              "        vertical-align: middle;\n",
              "    }\n",
              "\n",
              "    .dataframe tbody tr th {\n",
              "        vertical-align: top;\n",
              "    }\n",
              "\n",
              "    .dataframe thead th {\n",
              "        text-align: right;\n",
              "    }\n",
              "</style>\n",
              "<table border=\"1\" class=\"dataframe\">\n",
              "  <thead>\n",
              "    <tr style=\"text-align: right;\">\n",
              "      <th></th>\n",
              "      <th>user_id</th>\n",
              "      <th>item_id</th>\n",
              "      <th>datetime</th>\n",
              "      <th>weight</th>\n",
              "      <th>watched_pct</th>\n",
              "    </tr>\n",
              "  </thead>\n",
              "  <tbody>\n",
              "    <tr>\n",
              "      <th>0</th>\n",
              "      <td>999</td>\n",
              "      <td>10711</td>\n",
              "      <td>2021-04-17</td>\n",
              "      <td>3</td>\n",
              "      <td>100.0</td>\n",
              "    </tr>\n",
              "    <tr>\n",
              "      <th>1</th>\n",
              "      <td>999</td>\n",
              "      <td>16268</td>\n",
              "      <td>2021-07-17</td>\n",
              "      <td>3</td>\n",
              "      <td>100.0</td>\n",
              "    </tr>\n",
              "    <tr>\n",
              "      <th>2</th>\n",
              "      <td>999</td>\n",
              "      <td>8604</td>\n",
              "      <td>2021-05-22</td>\n",
              "      <td>3</td>\n",
              "      <td>100.0</td>\n",
              "    </tr>\n",
              "    <tr>\n",
              "      <th>3</th>\n",
              "      <td>999</td>\n",
              "      <td>3526</td>\n",
              "      <td>2021-06-24</td>\n",
              "      <td>3</td>\n",
              "      <td>100.0</td>\n",
              "    </tr>\n",
              "    <tr>\n",
              "      <th>4</th>\n",
              "      <td>999</td>\n",
              "      <td>13109</td>\n",
              "      <td>2021-05-15</td>\n",
              "      <td>3</td>\n",
              "      <td>100.0</td>\n",
              "    </tr>\n",
              "    <tr>\n",
              "      <th>5</th>\n",
              "      <td>999</td>\n",
              "      <td>14986</td>\n",
              "      <td>2021-06-26</td>\n",
              "      <td>3</td>\n",
              "      <td>100.0</td>\n",
              "    </tr>\n",
              "    <tr>\n",
              "      <th>6</th>\n",
              "      <td>999</td>\n",
              "      <td>7308</td>\n",
              "      <td>2021-04-25</td>\n",
              "      <td>3</td>\n",
              "      <td>100.0</td>\n",
              "    </tr>\n",
              "    <tr>\n",
              "      <th>7</th>\n",
              "      <td>999</td>\n",
              "      <td>5780</td>\n",
              "      <td>2021-04-21</td>\n",
              "      <td>3</td>\n",
              "      <td>100.0</td>\n",
              "    </tr>\n",
              "    <tr>\n",
              "      <th>8</th>\n",
              "      <td>999</td>\n",
              "      <td>6844</td>\n",
              "      <td>2021-07-03</td>\n",
              "      <td>3</td>\n",
              "      <td>100.0</td>\n",
              "    </tr>\n",
              "    <tr>\n",
              "      <th>9</th>\n",
              "      <td>999</td>\n",
              "      <td>830</td>\n",
              "      <td>2021-04-02</td>\n",
              "      <td>3</td>\n",
              "      <td>100.0</td>\n",
              "    </tr>\n",
              "  </tbody>\n",
              "</table>\n",
              "</div>\n",
              "      <button class=\"colab-df-convert\" onclick=\"convertToInteractive('df-35f2ec74-d76f-4346-8804-255937b076f0')\"\n",
              "              title=\"Convert this dataframe to an interactive table.\"\n",
              "              style=\"display:none;\">\n",
              "        \n",
              "  <svg xmlns=\"http://www.w3.org/2000/svg\" height=\"24px\"viewBox=\"0 0 24 24\"\n",
              "       width=\"24px\">\n",
              "    <path d=\"M0 0h24v24H0V0z\" fill=\"none\"/>\n",
              "    <path d=\"M18.56 5.44l.94 2.06.94-2.06 2.06-.94-2.06-.94-.94-2.06-.94 2.06-2.06.94zm-11 1L8.5 8.5l.94-2.06 2.06-.94-2.06-.94L8.5 2.5l-.94 2.06-2.06.94zm10 10l.94 2.06.94-2.06 2.06-.94-2.06-.94-.94-2.06-.94 2.06-2.06.94z\"/><path d=\"M17.41 7.96l-1.37-1.37c-.4-.4-.92-.59-1.43-.59-.52 0-1.04.2-1.43.59L10.3 9.45l-7.72 7.72c-.78.78-.78 2.05 0 2.83L4 21.41c.39.39.9.59 1.41.59.51 0 1.02-.2 1.41-.59l7.78-7.78 2.81-2.81c.8-.78.8-2.07 0-2.86zM5.41 20L4 18.59l7.72-7.72 1.47 1.35L5.41 20z\"/>\n",
              "  </svg>\n",
              "      </button>\n",
              "      \n",
              "  <style>\n",
              "    .colab-df-container {\n",
              "      display:flex;\n",
              "      flex-wrap:wrap;\n",
              "      gap: 12px;\n",
              "    }\n",
              "\n",
              "    .colab-df-convert {\n",
              "      background-color: #E8F0FE;\n",
              "      border: none;\n",
              "      border-radius: 50%;\n",
              "      cursor: pointer;\n",
              "      display: none;\n",
              "      fill: #1967D2;\n",
              "      height: 32px;\n",
              "      padding: 0 0 0 0;\n",
              "      width: 32px;\n",
              "    }\n",
              "\n",
              "    .colab-df-convert:hover {\n",
              "      background-color: #E2EBFA;\n",
              "      box-shadow: 0px 1px 2px rgba(60, 64, 67, 0.3), 0px 1px 3px 1px rgba(60, 64, 67, 0.15);\n",
              "      fill: #174EA6;\n",
              "    }\n",
              "\n",
              "    [theme=dark] .colab-df-convert {\n",
              "      background-color: #3B4455;\n",
              "      fill: #D2E3FC;\n",
              "    }\n",
              "\n",
              "    [theme=dark] .colab-df-convert:hover {\n",
              "      background-color: #434B5C;\n",
              "      box-shadow: 0px 1px 3px 1px rgba(0, 0, 0, 0.15);\n",
              "      filter: drop-shadow(0px 1px 2px rgba(0, 0, 0, 0.3));\n",
              "      fill: #FFFFFF;\n",
              "    }\n",
              "  </style>\n",
              "\n",
              "      <script>\n",
              "        const buttonEl =\n",
              "          document.querySelector('#df-35f2ec74-d76f-4346-8804-255937b076f0 button.colab-df-convert');\n",
              "        buttonEl.style.display =\n",
              "          google.colab.kernel.accessAllowed ? 'block' : 'none';\n",
              "\n",
              "        async function convertToInteractive(key) {\n",
              "          const element = document.querySelector('#df-35f2ec74-d76f-4346-8804-255937b076f0');\n",
              "          const dataTable =\n",
              "            await google.colab.kernel.invokeFunction('convertToInteractive',\n",
              "                                                     [key], {});\n",
              "          if (!dataTable) return;\n",
              "\n",
              "          const docLinkHtml = 'Like what you see? Visit the ' +\n",
              "            '<a target=\"_blank\" href=https://colab.research.google.com/notebooks/data_table.ipynb>data table notebook</a>'\n",
              "            + ' to learn more about interactive tables.';\n",
              "          element.innerHTML = '';\n",
              "          dataTable['output_type'] = 'display_data';\n",
              "          await google.colab.output.renderOutput(dataTable, element);\n",
              "          const docLink = document.createElement('div');\n",
              "          docLink.innerHTML = docLinkHtml;\n",
              "          element.appendChild(docLink);\n",
              "        }\n",
              "      </script>\n",
              "    </div>\n",
              "  </div>\n",
              "  "
            ]
          },
          "metadata": {},
          "execution_count": 103
        }
      ]
    },
    {
      "cell_type": "markdown",
      "source": [
        "И последний аватар"
      ],
      "metadata": {
        "id": "wiUGo8uYbMRy"
      }
    },
    {
      "cell_type": "code",
      "source": [
        "documental_array = item_features.query('value == \"документальное\"')['id'].head(10).values"
      ],
      "metadata": {
        "id": "Wt-ubXRzavzn"
      },
      "execution_count": 104,
      "outputs": []
    },
    {
      "cell_type": "code",
      "source": [
        "items[items['item_id'].isin(documental_array)]"
      ],
      "metadata": {
        "colab": {
          "base_uri": "https://localhost:8080/",
          "height": 1000
        },
        "outputId": "60e2a39e-e13b-4c0c-fc10-1edb4bea5391",
        "id": "0G6f334eavzo"
      },
      "execution_count": 105,
      "outputs": [
        {
          "output_type": "execute_result",
          "data": {
            "text/plain": [
              "     item_id content_type                                              title  \\\n",
              "31     10111         film                Андрей Тарковский. Кино как молитва   \n",
              "50      3965       series                               Уайат Сенак разрулит   \n",
              "116     2753         film  [4К] Уникальные скульптуры, искусство Асматов....   \n",
              "117     6731         film      [4К] Спокойные воды Бэ Д'юпи. Новая Каледония   \n",
              "127     8832         film                               Медитация орангутана   \n",
              "150    11015         film                     Не укради. Возвращение святыни   \n",
              "178      345         film                               Однажды... Тарантино   \n",
              "183    15850         film            [4К] Вид сверху. ЮАР - На спине дракона   \n",
              "189     5210         film       Альдабра.Путешествие к таинственному острову   \n",
              "195     5091         film     [4К] Наветренные острова – жемчужина Полинезии   \n",
              "\n",
              "                                            title_orig  release_year  \\\n",
              "31                   Andrey Tarkovsky. A Cinema Prayer        2019.0   \n",
              "50                           Wyatt Cenac Problem Areas        2018.0   \n",
              "116       Unique sculptures, the Asmat art. West Papua        2020.0   \n",
              "117                                            Ubi bay        2020.0   \n",
              "127                         The orangutan's meditation        2020.0   \n",
              "150                                                NaN        2018.0   \n",
              "178                               QT8: The First Eight        2019.0   \n",
              "183  The view from above.South Africa - On the drag...        2018.0   \n",
              "189                       Aldabra: Once Upon an Island        2016.0   \n",
              "195                  Windwards Islands, Polynesian gem        2020.0   \n",
              "\n",
              "                                    genres               countries  for_kids  \\\n",
              "31                          документальное  Россия, Италия, Швеция       NaN   \n",
              "50                          документальное                     США       NaN   \n",
              "116                         документальное                 Франция       NaN   \n",
              "117                         документальное                 Франция       NaN   \n",
              "127                         документальное                 Франция       NaN   \n",
              "150  исторические, русские, документальное                  Россия       NaN   \n",
              "178              биография, документальное                     США       NaN   \n",
              "183                         документальное                 Франция       NaN   \n",
              "189  семейное, приключения, документальное                   Чехия       NaN   \n",
              "195                         документальное                 Франция       NaN   \n",
              "\n",
              "     age_rating studios             directors  \\\n",
              "31         12.0     NaN  Андрей А. Тарковский   \n",
              "50         18.0     NaN           Уайат Сенак   \n",
              "116        12.0     NaN        Оливье Шиабоду   \n",
              "117        12.0     NaN        Оливье Шиабоду   \n",
              "127        12.0     NaN        Оливье Шиабоду   \n",
              "150        12.0     NaN         Николай Ахаян   \n",
              "178        18.0     NaN              Тара Вуд   \n",
              "183        12.0     NaN        Бернар Геррини   \n",
              "189         6.0     NaN           Стив Лихтаг   \n",
              "195        12.0     NaN        Оливье Шиабоду   \n",
              "\n",
              "                                                actors  \\\n",
              "31                                                 NaN   \n",
              "50                                         Уайат Сенак   \n",
              "116                                                NaN   \n",
              "117                                                NaN   \n",
              "127                                                NaN   \n",
              "150                                                NaN   \n",
              "178  Зои Белл, Луис Блэк, Брюс Дерн, Роберт Форстер...   \n",
              "183                                                NaN   \n",
              "189                      Пирс Броснан, Ольдржих Кайзер   \n",
              "195                                                NaN   \n",
              "\n",
              "                                           description  \\\n",
              "31   Рассказ режиссера о самом себе. В основе фильм...   \n",
              "50   Остроумное шоу о том, что нас окружает. В нем ...   \n",
              "116  Поскольку племя асматов имеет воинское прошлое...   \n",
              "117  Расположенный на севере острова Кутомо, залив ...   \n",
              "127  Орангутанг очень умён. Проживая большую часть ...   \n",
              "150  Документальный фильм о преступлении, произошед...   \n",
              "178  Откровенное путешествие в мир одного из самых ...   \n",
              "183  Земля необъятных просторов и крайностей, заклю...   \n",
              "189  Присоединяйтесь к полной приключений 3D экспед...   \n",
              "195  Острова Общества и Наветренные острова являютс...   \n",
              "\n",
              "                                              keywords  \\\n",
              "31   Советский союз, тоскана, италия, портрет худож...   \n",
              "50                   Уайат, Сенак, разрулит, 2018, США   \n",
              "116  2020, франция, 4к, уникальные, скульптуры, иск...   \n",
              "117  , 2020, франция, 4к, спокойные, воды, бэ, юпи,...   \n",
              "127               2020, франция, медитация, орангутана   \n",
              "150  Не, укради, Возвращение, святыни, 2018, Россия...   \n",
              "178  кинобизнес, поп-культура, биография, восхожден...   \n",
              "183  2018, франция, 4к, вид, сверху, юар, на, спине...   \n",
              "189  сейшельские острова, атолл альдабра, 2016, чех...   \n",
              "195  2020, франция, 4к, наветренные, острова, жемчу...   \n",
              "\n",
              "                                       genre                   country  \n",
              "31                          [документальное]  [россия, италия, швеция]  \n",
              "50                          [документальное]                     [сша]  \n",
              "116                         [документальное]                 [франция]  \n",
              "117                         [документальное]                 [франция]  \n",
              "127                         [документальное]                 [франция]  \n",
              "150  [исторические, русские, документальное]                  [россия]  \n",
              "178              [биография, документальное]                     [сша]  \n",
              "183                         [документальное]                 [франция]  \n",
              "189  [семейное, приключения, документальное]                   [чехия]  \n",
              "195                         [документальное]                 [франция]  "
            ],
            "text/html": [
              "\n",
              "  <div id=\"df-5e6cf078-53c5-4e1e-a97e-5ca288ac9fa6\">\n",
              "    <div class=\"colab-df-container\">\n",
              "      <div>\n",
              "<style scoped>\n",
              "    .dataframe tbody tr th:only-of-type {\n",
              "        vertical-align: middle;\n",
              "    }\n",
              "\n",
              "    .dataframe tbody tr th {\n",
              "        vertical-align: top;\n",
              "    }\n",
              "\n",
              "    .dataframe thead th {\n",
              "        text-align: right;\n",
              "    }\n",
              "</style>\n",
              "<table border=\"1\" class=\"dataframe\">\n",
              "  <thead>\n",
              "    <tr style=\"text-align: right;\">\n",
              "      <th></th>\n",
              "      <th>item_id</th>\n",
              "      <th>content_type</th>\n",
              "      <th>title</th>\n",
              "      <th>title_orig</th>\n",
              "      <th>release_year</th>\n",
              "      <th>genres</th>\n",
              "      <th>countries</th>\n",
              "      <th>for_kids</th>\n",
              "      <th>age_rating</th>\n",
              "      <th>studios</th>\n",
              "      <th>directors</th>\n",
              "      <th>actors</th>\n",
              "      <th>description</th>\n",
              "      <th>keywords</th>\n",
              "      <th>genre</th>\n",
              "      <th>country</th>\n",
              "    </tr>\n",
              "  </thead>\n",
              "  <tbody>\n",
              "    <tr>\n",
              "      <th>31</th>\n",
              "      <td>10111</td>\n",
              "      <td>film</td>\n",
              "      <td>Андрей Тарковский. Кино как молитва</td>\n",
              "      <td>Andrey Tarkovsky. A Cinema Prayer</td>\n",
              "      <td>2019.0</td>\n",
              "      <td>документальное</td>\n",
              "      <td>Россия, Италия, Швеция</td>\n",
              "      <td>NaN</td>\n",
              "      <td>12.0</td>\n",
              "      <td>NaN</td>\n",
              "      <td>Андрей А. Тарковский</td>\n",
              "      <td>NaN</td>\n",
              "      <td>Рассказ режиссера о самом себе. В основе фильм...</td>\n",
              "      <td>Советский союз, тоскана, италия, портрет худож...</td>\n",
              "      <td>[документальное]</td>\n",
              "      <td>[россия, италия, швеция]</td>\n",
              "    </tr>\n",
              "    <tr>\n",
              "      <th>50</th>\n",
              "      <td>3965</td>\n",
              "      <td>series</td>\n",
              "      <td>Уайат Сенак разрулит</td>\n",
              "      <td>Wyatt Cenac Problem Areas</td>\n",
              "      <td>2018.0</td>\n",
              "      <td>документальное</td>\n",
              "      <td>США</td>\n",
              "      <td>NaN</td>\n",
              "      <td>18.0</td>\n",
              "      <td>NaN</td>\n",
              "      <td>Уайат Сенак</td>\n",
              "      <td>Уайат Сенак</td>\n",
              "      <td>Остроумное шоу о том, что нас окружает. В нем ...</td>\n",
              "      <td>Уайат, Сенак, разрулит, 2018, США</td>\n",
              "      <td>[документальное]</td>\n",
              "      <td>[сша]</td>\n",
              "    </tr>\n",
              "    <tr>\n",
              "      <th>116</th>\n",
              "      <td>2753</td>\n",
              "      <td>film</td>\n",
              "      <td>[4К] Уникальные скульптуры, искусство Асматов....</td>\n",
              "      <td>Unique sculptures, the Asmat art. West Papua</td>\n",
              "      <td>2020.0</td>\n",
              "      <td>документальное</td>\n",
              "      <td>Франция</td>\n",
              "      <td>NaN</td>\n",
              "      <td>12.0</td>\n",
              "      <td>NaN</td>\n",
              "      <td>Оливье Шиабоду</td>\n",
              "      <td>NaN</td>\n",
              "      <td>Поскольку племя асматов имеет воинское прошлое...</td>\n",
              "      <td>2020, франция, 4к, уникальные, скульптуры, иск...</td>\n",
              "      <td>[документальное]</td>\n",
              "      <td>[франция]</td>\n",
              "    </tr>\n",
              "    <tr>\n",
              "      <th>117</th>\n",
              "      <td>6731</td>\n",
              "      <td>film</td>\n",
              "      <td>[4К] Спокойные воды Бэ Д'юпи. Новая Каледония</td>\n",
              "      <td>Ubi bay</td>\n",
              "      <td>2020.0</td>\n",
              "      <td>документальное</td>\n",
              "      <td>Франция</td>\n",
              "      <td>NaN</td>\n",
              "      <td>12.0</td>\n",
              "      <td>NaN</td>\n",
              "      <td>Оливье Шиабоду</td>\n",
              "      <td>NaN</td>\n",
              "      <td>Расположенный на севере острова Кутомо, залив ...</td>\n",
              "      <td>, 2020, франция, 4к, спокойные, воды, бэ, юпи,...</td>\n",
              "      <td>[документальное]</td>\n",
              "      <td>[франция]</td>\n",
              "    </tr>\n",
              "    <tr>\n",
              "      <th>127</th>\n",
              "      <td>8832</td>\n",
              "      <td>film</td>\n",
              "      <td>Медитация орангутана</td>\n",
              "      <td>The orangutan's meditation</td>\n",
              "      <td>2020.0</td>\n",
              "      <td>документальное</td>\n",
              "      <td>Франция</td>\n",
              "      <td>NaN</td>\n",
              "      <td>12.0</td>\n",
              "      <td>NaN</td>\n",
              "      <td>Оливье Шиабоду</td>\n",
              "      <td>NaN</td>\n",
              "      <td>Орангутанг очень умён. Проживая большую часть ...</td>\n",
              "      <td>2020, франция, медитация, орангутана</td>\n",
              "      <td>[документальное]</td>\n",
              "      <td>[франция]</td>\n",
              "    </tr>\n",
              "    <tr>\n",
              "      <th>150</th>\n",
              "      <td>11015</td>\n",
              "      <td>film</td>\n",
              "      <td>Не укради. Возвращение святыни</td>\n",
              "      <td>NaN</td>\n",
              "      <td>2018.0</td>\n",
              "      <td>исторические, русские, документальное</td>\n",
              "      <td>Россия</td>\n",
              "      <td>NaN</td>\n",
              "      <td>12.0</td>\n",
              "      <td>NaN</td>\n",
              "      <td>Николай Ахаян</td>\n",
              "      <td>NaN</td>\n",
              "      <td>Документальный фильм о преступлении, произошед...</td>\n",
              "      <td>Не, укради, Возвращение, святыни, 2018, Россия...</td>\n",
              "      <td>[исторические, русские, документальное]</td>\n",
              "      <td>[россия]</td>\n",
              "    </tr>\n",
              "    <tr>\n",
              "      <th>178</th>\n",
              "      <td>345</td>\n",
              "      <td>film</td>\n",
              "      <td>Однажды... Тарантино</td>\n",
              "      <td>QT8: The First Eight</td>\n",
              "      <td>2019.0</td>\n",
              "      <td>биография, документальное</td>\n",
              "      <td>США</td>\n",
              "      <td>NaN</td>\n",
              "      <td>18.0</td>\n",
              "      <td>NaN</td>\n",
              "      <td>Тара Вуд</td>\n",
              "      <td>Зои Белл, Луис Блэк, Брюс Дерн, Роберт Форстер...</td>\n",
              "      <td>Откровенное путешествие в мир одного из самых ...</td>\n",
              "      <td>кинобизнес, поп-культура, биография, восхожден...</td>\n",
              "      <td>[биография, документальное]</td>\n",
              "      <td>[сша]</td>\n",
              "    </tr>\n",
              "    <tr>\n",
              "      <th>183</th>\n",
              "      <td>15850</td>\n",
              "      <td>film</td>\n",
              "      <td>[4К] Вид сверху. ЮАР - На спине дракона</td>\n",
              "      <td>The view from above.South Africa - On the drag...</td>\n",
              "      <td>2018.0</td>\n",
              "      <td>документальное</td>\n",
              "      <td>Франция</td>\n",
              "      <td>NaN</td>\n",
              "      <td>12.0</td>\n",
              "      <td>NaN</td>\n",
              "      <td>Бернар Геррини</td>\n",
              "      <td>NaN</td>\n",
              "      <td>Земля необъятных просторов и крайностей, заклю...</td>\n",
              "      <td>2018, франция, 4к, вид, сверху, юар, на, спине...</td>\n",
              "      <td>[документальное]</td>\n",
              "      <td>[франция]</td>\n",
              "    </tr>\n",
              "    <tr>\n",
              "      <th>189</th>\n",
              "      <td>5210</td>\n",
              "      <td>film</td>\n",
              "      <td>Альдабра.Путешествие к таинственному острову</td>\n",
              "      <td>Aldabra: Once Upon an Island</td>\n",
              "      <td>2016.0</td>\n",
              "      <td>семейное, приключения, документальное</td>\n",
              "      <td>Чехия</td>\n",
              "      <td>NaN</td>\n",
              "      <td>6.0</td>\n",
              "      <td>NaN</td>\n",
              "      <td>Стив Лихтаг</td>\n",
              "      <td>Пирс Броснан, Ольдржих Кайзер</td>\n",
              "      <td>Присоединяйтесь к полной приключений 3D экспед...</td>\n",
              "      <td>сейшельские острова, атолл альдабра, 2016, чех...</td>\n",
              "      <td>[семейное, приключения, документальное]</td>\n",
              "      <td>[чехия]</td>\n",
              "    </tr>\n",
              "    <tr>\n",
              "      <th>195</th>\n",
              "      <td>5091</td>\n",
              "      <td>film</td>\n",
              "      <td>[4К] Наветренные острова – жемчужина Полинезии</td>\n",
              "      <td>Windwards Islands, Polynesian gem</td>\n",
              "      <td>2020.0</td>\n",
              "      <td>документальное</td>\n",
              "      <td>Франция</td>\n",
              "      <td>NaN</td>\n",
              "      <td>12.0</td>\n",
              "      <td>NaN</td>\n",
              "      <td>Оливье Шиабоду</td>\n",
              "      <td>NaN</td>\n",
              "      <td>Острова Общества и Наветренные острова являютс...</td>\n",
              "      <td>2020, франция, 4к, наветренные, острова, жемчу...</td>\n",
              "      <td>[документальное]</td>\n",
              "      <td>[франция]</td>\n",
              "    </tr>\n",
              "  </tbody>\n",
              "</table>\n",
              "</div>\n",
              "      <button class=\"colab-df-convert\" onclick=\"convertToInteractive('df-5e6cf078-53c5-4e1e-a97e-5ca288ac9fa6')\"\n",
              "              title=\"Convert this dataframe to an interactive table.\"\n",
              "              style=\"display:none;\">\n",
              "        \n",
              "  <svg xmlns=\"http://www.w3.org/2000/svg\" height=\"24px\"viewBox=\"0 0 24 24\"\n",
              "       width=\"24px\">\n",
              "    <path d=\"M0 0h24v24H0V0z\" fill=\"none\"/>\n",
              "    <path d=\"M18.56 5.44l.94 2.06.94-2.06 2.06-.94-2.06-.94-.94-2.06-.94 2.06-2.06.94zm-11 1L8.5 8.5l.94-2.06 2.06-.94-2.06-.94L8.5 2.5l-.94 2.06-2.06.94zm10 10l.94 2.06.94-2.06 2.06-.94-2.06-.94-.94-2.06-.94 2.06-2.06.94z\"/><path d=\"M17.41 7.96l-1.37-1.37c-.4-.4-.92-.59-1.43-.59-.52 0-1.04.2-1.43.59L10.3 9.45l-7.72 7.72c-.78.78-.78 2.05 0 2.83L4 21.41c.39.39.9.59 1.41.59.51 0 1.02-.2 1.41-.59l7.78-7.78 2.81-2.81c.8-.78.8-2.07 0-2.86zM5.41 20L4 18.59l7.72-7.72 1.47 1.35L5.41 20z\"/>\n",
              "  </svg>\n",
              "      </button>\n",
              "      \n",
              "  <style>\n",
              "    .colab-df-container {\n",
              "      display:flex;\n",
              "      flex-wrap:wrap;\n",
              "      gap: 12px;\n",
              "    }\n",
              "\n",
              "    .colab-df-convert {\n",
              "      background-color: #E8F0FE;\n",
              "      border: none;\n",
              "      border-radius: 50%;\n",
              "      cursor: pointer;\n",
              "      display: none;\n",
              "      fill: #1967D2;\n",
              "      height: 32px;\n",
              "      padding: 0 0 0 0;\n",
              "      width: 32px;\n",
              "    }\n",
              "\n",
              "    .colab-df-convert:hover {\n",
              "      background-color: #E2EBFA;\n",
              "      box-shadow: 0px 1px 2px rgba(60, 64, 67, 0.3), 0px 1px 3px 1px rgba(60, 64, 67, 0.15);\n",
              "      fill: #174EA6;\n",
              "    }\n",
              "\n",
              "    [theme=dark] .colab-df-convert {\n",
              "      background-color: #3B4455;\n",
              "      fill: #D2E3FC;\n",
              "    }\n",
              "\n",
              "    [theme=dark] .colab-df-convert:hover {\n",
              "      background-color: #434B5C;\n",
              "      box-shadow: 0px 1px 3px 1px rgba(0, 0, 0, 0.15);\n",
              "      filter: drop-shadow(0px 1px 2px rgba(0, 0, 0, 0.3));\n",
              "      fill: #FFFFFF;\n",
              "    }\n",
              "  </style>\n",
              "\n",
              "      <script>\n",
              "        const buttonEl =\n",
              "          document.querySelector('#df-5e6cf078-53c5-4e1e-a97e-5ca288ac9fa6 button.colab-df-convert');\n",
              "        buttonEl.style.display =\n",
              "          google.colab.kernel.accessAllowed ? 'block' : 'none';\n",
              "\n",
              "        async function convertToInteractive(key) {\n",
              "          const element = document.querySelector('#df-5e6cf078-53c5-4e1e-a97e-5ca288ac9fa6');\n",
              "          const dataTable =\n",
              "            await google.colab.kernel.invokeFunction('convertToInteractive',\n",
              "                                                     [key], {});\n",
              "          if (!dataTable) return;\n",
              "\n",
              "          const docLinkHtml = 'Like what you see? Visit the ' +\n",
              "            '<a target=\"_blank\" href=https://colab.research.google.com/notebooks/data_table.ipynb>data table notebook</a>'\n",
              "            + ' to learn more about interactive tables.';\n",
              "          element.innerHTML = '';\n",
              "          dataTable['output_type'] = 'display_data';\n",
              "          await google.colab.output.renderOutput(dataTable, element);\n",
              "          const docLink = document.createElement('div');\n",
              "          docLink.innerHTML = docLinkHtml;\n",
              "          element.appendChild(docLink);\n",
              "        }\n",
              "      </script>\n",
              "    </div>\n",
              "  </div>\n",
              "  "
            ]
          },
          "metadata": {},
          "execution_count": 105
        }
      ]
    },
    {
      "cell_type": "code",
      "source": [
        "inter_user_777 = pd.DataFrame({'user_id': [777]*10,\n",
        "                               'item_id': documental_array,\n",
        "                               'datetime': train['datetime'].sample(10).values,\n",
        "                               'weight': [3]*10,\n",
        "                               'watched_pct':[100.]*10}\n",
        "                              )\n",
        "inter_user_777"
      ],
      "metadata": {
        "colab": {
          "base_uri": "https://localhost:8080/",
          "height": 363
        },
        "outputId": "12b04037-1185-4fec-ea4d-b157f237ee2b",
        "id": "V3NpgU6vavzo"
      },
      "execution_count": 106,
      "outputs": [
        {
          "output_type": "execute_result",
          "data": {
            "text/plain": [
              "   user_id  item_id   datetime  weight  watched_pct\n",
              "0      777    10111 2021-07-22       3        100.0\n",
              "1      777     3965 2021-05-30       3        100.0\n",
              "2      777     2753 2021-05-03       3        100.0\n",
              "3      777     6731 2021-05-27       3        100.0\n",
              "4      777     8832 2021-06-29       3        100.0\n",
              "5      777    11015 2021-04-04       3        100.0\n",
              "6      777      345 2021-06-13       3        100.0\n",
              "7      777    15850 2021-04-17       3        100.0\n",
              "8      777     5210 2021-07-08       3        100.0\n",
              "9      777     5091 2021-06-07       3        100.0"
            ],
            "text/html": [
              "\n",
              "  <div id=\"df-1cba23d7-2043-412a-9768-dc9d2908976b\">\n",
              "    <div class=\"colab-df-container\">\n",
              "      <div>\n",
              "<style scoped>\n",
              "    .dataframe tbody tr th:only-of-type {\n",
              "        vertical-align: middle;\n",
              "    }\n",
              "\n",
              "    .dataframe tbody tr th {\n",
              "        vertical-align: top;\n",
              "    }\n",
              "\n",
              "    .dataframe thead th {\n",
              "        text-align: right;\n",
              "    }\n",
              "</style>\n",
              "<table border=\"1\" class=\"dataframe\">\n",
              "  <thead>\n",
              "    <tr style=\"text-align: right;\">\n",
              "      <th></th>\n",
              "      <th>user_id</th>\n",
              "      <th>item_id</th>\n",
              "      <th>datetime</th>\n",
              "      <th>weight</th>\n",
              "      <th>watched_pct</th>\n",
              "    </tr>\n",
              "  </thead>\n",
              "  <tbody>\n",
              "    <tr>\n",
              "      <th>0</th>\n",
              "      <td>777</td>\n",
              "      <td>10111</td>\n",
              "      <td>2021-07-22</td>\n",
              "      <td>3</td>\n",
              "      <td>100.0</td>\n",
              "    </tr>\n",
              "    <tr>\n",
              "      <th>1</th>\n",
              "      <td>777</td>\n",
              "      <td>3965</td>\n",
              "      <td>2021-05-30</td>\n",
              "      <td>3</td>\n",
              "      <td>100.0</td>\n",
              "    </tr>\n",
              "    <tr>\n",
              "      <th>2</th>\n",
              "      <td>777</td>\n",
              "      <td>2753</td>\n",
              "      <td>2021-05-03</td>\n",
              "      <td>3</td>\n",
              "      <td>100.0</td>\n",
              "    </tr>\n",
              "    <tr>\n",
              "      <th>3</th>\n",
              "      <td>777</td>\n",
              "      <td>6731</td>\n",
              "      <td>2021-05-27</td>\n",
              "      <td>3</td>\n",
              "      <td>100.0</td>\n",
              "    </tr>\n",
              "    <tr>\n",
              "      <th>4</th>\n",
              "      <td>777</td>\n",
              "      <td>8832</td>\n",
              "      <td>2021-06-29</td>\n",
              "      <td>3</td>\n",
              "      <td>100.0</td>\n",
              "    </tr>\n",
              "    <tr>\n",
              "      <th>5</th>\n",
              "      <td>777</td>\n",
              "      <td>11015</td>\n",
              "      <td>2021-04-04</td>\n",
              "      <td>3</td>\n",
              "      <td>100.0</td>\n",
              "    </tr>\n",
              "    <tr>\n",
              "      <th>6</th>\n",
              "      <td>777</td>\n",
              "      <td>345</td>\n",
              "      <td>2021-06-13</td>\n",
              "      <td>3</td>\n",
              "      <td>100.0</td>\n",
              "    </tr>\n",
              "    <tr>\n",
              "      <th>7</th>\n",
              "      <td>777</td>\n",
              "      <td>15850</td>\n",
              "      <td>2021-04-17</td>\n",
              "      <td>3</td>\n",
              "      <td>100.0</td>\n",
              "    </tr>\n",
              "    <tr>\n",
              "      <th>8</th>\n",
              "      <td>777</td>\n",
              "      <td>5210</td>\n",
              "      <td>2021-07-08</td>\n",
              "      <td>3</td>\n",
              "      <td>100.0</td>\n",
              "    </tr>\n",
              "    <tr>\n",
              "      <th>9</th>\n",
              "      <td>777</td>\n",
              "      <td>5091</td>\n",
              "      <td>2021-06-07</td>\n",
              "      <td>3</td>\n",
              "      <td>100.0</td>\n",
              "    </tr>\n",
              "  </tbody>\n",
              "</table>\n",
              "</div>\n",
              "      <button class=\"colab-df-convert\" onclick=\"convertToInteractive('df-1cba23d7-2043-412a-9768-dc9d2908976b')\"\n",
              "              title=\"Convert this dataframe to an interactive table.\"\n",
              "              style=\"display:none;\">\n",
              "        \n",
              "  <svg xmlns=\"http://www.w3.org/2000/svg\" height=\"24px\"viewBox=\"0 0 24 24\"\n",
              "       width=\"24px\">\n",
              "    <path d=\"M0 0h24v24H0V0z\" fill=\"none\"/>\n",
              "    <path d=\"M18.56 5.44l.94 2.06.94-2.06 2.06-.94-2.06-.94-.94-2.06-.94 2.06-2.06.94zm-11 1L8.5 8.5l.94-2.06 2.06-.94-2.06-.94L8.5 2.5l-.94 2.06-2.06.94zm10 10l.94 2.06.94-2.06 2.06-.94-2.06-.94-.94-2.06-.94 2.06-2.06.94z\"/><path d=\"M17.41 7.96l-1.37-1.37c-.4-.4-.92-.59-1.43-.59-.52 0-1.04.2-1.43.59L10.3 9.45l-7.72 7.72c-.78.78-.78 2.05 0 2.83L4 21.41c.39.39.9.59 1.41.59.51 0 1.02-.2 1.41-.59l7.78-7.78 2.81-2.81c.8-.78.8-2.07 0-2.86zM5.41 20L4 18.59l7.72-7.72 1.47 1.35L5.41 20z\"/>\n",
              "  </svg>\n",
              "      </button>\n",
              "      \n",
              "  <style>\n",
              "    .colab-df-container {\n",
              "      display:flex;\n",
              "      flex-wrap:wrap;\n",
              "      gap: 12px;\n",
              "    }\n",
              "\n",
              "    .colab-df-convert {\n",
              "      background-color: #E8F0FE;\n",
              "      border: none;\n",
              "      border-radius: 50%;\n",
              "      cursor: pointer;\n",
              "      display: none;\n",
              "      fill: #1967D2;\n",
              "      height: 32px;\n",
              "      padding: 0 0 0 0;\n",
              "      width: 32px;\n",
              "    }\n",
              "\n",
              "    .colab-df-convert:hover {\n",
              "      background-color: #E2EBFA;\n",
              "      box-shadow: 0px 1px 2px rgba(60, 64, 67, 0.3), 0px 1px 3px 1px rgba(60, 64, 67, 0.15);\n",
              "      fill: #174EA6;\n",
              "    }\n",
              "\n",
              "    [theme=dark] .colab-df-convert {\n",
              "      background-color: #3B4455;\n",
              "      fill: #D2E3FC;\n",
              "    }\n",
              "\n",
              "    [theme=dark] .colab-df-convert:hover {\n",
              "      background-color: #434B5C;\n",
              "      box-shadow: 0px 1px 3px 1px rgba(0, 0, 0, 0.15);\n",
              "      filter: drop-shadow(0px 1px 2px rgba(0, 0, 0, 0.3));\n",
              "      fill: #FFFFFF;\n",
              "    }\n",
              "  </style>\n",
              "\n",
              "      <script>\n",
              "        const buttonEl =\n",
              "          document.querySelector('#df-1cba23d7-2043-412a-9768-dc9d2908976b button.colab-df-convert');\n",
              "        buttonEl.style.display =\n",
              "          google.colab.kernel.accessAllowed ? 'block' : 'none';\n",
              "\n",
              "        async function convertToInteractive(key) {\n",
              "          const element = document.querySelector('#df-1cba23d7-2043-412a-9768-dc9d2908976b');\n",
              "          const dataTable =\n",
              "            await google.colab.kernel.invokeFunction('convertToInteractive',\n",
              "                                                     [key], {});\n",
              "          if (!dataTable) return;\n",
              "\n",
              "          const docLinkHtml = 'Like what you see? Visit the ' +\n",
              "            '<a target=\"_blank\" href=https://colab.research.google.com/notebooks/data_table.ipynb>data table notebook</a>'\n",
              "            + ' to learn more about interactive tables.';\n",
              "          element.innerHTML = '';\n",
              "          dataTable['output_type'] = 'display_data';\n",
              "          await google.colab.output.renderOutput(dataTable, element);\n",
              "          const docLink = document.createElement('div');\n",
              "          docLink.innerHTML = docLinkHtml;\n",
              "          element.appendChild(docLink);\n",
              "        }\n",
              "      </script>\n",
              "    </div>\n",
              "  </div>\n",
              "  "
            ]
          },
          "metadata": {},
          "execution_count": 106
        }
      ]
    },
    {
      "cell_type": "markdown",
      "source": [
        "Теперь объединим их с трейн выборкой и заново обучим модель, чтобы потом для них сделать предсказание"
      ],
      "metadata": {
        "id": "UucUzRFVbkLy"
      }
    },
    {
      "cell_type": "code",
      "source": [
        "train = pd.concat((train, inter_user_666, inter_user_999, inter_user_777))\n",
        "train = train.reset_index(drop=True)"
      ],
      "metadata": {
        "id": "M4io087Kb8Z8"
      },
      "execution_count": 107,
      "outputs": []
    },
    {
      "cell_type": "markdown",
      "source": [
        "Проверка"
      ],
      "metadata": {
        "id": "_C44iNv_cRHF"
      }
    },
    {
      "cell_type": "code",
      "source": [
        "train"
      ],
      "metadata": {
        "colab": {
          "base_uri": "https://localhost:8080/",
          "height": 424
        },
        "id": "cGknFJTEmGqt",
        "outputId": "38debc08-0a0b-4533-f0e6-bcb29ebc0735"
      },
      "execution_count": 108,
      "outputs": [
        {
          "output_type": "execute_result",
          "data": {
            "text/plain": [
              "        user_id  item_id   datetime  weight  watched_pct\n",
              "0        176549     9506 2021-05-11       3         72.0\n",
              "1        699317     1659 2021-05-29       3        100.0\n",
              "2        656683     7107 2021-05-09       1          0.0\n",
              "3        884009      693 2021-08-04       3         14.0\n",
              "4          5324     8437 2021-04-18       3         92.0\n",
              "...         ...      ...        ...     ...          ...\n",
              "922647      777    11015 2021-04-04       3        100.0\n",
              "922648      777      345 2021-06-13       3        100.0\n",
              "922649      777    15850 2021-04-17       3        100.0\n",
              "922650      777     5210 2021-07-08       3        100.0\n",
              "922651      777     5091 2021-06-07       3        100.0\n",
              "\n",
              "[922652 rows x 5 columns]"
            ],
            "text/html": [
              "\n",
              "  <div id=\"df-50d177c3-b206-432c-a993-06770f77d0f8\">\n",
              "    <div class=\"colab-df-container\">\n",
              "      <div>\n",
              "<style scoped>\n",
              "    .dataframe tbody tr th:only-of-type {\n",
              "        vertical-align: middle;\n",
              "    }\n",
              "\n",
              "    .dataframe tbody tr th {\n",
              "        vertical-align: top;\n",
              "    }\n",
              "\n",
              "    .dataframe thead th {\n",
              "        text-align: right;\n",
              "    }\n",
              "</style>\n",
              "<table border=\"1\" class=\"dataframe\">\n",
              "  <thead>\n",
              "    <tr style=\"text-align: right;\">\n",
              "      <th></th>\n",
              "      <th>user_id</th>\n",
              "      <th>item_id</th>\n",
              "      <th>datetime</th>\n",
              "      <th>weight</th>\n",
              "      <th>watched_pct</th>\n",
              "    </tr>\n",
              "  </thead>\n",
              "  <tbody>\n",
              "    <tr>\n",
              "      <th>0</th>\n",
              "      <td>176549</td>\n",
              "      <td>9506</td>\n",
              "      <td>2021-05-11</td>\n",
              "      <td>3</td>\n",
              "      <td>72.0</td>\n",
              "    </tr>\n",
              "    <tr>\n",
              "      <th>1</th>\n",
              "      <td>699317</td>\n",
              "      <td>1659</td>\n",
              "      <td>2021-05-29</td>\n",
              "      <td>3</td>\n",
              "      <td>100.0</td>\n",
              "    </tr>\n",
              "    <tr>\n",
              "      <th>2</th>\n",
              "      <td>656683</td>\n",
              "      <td>7107</td>\n",
              "      <td>2021-05-09</td>\n",
              "      <td>1</td>\n",
              "      <td>0.0</td>\n",
              "    </tr>\n",
              "    <tr>\n",
              "      <th>3</th>\n",
              "      <td>884009</td>\n",
              "      <td>693</td>\n",
              "      <td>2021-08-04</td>\n",
              "      <td>3</td>\n",
              "      <td>14.0</td>\n",
              "    </tr>\n",
              "    <tr>\n",
              "      <th>4</th>\n",
              "      <td>5324</td>\n",
              "      <td>8437</td>\n",
              "      <td>2021-04-18</td>\n",
              "      <td>3</td>\n",
              "      <td>92.0</td>\n",
              "    </tr>\n",
              "    <tr>\n",
              "      <th>...</th>\n",
              "      <td>...</td>\n",
              "      <td>...</td>\n",
              "      <td>...</td>\n",
              "      <td>...</td>\n",
              "      <td>...</td>\n",
              "    </tr>\n",
              "    <tr>\n",
              "      <th>922647</th>\n",
              "      <td>777</td>\n",
              "      <td>11015</td>\n",
              "      <td>2021-04-04</td>\n",
              "      <td>3</td>\n",
              "      <td>100.0</td>\n",
              "    </tr>\n",
              "    <tr>\n",
              "      <th>922648</th>\n",
              "      <td>777</td>\n",
              "      <td>345</td>\n",
              "      <td>2021-06-13</td>\n",
              "      <td>3</td>\n",
              "      <td>100.0</td>\n",
              "    </tr>\n",
              "    <tr>\n",
              "      <th>922649</th>\n",
              "      <td>777</td>\n",
              "      <td>15850</td>\n",
              "      <td>2021-04-17</td>\n",
              "      <td>3</td>\n",
              "      <td>100.0</td>\n",
              "    </tr>\n",
              "    <tr>\n",
              "      <th>922650</th>\n",
              "      <td>777</td>\n",
              "      <td>5210</td>\n",
              "      <td>2021-07-08</td>\n",
              "      <td>3</td>\n",
              "      <td>100.0</td>\n",
              "    </tr>\n",
              "    <tr>\n",
              "      <th>922651</th>\n",
              "      <td>777</td>\n",
              "      <td>5091</td>\n",
              "      <td>2021-06-07</td>\n",
              "      <td>3</td>\n",
              "      <td>100.0</td>\n",
              "    </tr>\n",
              "  </tbody>\n",
              "</table>\n",
              "<p>922652 rows × 5 columns</p>\n",
              "</div>\n",
              "      <button class=\"colab-df-convert\" onclick=\"convertToInteractive('df-50d177c3-b206-432c-a993-06770f77d0f8')\"\n",
              "              title=\"Convert this dataframe to an interactive table.\"\n",
              "              style=\"display:none;\">\n",
              "        \n",
              "  <svg xmlns=\"http://www.w3.org/2000/svg\" height=\"24px\"viewBox=\"0 0 24 24\"\n",
              "       width=\"24px\">\n",
              "    <path d=\"M0 0h24v24H0V0z\" fill=\"none\"/>\n",
              "    <path d=\"M18.56 5.44l.94 2.06.94-2.06 2.06-.94-2.06-.94-.94-2.06-.94 2.06-2.06.94zm-11 1L8.5 8.5l.94-2.06 2.06-.94-2.06-.94L8.5 2.5l-.94 2.06-2.06.94zm10 10l.94 2.06.94-2.06 2.06-.94-2.06-.94-.94-2.06-.94 2.06-2.06.94z\"/><path d=\"M17.41 7.96l-1.37-1.37c-.4-.4-.92-.59-1.43-.59-.52 0-1.04.2-1.43.59L10.3 9.45l-7.72 7.72c-.78.78-.78 2.05 0 2.83L4 21.41c.39.39.9.59 1.41.59.51 0 1.02-.2 1.41-.59l7.78-7.78 2.81-2.81c.8-.78.8-2.07 0-2.86zM5.41 20L4 18.59l7.72-7.72 1.47 1.35L5.41 20z\"/>\n",
              "  </svg>\n",
              "      </button>\n",
              "      \n",
              "  <style>\n",
              "    .colab-df-container {\n",
              "      display:flex;\n",
              "      flex-wrap:wrap;\n",
              "      gap: 12px;\n",
              "    }\n",
              "\n",
              "    .colab-df-convert {\n",
              "      background-color: #E8F0FE;\n",
              "      border: none;\n",
              "      border-radius: 50%;\n",
              "      cursor: pointer;\n",
              "      display: none;\n",
              "      fill: #1967D2;\n",
              "      height: 32px;\n",
              "      padding: 0 0 0 0;\n",
              "      width: 32px;\n",
              "    }\n",
              "\n",
              "    .colab-df-convert:hover {\n",
              "      background-color: #E2EBFA;\n",
              "      box-shadow: 0px 1px 2px rgba(60, 64, 67, 0.3), 0px 1px 3px 1px rgba(60, 64, 67, 0.15);\n",
              "      fill: #174EA6;\n",
              "    }\n",
              "\n",
              "    [theme=dark] .colab-df-convert {\n",
              "      background-color: #3B4455;\n",
              "      fill: #D2E3FC;\n",
              "    }\n",
              "\n",
              "    [theme=dark] .colab-df-convert:hover {\n",
              "      background-color: #434B5C;\n",
              "      box-shadow: 0px 1px 3px 1px rgba(0, 0, 0, 0.15);\n",
              "      filter: drop-shadow(0px 1px 2px rgba(0, 0, 0, 0.3));\n",
              "      fill: #FFFFFF;\n",
              "    }\n",
              "  </style>\n",
              "\n",
              "      <script>\n",
              "        const buttonEl =\n",
              "          document.querySelector('#df-50d177c3-b206-432c-a993-06770f77d0f8 button.colab-df-convert');\n",
              "        buttonEl.style.display =\n",
              "          google.colab.kernel.accessAllowed ? 'block' : 'none';\n",
              "\n",
              "        async function convertToInteractive(key) {\n",
              "          const element = document.querySelector('#df-50d177c3-b206-432c-a993-06770f77d0f8');\n",
              "          const dataTable =\n",
              "            await google.colab.kernel.invokeFunction('convertToInteractive',\n",
              "                                                     [key], {});\n",
              "          if (!dataTable) return;\n",
              "\n",
              "          const docLinkHtml = 'Like what you see? Visit the ' +\n",
              "            '<a target=\"_blank\" href=https://colab.research.google.com/notebooks/data_table.ipynb>data table notebook</a>'\n",
              "            + ' to learn more about interactive tables.';\n",
              "          element.innerHTML = '';\n",
              "          dataTable['output_type'] = 'display_data';\n",
              "          await google.colab.output.renderOutput(dataTable, element);\n",
              "          const docLink = document.createElement('div');\n",
              "          docLink.innerHTML = docLinkHtml;\n",
              "          element.appendChild(docLink);\n",
              "        }\n",
              "      </script>\n",
              "    </div>\n",
              "  </div>\n",
              "  "
            ]
          },
          "metadata": {},
          "execution_count": 108
        }
      ]
    },
    {
      "cell_type": "markdown",
      "source": [
        "Заново собираем датасет и обучаем нашу модель, чтобы потом сделать предсказания"
      ],
      "metadata": {
        "id": "8iBUOYSccWY5"
      }
    },
    {
      "cell_type": "code",
      "source": [
        "dataset = Dataset.construct(\n",
        "    interactions_df=train,\n",
        "    user_features_df=user_features,\n",
        "    cat_user_features=[\"sex\", \"age\", \"income\"],\n",
        "    item_features_df=item_features,\n",
        "    cat_item_features=[\"genre\", 'content_type', \"country\"],\n",
        ")"
      ],
      "metadata": {
        "id": "OV5VtVFVi2wt"
      },
      "execution_count": 109,
      "outputs": []
    },
    {
      "cell_type": "code",
      "source": [
        "test_users = np.array([666, 777, 999])"
      ],
      "metadata": {
        "id": "x50D7SDVi2wt"
      },
      "execution_count": 110,
      "outputs": []
    },
    {
      "cell_type": "code",
      "source": [
        "ALS.fit(dataset)\n",
        "    \n",
        "avatar_recos = ALS.recommend(\n",
        "                      users=test_users,\n",
        "                      dataset=dataset,\n",
        "                      k=K_RECOS,\n",
        "                      filter_viewed=True,\n",
        "                      )"
      ],
      "metadata": {
        "colab": {
          "base_uri": "https://localhost:8080/"
        },
        "id": "ptIU4ws1cf2T",
        "outputId": "4f76b862-b8e8-44d5-9aaa-9252cc476fbc"
      },
      "execution_count": 111,
      "outputs": [
        {
          "output_type": "stream",
          "name": "stderr",
          "text": [
            "/usr/local/lib/python3.8/dist-packages/rectools/dataset/features.py:399: UserWarning: Converting sparse features to dense array may cause MemoryError\n",
            "  warnings.warn(\"Converting sparse features to dense array may cause MemoryError\")\n",
            "/usr/local/lib/python3.8/dist-packages/rectools/models/implicit_als.py:269: UserWarning: GPU training requires number of factors to be a multiple of 32. Increasing factors from 292 to 320 (increasing latent factors from 96 to 124)\n",
            "  warnings.warn(\n"
          ]
        }
      ]
    },
    {
      "cell_type": "markdown",
      "source": [
        " Посмотрим, что предсказала наша модель для наших аватаров"
      ],
      "metadata": {
        "id": "-f_T2ekwcVJN"
      }
    },
    {
      "cell_type": "code",
      "source": [
        "avatar_recos"
      ],
      "metadata": {
        "colab": {
          "base_uri": "https://localhost:8080/",
          "height": 990
        },
        "id": "CCTN34bEcUmq",
        "outputId": "6384abda-a97c-4ab2-9fa6-e2270fcba884"
      },
      "execution_count": 112,
      "outputs": [
        {
          "output_type": "execute_result",
          "data": {
            "text/plain": [
              "    user_id  item_id     score  rank\n",
              "0       666     9728  0.365489     1\n",
              "1       666    13865  0.326971     2\n",
              "2       666    10440  0.320992     3\n",
              "3       666    15297  0.319803     4\n",
              "4       666     4151  0.205994     5\n",
              "5       666     3734  0.190816     6\n",
              "6       666     6809  0.151366     7\n",
              "7       666      142  0.132594     8\n",
              "8       666     8636  0.129455     9\n",
              "9       666     4740  0.101857    10\n",
              "10      777    15297  0.298065     1\n",
              "11      777     9728  0.283419     2\n",
              "12      777    10440  0.245233     3\n",
              "13      777    13865  0.227282     4\n",
              "14      777     6809  0.223521     5\n",
              "15      777     4151  0.203318     6\n",
              "16      777     3734  0.132325     7\n",
              "17      777     4740  0.122398     8\n",
              "18      777     8636  0.085916     9\n",
              "19      777     4880  0.074577    10\n",
              "20      999    15297  0.509084     1\n",
              "21      999    10440  0.332806     2\n",
              "22      999     4151  0.266124     3\n",
              "23      999     9728  0.234112     4\n",
              "24      999     6809  0.165930     5\n",
              "25      999    13865  0.163364     6\n",
              "26      999     3734  0.157384     7\n",
              "27      999    13065  0.105679     8\n",
              "28      999     8592  0.102453     9\n",
              "29      999     7288  0.100183    10"
            ],
            "text/html": [
              "\n",
              "  <div id=\"df-647a0256-808b-4aaa-826f-1a9fb9988227\">\n",
              "    <div class=\"colab-df-container\">\n",
              "      <div>\n",
              "<style scoped>\n",
              "    .dataframe tbody tr th:only-of-type {\n",
              "        vertical-align: middle;\n",
              "    }\n",
              "\n",
              "    .dataframe tbody tr th {\n",
              "        vertical-align: top;\n",
              "    }\n",
              "\n",
              "    .dataframe thead th {\n",
              "        text-align: right;\n",
              "    }\n",
              "</style>\n",
              "<table border=\"1\" class=\"dataframe\">\n",
              "  <thead>\n",
              "    <tr style=\"text-align: right;\">\n",
              "      <th></th>\n",
              "      <th>user_id</th>\n",
              "      <th>item_id</th>\n",
              "      <th>score</th>\n",
              "      <th>rank</th>\n",
              "    </tr>\n",
              "  </thead>\n",
              "  <tbody>\n",
              "    <tr>\n",
              "      <th>0</th>\n",
              "      <td>666</td>\n",
              "      <td>9728</td>\n",
              "      <td>0.365489</td>\n",
              "      <td>1</td>\n",
              "    </tr>\n",
              "    <tr>\n",
              "      <th>1</th>\n",
              "      <td>666</td>\n",
              "      <td>13865</td>\n",
              "      <td>0.326971</td>\n",
              "      <td>2</td>\n",
              "    </tr>\n",
              "    <tr>\n",
              "      <th>2</th>\n",
              "      <td>666</td>\n",
              "      <td>10440</td>\n",
              "      <td>0.320992</td>\n",
              "      <td>3</td>\n",
              "    </tr>\n",
              "    <tr>\n",
              "      <th>3</th>\n",
              "      <td>666</td>\n",
              "      <td>15297</td>\n",
              "      <td>0.319803</td>\n",
              "      <td>4</td>\n",
              "    </tr>\n",
              "    <tr>\n",
              "      <th>4</th>\n",
              "      <td>666</td>\n",
              "      <td>4151</td>\n",
              "      <td>0.205994</td>\n",
              "      <td>5</td>\n",
              "    </tr>\n",
              "    <tr>\n",
              "      <th>5</th>\n",
              "      <td>666</td>\n",
              "      <td>3734</td>\n",
              "      <td>0.190816</td>\n",
              "      <td>6</td>\n",
              "    </tr>\n",
              "    <tr>\n",
              "      <th>6</th>\n",
              "      <td>666</td>\n",
              "      <td>6809</td>\n",
              "      <td>0.151366</td>\n",
              "      <td>7</td>\n",
              "    </tr>\n",
              "    <tr>\n",
              "      <th>7</th>\n",
              "      <td>666</td>\n",
              "      <td>142</td>\n",
              "      <td>0.132594</td>\n",
              "      <td>8</td>\n",
              "    </tr>\n",
              "    <tr>\n",
              "      <th>8</th>\n",
              "      <td>666</td>\n",
              "      <td>8636</td>\n",
              "      <td>0.129455</td>\n",
              "      <td>9</td>\n",
              "    </tr>\n",
              "    <tr>\n",
              "      <th>9</th>\n",
              "      <td>666</td>\n",
              "      <td>4740</td>\n",
              "      <td>0.101857</td>\n",
              "      <td>10</td>\n",
              "    </tr>\n",
              "    <tr>\n",
              "      <th>10</th>\n",
              "      <td>777</td>\n",
              "      <td>15297</td>\n",
              "      <td>0.298065</td>\n",
              "      <td>1</td>\n",
              "    </tr>\n",
              "    <tr>\n",
              "      <th>11</th>\n",
              "      <td>777</td>\n",
              "      <td>9728</td>\n",
              "      <td>0.283419</td>\n",
              "      <td>2</td>\n",
              "    </tr>\n",
              "    <tr>\n",
              "      <th>12</th>\n",
              "      <td>777</td>\n",
              "      <td>10440</td>\n",
              "      <td>0.245233</td>\n",
              "      <td>3</td>\n",
              "    </tr>\n",
              "    <tr>\n",
              "      <th>13</th>\n",
              "      <td>777</td>\n",
              "      <td>13865</td>\n",
              "      <td>0.227282</td>\n",
              "      <td>4</td>\n",
              "    </tr>\n",
              "    <tr>\n",
              "      <th>14</th>\n",
              "      <td>777</td>\n",
              "      <td>6809</td>\n",
              "      <td>0.223521</td>\n",
              "      <td>5</td>\n",
              "    </tr>\n",
              "    <tr>\n",
              "      <th>15</th>\n",
              "      <td>777</td>\n",
              "      <td>4151</td>\n",
              "      <td>0.203318</td>\n",
              "      <td>6</td>\n",
              "    </tr>\n",
              "    <tr>\n",
              "      <th>16</th>\n",
              "      <td>777</td>\n",
              "      <td>3734</td>\n",
              "      <td>0.132325</td>\n",
              "      <td>7</td>\n",
              "    </tr>\n",
              "    <tr>\n",
              "      <th>17</th>\n",
              "      <td>777</td>\n",
              "      <td>4740</td>\n",
              "      <td>0.122398</td>\n",
              "      <td>8</td>\n",
              "    </tr>\n",
              "    <tr>\n",
              "      <th>18</th>\n",
              "      <td>777</td>\n",
              "      <td>8636</td>\n",
              "      <td>0.085916</td>\n",
              "      <td>9</td>\n",
              "    </tr>\n",
              "    <tr>\n",
              "      <th>19</th>\n",
              "      <td>777</td>\n",
              "      <td>4880</td>\n",
              "      <td>0.074577</td>\n",
              "      <td>10</td>\n",
              "    </tr>\n",
              "    <tr>\n",
              "      <th>20</th>\n",
              "      <td>999</td>\n",
              "      <td>15297</td>\n",
              "      <td>0.509084</td>\n",
              "      <td>1</td>\n",
              "    </tr>\n",
              "    <tr>\n",
              "      <th>21</th>\n",
              "      <td>999</td>\n",
              "      <td>10440</td>\n",
              "      <td>0.332806</td>\n",
              "      <td>2</td>\n",
              "    </tr>\n",
              "    <tr>\n",
              "      <th>22</th>\n",
              "      <td>999</td>\n",
              "      <td>4151</td>\n",
              "      <td>0.266124</td>\n",
              "      <td>3</td>\n",
              "    </tr>\n",
              "    <tr>\n",
              "      <th>23</th>\n",
              "      <td>999</td>\n",
              "      <td>9728</td>\n",
              "      <td>0.234112</td>\n",
              "      <td>4</td>\n",
              "    </tr>\n",
              "    <tr>\n",
              "      <th>24</th>\n",
              "      <td>999</td>\n",
              "      <td>6809</td>\n",
              "      <td>0.165930</td>\n",
              "      <td>5</td>\n",
              "    </tr>\n",
              "    <tr>\n",
              "      <th>25</th>\n",
              "      <td>999</td>\n",
              "      <td>13865</td>\n",
              "      <td>0.163364</td>\n",
              "      <td>6</td>\n",
              "    </tr>\n",
              "    <tr>\n",
              "      <th>26</th>\n",
              "      <td>999</td>\n",
              "      <td>3734</td>\n",
              "      <td>0.157384</td>\n",
              "      <td>7</td>\n",
              "    </tr>\n",
              "    <tr>\n",
              "      <th>27</th>\n",
              "      <td>999</td>\n",
              "      <td>13065</td>\n",
              "      <td>0.105679</td>\n",
              "      <td>8</td>\n",
              "    </tr>\n",
              "    <tr>\n",
              "      <th>28</th>\n",
              "      <td>999</td>\n",
              "      <td>8592</td>\n",
              "      <td>0.102453</td>\n",
              "      <td>9</td>\n",
              "    </tr>\n",
              "    <tr>\n",
              "      <th>29</th>\n",
              "      <td>999</td>\n",
              "      <td>7288</td>\n",
              "      <td>0.100183</td>\n",
              "      <td>10</td>\n",
              "    </tr>\n",
              "  </tbody>\n",
              "</table>\n",
              "</div>\n",
              "      <button class=\"colab-df-convert\" onclick=\"convertToInteractive('df-647a0256-808b-4aaa-826f-1a9fb9988227')\"\n",
              "              title=\"Convert this dataframe to an interactive table.\"\n",
              "              style=\"display:none;\">\n",
              "        \n",
              "  <svg xmlns=\"http://www.w3.org/2000/svg\" height=\"24px\"viewBox=\"0 0 24 24\"\n",
              "       width=\"24px\">\n",
              "    <path d=\"M0 0h24v24H0V0z\" fill=\"none\"/>\n",
              "    <path d=\"M18.56 5.44l.94 2.06.94-2.06 2.06-.94-2.06-.94-.94-2.06-.94 2.06-2.06.94zm-11 1L8.5 8.5l.94-2.06 2.06-.94-2.06-.94L8.5 2.5l-.94 2.06-2.06.94zm10 10l.94 2.06.94-2.06 2.06-.94-2.06-.94-.94-2.06-.94 2.06-2.06.94z\"/><path d=\"M17.41 7.96l-1.37-1.37c-.4-.4-.92-.59-1.43-.59-.52 0-1.04.2-1.43.59L10.3 9.45l-7.72 7.72c-.78.78-.78 2.05 0 2.83L4 21.41c.39.39.9.59 1.41.59.51 0 1.02-.2 1.41-.59l7.78-7.78 2.81-2.81c.8-.78.8-2.07 0-2.86zM5.41 20L4 18.59l7.72-7.72 1.47 1.35L5.41 20z\"/>\n",
              "  </svg>\n",
              "      </button>\n",
              "      \n",
              "  <style>\n",
              "    .colab-df-container {\n",
              "      display:flex;\n",
              "      flex-wrap:wrap;\n",
              "      gap: 12px;\n",
              "    }\n",
              "\n",
              "    .colab-df-convert {\n",
              "      background-color: #E8F0FE;\n",
              "      border: none;\n",
              "      border-radius: 50%;\n",
              "      cursor: pointer;\n",
              "      display: none;\n",
              "      fill: #1967D2;\n",
              "      height: 32px;\n",
              "      padding: 0 0 0 0;\n",
              "      width: 32px;\n",
              "    }\n",
              "\n",
              "    .colab-df-convert:hover {\n",
              "      background-color: #E2EBFA;\n",
              "      box-shadow: 0px 1px 2px rgba(60, 64, 67, 0.3), 0px 1px 3px 1px rgba(60, 64, 67, 0.15);\n",
              "      fill: #174EA6;\n",
              "    }\n",
              "\n",
              "    [theme=dark] .colab-df-convert {\n",
              "      background-color: #3B4455;\n",
              "      fill: #D2E3FC;\n",
              "    }\n",
              "\n",
              "    [theme=dark] .colab-df-convert:hover {\n",
              "      background-color: #434B5C;\n",
              "      box-shadow: 0px 1px 3px 1px rgba(0, 0, 0, 0.15);\n",
              "      filter: drop-shadow(0px 1px 2px rgba(0, 0, 0, 0.3));\n",
              "      fill: #FFFFFF;\n",
              "    }\n",
              "  </style>\n",
              "\n",
              "      <script>\n",
              "        const buttonEl =\n",
              "          document.querySelector('#df-647a0256-808b-4aaa-826f-1a9fb9988227 button.colab-df-convert');\n",
              "        buttonEl.style.display =\n",
              "          google.colab.kernel.accessAllowed ? 'block' : 'none';\n",
              "\n",
              "        async function convertToInteractive(key) {\n",
              "          const element = document.querySelector('#df-647a0256-808b-4aaa-826f-1a9fb9988227');\n",
              "          const dataTable =\n",
              "            await google.colab.kernel.invokeFunction('convertToInteractive',\n",
              "                                                     [key], {});\n",
              "          if (!dataTable) return;\n",
              "\n",
              "          const docLinkHtml = 'Like what you see? Visit the ' +\n",
              "            '<a target=\"_blank\" href=https://colab.research.google.com/notebooks/data_table.ipynb>data table notebook</a>'\n",
              "            + ' to learn more about interactive tables.';\n",
              "          element.innerHTML = '';\n",
              "          dataTable['output_type'] = 'display_data';\n",
              "          await google.colab.output.renderOutput(dataTable, element);\n",
              "          const docLink = document.createElement('div');\n",
              "          docLink.innerHTML = docLinkHtml;\n",
              "          element.appendChild(docLink);\n",
              "        }\n",
              "      </script>\n",
              "    </div>\n",
              "  </div>\n",
              "  "
            ]
          },
          "metadata": {},
          "execution_count": 112
        }
      ]
    },
    {
      "cell_type": "markdown",
      "source": [
        " Проверим, чтоже наша модель рекомендовала созданным аватарам"
      ],
      "metadata": {
        "id": "wiTxMivHlcFU"
      }
    },
    {
      "cell_type": "code",
      "source": [
        "avatar_recos_user_666 = avatar_recos.loc[:9,'item_id'].values\n",
        "avatar_recos_user_777 = avatar_recos.loc[10:19,'item_id'].values\n",
        "avatar_recos_user_999 = avatar_recos.loc[20:29,'item_id'].values"
      ],
      "metadata": {
        "id": "wW8hV6gdlsgI"
      },
      "execution_count": 117,
      "outputs": []
    },
    {
      "cell_type": "code",
      "source": [
        "items.query(\"item_id in @avatar_recos_user_999\")"
      ],
      "metadata": {
        "colab": {
          "base_uri": "https://localhost:8080/",
          "height": 1000
        },
        "id": "tW9HM4kTmAZu",
        "outputId": "ad1f064e-9152-43bd-8547-ca3ea03372b4"
      },
      "execution_count": 118,
      "outputs": [
        {
          "output_type": "execute_result",
          "data": {
            "text/plain": [
              "      item_id content_type                         title  \\\n",
              "544     15297       series               Клиника счастья   \n",
              "1331    10440       series                   Хрустальный   \n",
              "1335     7288         film                     Шесть раз   \n",
              "2749     6809         film                         Дуров   \n",
              "3301     8592         film                      4 двойки   \n",
              "4405    13065         film        Повесть о любви и тьме   \n",
              "4495     9728         film             Гнев человеческий   \n",
              "4604    13865         film                      Девятаев   \n",
              "4740     4151       series        Секреты семейной жизни   \n",
              "8521     3734         film  Прабабушка легкого поведения   \n",
              "\n",
              "                           title_orig  release_year  \\\n",
              "544                 Klinika schast'ya        2021.0   \n",
              "1331                     Khrustal'nyy        2021.0   \n",
              "1335                     Shesh Peamim        2012.0   \n",
              "2749                              NaN        2021.0   \n",
              "3301                  The Four Deuces        1975.0   \n",
              "4405      A Tale of Love and Darkness        2015.0   \n",
              "4495                     Wrath of Man        2021.0   \n",
              "4604             V2. Escape from Hell        2021.0   \n",
              "4740                              NaN        2021.0   \n",
              "8521  Prababushka lyogkogo povedeniya        2021.0   \n",
              "\n",
              "                            genres            countries  for_kids  age_rating  \\\n",
              "544               драмы, мелодрамы               Россия       NaN        18.0   \n",
              "1331           триллеры, детективы               Россия       NaN        18.0   \n",
              "1335             драмы, зарубежные              Израиль       NaN        18.0   \n",
              "2749                документальное               Россия       NaN        16.0   \n",
              "3301  боевики, зарубежные, комедии              Израиль       NaN        12.0   \n",
              "4405  драмы, зарубежные, биография              Израиль       NaN        16.0   \n",
              "4495             боевики, триллеры  Великобритания, США       NaN        18.0   \n",
              "4604   драмы, военные, приключения               Россия       NaN        12.0   \n",
              "4740                       комедии               Россия       NaN        18.0   \n",
              "8521                       комедии               Россия       NaN        16.0   \n",
              "\n",
              "     studios           directors  \\\n",
              "544      NaN  Александр Кириенко   \n",
              "1331     NaN      Душан Глигоров   \n",
              "1335     NaN  Джонатан Гарфинкел   \n",
              "2749     NaN       Родион Чепель   \n",
              "3301     NaN                 NaN   \n",
              "4405     NaN      Натали Портман   \n",
              "4495     NaN            Гай Ричи   \n",
              "4604     NaN   Тимур Бекмамбетов   \n",
              "4740     NaN      Шота Гамисония   \n",
              "8521     NaN      Марюс Вайсберг   \n",
              "\n",
              "                                                 actors  \\\n",
              "544   Дарья Мороз, Анатолий Белый, Данил Акутин, Мар...   \n",
              "1331  Антон Васильев, Николай Шрайбер, Екатерина Оль...   \n",
              "1335  Алон Лешем, Асаф Херц, Гита Амели, Джил Фишман...   \n",
              "2749                                                NaN   \n",
              "3301  Адам Рорк, Бен Фроммер, Джанни Руссо, Джек Пэл...   \n",
              "4405  Амир Теслер, Джилад Кахана, Йонатан Ширай, Мак...   \n",
              "4495  Джейсон Стэйтем, Холт МакКэллани, Джеффри Доно...   \n",
              "4604  Павел Прилучный, Павел Чинарёв, Тимофей Трибун...   \n",
              "4740  Петр Скворцов, Алена Михайлова, Федор Лавров, ...   \n",
              "8521  Александр Ревва, Глюкоза, Дмитрий Нагиев, Миха...   \n",
              "\n",
              "                                            description  \\\n",
              "544   Успешный сексолог Алена уверена, что нашла фор...   \n",
              "1331  Сергей Смирнов — один из лучших «охотников на ...   \n",
              "1335  «Шесть раз» – социальная драма израильского ре...   \n",
              "2749  Уникальная история о лидере нового поколения, ...   \n",
              "3301  США времён Великой депрессии. Вик Мороно – вла...   \n",
              "4405  История детства писателя Амоса Оза, выросшего ...   \n",
              "4495  Грузовики лос-анджелесской инкассаторской комп...   \n",
              "4604  Военно-исторический блокбастер от режиссёров Т...   \n",
              "4740  У Никиты и Полины всё начиналось прекрасно: об...   \n",
              "8521  1980 год, вся страна следит за событиями моско...   \n",
              "\n",
              "                                               keywords  \\\n",
              "544   Клиника счастья, Клиника, Счастье, Клиника сча...   \n",
              "1331  хруст, хрусталь, хруста, хрус, полицейский, пе...   \n",
              "1335  Шесть, раз, 2012, Израиль, жизнь, тусовки, шко...   \n",
              "2749  Компьютер, Монитор, Гений, Интервью, Предприни...   \n",
              "3301  4, двойки, 1975, Израиль, бандиты, гангстеры, ...   \n",
              "4405  Повесть, о, любви, тьме, 2015, Израиль, жизнь,...   \n",
              "4495  ограбление, криминальный авторитет, месть, пер...   \n",
              "4604  Девятаев, Девятаева, Девят, Девя, Девята, Девя...   \n",
              "4740  брызги крови, кровь, жестокое обращение с живо...   \n",
              "8521     , 2021, россия, прабабушка, легкого, поведения   \n",
              "\n",
              "                               genre                country  \n",
              "544               [драмы, мелодрамы]               [россия]  \n",
              "1331           [триллеры, детективы]               [россия]  \n",
              "1335             [драмы, зарубежные]              [израиль]  \n",
              "2749                [документальное]               [россия]  \n",
              "3301  [боевики, зарубежные, комедии]              [израиль]  \n",
              "4405  [драмы, зарубежные, биография]              [израиль]  \n",
              "4495             [боевики, триллеры]  [великобритания, сша]  \n",
              "4604   [драмы, военные, приключения]               [россия]  \n",
              "4740                       [комедии]               [россия]  \n",
              "8521                       [комедии]               [россия]  "
            ],
            "text/html": [
              "\n",
              "  <div id=\"df-e5c2834d-66c2-4451-b3d9-07e5944ddfb0\">\n",
              "    <div class=\"colab-df-container\">\n",
              "      <div>\n",
              "<style scoped>\n",
              "    .dataframe tbody tr th:only-of-type {\n",
              "        vertical-align: middle;\n",
              "    }\n",
              "\n",
              "    .dataframe tbody tr th {\n",
              "        vertical-align: top;\n",
              "    }\n",
              "\n",
              "    .dataframe thead th {\n",
              "        text-align: right;\n",
              "    }\n",
              "</style>\n",
              "<table border=\"1\" class=\"dataframe\">\n",
              "  <thead>\n",
              "    <tr style=\"text-align: right;\">\n",
              "      <th></th>\n",
              "      <th>item_id</th>\n",
              "      <th>content_type</th>\n",
              "      <th>title</th>\n",
              "      <th>title_orig</th>\n",
              "      <th>release_year</th>\n",
              "      <th>genres</th>\n",
              "      <th>countries</th>\n",
              "      <th>for_kids</th>\n",
              "      <th>age_rating</th>\n",
              "      <th>studios</th>\n",
              "      <th>directors</th>\n",
              "      <th>actors</th>\n",
              "      <th>description</th>\n",
              "      <th>keywords</th>\n",
              "      <th>genre</th>\n",
              "      <th>country</th>\n",
              "    </tr>\n",
              "  </thead>\n",
              "  <tbody>\n",
              "    <tr>\n",
              "      <th>544</th>\n",
              "      <td>15297</td>\n",
              "      <td>series</td>\n",
              "      <td>Клиника счастья</td>\n",
              "      <td>Klinika schast'ya</td>\n",
              "      <td>2021.0</td>\n",
              "      <td>драмы, мелодрамы</td>\n",
              "      <td>Россия</td>\n",
              "      <td>NaN</td>\n",
              "      <td>18.0</td>\n",
              "      <td>NaN</td>\n",
              "      <td>Александр Кириенко</td>\n",
              "      <td>Дарья Мороз, Анатолий Белый, Данил Акутин, Мар...</td>\n",
              "      <td>Успешный сексолог Алена уверена, что нашла фор...</td>\n",
              "      <td>Клиника счастья, Клиника, Счастье, Клиника сча...</td>\n",
              "      <td>[драмы, мелодрамы]</td>\n",
              "      <td>[россия]</td>\n",
              "    </tr>\n",
              "    <tr>\n",
              "      <th>1331</th>\n",
              "      <td>10440</td>\n",
              "      <td>series</td>\n",
              "      <td>Хрустальный</td>\n",
              "      <td>Khrustal'nyy</td>\n",
              "      <td>2021.0</td>\n",
              "      <td>триллеры, детективы</td>\n",
              "      <td>Россия</td>\n",
              "      <td>NaN</td>\n",
              "      <td>18.0</td>\n",
              "      <td>NaN</td>\n",
              "      <td>Душан Глигоров</td>\n",
              "      <td>Антон Васильев, Николай Шрайбер, Екатерина Оль...</td>\n",
              "      <td>Сергей Смирнов — один из лучших «охотников на ...</td>\n",
              "      <td>хруст, хрусталь, хруста, хрус, полицейский, пе...</td>\n",
              "      <td>[триллеры, детективы]</td>\n",
              "      <td>[россия]</td>\n",
              "    </tr>\n",
              "    <tr>\n",
              "      <th>1335</th>\n",
              "      <td>7288</td>\n",
              "      <td>film</td>\n",
              "      <td>Шесть раз</td>\n",
              "      <td>Shesh Peamim</td>\n",
              "      <td>2012.0</td>\n",
              "      <td>драмы, зарубежные</td>\n",
              "      <td>Израиль</td>\n",
              "      <td>NaN</td>\n",
              "      <td>18.0</td>\n",
              "      <td>NaN</td>\n",
              "      <td>Джонатан Гарфинкел</td>\n",
              "      <td>Алон Лешем, Асаф Херц, Гита Амели, Джил Фишман...</td>\n",
              "      <td>«Шесть раз» – социальная драма израильского ре...</td>\n",
              "      <td>Шесть, раз, 2012, Израиль, жизнь, тусовки, шко...</td>\n",
              "      <td>[драмы, зарубежные]</td>\n",
              "      <td>[израиль]</td>\n",
              "    </tr>\n",
              "    <tr>\n",
              "      <th>2749</th>\n",
              "      <td>6809</td>\n",
              "      <td>film</td>\n",
              "      <td>Дуров</td>\n",
              "      <td>NaN</td>\n",
              "      <td>2021.0</td>\n",
              "      <td>документальное</td>\n",
              "      <td>Россия</td>\n",
              "      <td>NaN</td>\n",
              "      <td>16.0</td>\n",
              "      <td>NaN</td>\n",
              "      <td>Родион Чепель</td>\n",
              "      <td>NaN</td>\n",
              "      <td>Уникальная история о лидере нового поколения, ...</td>\n",
              "      <td>Компьютер, Монитор, Гений, Интервью, Предприни...</td>\n",
              "      <td>[документальное]</td>\n",
              "      <td>[россия]</td>\n",
              "    </tr>\n",
              "    <tr>\n",
              "      <th>3301</th>\n",
              "      <td>8592</td>\n",
              "      <td>film</td>\n",
              "      <td>4 двойки</td>\n",
              "      <td>The Four Deuces</td>\n",
              "      <td>1975.0</td>\n",
              "      <td>боевики, зарубежные, комедии</td>\n",
              "      <td>Израиль</td>\n",
              "      <td>NaN</td>\n",
              "      <td>12.0</td>\n",
              "      <td>NaN</td>\n",
              "      <td>NaN</td>\n",
              "      <td>Адам Рорк, Бен Фроммер, Джанни Руссо, Джек Пэл...</td>\n",
              "      <td>США времён Великой депрессии. Вик Мороно – вла...</td>\n",
              "      <td>4, двойки, 1975, Израиль, бандиты, гангстеры, ...</td>\n",
              "      <td>[боевики, зарубежные, комедии]</td>\n",
              "      <td>[израиль]</td>\n",
              "    </tr>\n",
              "    <tr>\n",
              "      <th>4405</th>\n",
              "      <td>13065</td>\n",
              "      <td>film</td>\n",
              "      <td>Повесть о любви и тьме</td>\n",
              "      <td>A Tale of Love and Darkness</td>\n",
              "      <td>2015.0</td>\n",
              "      <td>драмы, зарубежные, биография</td>\n",
              "      <td>Израиль</td>\n",
              "      <td>NaN</td>\n",
              "      <td>16.0</td>\n",
              "      <td>NaN</td>\n",
              "      <td>Натали Портман</td>\n",
              "      <td>Амир Теслер, Джилад Кахана, Йонатан Ширай, Мак...</td>\n",
              "      <td>История детства писателя Амоса Оза, выросшего ...</td>\n",
              "      <td>Повесть, о, любви, тьме, 2015, Израиль, жизнь,...</td>\n",
              "      <td>[драмы, зарубежные, биография]</td>\n",
              "      <td>[израиль]</td>\n",
              "    </tr>\n",
              "    <tr>\n",
              "      <th>4495</th>\n",
              "      <td>9728</td>\n",
              "      <td>film</td>\n",
              "      <td>Гнев человеческий</td>\n",
              "      <td>Wrath of Man</td>\n",
              "      <td>2021.0</td>\n",
              "      <td>боевики, триллеры</td>\n",
              "      <td>Великобритания, США</td>\n",
              "      <td>NaN</td>\n",
              "      <td>18.0</td>\n",
              "      <td>NaN</td>\n",
              "      <td>Гай Ричи</td>\n",
              "      <td>Джейсон Стэйтем, Холт МакКэллани, Джеффри Доно...</td>\n",
              "      <td>Грузовики лос-анджелесской инкассаторской комп...</td>\n",
              "      <td>ограбление, криминальный авторитет, месть, пер...</td>\n",
              "      <td>[боевики, триллеры]</td>\n",
              "      <td>[великобритания, сша]</td>\n",
              "    </tr>\n",
              "    <tr>\n",
              "      <th>4604</th>\n",
              "      <td>13865</td>\n",
              "      <td>film</td>\n",
              "      <td>Девятаев</td>\n",
              "      <td>V2. Escape from Hell</td>\n",
              "      <td>2021.0</td>\n",
              "      <td>драмы, военные, приключения</td>\n",
              "      <td>Россия</td>\n",
              "      <td>NaN</td>\n",
              "      <td>12.0</td>\n",
              "      <td>NaN</td>\n",
              "      <td>Тимур Бекмамбетов</td>\n",
              "      <td>Павел Прилучный, Павел Чинарёв, Тимофей Трибун...</td>\n",
              "      <td>Военно-исторический блокбастер от режиссёров Т...</td>\n",
              "      <td>Девятаев, Девятаева, Девят, Девя, Девята, Девя...</td>\n",
              "      <td>[драмы, военные, приключения]</td>\n",
              "      <td>[россия]</td>\n",
              "    </tr>\n",
              "    <tr>\n",
              "      <th>4740</th>\n",
              "      <td>4151</td>\n",
              "      <td>series</td>\n",
              "      <td>Секреты семейной жизни</td>\n",
              "      <td>NaN</td>\n",
              "      <td>2021.0</td>\n",
              "      <td>комедии</td>\n",
              "      <td>Россия</td>\n",
              "      <td>NaN</td>\n",
              "      <td>18.0</td>\n",
              "      <td>NaN</td>\n",
              "      <td>Шота Гамисония</td>\n",
              "      <td>Петр Скворцов, Алена Михайлова, Федор Лавров, ...</td>\n",
              "      <td>У Никиты и Полины всё начиналось прекрасно: об...</td>\n",
              "      <td>брызги крови, кровь, жестокое обращение с живо...</td>\n",
              "      <td>[комедии]</td>\n",
              "      <td>[россия]</td>\n",
              "    </tr>\n",
              "    <tr>\n",
              "      <th>8521</th>\n",
              "      <td>3734</td>\n",
              "      <td>film</td>\n",
              "      <td>Прабабушка легкого поведения</td>\n",
              "      <td>Prababushka lyogkogo povedeniya</td>\n",
              "      <td>2021.0</td>\n",
              "      <td>комедии</td>\n",
              "      <td>Россия</td>\n",
              "      <td>NaN</td>\n",
              "      <td>16.0</td>\n",
              "      <td>NaN</td>\n",
              "      <td>Марюс Вайсберг</td>\n",
              "      <td>Александр Ревва, Глюкоза, Дмитрий Нагиев, Миха...</td>\n",
              "      <td>1980 год, вся страна следит за событиями моско...</td>\n",
              "      <td>, 2021, россия, прабабушка, легкого, поведения</td>\n",
              "      <td>[комедии]</td>\n",
              "      <td>[россия]</td>\n",
              "    </tr>\n",
              "  </tbody>\n",
              "</table>\n",
              "</div>\n",
              "      <button class=\"colab-df-convert\" onclick=\"convertToInteractive('df-e5c2834d-66c2-4451-b3d9-07e5944ddfb0')\"\n",
              "              title=\"Convert this dataframe to an interactive table.\"\n",
              "              style=\"display:none;\">\n",
              "        \n",
              "  <svg xmlns=\"http://www.w3.org/2000/svg\" height=\"24px\"viewBox=\"0 0 24 24\"\n",
              "       width=\"24px\">\n",
              "    <path d=\"M0 0h24v24H0V0z\" fill=\"none\"/>\n",
              "    <path d=\"M18.56 5.44l.94 2.06.94-2.06 2.06-.94-2.06-.94-.94-2.06-.94 2.06-2.06.94zm-11 1L8.5 8.5l.94-2.06 2.06-.94-2.06-.94L8.5 2.5l-.94 2.06-2.06.94zm10 10l.94 2.06.94-2.06 2.06-.94-2.06-.94-.94-2.06-.94 2.06-2.06.94z\"/><path d=\"M17.41 7.96l-1.37-1.37c-.4-.4-.92-.59-1.43-.59-.52 0-1.04.2-1.43.59L10.3 9.45l-7.72 7.72c-.78.78-.78 2.05 0 2.83L4 21.41c.39.39.9.59 1.41.59.51 0 1.02-.2 1.41-.59l7.78-7.78 2.81-2.81c.8-.78.8-2.07 0-2.86zM5.41 20L4 18.59l7.72-7.72 1.47 1.35L5.41 20z\"/>\n",
              "  </svg>\n",
              "      </button>\n",
              "      \n",
              "  <style>\n",
              "    .colab-df-container {\n",
              "      display:flex;\n",
              "      flex-wrap:wrap;\n",
              "      gap: 12px;\n",
              "    }\n",
              "\n",
              "    .colab-df-convert {\n",
              "      background-color: #E8F0FE;\n",
              "      border: none;\n",
              "      border-radius: 50%;\n",
              "      cursor: pointer;\n",
              "      display: none;\n",
              "      fill: #1967D2;\n",
              "      height: 32px;\n",
              "      padding: 0 0 0 0;\n",
              "      width: 32px;\n",
              "    }\n",
              "\n",
              "    .colab-df-convert:hover {\n",
              "      background-color: #E2EBFA;\n",
              "      box-shadow: 0px 1px 2px rgba(60, 64, 67, 0.3), 0px 1px 3px 1px rgba(60, 64, 67, 0.15);\n",
              "      fill: #174EA6;\n",
              "    }\n",
              "\n",
              "    [theme=dark] .colab-df-convert {\n",
              "      background-color: #3B4455;\n",
              "      fill: #D2E3FC;\n",
              "    }\n",
              "\n",
              "    [theme=dark] .colab-df-convert:hover {\n",
              "      background-color: #434B5C;\n",
              "      box-shadow: 0px 1px 3px 1px rgba(0, 0, 0, 0.15);\n",
              "      filter: drop-shadow(0px 1px 2px rgba(0, 0, 0, 0.3));\n",
              "      fill: #FFFFFF;\n",
              "    }\n",
              "  </style>\n",
              "\n",
              "      <script>\n",
              "        const buttonEl =\n",
              "          document.querySelector('#df-e5c2834d-66c2-4451-b3d9-07e5944ddfb0 button.colab-df-convert');\n",
              "        buttonEl.style.display =\n",
              "          google.colab.kernel.accessAllowed ? 'block' : 'none';\n",
              "\n",
              "        async function convertToInteractive(key) {\n",
              "          const element = document.querySelector('#df-e5c2834d-66c2-4451-b3d9-07e5944ddfb0');\n",
              "          const dataTable =\n",
              "            await google.colab.kernel.invokeFunction('convertToInteractive',\n",
              "                                                     [key], {});\n",
              "          if (!dataTable) return;\n",
              "\n",
              "          const docLinkHtml = 'Like what you see? Visit the ' +\n",
              "            '<a target=\"_blank\" href=https://colab.research.google.com/notebooks/data_table.ipynb>data table notebook</a>'\n",
              "            + ' to learn more about interactive tables.';\n",
              "          element.innerHTML = '';\n",
              "          dataTable['output_type'] = 'display_data';\n",
              "          await google.colab.output.renderOutput(dataTable, element);\n",
              "          const docLink = document.createElement('div');\n",
              "          docLink.innerHTML = docLinkHtml;\n",
              "          element.appendChild(docLink);\n",
              "        }\n",
              "      </script>\n",
              "    </div>\n",
              "  </div>\n",
              "  "
            ]
          },
          "metadata": {},
          "execution_count": 118
        }
      ]
    },
    {
      "cell_type": "markdown",
      "source": [
        "Как видно, модель рекомендуют полную чушь, точнее популярные айтемы для всех пользователей =) надо пересматривать модель и подход, или скорее всего создавать больше признаков для юзеров и айтемов, чтобы рекомендации стали более персонализированные"
      ],
      "metadata": {
        "id": "5OZLMNYEm1Dj"
      }
    },
    {
      "cell_type": "markdown",
      "source": [
        "# Четвертая часть задания"
      ],
      "metadata": {
        "id": "_fnWjNsUgfVn"
      }
    },
    {
      "cell_type": "markdown",
      "source": [
        "- Придумать как можно обработать рекомендации для холодных пользователей. **(3 балла)**"
      ],
      "metadata": {
        "id": "zUuNmaQMhdon"
      }
    },
    {
      "cell_type": "markdown",
      "source": [
        "Для холодных юзеров будем идти все тем же простым путем, и рекомендовать им список популярных айтемов"
      ],
      "metadata": {
        "id": "IxOJPVhzhrfP"
      }
    },
    {
      "cell_type": "markdown",
      "source": [
        "Функция для формирования списка айтемов за последние 14 дней"
      ],
      "metadata": {
        "id": "Rt7joFCqyoVy"
      }
    },
    {
      "cell_type": "code",
      "source": [
        "def popoular_number_of_items_days(\n",
        "    df: pd.DataFrame, k: int = 10, days: int = 14, all_time: bool = False\n",
        ") -> np.array:\n",
        "    \"\"\"\n",
        "    Return a np.array of top@k most popular items for last N days\n",
        "    \"\"\"\n",
        "    if all_time is True:\n",
        "        recommendations = df.loc[:, \"item_id\"].value_counts().head(k).index.values\n",
        "    else:\n",
        "        min_date = df[\"datetime\"].max().normalize() - pd.DateOffset(days)\n",
        "        recommendations = (\n",
        "            df.loc[df[\"datetime\"] > min_date, \"item_id\"]\n",
        "            .value_counts()\n",
        "            .head(k)\n",
        "            .index.values\n",
        "        )\n",
        "    return list(recommendations)"
      ],
      "metadata": {
        "id": "_MbDh_QfeDsm"
      },
      "execution_count": 115,
      "outputs": []
    },
    {
      "cell_type": "code",
      "source": [
        "list_pop_items_14d = popoular_number_of_items_days(interactions, days=14)\n",
        "list_pop_items_14d"
      ],
      "metadata": {
        "colab": {
          "base_uri": "https://localhost:8080/"
        },
        "id": "GHmQUza3eUX2",
        "outputId": "2cb0022a-f05c-48eb-89bc-d3797124c5b8"
      },
      "execution_count": 116,
      "outputs": [
        {
          "output_type": "execute_result",
          "data": {
            "text/plain": [
              "[9728, 15297, 10440, 13865, 12192, 341, 7793, 3734, 4151, 14488]"
            ]
          },
          "metadata": {},
          "execution_count": 116
        }
      ]
    },
    {
      "cell_type": "code",
      "source": [],
      "metadata": {
        "id": "sKKC60qrh2Qw"
      },
      "execution_count": 116,
      "outputs": []
    }
  ],
  "metadata": {
    "kernelspec": {
      "display_name": "Python 3",
      "name": "python3"
    },
    "language_info": {
      "name": "python"
    },
    "colab": {
      "provenance": []
    },
    "gpuClass": "standard",
    "accelerator": "GPU"
  },
  "nbformat": 4,
  "nbformat_minor": 0
}