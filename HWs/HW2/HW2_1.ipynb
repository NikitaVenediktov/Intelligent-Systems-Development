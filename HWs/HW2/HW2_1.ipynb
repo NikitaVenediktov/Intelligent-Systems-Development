{
  "nbformat": 4,
  "nbformat_minor": 0,
  "metadata": {
    "colab": {
      "provenance": []
    },
    "kernelspec": {
      "name": "python3",
      "display_name": "Python 3"
    },
    "language_info": {
      "name": "python"
    }
  },
  "cells": [
    {
      "cell_type": "markdown",
      "source": [
        "# Постановка Задачи\n",
        "### Validation\n",
        "\n",
        "Исходные данные - Yandex Cup 2022 RecSys:\n",
        "- Описание соревнования - https://contest.yandex.ru/yacup/contest/41618/problems/\n",
        "- Данные - https://disk.yandex.ru/d/SI1aAooPn9i8TA\n",
        "- Описание данных - в архиве likes_data.zip три файла:\n",
        "  - train - обучающий набор данных. Каждая строка - последовательность id треков, которые лайкнул один пользователь. Гарантируется, что лайки даны в той последовательности, в которой их ставил пользователь.\n",
        "  - test - набор тестовых данных. Имеет точно такой же формат, но в каждой строке не хватает последнего лайка, который надо предсказать.\n",
        "  - track_artists.csv - информация о исполнителях треков. Гарантируется, что у каждого трека есть ровно один исполнитель. Для треков, у которых фактически несколько исполнителей, мы оставили того, который считается основным исполнителем трека.\n",
        "- Описание сабмита - в качестве решения необходимо отправить файл, в котором для каждого пользователя из test в отдельной строке будет не более 100 треков, разделенных пробелом. Гарантируется, что у каждого пользователя будет только 1 лайк в тесте\n",
        "- Метрика - MRR@100"
      ],
      "metadata": {
        "id": "WrAMVD3Yf4ZO"
      }
    },
    {
      "cell_type": "markdown",
      "source": [
        "Промежуточная задача - преобразовать данные в pandas.DataFrame вида {user, item, order}, где order - порядковый номер с конца (0 - самый \"свежий\" лайк, чем больше order, тем позже был поставлен лайк)\n",
        "\n",
        "**Итоговая задача** - построить схему валидации для данного соревнования с учетом особенностей сорвенования\n",
        "- Между `train` и `test` не должно быть общих пользователей\n",
        "- Количество фолдов задается через параметр класса `n_folds`\n",
        "- В `test` должно быть не более `p` последних треков (параметр класса `p`)"
      ],
      "metadata": {
        "id": "c6Tw7l0VgS8a"
      }
    },
    {
      "cell_type": "markdown",
      "source": [
        "# Решение"
      ],
      "metadata": {
        "id": "XmYVuDoHgVT5"
      }
    },
    {
      "cell_type": "markdown",
      "source": [
        "## Загрузка данных"
      ],
      "metadata": {
        "id": "yxyfWqDIgjlf"
      }
    },
    {
      "cell_type": "code",
      "source": [
        "import pandas as pd\n",
        "import numpy as np\n",
        "from sklearn.model_selection import KFold"
      ],
      "metadata": {
        "id": "zWMiiPCxf4Ob"
      },
      "execution_count": 1,
      "outputs": []
    },
    {
      "cell_type": "code",
      "source": [
        "# на будущее запомнить, если гугл из-за вирусов просит подтверждения, \n",
        "# то использовать данную конструкцию !gdown \"<drive-id>&confirm=t\"\n",
        "!gdown \"1nU4F3bYJK2JcMwZuDCpoENE8iVZQxQbl&confirm=t\""
      ],
      "metadata": {
        "colab": {
          "base_uri": "https://localhost:8080/"
        },
        "id": "_7GtX1GOgfcb",
        "outputId": "318d70ee-434e-4878-e69b-e69ddd0834be"
      },
      "execution_count": 2,
      "outputs": [
        {
          "output_type": "stream",
          "name": "stdout",
          "text": [
            "Downloading...\n",
            "From: https://drive.google.com/uc?id=1nU4F3bYJK2JcMwZuDCpoENE8iVZQxQbl&confirm=t\n",
            "To: /content/likes_data.zip\n",
            "100% 362M/362M [00:03<00:00, 97.0MB/s]\n"
          ]
        }
      ]
    },
    {
      "cell_type": "code",
      "source": [
        "!unzip likes_data.zip"
      ],
      "metadata": {
        "colab": {
          "base_uri": "https://localhost:8080/"
        },
        "id": "PxtLBTaygfWy",
        "outputId": "34108273-5425-484f-e02e-f6d5bc037cde"
      },
      "execution_count": 3,
      "outputs": [
        {
          "output_type": "stream",
          "name": "stdout",
          "text": [
            "Archive:  likes_data.zip\n",
            "replace test? [y]es, [n]o, [A]ll, [N]one, [r]ename: A\n",
            "  inflating: test                    \n",
            "  inflating: __MACOSX/._test         \n",
            "  inflating: track_artists.csv       \n",
            "  inflating: train                   \n",
            "  inflating: __MACOSX/._train        \n"
          ]
        }
      ]
    },
    {
      "cell_type": "markdown",
      "source": [
        "## Формирование датасета в нужном виде"
      ],
      "metadata": {
        "id": "QcGnnK3BgopD"
      }
    },
    {
      "cell_type": "code",
      "source": [
        "data_list = []\n",
        "\n",
        "with open('/content/train', 'r') as f:\n",
        "    lines = f.readlines()\n",
        "    for i, line in enumerate(lines):\n",
        "        tracks = [int(n) for n in line.split()]\n",
        "        user_tracks = np.empty((len(tracks), 3), dtype=int)\n",
        "        user_tracks[:, 0] = i # user_id\n",
        "        user_tracks[:, 1] = tracks[::-1] # track_id\n",
        "        user_tracks[:, 2] = np.arange(len(tracks)) # order of track_id \n",
        "        data_list.append(user_tracks)\n",
        "\n",
        "data_arr = np.vstack(data_list)"
      ],
      "metadata": {
        "id": "K_4fmgfav7ru"
      },
      "execution_count": 4,
      "outputs": []
    },
    {
      "cell_type": "code",
      "source": [
        "df = pd.DataFrame(data_arr, columns = ['user_id', 'track_id', 'order'])"
      ],
      "metadata": {
        "id": "Q4Tj3bQh8Qfx"
      },
      "execution_count": 5,
      "outputs": []
    },
    {
      "cell_type": "markdown",
      "source": [
        "Для упрощения расчетов ограничемся только первыми 1000 пользователями"
      ],
      "metadata": {
        "id": "dE-njcMOMnjs"
      }
    },
    {
      "cell_type": "code",
      "source": [
        "df = df[df['user_id'].isin(np.arange(1000))]\n",
        "print(df.shape)\n",
        "df.head()"
      ],
      "metadata": {
        "colab": {
          "base_uri": "https://localhost:8080/",
          "height": 223
        },
        "id": "SK1MChO4Mmj1",
        "outputId": "64fa1db7-5867-4430-8078-0977d3701c50"
      },
      "execution_count": 6,
      "outputs": [
        {
          "output_type": "stream",
          "name": "stdout",
          "text": [
            "(79953, 3)\n"
          ]
        },
        {
          "output_type": "execute_result",
          "data": {
            "text/plain": [
              "   user_id  track_id  order\n",
              "0        0    388242      0\n",
              "1        0    278503      1\n",
              "2        0    102795      2\n",
              "3        0    470957      3\n",
              "4        0    159637      4"
            ],
            "text/html": [
              "\n",
              "  <div id=\"df-fd94298f-00cc-42af-b217-fe6112c0e42f\">\n",
              "    <div class=\"colab-df-container\">\n",
              "      <div>\n",
              "<style scoped>\n",
              "    .dataframe tbody tr th:only-of-type {\n",
              "        vertical-align: middle;\n",
              "    }\n",
              "\n",
              "    .dataframe tbody tr th {\n",
              "        vertical-align: top;\n",
              "    }\n",
              "\n",
              "    .dataframe thead th {\n",
              "        text-align: right;\n",
              "    }\n",
              "</style>\n",
              "<table border=\"1\" class=\"dataframe\">\n",
              "  <thead>\n",
              "    <tr style=\"text-align: right;\">\n",
              "      <th></th>\n",
              "      <th>user_id</th>\n",
              "      <th>track_id</th>\n",
              "      <th>order</th>\n",
              "    </tr>\n",
              "  </thead>\n",
              "  <tbody>\n",
              "    <tr>\n",
              "      <th>0</th>\n",
              "      <td>0</td>\n",
              "      <td>388242</td>\n",
              "      <td>0</td>\n",
              "    </tr>\n",
              "    <tr>\n",
              "      <th>1</th>\n",
              "      <td>0</td>\n",
              "      <td>278503</td>\n",
              "      <td>1</td>\n",
              "    </tr>\n",
              "    <tr>\n",
              "      <th>2</th>\n",
              "      <td>0</td>\n",
              "      <td>102795</td>\n",
              "      <td>2</td>\n",
              "    </tr>\n",
              "    <tr>\n",
              "      <th>3</th>\n",
              "      <td>0</td>\n",
              "      <td>470957</td>\n",
              "      <td>3</td>\n",
              "    </tr>\n",
              "    <tr>\n",
              "      <th>4</th>\n",
              "      <td>0</td>\n",
              "      <td>159637</td>\n",
              "      <td>4</td>\n",
              "    </tr>\n",
              "  </tbody>\n",
              "</table>\n",
              "</div>\n",
              "      <button class=\"colab-df-convert\" onclick=\"convertToInteractive('df-fd94298f-00cc-42af-b217-fe6112c0e42f')\"\n",
              "              title=\"Convert this dataframe to an interactive table.\"\n",
              "              style=\"display:none;\">\n",
              "        \n",
              "  <svg xmlns=\"http://www.w3.org/2000/svg\" height=\"24px\"viewBox=\"0 0 24 24\"\n",
              "       width=\"24px\">\n",
              "    <path d=\"M0 0h24v24H0V0z\" fill=\"none\"/>\n",
              "    <path d=\"M18.56 5.44l.94 2.06.94-2.06 2.06-.94-2.06-.94-.94-2.06-.94 2.06-2.06.94zm-11 1L8.5 8.5l.94-2.06 2.06-.94-2.06-.94L8.5 2.5l-.94 2.06-2.06.94zm10 10l.94 2.06.94-2.06 2.06-.94-2.06-.94-.94-2.06-.94 2.06-2.06.94z\"/><path d=\"M17.41 7.96l-1.37-1.37c-.4-.4-.92-.59-1.43-.59-.52 0-1.04.2-1.43.59L10.3 9.45l-7.72 7.72c-.78.78-.78 2.05 0 2.83L4 21.41c.39.39.9.59 1.41.59.51 0 1.02-.2 1.41-.59l7.78-7.78 2.81-2.81c.8-.78.8-2.07 0-2.86zM5.41 20L4 18.59l7.72-7.72 1.47 1.35L5.41 20z\"/>\n",
              "  </svg>\n",
              "      </button>\n",
              "      \n",
              "  <style>\n",
              "    .colab-df-container {\n",
              "      display:flex;\n",
              "      flex-wrap:wrap;\n",
              "      gap: 12px;\n",
              "    }\n",
              "\n",
              "    .colab-df-convert {\n",
              "      background-color: #E8F0FE;\n",
              "      border: none;\n",
              "      border-radius: 50%;\n",
              "      cursor: pointer;\n",
              "      display: none;\n",
              "      fill: #1967D2;\n",
              "      height: 32px;\n",
              "      padding: 0 0 0 0;\n",
              "      width: 32px;\n",
              "    }\n",
              "\n",
              "    .colab-df-convert:hover {\n",
              "      background-color: #E2EBFA;\n",
              "      box-shadow: 0px 1px 2px rgba(60, 64, 67, 0.3), 0px 1px 3px 1px rgba(60, 64, 67, 0.15);\n",
              "      fill: #174EA6;\n",
              "    }\n",
              "\n",
              "    [theme=dark] .colab-df-convert {\n",
              "      background-color: #3B4455;\n",
              "      fill: #D2E3FC;\n",
              "    }\n",
              "\n",
              "    [theme=dark] .colab-df-convert:hover {\n",
              "      background-color: #434B5C;\n",
              "      box-shadow: 0px 1px 3px 1px rgba(0, 0, 0, 0.15);\n",
              "      filter: drop-shadow(0px 1px 2px rgba(0, 0, 0, 0.3));\n",
              "      fill: #FFFFFF;\n",
              "    }\n",
              "  </style>\n",
              "\n",
              "      <script>\n",
              "        const buttonEl =\n",
              "          document.querySelector('#df-fd94298f-00cc-42af-b217-fe6112c0e42f button.colab-df-convert');\n",
              "        buttonEl.style.display =\n",
              "          google.colab.kernel.accessAllowed ? 'block' : 'none';\n",
              "\n",
              "        async function convertToInteractive(key) {\n",
              "          const element = document.querySelector('#df-fd94298f-00cc-42af-b217-fe6112c0e42f');\n",
              "          const dataTable =\n",
              "            await google.colab.kernel.invokeFunction('convertToInteractive',\n",
              "                                                     [key], {});\n",
              "          if (!dataTable) return;\n",
              "\n",
              "          const docLinkHtml = 'Like what you see? Visit the ' +\n",
              "            '<a target=\"_blank\" href=https://colab.research.google.com/notebooks/data_table.ipynb>data table notebook</a>'\n",
              "            + ' to learn more about interactive tables.';\n",
              "          element.innerHTML = '';\n",
              "          dataTable['output_type'] = 'display_data';\n",
              "          await google.colab.output.renderOutput(dataTable, element);\n",
              "          const docLink = document.createElement('div');\n",
              "          docLink.innerHTML = docLinkHtml;\n",
              "          element.appendChild(docLink);\n",
              "        }\n",
              "      </script>\n",
              "    </div>\n",
              "  </div>\n",
              "  "
            ]
          },
          "metadata": {},
          "execution_count": 6
        }
      ]
    },
    {
      "cell_type": "markdown",
      "source": [
        "Проверим"
      ],
      "metadata": {
        "id": "NZ_5q-b-NtQf"
      }
    },
    {
      "cell_type": "code",
      "source": [
        "df['user_id'].nunique()"
      ],
      "metadata": {
        "colab": {
          "base_uri": "https://localhost:8080/"
        },
        "id": "y8Ijm4UwNmOk",
        "outputId": "8b511db9-4b99-47f9-c591-f134c9f9dd11"
      },
      "execution_count": 7,
      "outputs": [
        {
          "output_type": "execute_result",
          "data": {
            "text/plain": [
              "1000"
            ]
          },
          "metadata": {},
          "execution_count": 7
        }
      ]
    },
    {
      "cell_type": "markdown",
      "source": [
        "## Реализация валидации"
      ],
      "metadata": {
        "id": "R-AxHUxcgwla"
      }
    },
    {
      "cell_type": "code",
      "source": [
        "class UsersKFold():\n",
        "    def __init__(self, n_folds: int, p: int, random_seed: int=42):\n",
        "        self.n_folds = n_folds\n",
        "        self.p = p\n",
        "        self.random_seed = random_seed\n",
        "    \n",
        "    def split(self, df: pd.DataFrame):\n",
        "        df = df.copy()\n",
        "        users = df['user_id'].unique()\n",
        "        # Разбивка по фолдам\n",
        "        users_kfold = KFold(n_splits=self.n_folds, shuffle=True, random_state=self.random_seed)\n",
        "        \n",
        "        for train_users, test_users in users_kfold.split(users):\n",
        "            # Получение масок\n",
        "            train_mask = df['user_id'].isin(train_users)\n",
        "            test_mask = df['user_id'].isin(test_users) & (df['order'] < self.p)\n",
        "            yield train_mask, test_mask"
      ],
      "metadata": {
        "id": "dRAWrIuinjZk"
      },
      "execution_count": 8,
      "outputs": []
    },
    {
      "cell_type": "markdown",
      "source": [
        "Проверка"
      ],
      "metadata": {
        "id": "xbSyhCPYtWpz"
      }
    },
    {
      "cell_type": "code",
      "source": [
        "n_folds = 4\n",
        "p = 5\n",
        "\n",
        "cv = UsersKFold(n_folds=n_folds, p=p)\n",
        "\n",
        "for i, (train_mask, test_mask) in enumerate(cv.split(df)):\n",
        "    train_fold = df[train_mask]\n",
        "    test_fold = df[test_mask]\n",
        "\n",
        "    if (np.in1d(train_fold['user_id'].unique(), test_fold['user_id'].unique())).sum() == 0:\n",
        "      print(f'Фолд= {i}, Нет общих пользователей')\n",
        "    else:\n",
        "      print('Ошибка, есть общие пользователи')\n",
        "    \n",
        "    if test_fold.groupby('user_id').count().values.max() <= p:\n",
        "      print(f'Фолд= {i}, в тест выборке меньше {p} последних треков')\n",
        "    else:\n",
        "      print(f'Ошибка, в тест выборке больше {p} последних треков')\n",
        "    print('*****'*10)"
      ],
      "metadata": {
        "colab": {
          "base_uri": "https://localhost:8080/"
        },
        "id": "tRHYVpTJnjZt",
        "outputId": "64567281-424c-4f6f-dcaa-53f78fa35647"
      },
      "execution_count": 9,
      "outputs": [
        {
          "output_type": "stream",
          "name": "stdout",
          "text": [
            "Фолд= 0, Нет общих пользователей\n",
            "Фолд= 0, в тест выборке меньше 5 последних треков\n",
            "**************************************************\n",
            "Фолд= 1, Нет общих пользователей\n",
            "Фолд= 1, в тест выборке меньше 5 последних треков\n",
            "**************************************************\n",
            "Фолд= 2, Нет общих пользователей\n",
            "Фолд= 2, в тест выборке меньше 5 последних треков\n",
            "**************************************************\n",
            "Фолд= 3, Нет общих пользователей\n",
            "Фолд= 3, в тест выборке меньше 5 последних треков\n",
            "**************************************************\n",
            "Фолд= 4, Нет общих пользователей\n",
            "Фолд= 4, в тест выборке меньше 5 последних треков\n",
            "**************************************************\n"
          ]
        }
      ]
    },
    {
      "cell_type": "code",
      "source": [],
      "metadata": {
        "id": "bmCgufQTt5vn"
      },
      "execution_count": 9,
      "outputs": []
    }
  ]
}