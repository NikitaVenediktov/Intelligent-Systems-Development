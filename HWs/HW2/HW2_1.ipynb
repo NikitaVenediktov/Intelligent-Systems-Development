{
  "cells": [
    {
      "cell_type": "markdown",
      "metadata": {
        "id": "WrAMVD3Yf4ZO"
      },
      "source": [
        "# Постановка Задачи\n",
        "### Validation\n",
        "\n",
        "Исходные данные - Yandex Cup 2022 RecSys:\n",
        "- Описание соревнования - https://contest.yandex.ru/yacup/contest/41618/problems/\n",
        "- Данные - https://disk.yandex.ru/d/SI1aAooPn9i8TA\n",
        "- Описание данных - в архиве likes_data.zip три файла:\n",
        "  - train - обучающий набор данных. Каждая строка - последовательность id треков, которые лайкнул один пользователь. Гарантируется, что лайки даны в той последовательности, в которой их ставил пользователь.\n",
        "  - test - набор тестовых данных. Имеет точно такой же формат, но в каждой строке не хватает последнего лайка, который надо предсказать.\n",
        "  - track_artists.csv - информация о исполнителях треков. Гарантируется, что у каждого трека есть ровно один исполнитель. Для треков, у которых фактически несколько исполнителей, мы оставили того, который считается основным исполнителем трека.\n",
        "- Описание сабмита - в качестве решения необходимо отправить файл, в котором для каждого пользователя из test в отдельной строке будет не более 100 треков, разделенных пробелом. Гарантируется, что у каждого пользователя будет только 1 лайк в тесте\n",
        "- Метрика - MRR@100"
      ]
    },
    {
      "cell_type": "markdown",
      "metadata": {
        "id": "c6Tw7l0VgS8a"
      },
      "source": [
        "Промежуточная задача - преобразовать данные в pandas.DataFrame вида {user, item, order}, где order - порядковый номер с конца (0 - самый \"свежий\" лайк, чем больше order, тем позже был поставлен лайк)\n",
        "\n",
        "**Итоговая задача** - построить схему валидации для данного соревнования с учетом особенностей сорвенования\n",
        "- Между `train` и `test` не должно быть общих пользователей\n",
        "- Количество фолдов задается через параметр класса `n_folds`\n",
        "- В `test` должно быть не более `p` последних треков (параметр класса `p`)"
      ]
    },
    {
      "cell_type": "markdown",
      "metadata": {
        "id": "XmYVuDoHgVT5"
      },
      "source": [
        "# Решение"
      ]
    },
    {
      "cell_type": "markdown",
      "metadata": {
        "id": "yxyfWqDIgjlf"
      },
      "source": [
        "## Загрузка данных"
      ]
    },
    {
      "cell_type": "code",
      "execution_count": 10,
      "metadata": {
        "id": "zWMiiPCxf4Ob"
      },
      "outputs": [],
      "source": [
        "import pandas as pd\n",
        "import numpy as np\n",
        "from sklearn.model_selection import KFold\n",
        "\n",
        "def headtail(df): # функция для удобного просмотра большого df (5 первых и 5 последний строк выводит)\n",
        "    return pd.concat([df.head(), df.tail()])"
      ]
    },
    {
      "cell_type": "code",
      "execution_count": 3,
      "metadata": {
        "colab": {
          "base_uri": "https://localhost:8080/"
        },
        "id": "_7GtX1GOgfcb",
        "outputId": "318d70ee-434e-4878-e69b-e69ddd0834be"
      },
      "outputs": [
        {
          "name": "stdout",
          "output_type": "stream",
          "text": [
            "/bin/bash: gdown: command not found\n"
          ]
        }
      ],
      "source": [
        "# на будущее запомнить, если гугл из-за вирусов просит подтверждения, \n",
        "# то использовать данную конструкцию !gdown \"<drive-id>&confirm=t\"\n",
        "!gdown \"1nU4F3bYJK2JcMwZuDCpoENE8iVZQxQbl&confirm=t\""
      ]
    },
    {
      "cell_type": "code",
      "execution_count": 4,
      "metadata": {
        "colab": {
          "base_uri": "https://localhost:8080/"
        },
        "id": "PxtLBTaygfWy",
        "outputId": "34108273-5425-484f-e02e-f6d5bc037cde"
      },
      "outputs": [
        {
          "name": "stdout",
          "output_type": "stream",
          "text": [
            "/bin/bash: unzip: command not found\n"
          ]
        }
      ],
      "source": [
        "!unzip likes_data.zip"
      ]
    },
    {
      "cell_type": "markdown",
      "metadata": {
        "id": "QcGnnK3BgopD"
      },
      "source": [
        "## Формирование датасета в нужном виде"
      ]
    },
    {
      "cell_type": "code",
      "execution_count": 8,
      "metadata": {
        "id": "K_4fmgfav7ru"
      },
      "outputs": [],
      "source": [
        "data_list = []\n",
        "\n",
        "with open('data_original/train', 'r') as f:\n",
        "    lines = f.readlines()\n",
        "    for i, line in enumerate(lines):\n",
        "        tracks = [int(n) for n in line.split()]\n",
        "        user_tracks = np.empty((len(tracks), 3), dtype=int)\n",
        "        user_tracks[:, 0] = i # user_id\n",
        "        user_tracks[:, 1] = tracks[::-1] # track_id\n",
        "        user_tracks[:, 2] = np.arange(len(tracks)) # order of track_id \n",
        "        data_list.append(user_tracks)\n",
        "\n",
        "data_arr = np.vstack(data_list)"
      ]
    },
    {
      "cell_type": "code",
      "execution_count": 11,
      "metadata": {
        "id": "Q4Tj3bQh8Qfx"
      },
      "outputs": [
        {
          "data": {
            "text/html": [
              "<div>\n",
              "<style scoped>\n",
              "    .dataframe tbody tr th:only-of-type {\n",
              "        vertical-align: middle;\n",
              "    }\n",
              "\n",
              "    .dataframe tbody tr th {\n",
              "        vertical-align: top;\n",
              "    }\n",
              "\n",
              "    .dataframe thead th {\n",
              "        text-align: right;\n",
              "    }\n",
              "</style>\n",
              "<table border=\"1\" class=\"dataframe\">\n",
              "  <thead>\n",
              "    <tr style=\"text-align: right;\">\n",
              "      <th></th>\n",
              "      <th>user_id</th>\n",
              "      <th>track_id</th>\n",
              "      <th>order</th>\n",
              "    </tr>\n",
              "  </thead>\n",
              "  <tbody>\n",
              "    <tr>\n",
              "      <th>0</th>\n",
              "      <td>0</td>\n",
              "      <td>388242</td>\n",
              "      <td>0</td>\n",
              "    </tr>\n",
              "    <tr>\n",
              "      <th>1</th>\n",
              "      <td>0</td>\n",
              "      <td>278503</td>\n",
              "      <td>1</td>\n",
              "    </tr>\n",
              "    <tr>\n",
              "      <th>2</th>\n",
              "      <td>0</td>\n",
              "      <td>102795</td>\n",
              "      <td>2</td>\n",
              "    </tr>\n",
              "    <tr>\n",
              "      <th>3</th>\n",
              "      <td>0</td>\n",
              "      <td>470957</td>\n",
              "      <td>3</td>\n",
              "    </tr>\n",
              "    <tr>\n",
              "      <th>4</th>\n",
              "      <td>0</td>\n",
              "      <td>159637</td>\n",
              "      <td>4</td>\n",
              "    </tr>\n",
              "    <tr>\n",
              "      <th>94188629</th>\n",
              "      <td>1160083</td>\n",
              "      <td>19120</td>\n",
              "      <td>251</td>\n",
              "    </tr>\n",
              "    <tr>\n",
              "      <th>94188630</th>\n",
              "      <td>1160083</td>\n",
              "      <td>326821</td>\n",
              "      <td>252</td>\n",
              "    </tr>\n",
              "    <tr>\n",
              "      <th>94188631</th>\n",
              "      <td>1160083</td>\n",
              "      <td>214132</td>\n",
              "      <td>253</td>\n",
              "    </tr>\n",
              "    <tr>\n",
              "      <th>94188632</th>\n",
              "      <td>1160083</td>\n",
              "      <td>352098</td>\n",
              "      <td>254</td>\n",
              "    </tr>\n",
              "    <tr>\n",
              "      <th>94188633</th>\n",
              "      <td>1160083</td>\n",
              "      <td>247274</td>\n",
              "      <td>255</td>\n",
              "    </tr>\n",
              "  </tbody>\n",
              "</table>\n",
              "</div>"
            ],
            "text/plain": [
              "          user_id  track_id  order\n",
              "0               0    388242      0\n",
              "1               0    278503      1\n",
              "2               0    102795      2\n",
              "3               0    470957      3\n",
              "4               0    159637      4\n",
              "94188629  1160083     19120    251\n",
              "94188630  1160083    326821    252\n",
              "94188631  1160083    214132    253\n",
              "94188632  1160083    352098    254\n",
              "94188633  1160083    247274    255"
            ]
          },
          "execution_count": 11,
          "metadata": {},
          "output_type": "execute_result"
        }
      ],
      "source": [
        "df = pd.DataFrame(data_arr, columns = ['user_id', 'track_id', 'order'])\n",
        "headtail(df)"
      ]
    },
    {
      "cell_type": "markdown",
      "metadata": {
        "id": "dE-njcMOMnjs"
      },
      "source": [
        "Для упрощения расчетов ограничемся только первыми 1000 пользователями"
      ]
    },
    {
      "cell_type": "code",
      "execution_count": 12,
      "metadata": {
        "colab": {
          "base_uri": "https://localhost:8080/",
          "height": 223
        },
        "id": "SK1MChO4Mmj1",
        "outputId": "64fa1db7-5867-4430-8078-0977d3701c50"
      },
      "outputs": [
        {
          "name": "stdout",
          "output_type": "stream",
          "text": [
            "(79953, 3)\n"
          ]
        },
        {
          "data": {
            "text/html": [
              "<div>\n",
              "<style scoped>\n",
              "    .dataframe tbody tr th:only-of-type {\n",
              "        vertical-align: middle;\n",
              "    }\n",
              "\n",
              "    .dataframe tbody tr th {\n",
              "        vertical-align: top;\n",
              "    }\n",
              "\n",
              "    .dataframe thead th {\n",
              "        text-align: right;\n",
              "    }\n",
              "</style>\n",
              "<table border=\"1\" class=\"dataframe\">\n",
              "  <thead>\n",
              "    <tr style=\"text-align: right;\">\n",
              "      <th></th>\n",
              "      <th>user_id</th>\n",
              "      <th>track_id</th>\n",
              "      <th>order</th>\n",
              "    </tr>\n",
              "  </thead>\n",
              "  <tbody>\n",
              "    <tr>\n",
              "      <th>0</th>\n",
              "      <td>0</td>\n",
              "      <td>388242</td>\n",
              "      <td>0</td>\n",
              "    </tr>\n",
              "    <tr>\n",
              "      <th>1</th>\n",
              "      <td>0</td>\n",
              "      <td>278503</td>\n",
              "      <td>1</td>\n",
              "    </tr>\n",
              "    <tr>\n",
              "      <th>2</th>\n",
              "      <td>0</td>\n",
              "      <td>102795</td>\n",
              "      <td>2</td>\n",
              "    </tr>\n",
              "    <tr>\n",
              "      <th>3</th>\n",
              "      <td>0</td>\n",
              "      <td>470957</td>\n",
              "      <td>3</td>\n",
              "    </tr>\n",
              "    <tr>\n",
              "      <th>4</th>\n",
              "      <td>0</td>\n",
              "      <td>159637</td>\n",
              "      <td>4</td>\n",
              "    </tr>\n",
              "  </tbody>\n",
              "</table>\n",
              "</div>"
            ],
            "text/plain": [
              "   user_id  track_id  order\n",
              "0        0    388242      0\n",
              "1        0    278503      1\n",
              "2        0    102795      2\n",
              "3        0    470957      3\n",
              "4        0    159637      4"
            ]
          },
          "execution_count": 12,
          "metadata": {},
          "output_type": "execute_result"
        }
      ],
      "source": [
        "df = df[df['user_id'].isin(np.arange(1000))]\n",
        "print(df.shape)\n",
        "df.head()"
      ]
    },
    {
      "cell_type": "markdown",
      "metadata": {
        "id": "NZ_5q-b-NtQf"
      },
      "source": [
        "Проверим"
      ]
    },
    {
      "cell_type": "code",
      "execution_count": 7,
      "metadata": {
        "colab": {
          "base_uri": "https://localhost:8080/"
        },
        "id": "y8Ijm4UwNmOk",
        "outputId": "8b511db9-4b99-47f9-c591-f134c9f9dd11"
      },
      "outputs": [
        {
          "data": {
            "text/plain": [
              "1000"
            ]
          },
          "execution_count": 7,
          "metadata": {},
          "output_type": "execute_result"
        }
      ],
      "source": [
        "df['user_id'].nunique()"
      ]
    },
    {
      "cell_type": "markdown",
      "metadata": {
        "id": "R-AxHUxcgwla"
      },
      "source": [
        "## Реализация валидации"
      ]
    },
    {
      "cell_type": "code",
      "execution_count": 14,
      "metadata": {
        "id": "dRAWrIuinjZk"
      },
      "outputs": [],
      "source": [
        "class UsersKFold():\n",
        "    def __init__(self, n_folds: int, p: int, random_seed: int=42):\n",
        "        self.n_folds = n_folds\n",
        "        self.p = p\n",
        "        self.random_seed = random_seed\n",
        "    \n",
        "    def split(self, df: pd.DataFrame):\n",
        "        df = df.copy()\n",
        "        users = df['user_id'].unique()\n",
        "        # Разбивка по фолдам\n",
        "        users_kfold = KFold(n_splits=self.n_folds, shuffle=True, random_state=self.random_seed)\n",
        "        \n",
        "        for train_users, test_users in users_kfold.split(users):\n",
        "            # Получение масок\n",
        "            train_mask = df['user_id'].isin(train_users)\n",
        "            test_mask = df['user_id'].isin(test_users) & (df['order'] < self.p)\n",
        "            yield train_mask, test_mask"
      ]
    },
    {
      "cell_type": "markdown",
      "metadata": {
        "id": "xbSyhCPYtWpz"
      },
      "source": [
        "Проверка"
      ]
    },
    {
      "cell_type": "code",
      "execution_count": 15,
      "metadata": {
        "colab": {
          "base_uri": "https://localhost:8080/"
        },
        "id": "tRHYVpTJnjZt",
        "outputId": "64567281-424c-4f6f-dcaa-53f78fa35647"
      },
      "outputs": [
        {
          "name": "stdout",
          "output_type": "stream",
          "text": [
            "Фолд= 0, Нет общих пользователей\n",
            "Фолд= 0, в тест выборке меньше 5 последних треков\n",
            "**************************************************\n",
            "Фолд= 1, Нет общих пользователей\n",
            "Фолд= 1, в тест выборке меньше 5 последних треков\n",
            "**************************************************\n",
            "Фолд= 2, Нет общих пользователей\n",
            "Фолд= 2, в тест выборке меньше 5 последних треков\n",
            "**************************************************\n",
            "Фолд= 3, Нет общих пользователей\n",
            "Фолд= 3, в тест выборке меньше 5 последних треков\n",
            "**************************************************\n"
          ]
        }
      ],
      "source": [
        "n_folds = 4\n",
        "p = 5\n",
        "\n",
        "cv = UsersKFold(n_folds=n_folds, p=p)\n",
        "\n",
        "for i, (train_mask, test_mask) in enumerate(cv.split(df)):\n",
        "    train_fold = df[train_mask]\n",
        "    test_fold = df[test_mask]\n",
        "\n",
        "    if (np.in1d(train_fold['user_id'].unique(), test_fold['user_id'].unique())).sum() == 0:\n",
        "      print(f'Фолд= {i}, Нет общих пользователей')\n",
        "    else:\n",
        "      print('Ошибка, есть общие пользователи')\n",
        "    \n",
        "    if test_fold.groupby('user_id').count().values.max() <= p:\n",
        "      print(f'Фолд= {i}, в тест выборке меньше {p} последних треков')\n",
        "    else:\n",
        "      print(f'Ошибка, в тест выборке больше {p} последних треков')\n",
        "    print('*****'*10)"
      ]
    },
    {
      "cell_type": "code",
      "execution_count": 9,
      "metadata": {
        "id": "bmCgufQTt5vn"
      },
      "outputs": [],
      "source": []
    }
  ],
  "metadata": {
    "colab": {
      "provenance": []
    },
    "kernelspec": {
      "display_name": "Python 3.9.12 ('.venv': poetry)",
      "language": "python",
      "name": "python3"
    },
    "language_info": {
      "codemirror_mode": {
        "name": "ipython",
        "version": 3
      },
      "file_extension": ".py",
      "mimetype": "text/x-python",
      "name": "python",
      "nbconvert_exporter": "python",
      "pygments_lexer": "ipython3",
      "version": "3.9.12"
    },
    "vscode": {
      "interpreter": {
        "hash": "533557fb656b569b59880b511a1b8f000d2b695289e17fe758709ff240dbebf5"
      }
    }
  },
  "nbformat": 4,
  "nbformat_minor": 0
}
