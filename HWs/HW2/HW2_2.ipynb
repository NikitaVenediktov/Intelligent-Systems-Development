{
  "nbformat": 4,
  "nbformat_minor": 0,
  "metadata": {
    "colab": {
      "provenance": []
    },
    "kernelspec": {
      "name": "python3",
      "display_name": "Python 3"
    },
    "language_info": {
      "name": "python"
    }
  },
  "cells": [
    {
      "cell_type": "markdown",
      "source": [
        "# Постановка Задачи\n",
        "### pFound\n",
        "Исходные данные - Yandex Cup 2022 Analytics\n",
        "- Ссылка - https://yandex.ru/cup/analytics/analysis/ , пример A. Рассчитать pFound\n",
        "- Данные - https://yadi.sk/d/guqki4UI4hFlXQ\n",
        "- Формула\n",
        "$$pFound@K = \\sum_{i=1}^{k} pLook[i]\\ pRel[i]$$\n",
        "\n",
        "$$pLook[1] = 1$$\n",
        "\n",
        "$$pLook[i] = pLook[i-1]\\ (1 - pRel[i-1])\\ (1 - pBreak)$$\n",
        "\n",
        "$$pBreak = 0.15$$\n",
        "\n",
        "**Задача** - написать функцию, которая принимает на вход dataframe (после join), а на выходе дает средний pFound по всем query.\n",
        "- Запрещается использовать циклы for для расчет метрики (как полностью, так и ее частей).\n",
        "- Усложнение, если задача показалась легкой - попробуйте обойтись без groupby (не уверен, что это возможно, но вдруг вы справитесь)"
      ],
      "metadata": {
        "id": "x5Zo2OMa8GwF"
      }
    },
    {
      "cell_type": "markdown",
      "source": [
        "В архиве содержится три текстовых файла:\n",
        "\n",
        "* qid_query.tsv — id запроса и текст запроса, разделённые табуляцией;\n",
        "* qid_url_rating.tsv — id запроса, URL документа, релевантность документа запросу;\n",
        "* hostid_url.tsv — id хоста и URL документа.\n",
        "\n",
        "Нужно вывести текст запроса с максимальным значением метрики , посчитанной по топ-10 документов.\n",
        "\n",
        "Если для запроса есть несколько документов с одним и тем же id хоста — оставить только максимально релевантный документ (а если несколько документов максимально релевантны, выбрать любой).\n",
        "\n",
        "Документы по запросу сортируются по убыванию релевантности после выбора одного документа для хоста. Если у нескольких документов с разных хостов релевантность одинакова, их порядок может быть произвольным."
      ],
      "metadata": {
        "id": "xbKXW-M18Vv6"
      }
    },
    {
      "cell_type": "markdown",
      "source": [
        "#Yandex pFound with For"
      ],
      "metadata": {
        "id": "Fufz9C9pnod8"
      }
    },
    {
      "cell_type": "code",
      "source": [
        "import pandas as pd"
      ],
      "metadata": {
        "id": "LS5w4QIlpQSJ"
      },
      "execution_count": 1,
      "outputs": []
    },
    {
      "cell_type": "markdown",
      "source": [
        "Залил руками архив на гугл диск для привычного скачивания через gdown"
      ],
      "metadata": {
        "id": "3bEEr7i68dHZ"
      }
    },
    {
      "cell_type": "code",
      "source": [
        "!gdown 1JhkTbsnqsvhlPNPWYRlwkr7EGqDoE3AV"
      ],
      "metadata": {
        "colab": {
          "base_uri": "https://localhost:8080/"
        },
        "id": "gzniLcCspILF",
        "outputId": "45e0e6b1-bb63-4d49-fc5b-55191d5ed981"
      },
      "execution_count": 2,
      "outputs": [
        {
          "output_type": "stream",
          "name": "stdout",
          "text": [
            "Downloading...\n",
            "From: https://drive.google.com/uc?id=1JhkTbsnqsvhlPNPWYRlwkr7EGqDoE3AV\n",
            "To: /content/yandex_cup_analytics_A.zip\n",
            "\r  0% 0.00/75.4k [00:00<?, ?B/s]\r100% 75.4k/75.4k [00:00<00:00, 53.9MB/s]\n"
          ]
        }
      ]
    },
    {
      "cell_type": "code",
      "source": [
        "!unzip yandex_cup_analytics_A.zip"
      ],
      "metadata": {
        "colab": {
          "base_uri": "https://localhost:8080/"
        },
        "id": "w48zoWgXpLw8",
        "outputId": "61245a8b-9d41-4071-f91b-4c17a091c4a0"
      },
      "execution_count": 3,
      "outputs": [
        {
          "output_type": "stream",
          "name": "stdout",
          "text": [
            "Archive:  yandex_cup_analytics_A.zip\n",
            "replace hidden_task.zip? [y]es, [n]o, [A]ll, [N]one, [r]ename: A\n",
            "  inflating: hidden_task.zip         \n",
            "  inflating: open_task.zip           \n"
          ]
        }
      ]
    },
    {
      "cell_type": "code",
      "source": [
        "!unzip hidden_task.zip"
      ],
      "metadata": {
        "colab": {
          "base_uri": "https://localhost:8080/"
        },
        "id": "O8KKA_sgpfo-",
        "outputId": "7037f4ef-30c1-4550-8bb7-e07f7d32df4d"
      },
      "execution_count": 4,
      "outputs": [
        {
          "output_type": "stream",
          "name": "stdout",
          "text": [
            "Archive:  hidden_task.zip\n",
            "replace hostid_url.tsv? [y]es, [n]o, [A]ll, [N]one, [r]ename: A\n",
            "  inflating: hostid_url.tsv          \n",
            "  inflating: qid_query.tsv           \n",
            "  inflating: qid_url_rating.tsv      \n"
          ]
        }
      ]
    },
    {
      "cell_type": "code",
      "source": [
        "!unzip open_task.zip"
      ],
      "metadata": {
        "colab": {
          "base_uri": "https://localhost:8080/"
        },
        "id": "9tCFkHrutJaT",
        "outputId": "ee306551-e1f1-49a5-80ce-fa38544d619f"
      },
      "execution_count": 5,
      "outputs": [
        {
          "output_type": "stream",
          "name": "stdout",
          "text": [
            "Archive:  open_task.zip\n",
            "replace open_task/qid_query.tsv? [y]es, [n]o, [A]ll, [N]one, [r]ename: A\n",
            "  inflating: open_task/qid_query.tsv  \n",
            "  inflating: open_task/hostid_url.tsv  \n",
            "  inflating: open_task/qid_url_rating.tsv  \n"
          ]
        }
      ]
    },
    {
      "cell_type": "code",
      "source": [
        "# считываем данные\n",
        "qid_query = pd.read_csv(\"/content/open_task/qid_query.tsv\", sep=\"\\t\", names=[\"qid\", \"query\"])\n",
        "qid_url_rating = pd.read_csv(\"/content/open_task/qid_url_rating.tsv\", sep=\"\\t\", names=[\"qid\", \"url\", \"rating\"])\n",
        "hostid_url = pd.read_csv(\"/content/open_task/hostid_url.tsv\", sep=\"\\t\", names=[\"hostid\", \"url\"])"
      ],
      "metadata": {
        "id": "PgvgFZ42pTzn"
      },
      "execution_count": 6,
      "outputs": []
    },
    {
      "cell_type": "code",
      "source": [
        "# делаем join двух таблиц, чтобы было просто брать url с максимальным рейтингом\n",
        "qid_url_rating_hostid = pd.merge(qid_url_rating, hostid_url, on=\"url\")"
      ],
      "metadata": {
        "id": "MPgK5Oknpudh"
      },
      "execution_count": 7,
      "outputs": []
    },
    {
      "cell_type": "code",
      "execution_count": 8,
      "metadata": {
        "id": "a0e001ef"
      },
      "outputs": [],
      "source": [
        "def plook(ind, rels):\n",
        "    if ind == 0:\n",
        "        return 1\n",
        "    return plook(ind-1, rels)*(1-rels[ind-1])*(1-0.15)\n",
        "\n",
        "\n",
        "def pfound(group):\n",
        "    max_by_host = group.groupby(\"hostid\")[\"rating\"].max() # максимальный рейтинг хоста\n",
        "    top10 = max_by_host.sort_values(ascending=False)[:10] # берем топ10 урлов с наивысшим рейтингом\n",
        "    pfound = 0\n",
        "    for ind, val in enumerate(top10):\n",
        "        pfound += val*plook(ind, top10.values)\n",
        "    return pfound"
      ]
    },
    {
      "cell_type": "code",
      "source": [
        "qid_pfound = qid_url_rating_hostid.groupby('qid').apply(pfound) # группируем по qid и вычисляем pfound\n",
        "qid_max = qid_pfound.idxmax() # берем qid с максимальным pfound\n",
        "\n",
        "qid_query[qid_query[\"qid\"] == qid_max]"
      ],
      "metadata": {
        "colab": {
          "base_uri": "https://localhost:8080/",
          "height": 81
        },
        "id": "DjUmkGq5qzWL",
        "outputId": "dbacbc73-1309-494e-a2c5-51ab1a364f72"
      },
      "execution_count": 9,
      "outputs": [
        {
          "output_type": "execute_result",
          "data": {
            "text/plain": [
              "       qid            query\n",
              "12  295761  гугл переводчик"
            ],
            "text/html": [
              "\n",
              "  <div id=\"df-4a8e0dc5-d37a-498f-9fd7-f3ed9856b18c\">\n",
              "    <div class=\"colab-df-container\">\n",
              "      <div>\n",
              "<style scoped>\n",
              "    .dataframe tbody tr th:only-of-type {\n",
              "        vertical-align: middle;\n",
              "    }\n",
              "\n",
              "    .dataframe tbody tr th {\n",
              "        vertical-align: top;\n",
              "    }\n",
              "\n",
              "    .dataframe thead th {\n",
              "        text-align: right;\n",
              "    }\n",
              "</style>\n",
              "<table border=\"1\" class=\"dataframe\">\n",
              "  <thead>\n",
              "    <tr style=\"text-align: right;\">\n",
              "      <th></th>\n",
              "      <th>qid</th>\n",
              "      <th>query</th>\n",
              "    </tr>\n",
              "  </thead>\n",
              "  <tbody>\n",
              "    <tr>\n",
              "      <th>12</th>\n",
              "      <td>295761</td>\n",
              "      <td>гугл переводчик</td>\n",
              "    </tr>\n",
              "  </tbody>\n",
              "</table>\n",
              "</div>\n",
              "      <button class=\"colab-df-convert\" onclick=\"convertToInteractive('df-4a8e0dc5-d37a-498f-9fd7-f3ed9856b18c')\"\n",
              "              title=\"Convert this dataframe to an interactive table.\"\n",
              "              style=\"display:none;\">\n",
              "        \n",
              "  <svg xmlns=\"http://www.w3.org/2000/svg\" height=\"24px\"viewBox=\"0 0 24 24\"\n",
              "       width=\"24px\">\n",
              "    <path d=\"M0 0h24v24H0V0z\" fill=\"none\"/>\n",
              "    <path d=\"M18.56 5.44l.94 2.06.94-2.06 2.06-.94-2.06-.94-.94-2.06-.94 2.06-2.06.94zm-11 1L8.5 8.5l.94-2.06 2.06-.94-2.06-.94L8.5 2.5l-.94 2.06-2.06.94zm10 10l.94 2.06.94-2.06 2.06-.94-2.06-.94-.94-2.06-.94 2.06-2.06.94z\"/><path d=\"M17.41 7.96l-1.37-1.37c-.4-.4-.92-.59-1.43-.59-.52 0-1.04.2-1.43.59L10.3 9.45l-7.72 7.72c-.78.78-.78 2.05 0 2.83L4 21.41c.39.39.9.59 1.41.59.51 0 1.02-.2 1.41-.59l7.78-7.78 2.81-2.81c.8-.78.8-2.07 0-2.86zM5.41 20L4 18.59l7.72-7.72 1.47 1.35L5.41 20z\"/>\n",
              "  </svg>\n",
              "      </button>\n",
              "      \n",
              "  <style>\n",
              "    .colab-df-container {\n",
              "      display:flex;\n",
              "      flex-wrap:wrap;\n",
              "      gap: 12px;\n",
              "    }\n",
              "\n",
              "    .colab-df-convert {\n",
              "      background-color: #E8F0FE;\n",
              "      border: none;\n",
              "      border-radius: 50%;\n",
              "      cursor: pointer;\n",
              "      display: none;\n",
              "      fill: #1967D2;\n",
              "      height: 32px;\n",
              "      padding: 0 0 0 0;\n",
              "      width: 32px;\n",
              "    }\n",
              "\n",
              "    .colab-df-convert:hover {\n",
              "      background-color: #E2EBFA;\n",
              "      box-shadow: 0px 1px 2px rgba(60, 64, 67, 0.3), 0px 1px 3px 1px rgba(60, 64, 67, 0.15);\n",
              "      fill: #174EA6;\n",
              "    }\n",
              "\n",
              "    [theme=dark] .colab-df-convert {\n",
              "      background-color: #3B4455;\n",
              "      fill: #D2E3FC;\n",
              "    }\n",
              "\n",
              "    [theme=dark] .colab-df-convert:hover {\n",
              "      background-color: #434B5C;\n",
              "      box-shadow: 0px 1px 3px 1px rgba(0, 0, 0, 0.15);\n",
              "      filter: drop-shadow(0px 1px 2px rgba(0, 0, 0, 0.3));\n",
              "      fill: #FFFFFF;\n",
              "    }\n",
              "  </style>\n",
              "\n",
              "      <script>\n",
              "        const buttonEl =\n",
              "          document.querySelector('#df-4a8e0dc5-d37a-498f-9fd7-f3ed9856b18c button.colab-df-convert');\n",
              "        buttonEl.style.display =\n",
              "          google.colab.kernel.accessAllowed ? 'block' : 'none';\n",
              "\n",
              "        async function convertToInteractive(key) {\n",
              "          const element = document.querySelector('#df-4a8e0dc5-d37a-498f-9fd7-f3ed9856b18c');\n",
              "          const dataTable =\n",
              "            await google.colab.kernel.invokeFunction('convertToInteractive',\n",
              "                                                     [key], {});\n",
              "          if (!dataTable) return;\n",
              "\n",
              "          const docLinkHtml = 'Like what you see? Visit the ' +\n",
              "            '<a target=\"_blank\" href=https://colab.research.google.com/notebooks/data_table.ipynb>data table notebook</a>'\n",
              "            + ' to learn more about interactive tables.';\n",
              "          element.innerHTML = '';\n",
              "          dataTable['output_type'] = 'display_data';\n",
              "          await google.colab.output.renderOutput(dataTable, element);\n",
              "          const docLink = document.createElement('div');\n",
              "          docLink.innerHTML = docLinkHtml;\n",
              "          element.appendChild(docLink);\n",
              "        }\n",
              "      </script>\n",
              "    </div>\n",
              "  </div>\n",
              "  "
            ]
          },
          "metadata": {},
          "execution_count": 9
        }
      ]
    },
    {
      "cell_type": "markdown",
      "source": [
        "Найдем средний **pFound** для проверки себя"
      ],
      "metadata": {
        "id": "op5hDdMXu_ql"
      }
    },
    {
      "cell_type": "code",
      "source": [
        "pfound_mean_orig = qid_pfound.mean()\n",
        "print(f'Средний pFound: {pfound_mean_orig}')"
      ],
      "metadata": {
        "colab": {
          "base_uri": "https://localhost:8080/"
        },
        "id": "1fzhG8CQs86h",
        "outputId": "a49cae50-d8ae-4fcc-90b3-457c01293b5f"
      },
      "execution_count": 10,
      "outputs": [
        {
          "output_type": "stream",
          "name": "stdout",
          "text": [
            "Средний pFound: 0.4603173929969002\n"
          ]
        }
      ]
    },
    {
      "cell_type": "markdown",
      "source": [
        "---\n",
        "# pFoind векторизация"
      ],
      "metadata": {
        "id": "YCnAoSojnybx"
      }
    },
    {
      "cell_type": "code",
      "source": [
        "qid_url_rating_hostid.query('qid == 10387').head(10)"
      ],
      "metadata": {
        "colab": {
          "base_uri": "https://localhost:8080/",
          "height": 363
        },
        "id": "-dvA89LwoPMC",
        "outputId": "69456b79-3c2c-463b-85b9-6438c286367c"
      },
      "execution_count": 11,
      "outputs": [
        {
          "output_type": "execute_result",
          "data": {
            "text/plain": [
              "     qid                                                url  rating  hostid\n",
              "0  10387                       http://batman-arkhamcity.ru/    0.00      64\n",
              "1  10387  http://bigtorrents.org/publ/batman_arkham_city...    0.14      71\n",
              "2  10387  http://consolelife.ru/xbox-360/6577-o-rossiysk...    0.14     101\n",
              "3  10387  http://dic.academic.ru/book.nsf/3662736/Batman...    0.00     115\n",
              "4  10387      http://forum.csmania.ru/viewtopic.php?t=25986    0.14     155\n",
              "5  10387  http://forum.igromania.ru/printthread.php?s=f3...    0.07     156\n",
              "6  10387  http://forum.sharereactor.ru/showthread.php?t=...    0.00     161\n",
              "7  10387  http://forums.4gamers.ru/threads/batman-arkham...    0.07     166\n",
              "8  10387  http://forums.playground.ru/batman_arkham_city...    0.00     169\n",
              "9  10387  http://forums.playground.ru/batman_arkham_city...    0.07     169"
            ],
            "text/html": [
              "\n",
              "  <div id=\"df-12e4d508-5cb0-4563-aa74-bfc1abd2cfab\">\n",
              "    <div class=\"colab-df-container\">\n",
              "      <div>\n",
              "<style scoped>\n",
              "    .dataframe tbody tr th:only-of-type {\n",
              "        vertical-align: middle;\n",
              "    }\n",
              "\n",
              "    .dataframe tbody tr th {\n",
              "        vertical-align: top;\n",
              "    }\n",
              "\n",
              "    .dataframe thead th {\n",
              "        text-align: right;\n",
              "    }\n",
              "</style>\n",
              "<table border=\"1\" class=\"dataframe\">\n",
              "  <thead>\n",
              "    <tr style=\"text-align: right;\">\n",
              "      <th></th>\n",
              "      <th>qid</th>\n",
              "      <th>url</th>\n",
              "      <th>rating</th>\n",
              "      <th>hostid</th>\n",
              "    </tr>\n",
              "  </thead>\n",
              "  <tbody>\n",
              "    <tr>\n",
              "      <th>0</th>\n",
              "      <td>10387</td>\n",
              "      <td>http://batman-arkhamcity.ru/</td>\n",
              "      <td>0.00</td>\n",
              "      <td>64</td>\n",
              "    </tr>\n",
              "    <tr>\n",
              "      <th>1</th>\n",
              "      <td>10387</td>\n",
              "      <td>http://bigtorrents.org/publ/batman_arkham_city...</td>\n",
              "      <td>0.14</td>\n",
              "      <td>71</td>\n",
              "    </tr>\n",
              "    <tr>\n",
              "      <th>2</th>\n",
              "      <td>10387</td>\n",
              "      <td>http://consolelife.ru/xbox-360/6577-o-rossiysk...</td>\n",
              "      <td>0.14</td>\n",
              "      <td>101</td>\n",
              "    </tr>\n",
              "    <tr>\n",
              "      <th>3</th>\n",
              "      <td>10387</td>\n",
              "      <td>http://dic.academic.ru/book.nsf/3662736/Batman...</td>\n",
              "      <td>0.00</td>\n",
              "      <td>115</td>\n",
              "    </tr>\n",
              "    <tr>\n",
              "      <th>4</th>\n",
              "      <td>10387</td>\n",
              "      <td>http://forum.csmania.ru/viewtopic.php?t=25986</td>\n",
              "      <td>0.14</td>\n",
              "      <td>155</td>\n",
              "    </tr>\n",
              "    <tr>\n",
              "      <th>5</th>\n",
              "      <td>10387</td>\n",
              "      <td>http://forum.igromania.ru/printthread.php?s=f3...</td>\n",
              "      <td>0.07</td>\n",
              "      <td>156</td>\n",
              "    </tr>\n",
              "    <tr>\n",
              "      <th>6</th>\n",
              "      <td>10387</td>\n",
              "      <td>http://forum.sharereactor.ru/showthread.php?t=...</td>\n",
              "      <td>0.00</td>\n",
              "      <td>161</td>\n",
              "    </tr>\n",
              "    <tr>\n",
              "      <th>7</th>\n",
              "      <td>10387</td>\n",
              "      <td>http://forums.4gamers.ru/threads/batman-arkham...</td>\n",
              "      <td>0.07</td>\n",
              "      <td>166</td>\n",
              "    </tr>\n",
              "    <tr>\n",
              "      <th>8</th>\n",
              "      <td>10387</td>\n",
              "      <td>http://forums.playground.ru/batman_arkham_city...</td>\n",
              "      <td>0.00</td>\n",
              "      <td>169</td>\n",
              "    </tr>\n",
              "    <tr>\n",
              "      <th>9</th>\n",
              "      <td>10387</td>\n",
              "      <td>http://forums.playground.ru/batman_arkham_city...</td>\n",
              "      <td>0.07</td>\n",
              "      <td>169</td>\n",
              "    </tr>\n",
              "  </tbody>\n",
              "</table>\n",
              "</div>\n",
              "      <button class=\"colab-df-convert\" onclick=\"convertToInteractive('df-12e4d508-5cb0-4563-aa74-bfc1abd2cfab')\"\n",
              "              title=\"Convert this dataframe to an interactive table.\"\n",
              "              style=\"display:none;\">\n",
              "        \n",
              "  <svg xmlns=\"http://www.w3.org/2000/svg\" height=\"24px\"viewBox=\"0 0 24 24\"\n",
              "       width=\"24px\">\n",
              "    <path d=\"M0 0h24v24H0V0z\" fill=\"none\"/>\n",
              "    <path d=\"M18.56 5.44l.94 2.06.94-2.06 2.06-.94-2.06-.94-.94-2.06-.94 2.06-2.06.94zm-11 1L8.5 8.5l.94-2.06 2.06-.94-2.06-.94L8.5 2.5l-.94 2.06-2.06.94zm10 10l.94 2.06.94-2.06 2.06-.94-2.06-.94-.94-2.06-.94 2.06-2.06.94z\"/><path d=\"M17.41 7.96l-1.37-1.37c-.4-.4-.92-.59-1.43-.59-.52 0-1.04.2-1.43.59L10.3 9.45l-7.72 7.72c-.78.78-.78 2.05 0 2.83L4 21.41c.39.39.9.59 1.41.59.51 0 1.02-.2 1.41-.59l7.78-7.78 2.81-2.81c.8-.78.8-2.07 0-2.86zM5.41 20L4 18.59l7.72-7.72 1.47 1.35L5.41 20z\"/>\n",
              "  </svg>\n",
              "      </button>\n",
              "      \n",
              "  <style>\n",
              "    .colab-df-container {\n",
              "      display:flex;\n",
              "      flex-wrap:wrap;\n",
              "      gap: 12px;\n",
              "    }\n",
              "\n",
              "    .colab-df-convert {\n",
              "      background-color: #E8F0FE;\n",
              "      border: none;\n",
              "      border-radius: 50%;\n",
              "      cursor: pointer;\n",
              "      display: none;\n",
              "      fill: #1967D2;\n",
              "      height: 32px;\n",
              "      padding: 0 0 0 0;\n",
              "      width: 32px;\n",
              "    }\n",
              "\n",
              "    .colab-df-convert:hover {\n",
              "      background-color: #E2EBFA;\n",
              "      box-shadow: 0px 1px 2px rgba(60, 64, 67, 0.3), 0px 1px 3px 1px rgba(60, 64, 67, 0.15);\n",
              "      fill: #174EA6;\n",
              "    }\n",
              "\n",
              "    [theme=dark] .colab-df-convert {\n",
              "      background-color: #3B4455;\n",
              "      fill: #D2E3FC;\n",
              "    }\n",
              "\n",
              "    [theme=dark] .colab-df-convert:hover {\n",
              "      background-color: #434B5C;\n",
              "      box-shadow: 0px 1px 3px 1px rgba(0, 0, 0, 0.15);\n",
              "      filter: drop-shadow(0px 1px 2px rgba(0, 0, 0, 0.3));\n",
              "      fill: #FFFFFF;\n",
              "    }\n",
              "  </style>\n",
              "\n",
              "      <script>\n",
              "        const buttonEl =\n",
              "          document.querySelector('#df-12e4d508-5cb0-4563-aa74-bfc1abd2cfab button.colab-df-convert');\n",
              "        buttonEl.style.display =\n",
              "          google.colab.kernel.accessAllowed ? 'block' : 'none';\n",
              "\n",
              "        async function convertToInteractive(key) {\n",
              "          const element = document.querySelector('#df-12e4d508-5cb0-4563-aa74-bfc1abd2cfab');\n",
              "          const dataTable =\n",
              "            await google.colab.kernel.invokeFunction('convertToInteractive',\n",
              "                                                     [key], {});\n",
              "          if (!dataTable) return;\n",
              "\n",
              "          const docLinkHtml = 'Like what you see? Visit the ' +\n",
              "            '<a target=\"_blank\" href=https://colab.research.google.com/notebooks/data_table.ipynb>data table notebook</a>'\n",
              "            + ' to learn more about interactive tables.';\n",
              "          element.innerHTML = '';\n",
              "          dataTable['output_type'] = 'display_data';\n",
              "          await google.colab.output.renderOutput(dataTable, element);\n",
              "          const docLink = document.createElement('div');\n",
              "          docLink.innerHTML = docLinkHtml;\n",
              "          element.appendChild(docLink);\n",
              "        }\n",
              "      </script>\n",
              "    </div>\n",
              "  </div>\n",
              "  "
            ]
          },
          "metadata": {},
          "execution_count": 11
        }
      ]
    },
    {
      "cell_type": "markdown",
      "source": [
        "Согласно условию задачи:\n",
        "* \"Если для запроса есть несколько документов с одним и тем же id хоста — оставить только максимально релевантный документ (а если несколько документов максимально релевантны, выбрать любой).\" \n",
        "\n",
        "отбросим лишнее"
      ],
      "metadata": {
        "id": "YcIp8S8xwbCY"
      }
    },
    {
      "cell_type": "code",
      "source": [
        "qid_hostid_max_rait = qid_url_rating_hostid.groupby(['qid', 'hostid'])['rating'].max().reset_index()"
      ],
      "metadata": {
        "id": "yS0j4izsoPJA"
      },
      "execution_count": 12,
      "outputs": []
    },
    {
      "cell_type": "markdown",
      "source": [
        "Проверим"
      ],
      "metadata": {
        "id": "-ol5cwBIw137"
      }
    },
    {
      "cell_type": "code",
      "source": [
        "qid_hostid_max_rait.query('qid == 10387').head(10)"
      ],
      "metadata": {
        "colab": {
          "base_uri": "https://localhost:8080/",
          "height": 363
        },
        "id": "G_brD7ZboO6-",
        "outputId": "6c325a9c-98e5-4dba-adcc-fb132af368ba"
      },
      "execution_count": 13,
      "outputs": [
        {
          "output_type": "execute_result",
          "data": {
            "text/plain": [
              "     qid  hostid  rating\n",
              "0  10387      64    0.00\n",
              "1  10387      71    0.14\n",
              "2  10387     101    0.14\n",
              "3  10387     115    0.00\n",
              "4  10387     155    0.14\n",
              "5  10387     156    0.07\n",
              "6  10387     161    0.00\n",
              "7  10387     166    0.07\n",
              "8  10387     169    0.07\n",
              "9  10387     177    0.14"
            ],
            "text/html": [
              "\n",
              "  <div id=\"df-fd12ca55-5f9e-4abb-accb-2627ab7729ad\">\n",
              "    <div class=\"colab-df-container\">\n",
              "      <div>\n",
              "<style scoped>\n",
              "    .dataframe tbody tr th:only-of-type {\n",
              "        vertical-align: middle;\n",
              "    }\n",
              "\n",
              "    .dataframe tbody tr th {\n",
              "        vertical-align: top;\n",
              "    }\n",
              "\n",
              "    .dataframe thead th {\n",
              "        text-align: right;\n",
              "    }\n",
              "</style>\n",
              "<table border=\"1\" class=\"dataframe\">\n",
              "  <thead>\n",
              "    <tr style=\"text-align: right;\">\n",
              "      <th></th>\n",
              "      <th>qid</th>\n",
              "      <th>hostid</th>\n",
              "      <th>rating</th>\n",
              "    </tr>\n",
              "  </thead>\n",
              "  <tbody>\n",
              "    <tr>\n",
              "      <th>0</th>\n",
              "      <td>10387</td>\n",
              "      <td>64</td>\n",
              "      <td>0.00</td>\n",
              "    </tr>\n",
              "    <tr>\n",
              "      <th>1</th>\n",
              "      <td>10387</td>\n",
              "      <td>71</td>\n",
              "      <td>0.14</td>\n",
              "    </tr>\n",
              "    <tr>\n",
              "      <th>2</th>\n",
              "      <td>10387</td>\n",
              "      <td>101</td>\n",
              "      <td>0.14</td>\n",
              "    </tr>\n",
              "    <tr>\n",
              "      <th>3</th>\n",
              "      <td>10387</td>\n",
              "      <td>115</td>\n",
              "      <td>0.00</td>\n",
              "    </tr>\n",
              "    <tr>\n",
              "      <th>4</th>\n",
              "      <td>10387</td>\n",
              "      <td>155</td>\n",
              "      <td>0.14</td>\n",
              "    </tr>\n",
              "    <tr>\n",
              "      <th>5</th>\n",
              "      <td>10387</td>\n",
              "      <td>156</td>\n",
              "      <td>0.07</td>\n",
              "    </tr>\n",
              "    <tr>\n",
              "      <th>6</th>\n",
              "      <td>10387</td>\n",
              "      <td>161</td>\n",
              "      <td>0.00</td>\n",
              "    </tr>\n",
              "    <tr>\n",
              "      <th>7</th>\n",
              "      <td>10387</td>\n",
              "      <td>166</td>\n",
              "      <td>0.07</td>\n",
              "    </tr>\n",
              "    <tr>\n",
              "      <th>8</th>\n",
              "      <td>10387</td>\n",
              "      <td>169</td>\n",
              "      <td>0.07</td>\n",
              "    </tr>\n",
              "    <tr>\n",
              "      <th>9</th>\n",
              "      <td>10387</td>\n",
              "      <td>177</td>\n",
              "      <td>0.14</td>\n",
              "    </tr>\n",
              "  </tbody>\n",
              "</table>\n",
              "</div>\n",
              "      <button class=\"colab-df-convert\" onclick=\"convertToInteractive('df-fd12ca55-5f9e-4abb-accb-2627ab7729ad')\"\n",
              "              title=\"Convert this dataframe to an interactive table.\"\n",
              "              style=\"display:none;\">\n",
              "        \n",
              "  <svg xmlns=\"http://www.w3.org/2000/svg\" height=\"24px\"viewBox=\"0 0 24 24\"\n",
              "       width=\"24px\">\n",
              "    <path d=\"M0 0h24v24H0V0z\" fill=\"none\"/>\n",
              "    <path d=\"M18.56 5.44l.94 2.06.94-2.06 2.06-.94-2.06-.94-.94-2.06-.94 2.06-2.06.94zm-11 1L8.5 8.5l.94-2.06 2.06-.94-2.06-.94L8.5 2.5l-.94 2.06-2.06.94zm10 10l.94 2.06.94-2.06 2.06-.94-2.06-.94-.94-2.06-.94 2.06-2.06.94z\"/><path d=\"M17.41 7.96l-1.37-1.37c-.4-.4-.92-.59-1.43-.59-.52 0-1.04.2-1.43.59L10.3 9.45l-7.72 7.72c-.78.78-.78 2.05 0 2.83L4 21.41c.39.39.9.59 1.41.59.51 0 1.02-.2 1.41-.59l7.78-7.78 2.81-2.81c.8-.78.8-2.07 0-2.86zM5.41 20L4 18.59l7.72-7.72 1.47 1.35L5.41 20z\"/>\n",
              "  </svg>\n",
              "      </button>\n",
              "      \n",
              "  <style>\n",
              "    .colab-df-container {\n",
              "      display:flex;\n",
              "      flex-wrap:wrap;\n",
              "      gap: 12px;\n",
              "    }\n",
              "\n",
              "    .colab-df-convert {\n",
              "      background-color: #E8F0FE;\n",
              "      border: none;\n",
              "      border-radius: 50%;\n",
              "      cursor: pointer;\n",
              "      display: none;\n",
              "      fill: #1967D2;\n",
              "      height: 32px;\n",
              "      padding: 0 0 0 0;\n",
              "      width: 32px;\n",
              "    }\n",
              "\n",
              "    .colab-df-convert:hover {\n",
              "      background-color: #E2EBFA;\n",
              "      box-shadow: 0px 1px 2px rgba(60, 64, 67, 0.3), 0px 1px 3px 1px rgba(60, 64, 67, 0.15);\n",
              "      fill: #174EA6;\n",
              "    }\n",
              "\n",
              "    [theme=dark] .colab-df-convert {\n",
              "      background-color: #3B4455;\n",
              "      fill: #D2E3FC;\n",
              "    }\n",
              "\n",
              "    [theme=dark] .colab-df-convert:hover {\n",
              "      background-color: #434B5C;\n",
              "      box-shadow: 0px 1px 3px 1px rgba(0, 0, 0, 0.15);\n",
              "      filter: drop-shadow(0px 1px 2px rgba(0, 0, 0, 0.3));\n",
              "      fill: #FFFFFF;\n",
              "    }\n",
              "  </style>\n",
              "\n",
              "      <script>\n",
              "        const buttonEl =\n",
              "          document.querySelector('#df-fd12ca55-5f9e-4abb-accb-2627ab7729ad button.colab-df-convert');\n",
              "        buttonEl.style.display =\n",
              "          google.colab.kernel.accessAllowed ? 'block' : 'none';\n",
              "\n",
              "        async function convertToInteractive(key) {\n",
              "          const element = document.querySelector('#df-fd12ca55-5f9e-4abb-accb-2627ab7729ad');\n",
              "          const dataTable =\n",
              "            await google.colab.kernel.invokeFunction('convertToInteractive',\n",
              "                                                     [key], {});\n",
              "          if (!dataTable) return;\n",
              "\n",
              "          const docLinkHtml = 'Like what you see? Visit the ' +\n",
              "            '<a target=\"_blank\" href=https://colab.research.google.com/notebooks/data_table.ipynb>data table notebook</a>'\n",
              "            + ' to learn more about interactive tables.';\n",
              "          element.innerHTML = '';\n",
              "          dataTable['output_type'] = 'display_data';\n",
              "          await google.colab.output.renderOutput(dataTable, element);\n",
              "          const docLink = document.createElement('div');\n",
              "          docLink.innerHTML = docLinkHtml;\n",
              "          element.appendChild(docLink);\n",
              "        }\n",
              "      </script>\n",
              "    </div>\n",
              "  </div>\n",
              "  "
            ]
          },
          "metadata": {},
          "execution_count": 13
        }
      ]
    },
    {
      "cell_type": "markdown",
      "source": [
        "Оставим топ10 хостов для каждого запроса, отсортируем по убыванию"
      ],
      "metadata": {
        "id": "vTVxj-o4xn5Z"
      }
    },
    {
      "cell_type": "code",
      "source": [
        "qid_top_10_host = qid_hostid_max_rait.sort_values(['qid', 'rating'], ascending=False).groupby(['qid']).head(10)\n",
        "qid_top_10_host.head(11)"
      ],
      "metadata": {
        "colab": {
          "base_uri": "https://localhost:8080/",
          "height": 394
        },
        "id": "adFIwU3cn16q",
        "outputId": "d40f1564-555c-4b65-e416-ed5bceb88e4f"
      },
      "execution_count": 14,
      "outputs": [
        {
          "output_type": "execute_result",
          "data": {
            "text/plain": [
              "        qid  hostid  rating\n",
              "647  380923       6    0.14\n",
              "654  380923     179    0.14\n",
              "662  380923     386    0.14\n",
              "666  380923     484    0.14\n",
              "665  380923     462    0.07\n",
              "668  380923     670    0.07\n",
              "673  380923    1028    0.07\n",
              "678  380923    1172    0.07\n",
              "648  380923      45    0.00\n",
              "649  380923      67    0.00\n",
              "617  375608     275    0.14"
            ],
            "text/html": [
              "\n",
              "  <div id=\"df-6f5a8a1a-3592-4f32-838c-01ea6357396e\">\n",
              "    <div class=\"colab-df-container\">\n",
              "      <div>\n",
              "<style scoped>\n",
              "    .dataframe tbody tr th:only-of-type {\n",
              "        vertical-align: middle;\n",
              "    }\n",
              "\n",
              "    .dataframe tbody tr th {\n",
              "        vertical-align: top;\n",
              "    }\n",
              "\n",
              "    .dataframe thead th {\n",
              "        text-align: right;\n",
              "    }\n",
              "</style>\n",
              "<table border=\"1\" class=\"dataframe\">\n",
              "  <thead>\n",
              "    <tr style=\"text-align: right;\">\n",
              "      <th></th>\n",
              "      <th>qid</th>\n",
              "      <th>hostid</th>\n",
              "      <th>rating</th>\n",
              "    </tr>\n",
              "  </thead>\n",
              "  <tbody>\n",
              "    <tr>\n",
              "      <th>647</th>\n",
              "      <td>380923</td>\n",
              "      <td>6</td>\n",
              "      <td>0.14</td>\n",
              "    </tr>\n",
              "    <tr>\n",
              "      <th>654</th>\n",
              "      <td>380923</td>\n",
              "      <td>179</td>\n",
              "      <td>0.14</td>\n",
              "    </tr>\n",
              "    <tr>\n",
              "      <th>662</th>\n",
              "      <td>380923</td>\n",
              "      <td>386</td>\n",
              "      <td>0.14</td>\n",
              "    </tr>\n",
              "    <tr>\n",
              "      <th>666</th>\n",
              "      <td>380923</td>\n",
              "      <td>484</td>\n",
              "      <td>0.14</td>\n",
              "    </tr>\n",
              "    <tr>\n",
              "      <th>665</th>\n",
              "      <td>380923</td>\n",
              "      <td>462</td>\n",
              "      <td>0.07</td>\n",
              "    </tr>\n",
              "    <tr>\n",
              "      <th>668</th>\n",
              "      <td>380923</td>\n",
              "      <td>670</td>\n",
              "      <td>0.07</td>\n",
              "    </tr>\n",
              "    <tr>\n",
              "      <th>673</th>\n",
              "      <td>380923</td>\n",
              "      <td>1028</td>\n",
              "      <td>0.07</td>\n",
              "    </tr>\n",
              "    <tr>\n",
              "      <th>678</th>\n",
              "      <td>380923</td>\n",
              "      <td>1172</td>\n",
              "      <td>0.07</td>\n",
              "    </tr>\n",
              "    <tr>\n",
              "      <th>648</th>\n",
              "      <td>380923</td>\n",
              "      <td>45</td>\n",
              "      <td>0.00</td>\n",
              "    </tr>\n",
              "    <tr>\n",
              "      <th>649</th>\n",
              "      <td>380923</td>\n",
              "      <td>67</td>\n",
              "      <td>0.00</td>\n",
              "    </tr>\n",
              "    <tr>\n",
              "      <th>617</th>\n",
              "      <td>375608</td>\n",
              "      <td>275</td>\n",
              "      <td>0.14</td>\n",
              "    </tr>\n",
              "  </tbody>\n",
              "</table>\n",
              "</div>\n",
              "      <button class=\"colab-df-convert\" onclick=\"convertToInteractive('df-6f5a8a1a-3592-4f32-838c-01ea6357396e')\"\n",
              "              title=\"Convert this dataframe to an interactive table.\"\n",
              "              style=\"display:none;\">\n",
              "        \n",
              "  <svg xmlns=\"http://www.w3.org/2000/svg\" height=\"24px\"viewBox=\"0 0 24 24\"\n",
              "       width=\"24px\">\n",
              "    <path d=\"M0 0h24v24H0V0z\" fill=\"none\"/>\n",
              "    <path d=\"M18.56 5.44l.94 2.06.94-2.06 2.06-.94-2.06-.94-.94-2.06-.94 2.06-2.06.94zm-11 1L8.5 8.5l.94-2.06 2.06-.94-2.06-.94L8.5 2.5l-.94 2.06-2.06.94zm10 10l.94 2.06.94-2.06 2.06-.94-2.06-.94-.94-2.06-.94 2.06-2.06.94z\"/><path d=\"M17.41 7.96l-1.37-1.37c-.4-.4-.92-.59-1.43-.59-.52 0-1.04.2-1.43.59L10.3 9.45l-7.72 7.72c-.78.78-.78 2.05 0 2.83L4 21.41c.39.39.9.59 1.41.59.51 0 1.02-.2 1.41-.59l7.78-7.78 2.81-2.81c.8-.78.8-2.07 0-2.86zM5.41 20L4 18.59l7.72-7.72 1.47 1.35L5.41 20z\"/>\n",
              "  </svg>\n",
              "      </button>\n",
              "      \n",
              "  <style>\n",
              "    .colab-df-container {\n",
              "      display:flex;\n",
              "      flex-wrap:wrap;\n",
              "      gap: 12px;\n",
              "    }\n",
              "\n",
              "    .colab-df-convert {\n",
              "      background-color: #E8F0FE;\n",
              "      border: none;\n",
              "      border-radius: 50%;\n",
              "      cursor: pointer;\n",
              "      display: none;\n",
              "      fill: #1967D2;\n",
              "      height: 32px;\n",
              "      padding: 0 0 0 0;\n",
              "      width: 32px;\n",
              "    }\n",
              "\n",
              "    .colab-df-convert:hover {\n",
              "      background-color: #E2EBFA;\n",
              "      box-shadow: 0px 1px 2px rgba(60, 64, 67, 0.3), 0px 1px 3px 1px rgba(60, 64, 67, 0.15);\n",
              "      fill: #174EA6;\n",
              "    }\n",
              "\n",
              "    [theme=dark] .colab-df-convert {\n",
              "      background-color: #3B4455;\n",
              "      fill: #D2E3FC;\n",
              "    }\n",
              "\n",
              "    [theme=dark] .colab-df-convert:hover {\n",
              "      background-color: #434B5C;\n",
              "      box-shadow: 0px 1px 3px 1px rgba(0, 0, 0, 0.15);\n",
              "      filter: drop-shadow(0px 1px 2px rgba(0, 0, 0, 0.3));\n",
              "      fill: #FFFFFF;\n",
              "    }\n",
              "  </style>\n",
              "\n",
              "      <script>\n",
              "        const buttonEl =\n",
              "          document.querySelector('#df-6f5a8a1a-3592-4f32-838c-01ea6357396e button.colab-df-convert');\n",
              "        buttonEl.style.display =\n",
              "          google.colab.kernel.accessAllowed ? 'block' : 'none';\n",
              "\n",
              "        async function convertToInteractive(key) {\n",
              "          const element = document.querySelector('#df-6f5a8a1a-3592-4f32-838c-01ea6357396e');\n",
              "          const dataTable =\n",
              "            await google.colab.kernel.invokeFunction('convertToInteractive',\n",
              "                                                     [key], {});\n",
              "          if (!dataTable) return;\n",
              "\n",
              "          const docLinkHtml = 'Like what you see? Visit the ' +\n",
              "            '<a target=\"_blank\" href=https://colab.research.google.com/notebooks/data_table.ipynb>data table notebook</a>'\n",
              "            + ' to learn more about interactive tables.';\n",
              "          element.innerHTML = '';\n",
              "          dataTable['output_type'] = 'display_data';\n",
              "          await google.colab.output.renderOutput(dataTable, element);\n",
              "          const docLink = document.createElement('div');\n",
              "          docLink.innerHTML = docLinkHtml;\n",
              "          element.appendChild(docLink);\n",
              "        }\n",
              "      </script>\n",
              "    </div>\n",
              "  </div>\n",
              "  "
            ]
          },
          "metadata": {},
          "execution_count": 14
        }
      ]
    },
    {
      "cell_type": "markdown",
      "source": [
        "Обозначим порядковые номера"
      ],
      "metadata": {
        "id": "-aErwoSFzze5"
      }
    },
    {
      "cell_type": "code",
      "source": [
        "qid_top_10_host['number'] = qid_top_10_host.groupby('qid').cumcount()"
      ],
      "metadata": {
        "id": "AFx1hre-x6C_"
      },
      "execution_count": 15,
      "outputs": []
    },
    {
      "cell_type": "markdown",
      "source": [
        "Введем доп множители из формулы, как отдельные колонки\n",
        "$$A = (1 - pRel)$$\n",
        "$$B = (1 - pBreak)$$\n",
        "$$C = A * B$$\n",
        "$$pBreak = 0.15$$"
      ],
      "metadata": {
        "id": "-N9FI_Mqz3MI"
      }
    },
    {
      "cell_type": "code",
      "source": [
        "qid_top_10_host['A'] = (1 - qid_top_10_host['rating']).shift(1) #промежуточный столбец, потом удалим\n",
        "qid_top_10_host['B'] = 1 - 0.15 #промежуточный столбец, потом удалим\n",
        "qid_top_10_host.loc[qid_top_10_host['number'] == 0, ['A', 'B']] = 1\n",
        "qid_top_10_host['C'] = qid_top_10_host['A'] * qid_top_10_host['B']\n",
        "qid_top_10_host = qid_top_10_host.drop(['A', 'B'], axis=1) #оставим только С для экономии\n",
        "qid_top_10_host.head(11)"
      ],
      "metadata": {
        "colab": {
          "base_uri": "https://localhost:8080/",
          "height": 394
        },
        "id": "o26Bp9i8zwGY",
        "outputId": "52a649bf-f2ee-4ae5-c24f-7d1c85c4fbe9"
      },
      "execution_count": 16,
      "outputs": [
        {
          "output_type": "execute_result",
          "data": {
            "text/plain": [
              "        qid  hostid  rating  number       C\n",
              "647  380923       6    0.14       0  1.0000\n",
              "654  380923     179    0.14       1  0.7310\n",
              "662  380923     386    0.14       2  0.7310\n",
              "666  380923     484    0.14       3  0.7310\n",
              "665  380923     462    0.07       4  0.7310\n",
              "668  380923     670    0.07       5  0.7905\n",
              "673  380923    1028    0.07       6  0.7905\n",
              "678  380923    1172    0.07       7  0.7905\n",
              "648  380923      45    0.00       8  0.7905\n",
              "649  380923      67    0.00       9  0.8500\n",
              "617  375608     275    0.14       0  1.0000"
            ],
            "text/html": [
              "\n",
              "  <div id=\"df-2b43f198-bd9d-4dda-a879-69e5bb835aea\">\n",
              "    <div class=\"colab-df-container\">\n",
              "      <div>\n",
              "<style scoped>\n",
              "    .dataframe tbody tr th:only-of-type {\n",
              "        vertical-align: middle;\n",
              "    }\n",
              "\n",
              "    .dataframe tbody tr th {\n",
              "        vertical-align: top;\n",
              "    }\n",
              "\n",
              "    .dataframe thead th {\n",
              "        text-align: right;\n",
              "    }\n",
              "</style>\n",
              "<table border=\"1\" class=\"dataframe\">\n",
              "  <thead>\n",
              "    <tr style=\"text-align: right;\">\n",
              "      <th></th>\n",
              "      <th>qid</th>\n",
              "      <th>hostid</th>\n",
              "      <th>rating</th>\n",
              "      <th>number</th>\n",
              "      <th>C</th>\n",
              "    </tr>\n",
              "  </thead>\n",
              "  <tbody>\n",
              "    <tr>\n",
              "      <th>647</th>\n",
              "      <td>380923</td>\n",
              "      <td>6</td>\n",
              "      <td>0.14</td>\n",
              "      <td>0</td>\n",
              "      <td>1.0000</td>\n",
              "    </tr>\n",
              "    <tr>\n",
              "      <th>654</th>\n",
              "      <td>380923</td>\n",
              "      <td>179</td>\n",
              "      <td>0.14</td>\n",
              "      <td>1</td>\n",
              "      <td>0.7310</td>\n",
              "    </tr>\n",
              "    <tr>\n",
              "      <th>662</th>\n",
              "      <td>380923</td>\n",
              "      <td>386</td>\n",
              "      <td>0.14</td>\n",
              "      <td>2</td>\n",
              "      <td>0.7310</td>\n",
              "    </tr>\n",
              "    <tr>\n",
              "      <th>666</th>\n",
              "      <td>380923</td>\n",
              "      <td>484</td>\n",
              "      <td>0.14</td>\n",
              "      <td>3</td>\n",
              "      <td>0.7310</td>\n",
              "    </tr>\n",
              "    <tr>\n",
              "      <th>665</th>\n",
              "      <td>380923</td>\n",
              "      <td>462</td>\n",
              "      <td>0.07</td>\n",
              "      <td>4</td>\n",
              "      <td>0.7310</td>\n",
              "    </tr>\n",
              "    <tr>\n",
              "      <th>668</th>\n",
              "      <td>380923</td>\n",
              "      <td>670</td>\n",
              "      <td>0.07</td>\n",
              "      <td>5</td>\n",
              "      <td>0.7905</td>\n",
              "    </tr>\n",
              "    <tr>\n",
              "      <th>673</th>\n",
              "      <td>380923</td>\n",
              "      <td>1028</td>\n",
              "      <td>0.07</td>\n",
              "      <td>6</td>\n",
              "      <td>0.7905</td>\n",
              "    </tr>\n",
              "    <tr>\n",
              "      <th>678</th>\n",
              "      <td>380923</td>\n",
              "      <td>1172</td>\n",
              "      <td>0.07</td>\n",
              "      <td>7</td>\n",
              "      <td>0.7905</td>\n",
              "    </tr>\n",
              "    <tr>\n",
              "      <th>648</th>\n",
              "      <td>380923</td>\n",
              "      <td>45</td>\n",
              "      <td>0.00</td>\n",
              "      <td>8</td>\n",
              "      <td>0.7905</td>\n",
              "    </tr>\n",
              "    <tr>\n",
              "      <th>649</th>\n",
              "      <td>380923</td>\n",
              "      <td>67</td>\n",
              "      <td>0.00</td>\n",
              "      <td>9</td>\n",
              "      <td>0.8500</td>\n",
              "    </tr>\n",
              "    <tr>\n",
              "      <th>617</th>\n",
              "      <td>375608</td>\n",
              "      <td>275</td>\n",
              "      <td>0.14</td>\n",
              "      <td>0</td>\n",
              "      <td>1.0000</td>\n",
              "    </tr>\n",
              "  </tbody>\n",
              "</table>\n",
              "</div>\n",
              "      <button class=\"colab-df-convert\" onclick=\"convertToInteractive('df-2b43f198-bd9d-4dda-a879-69e5bb835aea')\"\n",
              "              title=\"Convert this dataframe to an interactive table.\"\n",
              "              style=\"display:none;\">\n",
              "        \n",
              "  <svg xmlns=\"http://www.w3.org/2000/svg\" height=\"24px\"viewBox=\"0 0 24 24\"\n",
              "       width=\"24px\">\n",
              "    <path d=\"M0 0h24v24H0V0z\" fill=\"none\"/>\n",
              "    <path d=\"M18.56 5.44l.94 2.06.94-2.06 2.06-.94-2.06-.94-.94-2.06-.94 2.06-2.06.94zm-11 1L8.5 8.5l.94-2.06 2.06-.94-2.06-.94L8.5 2.5l-.94 2.06-2.06.94zm10 10l.94 2.06.94-2.06 2.06-.94-2.06-.94-.94-2.06-.94 2.06-2.06.94z\"/><path d=\"M17.41 7.96l-1.37-1.37c-.4-.4-.92-.59-1.43-.59-.52 0-1.04.2-1.43.59L10.3 9.45l-7.72 7.72c-.78.78-.78 2.05 0 2.83L4 21.41c.39.39.9.59 1.41.59.51 0 1.02-.2 1.41-.59l7.78-7.78 2.81-2.81c.8-.78.8-2.07 0-2.86zM5.41 20L4 18.59l7.72-7.72 1.47 1.35L5.41 20z\"/>\n",
              "  </svg>\n",
              "      </button>\n",
              "      \n",
              "  <style>\n",
              "    .colab-df-container {\n",
              "      display:flex;\n",
              "      flex-wrap:wrap;\n",
              "      gap: 12px;\n",
              "    }\n",
              "\n",
              "    .colab-df-convert {\n",
              "      background-color: #E8F0FE;\n",
              "      border: none;\n",
              "      border-radius: 50%;\n",
              "      cursor: pointer;\n",
              "      display: none;\n",
              "      fill: #1967D2;\n",
              "      height: 32px;\n",
              "      padding: 0 0 0 0;\n",
              "      width: 32px;\n",
              "    }\n",
              "\n",
              "    .colab-df-convert:hover {\n",
              "      background-color: #E2EBFA;\n",
              "      box-shadow: 0px 1px 2px rgba(60, 64, 67, 0.3), 0px 1px 3px 1px rgba(60, 64, 67, 0.15);\n",
              "      fill: #174EA6;\n",
              "    }\n",
              "\n",
              "    [theme=dark] .colab-df-convert {\n",
              "      background-color: #3B4455;\n",
              "      fill: #D2E3FC;\n",
              "    }\n",
              "\n",
              "    [theme=dark] .colab-df-convert:hover {\n",
              "      background-color: #434B5C;\n",
              "      box-shadow: 0px 1px 3px 1px rgba(0, 0, 0, 0.15);\n",
              "      filter: drop-shadow(0px 1px 2px rgba(0, 0, 0, 0.3));\n",
              "      fill: #FFFFFF;\n",
              "    }\n",
              "  </style>\n",
              "\n",
              "      <script>\n",
              "        const buttonEl =\n",
              "          document.querySelector('#df-2b43f198-bd9d-4dda-a879-69e5bb835aea button.colab-df-convert');\n",
              "        buttonEl.style.display =\n",
              "          google.colab.kernel.accessAllowed ? 'block' : 'none';\n",
              "\n",
              "        async function convertToInteractive(key) {\n",
              "          const element = document.querySelector('#df-2b43f198-bd9d-4dda-a879-69e5bb835aea');\n",
              "          const dataTable =\n",
              "            await google.colab.kernel.invokeFunction('convertToInteractive',\n",
              "                                                     [key], {});\n",
              "          if (!dataTable) return;\n",
              "\n",
              "          const docLinkHtml = 'Like what you see? Visit the ' +\n",
              "            '<a target=\"_blank\" href=https://colab.research.google.com/notebooks/data_table.ipynb>data table notebook</a>'\n",
              "            + ' to learn more about interactive tables.';\n",
              "          element.innerHTML = '';\n",
              "          dataTable['output_type'] = 'display_data';\n",
              "          await google.colab.output.renderOutput(dataTable, element);\n",
              "          const docLink = document.createElement('div');\n",
              "          docLink.innerHTML = docLinkHtml;\n",
              "          element.appendChild(docLink);\n",
              "        }\n",
              "      </script>\n",
              "    </div>\n",
              "  </div>\n",
              "  "
            ]
          },
          "metadata": {},
          "execution_count": 16
        }
      ]
    },
    {
      "cell_type": "markdown",
      "source": [
        "Теперь найдем `plook` & `pfound`"
      ],
      "metadata": {
        "id": "iP5Ic53D10ke"
      }
    },
    {
      "cell_type": "code",
      "source": [
        "qid_top_10_host['plook'] = qid_top_10_host.groupby('qid')['C'].cumprod()\n",
        "qid_top_10_host['pfound'] = qid_top_10_host['plook'] * qid_top_10_host['rating']\n",
        "qid_top_10_host.head(11)"
      ],
      "metadata": {
        "colab": {
          "base_uri": "https://localhost:8080/",
          "height": 394
        },
        "id": "UXSelC4I0Zk3",
        "outputId": "7bc3b8f4-446b-4f36-e7df-d3a48f340ee1"
      },
      "execution_count": 17,
      "outputs": [
        {
          "output_type": "execute_result",
          "data": {
            "text/plain": [
              "        qid  hostid  rating  number       C     plook    pfound\n",
              "647  380923       6    0.14       0  1.0000  1.000000  0.140000\n",
              "654  380923     179    0.14       1  0.7310  0.731000  0.102340\n",
              "662  380923     386    0.14       2  0.7310  0.534361  0.074811\n",
              "666  380923     484    0.14       3  0.7310  0.390618  0.054687\n",
              "665  380923     462    0.07       4  0.7310  0.285542  0.019988\n",
              "668  380923     670    0.07       5  0.7905  0.225721  0.015800\n",
              "673  380923    1028    0.07       6  0.7905  0.178432  0.012490\n",
              "678  380923    1172    0.07       7  0.7905  0.141051  0.009874\n",
              "648  380923      45    0.00       8  0.7905  0.111501  0.000000\n",
              "649  380923      67    0.00       9  0.8500  0.094775  0.000000\n",
              "617  375608     275    0.14       0  1.0000  1.000000  0.140000"
            ],
            "text/html": [
              "\n",
              "  <div id=\"df-842a14ab-4263-45a2-8708-f70c5f512c98\">\n",
              "    <div class=\"colab-df-container\">\n",
              "      <div>\n",
              "<style scoped>\n",
              "    .dataframe tbody tr th:only-of-type {\n",
              "        vertical-align: middle;\n",
              "    }\n",
              "\n",
              "    .dataframe tbody tr th {\n",
              "        vertical-align: top;\n",
              "    }\n",
              "\n",
              "    .dataframe thead th {\n",
              "        text-align: right;\n",
              "    }\n",
              "</style>\n",
              "<table border=\"1\" class=\"dataframe\">\n",
              "  <thead>\n",
              "    <tr style=\"text-align: right;\">\n",
              "      <th></th>\n",
              "      <th>qid</th>\n",
              "      <th>hostid</th>\n",
              "      <th>rating</th>\n",
              "      <th>number</th>\n",
              "      <th>C</th>\n",
              "      <th>plook</th>\n",
              "      <th>pfound</th>\n",
              "    </tr>\n",
              "  </thead>\n",
              "  <tbody>\n",
              "    <tr>\n",
              "      <th>647</th>\n",
              "      <td>380923</td>\n",
              "      <td>6</td>\n",
              "      <td>0.14</td>\n",
              "      <td>0</td>\n",
              "      <td>1.0000</td>\n",
              "      <td>1.000000</td>\n",
              "      <td>0.140000</td>\n",
              "    </tr>\n",
              "    <tr>\n",
              "      <th>654</th>\n",
              "      <td>380923</td>\n",
              "      <td>179</td>\n",
              "      <td>0.14</td>\n",
              "      <td>1</td>\n",
              "      <td>0.7310</td>\n",
              "      <td>0.731000</td>\n",
              "      <td>0.102340</td>\n",
              "    </tr>\n",
              "    <tr>\n",
              "      <th>662</th>\n",
              "      <td>380923</td>\n",
              "      <td>386</td>\n",
              "      <td>0.14</td>\n",
              "      <td>2</td>\n",
              "      <td>0.7310</td>\n",
              "      <td>0.534361</td>\n",
              "      <td>0.074811</td>\n",
              "    </tr>\n",
              "    <tr>\n",
              "      <th>666</th>\n",
              "      <td>380923</td>\n",
              "      <td>484</td>\n",
              "      <td>0.14</td>\n",
              "      <td>3</td>\n",
              "      <td>0.7310</td>\n",
              "      <td>0.390618</td>\n",
              "      <td>0.054687</td>\n",
              "    </tr>\n",
              "    <tr>\n",
              "      <th>665</th>\n",
              "      <td>380923</td>\n",
              "      <td>462</td>\n",
              "      <td>0.07</td>\n",
              "      <td>4</td>\n",
              "      <td>0.7310</td>\n",
              "      <td>0.285542</td>\n",
              "      <td>0.019988</td>\n",
              "    </tr>\n",
              "    <tr>\n",
              "      <th>668</th>\n",
              "      <td>380923</td>\n",
              "      <td>670</td>\n",
              "      <td>0.07</td>\n",
              "      <td>5</td>\n",
              "      <td>0.7905</td>\n",
              "      <td>0.225721</td>\n",
              "      <td>0.015800</td>\n",
              "    </tr>\n",
              "    <tr>\n",
              "      <th>673</th>\n",
              "      <td>380923</td>\n",
              "      <td>1028</td>\n",
              "      <td>0.07</td>\n",
              "      <td>6</td>\n",
              "      <td>0.7905</td>\n",
              "      <td>0.178432</td>\n",
              "      <td>0.012490</td>\n",
              "    </tr>\n",
              "    <tr>\n",
              "      <th>678</th>\n",
              "      <td>380923</td>\n",
              "      <td>1172</td>\n",
              "      <td>0.07</td>\n",
              "      <td>7</td>\n",
              "      <td>0.7905</td>\n",
              "      <td>0.141051</td>\n",
              "      <td>0.009874</td>\n",
              "    </tr>\n",
              "    <tr>\n",
              "      <th>648</th>\n",
              "      <td>380923</td>\n",
              "      <td>45</td>\n",
              "      <td>0.00</td>\n",
              "      <td>8</td>\n",
              "      <td>0.7905</td>\n",
              "      <td>0.111501</td>\n",
              "      <td>0.000000</td>\n",
              "    </tr>\n",
              "    <tr>\n",
              "      <th>649</th>\n",
              "      <td>380923</td>\n",
              "      <td>67</td>\n",
              "      <td>0.00</td>\n",
              "      <td>9</td>\n",
              "      <td>0.8500</td>\n",
              "      <td>0.094775</td>\n",
              "      <td>0.000000</td>\n",
              "    </tr>\n",
              "    <tr>\n",
              "      <th>617</th>\n",
              "      <td>375608</td>\n",
              "      <td>275</td>\n",
              "      <td>0.14</td>\n",
              "      <td>0</td>\n",
              "      <td>1.0000</td>\n",
              "      <td>1.000000</td>\n",
              "      <td>0.140000</td>\n",
              "    </tr>\n",
              "  </tbody>\n",
              "</table>\n",
              "</div>\n",
              "      <button class=\"colab-df-convert\" onclick=\"convertToInteractive('df-842a14ab-4263-45a2-8708-f70c5f512c98')\"\n",
              "              title=\"Convert this dataframe to an interactive table.\"\n",
              "              style=\"display:none;\">\n",
              "        \n",
              "  <svg xmlns=\"http://www.w3.org/2000/svg\" height=\"24px\"viewBox=\"0 0 24 24\"\n",
              "       width=\"24px\">\n",
              "    <path d=\"M0 0h24v24H0V0z\" fill=\"none\"/>\n",
              "    <path d=\"M18.56 5.44l.94 2.06.94-2.06 2.06-.94-2.06-.94-.94-2.06-.94 2.06-2.06.94zm-11 1L8.5 8.5l.94-2.06 2.06-.94-2.06-.94L8.5 2.5l-.94 2.06-2.06.94zm10 10l.94 2.06.94-2.06 2.06-.94-2.06-.94-.94-2.06-.94 2.06-2.06.94z\"/><path d=\"M17.41 7.96l-1.37-1.37c-.4-.4-.92-.59-1.43-.59-.52 0-1.04.2-1.43.59L10.3 9.45l-7.72 7.72c-.78.78-.78 2.05 0 2.83L4 21.41c.39.39.9.59 1.41.59.51 0 1.02-.2 1.41-.59l7.78-7.78 2.81-2.81c.8-.78.8-2.07 0-2.86zM5.41 20L4 18.59l7.72-7.72 1.47 1.35L5.41 20z\"/>\n",
              "  </svg>\n",
              "      </button>\n",
              "      \n",
              "  <style>\n",
              "    .colab-df-container {\n",
              "      display:flex;\n",
              "      flex-wrap:wrap;\n",
              "      gap: 12px;\n",
              "    }\n",
              "\n",
              "    .colab-df-convert {\n",
              "      background-color: #E8F0FE;\n",
              "      border: none;\n",
              "      border-radius: 50%;\n",
              "      cursor: pointer;\n",
              "      display: none;\n",
              "      fill: #1967D2;\n",
              "      height: 32px;\n",
              "      padding: 0 0 0 0;\n",
              "      width: 32px;\n",
              "    }\n",
              "\n",
              "    .colab-df-convert:hover {\n",
              "      background-color: #E2EBFA;\n",
              "      box-shadow: 0px 1px 2px rgba(60, 64, 67, 0.3), 0px 1px 3px 1px rgba(60, 64, 67, 0.15);\n",
              "      fill: #174EA6;\n",
              "    }\n",
              "\n",
              "    [theme=dark] .colab-df-convert {\n",
              "      background-color: #3B4455;\n",
              "      fill: #D2E3FC;\n",
              "    }\n",
              "\n",
              "    [theme=dark] .colab-df-convert:hover {\n",
              "      background-color: #434B5C;\n",
              "      box-shadow: 0px 1px 3px 1px rgba(0, 0, 0, 0.15);\n",
              "      filter: drop-shadow(0px 1px 2px rgba(0, 0, 0, 0.3));\n",
              "      fill: #FFFFFF;\n",
              "    }\n",
              "  </style>\n",
              "\n",
              "      <script>\n",
              "        const buttonEl =\n",
              "          document.querySelector('#df-842a14ab-4263-45a2-8708-f70c5f512c98 button.colab-df-convert');\n",
              "        buttonEl.style.display =\n",
              "          google.colab.kernel.accessAllowed ? 'block' : 'none';\n",
              "\n",
              "        async function convertToInteractive(key) {\n",
              "          const element = document.querySelector('#df-842a14ab-4263-45a2-8708-f70c5f512c98');\n",
              "          const dataTable =\n",
              "            await google.colab.kernel.invokeFunction('convertToInteractive',\n",
              "                                                     [key], {});\n",
              "          if (!dataTable) return;\n",
              "\n",
              "          const docLinkHtml = 'Like what you see? Visit the ' +\n",
              "            '<a target=\"_blank\" href=https://colab.research.google.com/notebooks/data_table.ipynb>data table notebook</a>'\n",
              "            + ' to learn more about interactive tables.';\n",
              "          element.innerHTML = '';\n",
              "          dataTable['output_type'] = 'display_data';\n",
              "          await google.colab.output.renderOutput(dataTable, element);\n",
              "          const docLink = document.createElement('div');\n",
              "          docLink.innerHTML = docLinkHtml;\n",
              "          element.appendChild(docLink);\n",
              "        }\n",
              "      </script>\n",
              "    </div>\n",
              "  </div>\n",
              "  "
            ]
          },
          "metadata": {},
          "execution_count": 17
        }
      ]
    },
    {
      "cell_type": "markdown",
      "source": [
        "Составим итоговую табличку и рассчитаем среднее `pfound`"
      ],
      "metadata": {
        "id": "zSryUKYl2I5A"
      }
    },
    {
      "cell_type": "code",
      "source": [
        "pfound_qid = qid_top_10_host.groupby('qid')['pfound'].sum()\n",
        "pfound_mean = pfound_qid.mean()\n",
        "print(f'Средний pFound: {pfound_mean}')"
      ],
      "metadata": {
        "colab": {
          "base_uri": "https://localhost:8080/"
        },
        "id": "WbXLGt9A2DKr",
        "outputId": "b387289f-2272-4143-e71f-103fe0f06d40"
      },
      "execution_count": 18,
      "outputs": [
        {
          "output_type": "stream",
          "name": "stdout",
          "text": [
            "Средний pFound: 0.4603173929969002\n"
          ]
        }
      ]
    },
    {
      "cell_type": "code",
      "source": [
        "pfound_mean_orig == pfound_mean"
      ],
      "metadata": {
        "colab": {
          "base_uri": "https://localhost:8080/"
        },
        "id": "SDEW0zDt3NPk",
        "outputId": "0a293a3f-6fa5-4fd5-ec9d-39274fb4646d"
      },
      "execution_count": 19,
      "outputs": [
        {
          "output_type": "execute_result",
          "data": {
            "text/plain": [
              "True"
            ]
          },
          "metadata": {},
          "execution_count": 19
        }
      ]
    },
    {
      "cell_type": "markdown",
      "source": [
        "Отлично, значения совпали"
      ],
      "metadata": {
        "id": "UNq7UFPM-FgM"
      }
    },
    {
      "cell_type": "markdown",
      "source": [
        "---\n",
        "Теперь сделаем функцию"
      ],
      "metadata": {
        "id": "3GTpvEZh3d3Z"
      }
    },
    {
      "cell_type": "code",
      "source": [
        "def PFound_mean (df, k):\n",
        "  '''\n",
        "  Calculating PFound@k via vectors, where\n",
        "  'A' = (1 - Rel)\n",
        "  'B' = (1 - pBreak)\n",
        "  'C' = A * B\n",
        "  pBreak = 0,15\n",
        "  '''\n",
        "\n",
        "  PBREAK = 0.15\n",
        "  temp_df = df.copy()\n",
        "  qid_hostid_max_rel = (temp_df\n",
        "                        .groupby(['qid', 'hostid'])['rating'].max()\n",
        "                        .reset_index()\n",
        "                        )\n",
        "  qid_k_host = (qid_hostid_max_rel\n",
        "                       .sort_values(['qid', 'rating'], ascending=False)\n",
        "                       .groupby(['qid']).head(k)\n",
        "                       )\n",
        "  # Additional columns for calculating pfound\n",
        "  qid_k_host['number'] = qid_k_host.groupby('qid').cumcount()\n",
        "  qid_k_host['A'] = (1 - qid_k_host['rating']).shift(1) \n",
        "  qid_k_host['B'] = 1 - PBREAK\n",
        "  qid_k_host.loc[qid_k_host['number'] == 0, ['A', 'B']] = 1\n",
        "  qid_k_host['C'] = qid_k_host['A'] * qid_k_host['B']\n",
        "  qid_k_host = qid_k_host.drop(['A', 'B'], axis=1)\n",
        "  # Calculate plook and pfound\n",
        "  qid_k_host['plook'] = qid_k_host.groupby('qid')['C'].cumprod()\n",
        "  qid_k_host['pfound'] = qid_k_host['plook'] * qid_k_host['rating']\n",
        "  # Create \n",
        "  pfound_qid = qid_k_host.groupby('qid')['pfound'].sum()\n",
        "  pfound_mean = pfound_qid.mean()\n",
        "\n",
        "  return pfound_mean\n"
      ],
      "metadata": {
        "id": "29HWgjTp3cRA"
      },
      "execution_count": 20,
      "outputs": []
    },
    {
      "cell_type": "code",
      "source": [
        "print(f'Средний PFound: {PFound_mean(qid_url_rating_hostid, 10)}')"
      ],
      "metadata": {
        "colab": {
          "base_uri": "https://localhost:8080/"
        },
        "id": "fqchjXnb7YY1",
        "outputId": "87efe9ec-c008-46e0-a2f1-b881bfb0a341"
      },
      "execution_count": 21,
      "outputs": [
        {
          "output_type": "stream",
          "name": "stdout",
          "text": [
            "Средний PFound: 0.4603173929969002\n"
          ]
        }
      ]
    }
  ]
}